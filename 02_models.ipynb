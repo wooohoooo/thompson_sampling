{
 "cells": [
  {
   "cell_type": "code",
   "execution_count": null,
   "metadata": {},
   "outputs": [],
   "source": [
    "# default_exp models\n"
   ]
  },
  {
   "cell_type": "markdown",
   "metadata": {},
   "source": [
    "# models\n",
    "> models to be used in contextual map solvers"
   ]
  },
  {
   "cell_type": "code",
   "execution_count": null,
   "metadata": {},
   "outputs": [
    {
     "name": "stderr",
     "output_type": "stream",
     "text": [
      "\n",
      "Bad key \"text.kerning_factor\" on line 4 in\n",
      "/home/thomas/anaconda3/envs/pytorch_GPU/lib/python3.7/site-packages/matplotlib/mpl-data/stylelib/_classic_test_patch.mplstyle.\n",
      "You probably need to get an updated matplotlibrc file from\n",
      "https://github.com/matplotlib/matplotlib/blob/v3.1.3/matplotlibrc.template\n",
      "or from the matplotlib source distribution\n"
     ]
    }
   ],
   "source": [
    "#export\n",
    "from thompson_sampling.multi_armed_bandits import contextual_categorical_bandit, contextual_categorical_get_optimal_arm, contextual_numerical_bandit\n",
    "import matplotlib.pyplot as plt\n",
    "import numpy as np\n",
    "\n"
   ]
  },
  {
   "cell_type": "code",
   "execution_count": null,
   "metadata": {},
   "outputs": [],
   "source": [
    "%matplotlib inline\n",
    "%load_ext autoreload\n",
    "%autoreload 2"
   ]
  },
  {
   "cell_type": "code",
   "execution_count": null,
   "metadata": {},
   "outputs": [],
   "source": [
    "theta = [0.6, 0.9]\n",
    "noise = 0.1\n",
    "\n",
    "np.random.seed(42)"
   ]
  },
  {
   "cell_type": "markdown",
   "metadata": {},
   "source": [
    "## Categorical\n",
    "> for logistic regression"
   ]
  },
  {
   "cell_type": "markdown",
   "metadata": {},
   "source": [
    "### Linear"
   ]
  },
  {
   "cell_type": "code",
   "execution_count": null,
   "metadata": {},
   "outputs": [],
   "source": []
  },
  {
   "cell_type": "code",
   "execution_count": null,
   "metadata": {},
   "outputs": [],
   "source": [
    "#export\n",
    "from scipy.optimize import minimize\n",
    "import scipy.stats as stats\n",
    "import numpy as np\n",
    "\n",
    "\n",
    "\n",
    "class OnlineLogisticRegression:\n",
    "    \"\"\"taken from https://gdmarmerola.github.io/ts-for-contextual-bandits/ \"\"\"\n",
    "    \n",
    "    # initializing\n",
    "    def __init__(self,n_dim, lambda_ = None, alpha = None):\n",
    "        \n",
    "        # the only hyperparameter is the deviation on the prior (L2 regularizer)\n",
    "        self.lambda_ = lambda_ or 1\n",
    "        self.alpha = alpha or 1\n",
    "                \n",
    "        # initializing parameters of the model\n",
    "        self.n_dim = n_dim, \n",
    "        self.m = np.zeros(self.n_dim)\n",
    "        self.q = np.ones(self.n_dim) * self.lambda_\n",
    "        \n",
    "        # initializing weights\n",
    "        self.w = np.random.normal(self.m, self.alpha * (self.q)**(-1.0), size = self.n_dim)\n",
    "        \n",
    "    # the loss function\n",
    "    def loss(self, w, *args):\n",
    "        X, y = args\n",
    "        return 0.5 * (self.q * (w - self.m)).dot(w - self.m) + np.sum([np.log(1 + np.exp(-y[j] * w.dot(X[j]))) for j in range(y.shape[0])])\n",
    "        \n",
    "    # the gradient\n",
    "    def grad(self, w, *args):\n",
    "        X, y = args\n",
    "        return self.q * (w - self.m) + (-1) * np.array([y[j] *  X[j] / (1. + np.exp(y[j] * w.dot(X[j]))) for j in range(y.shape[0])]).sum(axis=0)\n",
    "    \n",
    "    # method for sampling weights\n",
    "    def get_weights(self):\n",
    "      return stats.multivariate_normal(self.m, self.alpha * (self.q)**(-1.0)).rvs()\n",
    "        #return np.random.normal(self.m, self.alpha * (self.q)**(-1.0), size = self.n_dim)\n",
    "    \n",
    "    # fitting method\n",
    "    def fit(self, X, y):\n",
    "        \n",
    "#         print(X)\n",
    "        \n",
    "#         print(f'X {X.shape}')\n",
    "#         print(f'y {y.shape}')\n",
    "#         print(f'self w {self.w.shape}')\n",
    "#         print(f'self m {self.m.shape}')\n",
    "                \n",
    "        # step 1, find w\n",
    "        self.w = minimize(self.loss, self.w, args=(X, y), jac=self.grad, method=\"L-BFGS-B\", options={'maxiter': 20, 'disp':True}).x\n",
    "        self.m = self.w\n",
    "        \n",
    "        # step 2, update q\n",
    "        P = (1 + np.exp(1 - X.dot(self.m))) ** (-1)\n",
    "        self.q = self.q + (P*(1-P)).dot(X ** 2)\n",
    "\n",
    "\n",
    "    def observe(self,X,y):\n",
    "        self.fit(X,y)\n",
    "                \n",
    "    # probability output method, using weights sample\n",
    "    def predict_proba(self, X, mode='sample'):\n",
    "        \n",
    "        # adding intercept to X\n",
    "        #X = add_constant(X)\n",
    "        \n",
    "        # sampling weights after update\n",
    "        self.w = self.get_weights()\n",
    "        \n",
    "        # using weight depending on mode\n",
    "        if mode == 'sample':\n",
    "            w = self.w # weights are samples of posteriors\n",
    "        elif mode == 'expected':\n",
    "            w = self.m # weights are expected values of posteriors\n",
    "        else:\n",
    "            raise Exception('mode not recognized!')\n",
    "            \n",
    "            \n",
    "        X = np.atleast_1d(X)\n",
    "        w = np.atleast_1d(w)\n",
    "        #print(f'X shape {X.shape}')\n",
    "        #print(f'w shape {w.shape}')\n",
    "\n",
    "        # calculating probabilities\n",
    "        proba = 1 / (1 + np.exp(-1 * X.dot(w)))\n",
    "        return np.array([1-proba , proba]).T"
   ]
  },
  {
   "cell_type": "code",
   "execution_count": null,
   "metadata": {},
   "outputs": [
    {
     "name": "stderr",
     "output_type": "stream",
     "text": [
      "No handles with labels found to put in legend.\n"
     ]
    },
    {
     "data": {
      "text/plain": [
       "<Figure size 1350x525 with 0 Axes>"
      ]
     },
     "metadata": {},
     "output_type": "display_data"
    },
    {
     "data": {
      "image/png": "[encoded data removed]",
      "text/plain": [
       "<Figure size 1350x525 with 2 Axes>"
      ]
     },
     "metadata": {
      "needs_background": "light"
     },
     "output_type": "display_data"
    }
   ],
   "source": [
    "\n",
    "\n",
    "wee_x = np.random.uniform(-6,6,10)\n",
    "wee_y = np.array([contextual_categorical_bandit(x,0, theta, noise)[0] for x in wee_x])\n",
    "\n",
    "\n",
    "\n",
    "\n",
    "# OLR object\n",
    "online_lr = OnlineLogisticRegression(1, .5, 1)\n",
    "for i in range(len(wee_y)):\n",
    "    online_lr.fit(wee_x[i].reshape(-1,1), wee_y[i].reshape(-1,1))\n",
    "    \n",
    "    \n",
    "    \n",
    "    \n",
    "    \n",
    "# closing other figures\n",
    "plt.close('all')\n",
    "plt.figure(figsize=[9,3.5], dpi=150)\n",
    "\n",
    "# let us check the distribution of weights and uncertainty bounds\n",
    "plt.figure(figsize=[9,3.5], dpi=150)\n",
    "\n",
    "# plotting the pdf of the weight distribution\n",
    "X_pdf = np.linspace(-4, 4, 1000)\n",
    "pdf = stats.norm(loc=online_lr.m, scale=online_lr.q**(-1.0)).pdf(X_pdf)\n",
    "\n",
    "# range and resolution of probability plot\n",
    "X_prob = np.linspace(-6, 6, 1000)\n",
    "p_dist = 1/(1 + np.exp(-X_prob * online_lr.m))\n",
    "p_dist_plus = 1/(1 + np.exp(-X_prob * (online_lr.m + 2*online_lr.q**(-1.0))))\n",
    "p_dist_minus = 1/(1 + np.exp(-X_prob * (online_lr.m - 2*online_lr.q**(-1.0))))\n",
    "\n",
    "# opening subplots\n",
    "ax1 = plt.subplot2grid((1, 5), (0, 0), colspan=2, rowspan=1)\n",
    "ax2 = plt.subplot2grid((1, 5), (0, 2), colspan=3, rowspan=1)\n",
    "\n",
    "# plotting distriution of weights\n",
    "ax1.plot(X_pdf, pdf, color='b', linewidth=2, alpha=0.5)\n",
    "#ax1.plot([cmab.weights[0][1], cmab.weights[0][1]], [0, max(pdf)], 'k--', label='True $\\\\beta$', linewidth=1)\n",
    "ax1.fill_between(X_pdf, pdf, 0, color='b', alpha=0.2)\n",
    "\n",
    "# plotting probabilities\n",
    "ax2.plot(X_prob, p_dist, color='b', linewidth=2, alpha=0.5)\n",
    "ax2.fill_between(X_prob, p_dist_plus, p_dist_minus, color='b', alpha=0.2)\n",
    "ax2.scatter(wee_x, wee_y, c='k')\n",
    "\n",
    "# title and comments\n",
    "ax1.set_title('OLR estimate for $\\\\beta$', fontsize=10)\n",
    "ax1.set_xlabel('$\\\\beta$', fontsize=10); ax1.set_ylabel('$density$', fontsize=10)\n",
    "ax2.set_title('OLR estimate for $\\\\theta(x)$', fontsize=10)\n",
    "ax2.set_xlabel('$x$', fontsize=10); ax2.set_ylabel('$\\\\theta(x)$', fontsize=10)\n",
    "\n",
    "ax1.legend(fontsize=10)\n",
    "plt.tight_layout()\n",
    "plt.show()"
   ]
  },
  {
   "cell_type": "code",
   "execution_count": null,
   "metadata": {},
   "outputs": [
    {
     "data": {
      "text/plain": [
       "0.7497864801605931"
      ]
     },
     "execution_count": null,
     "metadata": {},
     "output_type": "execute_result"
    }
   ],
   "source": [
    "online_lr.predict_proba(np.array(wee_x[0]))[0]"
   ]
  },
  {
   "cell_type": "code",
   "execution_count": null,
   "metadata": {},
   "outputs": [
    {
     "data": {
      "text/plain": [
       "[array([-2.49426422, -1.60365788]),\n",
       " array([-0.52716019,  3.42211154]),\n",
       " array([-3.60391461,  0.17081326]),\n",
       " array([ 1.10897483, -5.44259505]),\n",
       " array([ 1.29053822, -3.95371052]),\n",
       " array([-5.21938088,  5.38662645]),\n",
       " array([5.5875844 , 3.70076818]),\n",
       " array([-2.34463477, -4.82793463]),\n",
       " array([ 2.21079632, -0.71817008]),\n",
       " array([-4.53554118, -0.05787708])]"
      ]
     },
     "execution_count": null,
     "metadata": {},
     "output_type": "execute_result"
    }
   ],
   "source": [
    "wee_x2 = np.random.uniform(-6,6,[10,2])\n",
    "[x for x in wee_x2]"
   ]
  },
  {
   "cell_type": "code",
   "execution_count": null,
   "metadata": {},
   "outputs": [
    {
     "data": {
      "text/plain": [
       "array([0.03904842, 0.96095158])"
      ]
     },
     "execution_count": null,
     "metadata": {},
     "output_type": "execute_result"
    }
   ],
   "source": [
    "wee_x2 = np.random.uniform(-6,6,[10,2])\n",
    "wee_y2 = np.array([contextual_categorical_bandit(x,0, theta, noise)[0] for x in wee_x])\n",
    "\n",
    "\n",
    "\n",
    "\n",
    "# OLR object\n",
    "online_lr2 = OnlineLogisticRegression(2, .5, 1)\n",
    "for i in range(len(wee_y2)):\n",
    "    online_lr2.fit(wee_x2[i].reshape(1,-1), wee_y2[i].reshape(1,-1))\n",
    "    \n",
    "online_lr2.predict_proba(wee_x2[0].reshape(1,-1))[0]"
   ]
  },
  {
   "cell_type": "code",
   "execution_count": null,
   "metadata": {},
   "outputs": [
    {
     "data": {
      "text/plain": [
       "(1, 2)"
      ]
     },
     "execution_count": null,
     "metadata": {},
     "output_type": "execute_result"
    }
   ],
   "source": [
    "wee_x2[i].reshape(1,-1).shape"
   ]
  },
  {
   "cell_type": "markdown",
   "metadata": {},
   "source": [
    "## numerical\n",
    "> for regression\n"
   ]
  },
  {
   "cell_type": "markdown",
   "metadata": {},
   "source": [
    "### Linear\n",
    "\n",
    "from https://www.quantstart.com/articles/Bayesian-Linear-Regression-Models-with-PyMC3/"
   ]
  },
  {
   "cell_type": "code",
   "execution_count": null,
   "metadata": {},
   "outputs": [],
   "source": [
    "#export \n",
    "\n",
    "\n",
    "class BayesLinReg:\n",
    "\n",
    "    def __init__(self, n_features, alpha, beta):\n",
    "        self.n_features = n_features\n",
    "        self.alpha = alpha\n",
    "        self.beta = beta\n",
    "        self.mean = np.zeros(n_features)\n",
    "        self.cov_inv = np.identity(n_features) / self.alpha\n",
    "\n",
    "    def observe(self, x, y):\n",
    "\n",
    "        # Update the inverse covariance matrix (Bishop eq. 3.51)\n",
    "        cov_inv = self.cov_inv + self.beta * np.outer(x, x)\n",
    "\n",
    "        # Update the mean vector (Bishop eq. 3.50)\n",
    "        cov = np.linalg.inv(cov_inv)\n",
    "        mean = cov @ (self.cov_inv @ self.mean + self.beta * y * x)\n",
    "\n",
    "        self.cov_inv = cov_inv\n",
    "        self.mean = mean\n",
    "\n",
    "        return self\n",
    "    \n",
    "    def learn(self,X,y):\n",
    "        \"until refactoring...\"\n",
    "        self.observe(X,y)\n",
    "\n",
    "    def predict(self, x):\n",
    "\n",
    "        # Obtain the predictive mean (Bishop eq. 3.58)\n",
    "        y_pred_mean = x @ self.mean\n",
    "\n",
    "        # Obtain the predictive variance (Bishop eq. 3.59)\n",
    "        w_cov = np.linalg.inv(self.cov_inv)\n",
    "        y_pred_var = 1 / self.beta + x @ w_cov @ x.T\n",
    "\n",
    "        return stats.norm(loc=y_pred_mean, scale=y_pred_var ** .5)\n",
    "\n",
    "    @property\n",
    "    def weights_dist(self):\n",
    "        cov = np.linalg.inv(self.cov_inv)\n",
    "        return stats.multivariate_normal(mean=self.mean, cov=cov)\n",
    "\n",
    "\n",
    "class BatchBayesLinReg(BayesLinReg):\n",
    "\n",
    "    def observe(self, x, y):\n",
    "\n",
    "        # If x and y are singletons, then we coerce them to a batch of length 1\n",
    "        x = np.atleast_2d(x)\n",
    "        y = np.atleast_1d(y)\n",
    "\n",
    "        # Update the inverse covariance matrix (Bishop eq. 3.51)\n",
    "        cov_inv = self.cov_inv + self.beta * x.T @ x\n",
    "\n",
    "        # Update the mean vector (Bishop eq. 3.50)\n",
    "        cov = np.linalg.inv(cov_inv)\n",
    "        mean = cov @ (self.cov_inv @ self.mean + self.beta * y @ x)\n",
    "\n",
    "        self.cov_inv = cov_inv\n",
    "        self.mean = mean\n",
    "\n",
    "        return (self.predict(x).mean() - y)**2\n",
    "    \n",
    "    def learn(self,X,y):\n",
    "        \"until refactoring...\"\n",
    "\n",
    "        self.observe(X,y)\n",
    "\n",
    "    def predict(self, x):\n",
    "\n",
    "        x = np.atleast_2d(x)\n",
    "\n",
    "        # Obtain the predictive mean (Bishop eq. 3.58)\n",
    "        y_pred_mean = x @ self.mean\n",
    "\n",
    "        # Obtain the predictive variance (Bishop eq. 3.59)\n",
    "        w_cov = np.linalg.inv(self.cov_inv)\n",
    "        y_pred_var = 1 / self.beta + (x @ w_cov * x).sum(axis=1)\n",
    "\n",
    "        # Drop a dimension from the mean and variance in case x and y were singletons\n",
    "        # There might be a more elegant way to proceed but this works!\n",
    "        y_pred_mean = np.squeeze(y_pred_mean)\n",
    "        y_pred_var = np.squeeze(y_pred_var)\n",
    "\n",
    "        return stats.norm(loc=y_pred_mean, scale=y_pred_var ** .5)"
   ]
  },
  {
   "cell_type": "code",
   "execution_count": null,
   "metadata": {},
   "outputs": [
    {
     "data": {
      "text/plain": [
       "<matplotlib.collections.PathCollection at 0x7f6a565b5f90>"
      ]
     },
     "execution_count": null,
     "metadata": {},
     "output_type": "execute_result"
    },
    {
     "data": {
      "image/png": "[encoded data removed]",
      "text/plain": [
       "<Figure size 432x288 with 1 Axes>"
      ]
     },
     "metadata": {
      "needs_background": "light"
     },
     "output_type": "display_data"
    }
   ],
   "source": [
    "X = np.linspace(-1,1, 10)\n",
    "X = np.atleast_2d(X).T\n",
    "y0 = [contextual_numerical_bandit(x,0,theta,0.1) for x in X]\n",
    "y1 = [contextual_numerical_bandit(x,1,theta,0.1) for x in X]\n",
    "\n",
    "plt.scatter(X.squeeze(),y1)\n",
    "plt.scatter(X.squeeze(),y0)"
   ]
  },
  {
   "cell_type": "code",
   "execution_count": null,
   "metadata": {},
   "outputs": [
    {
     "data": {
      "text/plain": [
       "array([[ True]])"
      ]
     },
     "execution_count": null,
     "metadata": {},
     "output_type": "execute_result"
    }
   ],
   "source": [
    "np.atleast_2d(X[0]).T == np.atleast_2d(X[0])"
   ]
  },
  {
   "cell_type": "code",
   "execution_count": null,
   "metadata": {},
   "outputs": [
    {
     "data": {
      "text/plain": [
       "(10, 1)"
      ]
     },
     "execution_count": null,
     "metadata": {},
     "output_type": "execute_result"
    }
   ],
   "source": [
    "X.shape"
   ]
  },
  {
   "cell_type": "code",
   "execution_count": null,
   "metadata": {},
   "outputs": [
    {
     "data": {
      "text/plain": [
       "(1, 1)"
      ]
     },
     "execution_count": null,
     "metadata": {},
     "output_type": "execute_result"
    }
   ],
   "source": [
    "np.atleast_2d(X[0].T).shape"
   ]
  },
  {
   "cell_type": "code",
   "execution_count": null,
   "metadata": {},
   "outputs": [],
   "source": [
    "bbl = BatchBayesLinReg(n_features = X.shape[1],alpha=0.3, beta=10)"
   ]
  },
  {
   "cell_type": "code",
   "execution_count": null,
   "metadata": {},
   "outputs": [],
   "source": [
    "batch_size = X.shape[0]\n",
    "n_batches = len(X) // batch_size\n",
    "\n",
    "batches = zip(\n",
    "    np.array_split(X, n_batches),\n",
    "    np.array_split(y0, n_batches)\n",
    ")\n",
    "\n",
    "for x_batch, y_batch in batches:\n",
    "    bbl.observe(np.atleast_2d(x_batch), y_batch)"
   ]
  },
  {
   "cell_type": "code",
   "execution_count": null,
   "metadata": {},
   "outputs": [],
   "source": [
    "y_hat_dist = bbl.predict(X)"
   ]
  },
  {
   "cell_type": "code",
   "execution_count": null,
   "metadata": {},
   "outputs": [],
   "source": [
    "y_hat = y_hat_dist.mean()\n",
    "y_hat_std = y_hat_dist.std()"
   ]
  },
  {
   "cell_type": "code",
   "execution_count": null,
   "metadata": {},
   "outputs": [
    {
     "data": {
      "text/plain": [
       "array([-0.82701683, -1.33850595, -0.54916743, -0.17204244,  0.37254324,\n",
       "       -0.06865883,  0.02751519,  0.31317877,  0.97693689,  0.97430953])"
      ]
     },
     "execution_count": null,
     "metadata": {},
     "output_type": "execute_result"
    }
   ],
   "source": [
    "y_hat_dist.rvs()"
   ]
  },
  {
   "cell_type": "code",
   "execution_count": null,
   "metadata": {},
   "outputs": [
    {
     "data": {
      "text/plain": [
       "array([0.35027   , 0.3372321 , 0.32711283, 0.32018902, 0.31667035,\n",
       "       0.31667035, 0.32018902, 0.32711283, 0.3372321 , 0.35027   ])"
      ]
     },
     "execution_count": null,
     "metadata": {},
     "output_type": "execute_result"
    }
   ],
   "source": [
    "y_hat_std"
   ]
  },
  {
   "cell_type": "code",
   "execution_count": null,
   "metadata": {},
   "outputs": [
    {
     "data": {
      "text/plain": [
       "<matplotlib.collections.PolyCollection at 0x7f6a5617b9d0>"
      ]
     },
     "execution_count": null,
     "metadata": {},
     "output_type": "execute_result"
    },
    {
     "data": {
      "image/png": "[encoded data removed]",
      "text/plain": [
       "<Figure size 432x288 with 1 Axes>"
      ]
     },
     "metadata": {
      "needs_background": "light"
     },
     "output_type": "display_data"
    }
   ],
   "source": [
    "plt.plot(X.squeeze(),y_hat)\n",
    "plt.plot(X.squeeze(),y0,'x')\n",
    "plt.fill_between(X.squeeze(), y_hat, y_hat - y_hat_std, alpha = 0.3,color='blue')\n",
    "plt.fill_between(X.squeeze(), y_hat, y_hat + y_hat_std, alpha = 0.3,color='blue')\n"
   ]
  },
  {
   "cell_type": "code",
   "execution_count": null,
   "metadata": {},
   "outputs": [
    {
     "data": {
      "text/plain": [
       "-1.0447169889826577"
      ]
     },
     "execution_count": null,
     "metadata": {},
     "output_type": "execute_result"
    }
   ],
   "source": [
    "y_hat_single_dist = bbl.predict(X[0])\n",
    "y_hat_single_dist.rvs()"
   ]
  },
  {
   "cell_type": "markdown",
   "metadata": {},
   "source": [
    "### nonlinear"
   ]
  },
  {
   "cell_type": "code",
   "execution_count": null,
   "metadata": {},
   "outputs": [],
   "source": [
    "#export \n",
    "import torch\n",
    "from torch.autograd import Variable\n",
    "\n",
    "class SimpleModel(torch.nn.Module):\n",
    "    def __init__(self,num_input, num_hidden_units=100, p=0.05, decay=0.001, non_linearity=torch.nn.LeakyReLU):\n",
    "        super(SimpleModel, self).__init__()\n",
    "        self.dropout_p = p\n",
    "        self.decay = decay\n",
    "        self.f = torch.nn.Sequential(\n",
    "            torch.nn.Linear(num_input,num_hidden_units),\n",
    "            torch.nn.ReLU(),\n",
    "            torch.nn.Linear(num_hidden_units,1)\n",
    "        )\n",
    "    def forward(self, X):\n",
    "        X = Variable(torch.Tensor(X), requires_grad=False)\n",
    "        return self.f(X)"
   ]
  },
  {
   "cell_type": "code",
   "execution_count": null,
   "metadata": {},
   "outputs": [],
   "source": []
  },
  {
   "cell_type": "code",
   "execution_count": null,
   "metadata": {},
   "outputs": [],
   "source": [
    "X = np.atleast_2d(np.linspace(-1,1,100)).T\n",
    "\n",
    "y = np.atleast_2d((np.sin(X.squeeze()*3) + np.random.normal(0,.1,100))).T"
   ]
  },
  {
   "cell_type": "code",
   "execution_count": null,
   "metadata": {},
   "outputs": [
    {
     "data": {
      "text/plain": [
       "[<matplotlib.lines.Line2D at 0x7f6a07f4c350>]"
      ]
     },
     "execution_count": null,
     "metadata": {},
     "output_type": "execute_result"
    },
    {
     "data": {
      "image/png": "[encoded data removed]",
      "text/plain": [
       "<Figure size 432x288 with 1 Axes>"
      ]
     },
     "metadata": {
      "needs_background": "light"
     },
     "output_type": "display_data"
    }
   ],
   "source": [
    "plt.plot(X,y)"
   ]
  },
  {
   "cell_type": "code",
   "execution_count": null,
   "metadata": {},
   "outputs": [],
   "source": [
    "sm = SimpleModel(1)"
   ]
  },
  {
   "cell_type": "code",
   "execution_count": null,
   "metadata": {},
   "outputs": [],
   "source": [
    "y_hat = sm(X)"
   ]
  },
  {
   "cell_type": "code",
   "execution_count": null,
   "metadata": {},
   "outputs": [
    {
     "data": {
      "text/plain": [
       "[<matplotlib.lines.Line2D at 0x7f6a07ec2450>]"
      ]
     },
     "execution_count": null,
     "metadata": {},
     "output_type": "execute_result"
    },
    {
     "data": {
      "image/png": "[encoded data removed]",
      "text/plain": [
       "<Figure size 432x288 with 1 Axes>"
      ]
     },
     "metadata": {
      "needs_background": "light"
     },
     "output_type": "display_data"
    }
   ],
   "source": [
    "plt.plot(X,y_hat.detach())"
   ]
  },
  {
   "cell_type": "code",
   "execution_count": null,
   "metadata": {},
   "outputs": [],
   "source": [
    "epochs = 10000\n",
    "\n",
    "optimizer = torch.optim.SGD(\n",
    "            sm.parameters(),\n",
    "            weight_decay=0.01,\n",
    "            lr=0.001)\n",
    "criterion = torch.nn.MSELoss()\n",
    "y_torch = Variable(torch.Tensor(y), requires_grad=False)\n",
    "\n",
    "for i in range(epochs):\n",
    "    y_pred = sm(X)\n",
    "    optimizer.zero_grad()\n",
    "    loss = criterion(y_pred, y_torch)\n",
    "    loss.backward()\n",
    "    optimizer.step()"
   ]
  },
  {
   "cell_type": "code",
   "execution_count": null,
   "metadata": {},
   "outputs": [
    {
     "data": {
      "text/plain": [
       "[<matplotlib.lines.Line2D at 0x7f6a07f01d10>]"
      ]
     },
     "execution_count": null,
     "metadata": {},
     "output_type": "execute_result"
    },
    {
     "data": {
      "image/png": "[encoded data removed]",
      "text/plain": [
       "<Figure size 432x288 with 1 Axes>"
      ]
     },
     "metadata": {
      "needs_background": "light"
     },
     "output_type": "display_data"
    }
   ],
   "source": [
    "y_hat = sm(X)\n",
    "plt.plot(X,y_hat.detach())\n",
    "plt.plot(X,y)"
   ]
  },
  {
   "cell_type": "code",
   "execution_count": null,
   "metadata": {},
   "outputs": [],
   "source": [
    "#export\n",
    "\n",
    "# from https://github.com/dennisbakhuis/Tutorials/blob/master/Neural_Network/Artificial_Neural_Network.ipynb\n",
    "class ActivationDoesNotExist(Exception):\n",
    "    \"\"\"Valid activations are sigmoid, tanh, and relu, provided as a string\"\"\"\n",
    "    pass\n",
    "\n",
    "class InputDimensionNotCorrect(Exception):\n",
    "    \"\"\"Need to specify input dimension, i.e. input shape into the first layer\"\"\"\n",
    "    pass\n",
    "\n",
    "class LossFunctionNotDefined(Exception):\n",
    "    \"\"\"Loss function in cost() method not defined\"\"\"\n",
    "    pass\n",
    "\n",
    "\n",
    "class DenseLayer:\n",
    "    \"\"\"\n",
    "    A class to define fully connected layers.\n",
    "    \"\"\"\n",
    "    \n",
    "    def __init__(self, inputDimension, units, activation='', randomMultiplier=0.01):\n",
    "        \"\"\"\n",
    "        Constructor:\n",
    "          inputDimension: number of input features\n",
    "          units: number of neurons in the layer\n",
    "          activation: activation function applied to layer\n",
    "            - options: 'sigmoid', 'tanh', 'relu', ''\n",
    "          randomMultiplier: multiplier applied to the random weights during initialization\n",
    "        \"\"\"\n",
    "        self.weights, self.bias = self.initialize(inputDimension, units, randomMultiplier)\n",
    "        if activation == 'sigmoid':\n",
    "            self.activation = activation\n",
    "            self.activationForward = self.sigmoid\n",
    "            self.activationBackward = self.sigmoidGrad\n",
    "        elif activation == 'relu':\n",
    "            self.activation = activation\n",
    "            self.activationForward = self.relu\n",
    "            self.activationBackward = self.reluGrad\n",
    "        elif activation == 'tanh':\n",
    "            self.activation = activation\n",
    "            self.activationForward = self.tanh\n",
    "            self.activationBackward = self.tanhGrad\n",
    "        elif activation != '':\n",
    "            raise ActivationDoesNotExist\n",
    "        else:\n",
    "            self.activation = 'none'\n",
    "            self.activationForward = self.linear\n",
    "            self.activationBackward = self.linear\n",
    "    \n",
    "    def initialize(self, nx, nh, randomMultiplier):\n",
    "        \"\"\"\n",
    "        Initializes weights randomly:\n",
    "          nx: number of input features\n",
    "          nh: number of units\n",
    "          randomMultiplier: multiplier applied to the random weights during initialization\n",
    "        returns:\n",
    "          weights: the randomly initialized weights\n",
    "          bias: the bias terms\n",
    "        \"\"\"\n",
    "        weights = randomMultiplier * np.random.randn(nh, nx)\n",
    "        bias = np.zeros([nh, 1])\n",
    "        return weights, bias\n",
    "\n",
    "    \n",
    "    def sigmoid(self, Z):\n",
    "        \"\"\"\n",
    "        Sigmoid activation function\n",
    "        \"\"\"\n",
    "        A = 1 / (1 + np.exp(-Z))\n",
    "        return A\n",
    "        \n",
    "    def sigmoidGrad(self, dA):\n",
    "        \"\"\"\n",
    "        Differential of sigmoid function with chain rule applied\n",
    "        \"\"\"\n",
    "        s = 1 / (1 + np.exp(-self.prevZ))\n",
    "        dZ = dA * s * (1 - s)\n",
    "        return dZ\n",
    "    \n",
    "    \n",
    "    def relu(self, Z):\n",
    "        \"\"\"\n",
    "        Relu activation function\n",
    "        \"\"\"\n",
    "        A = np.maximum(0, Z)\n",
    "        return A\n",
    "        \n",
    "    def reluGrad(self, dA):\n",
    "        \"\"\"\n",
    "        Differential of relu function with chain rule applied\n",
    "        \"\"\"\n",
    "        s = np.maximum(0, self.prevZ)\n",
    "        dZ = (s>0) * 1 * dA\n",
    "        return dZ \n",
    "\n",
    "        \n",
    "    def tanh(self, Z):\n",
    "        \"\"\"\n",
    "        Tanh activation function\n",
    "        \"\"\"\n",
    "        A = np.tanh(Z)\n",
    "        return A\n",
    "\n",
    "    def tanhGrad(self, dA):\n",
    "        \"\"\"\n",
    "        Differential of tanh function with chain rule applied\n",
    "        \"\"\"\n",
    "        s = np.tanh(self.prevZ)\n",
    "        dZ = (1 - s**2) * dA\n",
    "        return dZ\n",
    "\n",
    "\n",
    "    def linear(self, Z):\n",
    "        \"\"\"\n",
    "        Placeholder when no activation function is used\n",
    "        \"\"\"\n",
    "        return Z\n",
    "        \n",
    "    \n",
    "    def forward(self, A):\n",
    "        \"\"\"\n",
    "        Forward pass through layer\n",
    "          A: input vector\n",
    "        \"\"\"\n",
    "        Z = np.dot(self.weights, A) + self.bias\n",
    "        self.prevZ = Z\n",
    "        self.prevA = A\n",
    "        A = self.activationForward(Z)\n",
    "        return A\n",
    "    \n",
    "    \n",
    "    def backward(self, dA):\n",
    "        \"\"\"\n",
    "        Backward pass through layer\n",
    "          dA: previous gradient\n",
    "        \"\"\"\n",
    "        dZ = self.activationBackward(dA)\n",
    "        m = self.prevA.shape[1]\n",
    "        self.dW = 1 / m * np.dot(dZ, self.prevA.T)\n",
    "        self.db = 1 / m * np.sum(dZ, axis=1, keepdims=True)\n",
    "        prevdA = np.dot(self.weights.T, dZ)\n",
    "        return prevdA\n",
    "    \n",
    "    \n",
    "    def update(self, learning_rate):\n",
    "        \"\"\"\n",
    "        Update weights using gradients from backward pass\n",
    "          learning_rate: the learning rate used in the gradient descent\n",
    "        \"\"\"\n",
    "        self.weights = self.weights - learning_rate * self.dW\n",
    "        self.bias = self.bias - learning_rate * self.db\n",
    "\n",
    "        \n",
    "    def outputDimension(self):\n",
    "        \"\"\"\n",
    "        Returns the output dimension for the next layer\n",
    "        \"\"\"\n",
    "        return len(self.bias)\n",
    "\n",
    "    \n",
    "    def __repr__(self):\n",
    "        \"\"\"\n",
    "        Used to print a pretty summary of the layer\n",
    "        \"\"\"\n",
    "        act = 'none' if self.activation == '' else self.activation\n",
    "        return f'Dense layer (nx={self.weights.shape[1]}, nh={self.weights.shape[0]}, activation={act})'\n",
    "\n",
    "\n",
    "class NeuralNetwork:\n",
    "    \"\"\"\n",
    "    Neural Network structure that holds our layers\n",
    "    \"\"\"\n",
    "    \n",
    "    def __init__(self, loss='cross-entropy', randomMultiplier = 0.01):\n",
    "        \"\"\"\n",
    "        Constructor:\n",
    "          loss: the loss function. Two are defined:\n",
    "             - 'cross-entropy' and 'mean-square-error'\n",
    "          randomMultiplier: multiplier applied to the random weights during initialization\n",
    "        \"\"\"\n",
    "        self.layers=[]\n",
    "        self.randomMultiplier = randomMultiplier\n",
    "        if loss=='cross-entropy':\n",
    "            self.lossFunction = self.crossEntropyLoss\n",
    "            self.lossBackward = self.crossEntropyLossGrad\n",
    "        elif loss=='mean-square-error':\n",
    "            self.lossFunction = self.meanSquareError\n",
    "            self.lossBackward = self.meanSquareErrorGrad\n",
    "        else:\n",
    "            raise LossFunctionNotDefined\n",
    "        self.loss=loss\n",
    "\n",
    "\n",
    "    def addLayer(self, inputDimension=None, units=1, activation='', layer_type = DenseLayer):\n",
    "        \"\"\"\n",
    "        Adds a Dense layer to the network:\n",
    "          inputDimension: required when it is the first layer. otherwise takes dimensions of previous layer.\n",
    "          units: number of neurons in the layer\n",
    "          activation: activation function: valid choices are: 'sigmoid', 'tanh', 'relu', ''\n",
    "        \"\"\"\n",
    "        if (inputDimension is None):\n",
    "            if (len(self.layers)==0):\n",
    "                raise InputDimensionNotCorrect\n",
    "            inputDimension=self.layers[-1].outputDimension()\n",
    "        layer = layer_type(inputDimension, units, activation, randomMultiplier= self.randomMultiplier)\n",
    "        self.layers.append(layer)\n",
    "\n",
    "    def crossEntropyLoss(self, Y, A, epsilon=1e-15):\n",
    "        \"\"\"\n",
    "        Cross Entropy loss function\n",
    "          Y: true labels\n",
    "          A: final activation function (predicted labels)\n",
    "          epsilon: small value to make minimize chance for log(0) error\n",
    "        \"\"\"\n",
    "        m = Y.shape[1]\n",
    "        loss = -1 * (Y * np.log(A + epsilon) + (1 - Y) * np.log(1 - A + epsilon))\n",
    "        cost = 1 / m * np.sum(loss)\n",
    "        return np.squeeze(cost)\n",
    "            \n",
    "    def crossEntropyLossGrad(self, Y, A):\n",
    "        \"\"\"\n",
    "        Cross Entropy loss Gradient\n",
    "          Y: true labels\n",
    "          A: final activation function (predicted labels)\n",
    "        \"\"\"\n",
    "        dA = -(np.divide(Y, A) - np.divide(1 - Y, 1 - A))\n",
    "        return dA\n",
    "    \n",
    "    \n",
    "    def meanSquareError(self, Y, A):\n",
    "        \"\"\"\n",
    "        Mean square error loss function\n",
    "          Y: true labels\n",
    "          A: final activation function (predicted labels)\n",
    "        \"\"\"\n",
    "        loss = np.square(Y - A)\n",
    "        m = Y.shape[1]\n",
    "        cost = 1 / m * np.sum(loss)\n",
    "        return np.squeeze(cost)\n",
    "    \n",
    "    def meanSquareErrorGrad(self, Y, A):\n",
    "        \"\"\"\n",
    "        Mean square error loss gradient\n",
    "          Y: true labels\n",
    "          A: final activation function (predicted labels)\n",
    "        \"\"\"\n",
    "        dA = -2 * (Y - A)\n",
    "        return dA\n",
    "\n",
    "    \n",
    "    def cost(self, Y, A):\n",
    "        \"\"\"\n",
    "        Cost function wrapper\n",
    "          Y: true labels\n",
    "          A: final activation function (predicted labels)\n",
    "        \"\"\"\n",
    "        return self.lossFunction(Y, A)\n",
    "\n",
    "        \n",
    "    def forward(self, X, attention=None):\n",
    "        \"\"\"\n",
    "        Forward pass through the whole model.\n",
    "          X: input vector\n",
    "        \"\"\"\n",
    "        x = np.copy(X)\n",
    "        for layer in self.layers:\n",
    "            if 'Attention' in str(layer.__repr__):       \n",
    "                x = layer.forward(x, attention)\n",
    "                \n",
    "            else:\n",
    "                x = layer.forward(x)\n",
    "\n",
    "        return x\n",
    "            \n",
    "    \n",
    "    def backward(self, A, Y):\n",
    "        \"\"\"\n",
    "        backward pass through the whole model\n",
    "          Y: true labels\n",
    "          A: final activation function (predicted labels)\n",
    "        \"\"\"\n",
    "        dA = self.lossBackward(Y, A)\n",
    "        for layer in reversed(self.layers):\n",
    "            dA = layer.backward(dA)\n",
    "    \n",
    "    \n",
    "    def update(self, learning_rate=0.01):\n",
    "        \"\"\"\n",
    "        Update weights and do a step of gradient descent for the whole model.\n",
    "          learning_rate: learning_rate to use\n",
    "        \"\"\"\n",
    "        for layer in self.layers:\n",
    "            layer.update(learning_rate)\n",
    "    \n",
    "    \n",
    "    def __repr__(self):\n",
    "        \"\"\"\n",
    "        Pretty print the model\n",
    "        \"\"\"\n",
    "        layrepr = ['  ' + str(ix+1)+' -> ' + str(x) for ix, x in enumerate(self.layers)]\n",
    "        return '[\\n' + '\\n'.join(layrepr) + '\\n]'\n",
    "   \n",
    "    \n",
    "    def numberOfParameters(self):\n",
    "        \"\"\"\n",
    "        Print number of trainable parameters in the model\n",
    "        \"\"\"\n",
    "        n = 0\n",
    "        for layer in self.layers:\n",
    "            n += np.size(layer.weights) + len(layer.bias)\n",
    "        print(f'There are {n} trainable parameters in the model.')\n",
    "        \n",
    "        \n",
    "        \n",
    "        \n",
    "        \n",
    "  "
   ]
  },
  {
   "cell_type": "code",
   "execution_count": null,
   "metadata": {},
   "outputs": [],
   "source": []
  },
  {
   "cell_type": "code",
   "execution_count": null,
   "metadata": {},
   "outputs": [],
   "source": []
  },
  {
   "cell_type": "code",
   "execution_count": null,
   "metadata": {},
   "outputs": [],
   "source": [
    "num_features = 1\n",
    "num_observations = 100"
   ]
  },
  {
   "cell_type": "code",
   "execution_count": null,
   "metadata": {},
   "outputs": [
    {
     "data": {
      "text/plain": [
       "(1, 100)"
      ]
     },
     "execution_count": null,
     "metadata": {},
     "output_type": "execute_result"
    }
   ],
   "source": [
    "X = X.reshape([num_features,num_observations])\n",
    "\n",
    "X.shape"
   ]
  },
  {
   "cell_type": "code",
   "execution_count": null,
   "metadata": {},
   "outputs": [
    {
     "data": {
      "text/plain": [
       "(1, 100)"
      ]
     },
     "execution_count": null,
     "metadata": {},
     "output_type": "execute_result"
    }
   ],
   "source": [
    "Y = y.reshape([1,num_observations])\n",
    "Y.shape"
   ]
  },
  {
   "cell_type": "code",
   "execution_count": null,
   "metadata": {},
   "outputs": [
    {
     "name": "stdout",
     "output_type": "stream",
     "text": [
      "cost: 0.5381958930928467\n",
      "cost: 0.1649099414275236\n",
      "cost: 0.14954554061738198\n",
      "cost: 0.12394155983076219\n",
      "cost: 0.09977469611029348\n",
      "cost: 0.0816534085752191\n",
      "cost: 0.06382997121928058\n",
      "cost: 0.04604550770065554\n",
      "cost: 0.03362999154614575\n",
      "cost: 0.027297767843232644\n"
     ]
    }
   ],
   "source": [
    "model = NeuralNetwork(loss='mean-square-error')\n",
    "model.addLayer(inputDimension=1, units=10, activation='tanh')\n",
    "\n",
    "model.addLayer(units=1, activation='')\n",
    "model\n",
    "\n",
    "\n",
    "num_iterations = 10000\n",
    "for ix in range(num_iterations):\n",
    "    A = model.forward(X)\n",
    "    model.backward(A, Y)\n",
    "    model.update()\n",
    "    if ix % 1000 == 0:\n",
    "        print('cost:', model.cost(Y, A))"
   ]
  },
  {
   "cell_type": "code",
   "execution_count": null,
   "metadata": {},
   "outputs": [
    {
     "data": {
      "text/plain": [
       "<matplotlib.legend.Legend at 0x7f6a06e06f90>"
      ]
     },
     "execution_count": null,
     "metadata": {},
     "output_type": "execute_result"
    },
    {
     "data": {
      "image/png": "[encoded data removed]",
      "text/plain": [
       "<Figure size 432x288 with 1 Axes>"
      ]
     },
     "metadata": {
      "needs_background": "light"
     },
     "output_type": "display_data"
    }
   ],
   "source": [
    "plt.plot(A.squeeze(),label='prediction')\n",
    "plt.plot(y.squeeze(),label='truth')\n",
    "plt.legend()"
   ]
  },
  {
   "cell_type": "code",
   "execution_count": null,
   "metadata": {},
   "outputs": [],
   "source": []
  },
  {
   "cell_type": "code",
   "execution_count": null,
   "metadata": {},
   "outputs": [
    {
     "name": "stdout",
     "output_type": "stream",
     "text": [
      "cost: 0.5118159993370451\n",
      "cost: 0.18015951975248823\n",
      "cost: 0.18015951975248823\n",
      "cost: 0.18015951975248823\n",
      "cost: 0.18015951975248823\n",
      "cost: 0.18015951975248823\n",
      "cost: 0.18015951975248823\n",
      "cost: 0.18015951975248823\n",
      "cost: 0.18015951975248823\n",
      "cost: 0.18015951975248823\n"
     ]
    }
   ],
   "source": [
    "\n",
    "#### linear model\n",
    "model = NeuralNetwork(loss='mean-square-error')\n",
    "#model.addLayer(inputDimension=1, units=10, activation='tanh')\n",
    "\n",
    "model.addLayer(inputDimension=1, units=1, activation='')\n",
    "model\n",
    "\n",
    "\n",
    "num_iterations = 100000\n",
    "for ix in range(num_iterations):\n",
    "    A = model.forward(X)\n",
    "    model.backward(A, Y)\n",
    "    model.update()\n",
    "    if ix % 10000 == 0:\n",
    "        print('cost:', model.cost(Y, A))"
   ]
  },
  {
   "cell_type": "code",
   "execution_count": null,
   "metadata": {},
   "outputs": [
    {
     "data": {
      "text/plain": [
       "<matplotlib.legend.Legend at 0x7f6a06d82d50>"
      ]
     },
     "execution_count": null,
     "metadata": {},
     "output_type": "execute_result"
    },
    {
     "data": {
      "image/png": "[encoded data removed]",
      "text/plain": [
       "<Figure size 432x288 with 1 Axes>"
      ]
     },
     "metadata": {
      "needs_background": "light"
     },
     "output_type": "display_data"
    }
   ],
   "source": [
    "plt.plot(A.squeeze(),label='prediction')\n",
    "plt.plot(y.squeeze(),label='truth')\n",
    "plt.legend()"
   ]
  },
  {
   "cell_type": "code",
   "execution_count": null,
   "metadata": {},
   "outputs": [],
   "source": []
  },
  {
   "cell_type": "code",
   "execution_count": null,
   "metadata": {},
   "outputs": [],
   "source": []
  },
  {
   "cell_type": "code",
   "execution_count": null,
   "metadata": {},
   "outputs": [],
   "source": []
  },
  {
   "cell_type": "code",
   "execution_count": null,
   "metadata": {},
   "outputs": [],
   "source": []
  },
  {
   "cell_type": "code",
   "execution_count": null,
   "metadata": {},
   "outputs": [],
   "source": []
  },
  {
   "cell_type": "code",
   "execution_count": null,
   "metadata": {},
   "outputs": [],
   "source": []
  },
  {
   "cell_type": "code",
   "execution_count": null,
   "metadata": {},
   "outputs": [],
   "source": []
  },
  {
   "cell_type": "code",
   "execution_count": null,
   "metadata": {},
   "outputs": [],
   "source": [
    "#export  \n",
    "\n",
    "class DropoutLayer(DenseLayer):\n",
    "\n",
    "    \n",
    "    def forward(self, A):\n",
    "        \"\"\"\n",
    "        Forward pass through layer\n",
    "          A: input vector\n",
    "        \"\"\"\n",
    "        Z = np.dot(self.weights, A) + self.bias\n",
    "        self.prevZ = Z\n",
    "        self.prevA = A\n",
    "        A = self.activationForward(Z)\n",
    "        \n",
    "        # drop out activations\n",
    "        #print(f'previous activation: {self.prevA.shape}')\n",
    "        #print('activation '+ str(A.shape))\n",
    "        #print('weights' + str(self.weights.shape))\n",
    "        \n",
    "        dropout_percent = 0.5\n",
    "        \n",
    "        \n",
    "        A *= np.random.binomial([np.ones((A.shape))],1-dropout_percent)[0] * (1.0/(1-dropout_percent))\n",
    "        #print('activation '+ str(A.shape))\n",
    "\n",
    "        return A\n",
    "    \n",
    "    def __repr__(self):\n",
    "        \"\"\"\n",
    "        Used to print a pretty summary of the layer\n",
    "        \"\"\"\n",
    "        act = 'none' if self.activation == '' else self.activation\n",
    "        return f'Dropout layer (nx={self.weights.shape[1]}, nh={self.weights.shape[0]}, activation={act})'\n",
    "    \n",
    "    \n",
    "    \n",
    "class AttentionDropoutLayer(DenseLayer):\n",
    "\n",
    "    \n",
    "    def forward(self, A, attention):\n",
    "        \"\"\"\n",
    "        Forward pass through layer\n",
    "          A: input vector\n",
    "        \"\"\"\n",
    "        Z = np.dot(self.weights, A) + self.bias\n",
    "        self.prevZ = Z\n",
    "        self.prevA = A\n",
    "        A = self.activationForward(Z)\n",
    "        \n",
    "        # drop out activations\n",
    "        #print(f'previous activation: {self.prevA.shape}')\n",
    "        #print('activation '+ str(A.shape))\n",
    "        #print('weights' + str(self.weights.shape))\n",
    "        \n",
    "        dropout_percent = 0.5\n",
    "        \n",
    "        \n",
    "        #A *= np.random.binomial([np.ones((A.shape))],1-dropout_percent)[0] * (1.0/(1-dropout_percent))\n",
    "        A *= attention\n",
    "        #print('activation '+ str(A.shape))\n",
    "\n",
    "        return A\n",
    "    \n",
    "    def __repr__(self):\n",
    "        \"\"\"\n",
    "        Used to print a pretty summary of the layer\n",
    "        \"\"\"\n",
    "        act = 'none' if self.activation == '' else self.activation\n",
    "        return f'Attention Dropout layer (nx={self.weights.shape[1]}, nh={self.weights.shape[0]}, activation={act})'\n",
    "   \n",
    "    \n",
    "class DropoutLayer(DenseLayer):\n",
    "\n",
    "    \n",
    "    def forward(self, A):\n",
    "        \"\"\"\n",
    "        Forward pass through layer\n",
    "          A: input vector\n",
    "        \"\"\"\n",
    "        dropout_percent = 0.5\n",
    "\n",
    "        dropout_weights = self.weights * np.random.binomial([np.ones((self.weights.shape))],1-dropout_percent)[0] * (1.0/(1-dropout_percent))\n",
    "        #print(dropout_weights)\n",
    "        Z = np.dot(dropout_weights, A) + self.bias\n",
    "        self.prevZ = Z\n",
    "        self.prevA = A\n",
    "        A = self.activationForward(Z)\n",
    "        \n",
    "        # drop out activations\n",
    "        #print(f'previous activation: {self.prevA.shape}')\n",
    "        #print('activation '+ str(A.shape))\n",
    "        #print('weights' + str(self.weights.shape))\n",
    "        \n",
    "        \n",
    "        \n",
    "        #A *= np.random.binomial([np.ones((A.shape))],1-dropout_percent)[0] * (1.0/(1-dropout_percent))\n",
    "        #print('activation '+ str(A.shape))\n",
    "\n",
    "        return A\n",
    "    \n",
    "    def __repr__(self):\n",
    "        \"\"\"\n",
    "        Used to print a pretty summary of the layer\n",
    "        \"\"\"\n",
    "        act = 'none' if self.activation == '' else self.activation\n",
    "        return f'Dropout layer (nx={self.weights.shape[1]}, nh={self.weights.shape[0]}, activation={act})'\n",
    "    \n",
    "    \n",
    "class AttentionDropoutLayer(DenseLayer):\n",
    "\n",
    "    \n",
    "    def forward(self, A, attention):\n",
    "        \"\"\"\n",
    "        Forward pass through layer\n",
    "          A: input vector\n",
    "        \"\"\"\n",
    "        \n",
    "        attention_sparsity = np.mean(attention)\n",
    "        weight_scaling = 1\n",
    "        if attention_sparsity !=1:\n",
    "            weight_scaling = (1.0/(1-attention_sparsity))\n",
    "        \n",
    "        attention_weights = self.weights* attention * weight_scaling\n",
    "        Z = np.dot(attention_weights, A) + self.bias\n",
    "        self.prevZ = Z\n",
    "        self.prevA = A\n",
    "        A = self.activationForward(Z)\n",
    "        \n",
    "        # drop out activations\n",
    "        #print(f'previous activation: {self.prevA.shape}')\n",
    "        #print('activation '+ str(A.shape))\n",
    "        #print('weights' + str(self.weights.shape))\n",
    "        \n",
    "        #dropout_percent = 0.5\n",
    "        \n",
    "        \n",
    "        #A *= np.random.binomial([np.ones((A.shape))],1-dropout_percent)[0] * (1.0/(1-dropout_percent))\n",
    "        #A *= attention\n",
    "        #print('activation '+ str(A.shape))\n",
    "\n",
    "        return A\n",
    "    \n",
    "    def __repr__(self):\n",
    "        \"\"\"\n",
    "        Used to print a pretty summary of the layer\n",
    "        \"\"\"\n",
    "        act = 'none' if self.activation == '' else self.activation\n",
    "        return f'Attention Dropout layer (nx={self.weights.shape[1]}, nh={self.weights.shape[0]}, activation={act})'\n",
    "\n"
   ]
  },
  {
   "cell_type": "code",
   "execution_count": null,
   "metadata": {},
   "outputs": [],
   "source": [
    "from sklearn.model_selection import train_test_split\n",
    "from sklearn.utils import shuffle\n"
   ]
  },
  {
   "cell_type": "code",
   "execution_count": null,
   "metadata": {},
   "outputs": [
    {
     "name": "stdout",
     "output_type": "stream",
     "text": [
      "cost: 0.5299664854347996\n"
     ]
    },
    {
     "ename": "KeyboardInterrupt",
     "evalue": "",
     "output_type": "error",
     "traceback": [
      "\u001b[0;31m---------------------------------------------------------------------------\u001b[0m",
      "\u001b[0;31mKeyboardInterrupt\u001b[0m                         Traceback (most recent call last)",
      "\u001b[0;32m<ipython-input-188-78f06e2f21e6>\u001b[0m in \u001b[0;36m<module>\u001b[0;34m\u001b[0m\n\u001b[1;32m     11\u001b[0m \u001b[0;32mfor\u001b[0m \u001b[0mix\u001b[0m \u001b[0;32min\u001b[0m \u001b[0mrange\u001b[0m\u001b[0;34m(\u001b[0m\u001b[0mnum_iterations\u001b[0m\u001b[0;34m)\u001b[0m\u001b[0;34m:\u001b[0m\u001b[0;34m\u001b[0m\u001b[0;34m\u001b[0m\u001b[0m\n\u001b[1;32m     12\u001b[0m     \u001b[0;31m# minibatch\u001b[0m\u001b[0;34m\u001b[0m\u001b[0;34m\u001b[0m\u001b[0;34m\u001b[0m\u001b[0m\n\u001b[0;32m---> 13\u001b[0;31m     \u001b[0mX_train\u001b[0m\u001b[0;34m,\u001b[0m \u001b[0mX_test\u001b[0m\u001b[0;34m,\u001b[0m \u001b[0mY_train\u001b[0m\u001b[0;34m,\u001b[0m \u001b[0my_test\u001b[0m \u001b[0;34m=\u001b[0m \u001b[0mtrain_test_split\u001b[0m\u001b[0;34m(\u001b[0m\u001b[0mX\u001b[0m\u001b[0;34m.\u001b[0m\u001b[0mT\u001b[0m\u001b[0;34m,\u001b[0m \u001b[0mY\u001b[0m\u001b[0;34m.\u001b[0m\u001b[0mT\u001b[0m\u001b[0;34m,\u001b[0m \u001b[0mtest_size\u001b[0m\u001b[0;34m=\u001b[0m\u001b[0;36m0.7\u001b[0m\u001b[0;34m,\u001b[0m \u001b[0mrandom_state\u001b[0m\u001b[0;34m=\u001b[0m\u001b[0;36m42\u001b[0m\u001b[0;34m)\u001b[0m\u001b[0;34m\u001b[0m\u001b[0;34m\u001b[0m\u001b[0m\n\u001b[0m\u001b[1;32m     14\u001b[0m     \u001b[0mX_train\u001b[0m \u001b[0;34m=\u001b[0m \u001b[0mX_train\u001b[0m\u001b[0;34m.\u001b[0m\u001b[0mT\u001b[0m\u001b[0;34m\u001b[0m\u001b[0;34m\u001b[0m\u001b[0m\n\u001b[1;32m     15\u001b[0m     \u001b[0mY_train\u001b[0m \u001b[0;34m=\u001b[0m \u001b[0mY_train\u001b[0m\u001b[0;34m.\u001b[0m\u001b[0mT\u001b[0m\u001b[0;34m\u001b[0m\u001b[0;34m\u001b[0m\u001b[0m\n",
      "\u001b[0;32m~/anaconda3/envs/pytorch_GPU/lib/python3.7/site-packages/sklearn/model_selection/_split.py\u001b[0m in \u001b[0;36mtrain_test_split\u001b[0;34m(*arrays, **options)\u001b[0m\n\u001b[1;32m   2144\u001b[0m \u001b[0;34m\u001b[0m\u001b[0m\n\u001b[1;32m   2145\u001b[0m     return list(chain.from_iterable((_safe_indexing(a, train),\n\u001b[0;32m-> 2146\u001b[0;31m                                      _safe_indexing(a, test)) for a in arrays))\n\u001b[0m\u001b[1;32m   2147\u001b[0m \u001b[0;34m\u001b[0m\u001b[0m\n\u001b[1;32m   2148\u001b[0m \u001b[0;34m\u001b[0m\u001b[0m\n",
      "\u001b[0;32m~/anaconda3/envs/pytorch_GPU/lib/python3.7/site-packages/sklearn/model_selection/_split.py\u001b[0m in \u001b[0;36m<genexpr>\u001b[0;34m(.0)\u001b[0m\n\u001b[1;32m   2144\u001b[0m \u001b[0;34m\u001b[0m\u001b[0m\n\u001b[1;32m   2145\u001b[0m     return list(chain.from_iterable((_safe_indexing(a, train),\n\u001b[0;32m-> 2146\u001b[0;31m                                      _safe_indexing(a, test)) for a in arrays))\n\u001b[0m\u001b[1;32m   2147\u001b[0m \u001b[0;34m\u001b[0m\u001b[0m\n\u001b[1;32m   2148\u001b[0m \u001b[0;34m\u001b[0m\u001b[0m\n",
      "\u001b[0;32m~/anaconda3/envs/pytorch_GPU/lib/python3.7/site-packages/sklearn/utils/__init__.py\u001b[0m in \u001b[0;36m_safe_indexing\u001b[0;34m(X, indices, axis)\u001b[0m\n\u001b[1;32m    388\u001b[0m         )\n\u001b[1;32m    389\u001b[0m \u001b[0;34m\u001b[0m\u001b[0m\n\u001b[0;32m--> 390\u001b[0;31m     \u001b[0mindices_dtype\u001b[0m \u001b[0;34m=\u001b[0m \u001b[0m_determine_key_type\u001b[0m\u001b[0;34m(\u001b[0m\u001b[0mindices\u001b[0m\u001b[0;34m)\u001b[0m\u001b[0;34m\u001b[0m\u001b[0;34m\u001b[0m\u001b[0m\n\u001b[0m\u001b[1;32m    391\u001b[0m \u001b[0;34m\u001b[0m\u001b[0m\n\u001b[1;32m    392\u001b[0m     \u001b[0;32mif\u001b[0m \u001b[0maxis\u001b[0m \u001b[0;34m==\u001b[0m \u001b[0;36m0\u001b[0m \u001b[0;32mand\u001b[0m \u001b[0mindices_dtype\u001b[0m \u001b[0;34m==\u001b[0m \u001b[0;34m'str'\u001b[0m\u001b[0;34m:\u001b[0m\u001b[0;34m\u001b[0m\u001b[0;34m\u001b[0m\u001b[0m\n",
      "\u001b[0;32m~/anaconda3/envs/pytorch_GPU/lib/python3.7/site-packages/sklearn/utils/__init__.py\u001b[0m in \u001b[0;36m_determine_key_type\u001b[0;34m(key, accept_slice)\u001b[0m\n\u001b[1;32m    252\u001b[0m     \u001b[0;32mif\u001b[0m \u001b[0mkey\u001b[0m \u001b[0;32mis\u001b[0m \u001b[0;32mNone\u001b[0m\u001b[0;34m:\u001b[0m\u001b[0;34m\u001b[0m\u001b[0;34m\u001b[0m\u001b[0m\n\u001b[1;32m    253\u001b[0m         \u001b[0;32mreturn\u001b[0m \u001b[0;32mNone\u001b[0m\u001b[0;34m\u001b[0m\u001b[0;34m\u001b[0m\u001b[0m\n\u001b[0;32m--> 254\u001b[0;31m     \u001b[0;32mif\u001b[0m \u001b[0misinstance\u001b[0m\u001b[0;34m(\u001b[0m\u001b[0mkey\u001b[0m\u001b[0;34m,\u001b[0m \u001b[0mtuple\u001b[0m\u001b[0;34m(\u001b[0m\u001b[0mdtype_to_str\u001b[0m\u001b[0;34m.\u001b[0m\u001b[0mkeys\u001b[0m\u001b[0;34m(\u001b[0m\u001b[0;34m)\u001b[0m\u001b[0;34m)\u001b[0m\u001b[0;34m)\u001b[0m\u001b[0;34m:\u001b[0m\u001b[0;34m\u001b[0m\u001b[0;34m\u001b[0m\u001b[0m\n\u001b[0m\u001b[1;32m    255\u001b[0m         \u001b[0;32mtry\u001b[0m\u001b[0;34m:\u001b[0m\u001b[0;34m\u001b[0m\u001b[0;34m\u001b[0m\u001b[0m\n\u001b[1;32m    256\u001b[0m             \u001b[0;32mreturn\u001b[0m \u001b[0mdtype_to_str\u001b[0m\u001b[0;34m[\u001b[0m\u001b[0mtype\u001b[0m\u001b[0;34m(\u001b[0m\u001b[0mkey\u001b[0m\u001b[0;34m)\u001b[0m\u001b[0;34m]\u001b[0m\u001b[0;34m\u001b[0m\u001b[0;34m\u001b[0m\u001b[0m\n",
      "\u001b[0;31mKeyboardInterrupt\u001b[0m: "
     ]
    }
   ],
   "source": [
    "model = NeuralNetwork(loss='mean-square-error')\n",
    "model.addLayer(inputDimension=1, units=10, activation='tanh')\n",
    "\n",
    "model.addLayer( units=10, activation='tanh',layer_type = DropoutLayer)\n",
    "\n",
    "model.addLayer( units=1, activation='',)\n",
    "model\n",
    "\n",
    "num_iterations = 10\n",
    "num_iterations = 100000\n",
    "for ix in range(num_iterations):\n",
    "    # minibatch\n",
    "    X_train, X_test, Y_train, y_test = train_test_split(X.T, Y.T, test_size=0.7, random_state=42)\n",
    "    X_train = X_train.T\n",
    "    Y_train = Y_train.T\n",
    "    #X_train, Y_train = shuffle(X,Y)\n",
    "\n",
    "    A = model.forward(X_train)\n",
    "    model.backward(A, Y_train)\n",
    "    model.update()\n",
    "    if ix % (num_iterations/10) == 0:\n",
    "        print('cost:', model.cost(Y_train, A))"
   ]
  },
  {
   "cell_type": "code",
   "execution_count": null,
   "metadata": {},
   "outputs": [],
   "source": [
    "Y_train.shape"
   ]
  },
  {
   "cell_type": "code",
   "execution_count": null,
   "metadata": {},
   "outputs": [
    {
     "data": {
      "text/plain": [
       "(1, 30)"
      ]
     },
     "execution_count": null,
     "metadata": {},
     "output_type": "execute_result"
    }
   ],
   "source": [
    "X_train.shape"
   ]
  },
  {
   "cell_type": "code",
   "execution_count": null,
   "metadata": {},
   "outputs": [
    {
     "name": "stdout",
     "output_type": "stream",
     "text": [
      "ensemble prediction cost: 0.06386990539137266\n"
     ]
    },
    {
     "data": {
      "text/plain": [
       "<matplotlib.legend.Legend at 0x7f6a04c83b50>"
      ]
     },
     "execution_count": null,
     "metadata": {},
     "output_type": "execute_result"
    },
    {
     "data": {
      "image/png": "[encoded data removed]",
      "text/plain": [
       "<Figure size 432x288 with 1 Axes>"
      ]
     },
     "metadata": {
      "needs_background": "light"
     },
     "output_type": "display_data"
    }
   ],
   "source": [
    "num_predictive_samples = 10\n",
    "\n",
    "predictive_sample_list = []\n",
    "\n",
    "for i in range(num_predictive_samples):\n",
    "    predictive_sample_list += [model.forward(X).squeeze()]\n",
    "\n",
    "\n",
    "pred_mean = np.mean(predictive_sample_list,0)\n",
    "pred_std = np.std(predictive_sample_list,0)\n",
    "\n",
    "mean_prediction_cost = model.cost(Y,pred_mean)\n",
    "\n",
    "print(f'ensemble prediction cost: {mean_prediction_cost}')\n",
    "\n",
    "\n",
    "plt.plot(X.squeeze(),pred_mean,label='prediction of linear model')\n",
    "plt.fill_between(X.squeeze(), pred_mean, pred_mean - pred_std, alpha = 0.3,color='blue')\n",
    "plt.fill_between(X.squeeze(), pred_mean, pred_mean + pred_std, alpha = 0.3,color='blue')\n",
    "\n",
    "for sample in predictive_sample_list:\n",
    "    plt.plot(X.squeeze(), sample,alpha=0.3)\n",
    "\n",
    "plt.plot(X.squeeze(),y.squeeze(),label='truth')\n",
    "plt.legend()"
   ]
  },
  {
   "cell_type": "code",
   "execution_count": null,
   "metadata": {},
   "outputs": [],
   "source": []
  },
  {
   "cell_type": "code",
   "execution_count": null,
   "metadata": {},
   "outputs": [],
   "source": []
  },
  {
   "cell_type": "code",
   "execution_count": null,
   "metadata": {},
   "outputs": [
    {
     "data": {
      "text/plain": [
       "<matplotlib.legend.Legend at 0x7f6a04bc4d90>"
      ]
     },
     "execution_count": null,
     "metadata": {},
     "output_type": "execute_result"
    },
    {
     "data": {
      "image/png": "[encoded data removed]",
      "text/plain": [
       "<Figure size 432x288 with 1 Axes>"
      ]
     },
     "metadata": {
      "needs_background": "light"
     },
     "output_type": "display_data"
    }
   ],
   "source": [
    "num_predictive_samples = 10\n",
    "\n",
    "predictive_sample_list = []\n",
    "\n",
    "for i in range(num_predictive_samples):\n",
    "    predictive_sample_list += [model.forward(X).squeeze()]\n",
    "\n",
    "\n",
    "\n",
    "pred_mean = np.mean(predictive_sample_list,0)\n",
    "pred_std = np.std(predictive_sample_list,0)\n",
    "\n",
    "plt.plot(X.squeeze(),pred_mean,label='prediction of linear model')\n",
    "plt.fill_between(X.squeeze(), pred_mean, pred_mean - pred_std, alpha = 0.3,color='blue')\n",
    "plt.fill_between(X.squeeze(), pred_mean, pred_mean + pred_std, alpha = 0.3,color='blue')\n",
    "\n",
    "plt.plot(X.squeeze(),y.squeeze(),label='truth')\n",
    "plt.legend()"
   ]
  },
  {
   "cell_type": "code",
   "execution_count": null,
   "metadata": {},
   "outputs": [
    {
     "name": "stdout",
     "output_type": "stream",
     "text": [
      "Converted 00_abstractions.ipynb.\n",
      "Converted 01_multi_armed_bandits.ipynb.\n",
      "Converted 02_models.ipynb.\n",
      "Converted 03_ensembles.ipynb.\n",
      "Converted 04_solvers.ipynb.\n",
      "Converted 05_bayesian_regression.ipynb.\n",
      "Converted 06_network_with_thompson_attention.ipynb.\n",
      "Converted 99_helpers.ipynb.\n",
      "Converted contextual_bandits.ipynb.\n",
      "Converted index.ipynb.\n",
      "Converted linear_problem_setup.ipynb.\n",
      "Converted noncontextual_bandits.ipynb.\n",
      "Converted nonlinear_bandits.ipynb.\n"
     ]
    }
   ],
   "source": [
    "\n",
    "from nbdev.export import *\n",
    "notebook2script()"
   ]
  },
  {
   "cell_type": "code",
   "execution_count": null,
   "metadata": {},
   "outputs": [],
   "source": [
    "seed = 0"
   ]
  },
  {
   "cell_type": "code",
   "execution_count": null,
   "metadata": {},
   "outputs": [
    {
     "data": {
      "text/plain": [
       "4"
      ]
     },
     "execution_count": null,
     "metadata": {},
     "output_type": "execute_result"
    }
   ],
   "source": [
    "seed += 1\n",
    "\n",
    "np.random.seed(seed)\n",
    "seed"
   ]
  },
  {
   "cell_type": "code",
   "execution_count": null,
   "metadata": {},
   "outputs": [
    {
     "data": {
      "text/plain": [
       "[\n",
       "  1 -> Dense layer (nx=1, nh=10, activation=tanh)\n",
       "  2 -> Dense layer (nx=10, nh=9, activation=tanh)\n",
       "  3 -> Attention Dropout layer (nx=9, nh=1, activation=tanh)\n",
       "  4 -> Dense layer (nx=1, nh=9, activation=tanh)\n",
       "  5 -> Attention Dropout layer (nx=9, nh=1, activation=none)\n",
       "]"
      ]
     },
     "execution_count": null,
     "metadata": {},
     "output_type": "execute_result"
    }
   ],
   "source": [
    "model = NeuralNetwork(loss='mean-square-error',randomMultiplier=1)\n",
    "\n",
    "model.addLayer(inputDimension=1, units=10, activation='tanh')#,layer_type = DropoutLayer)\n",
    "\n",
    "model.addLayer( units=9, activation='tanh')\n",
    "\n",
    "\n",
    "\n",
    "\n",
    "model.addLayer( units=1, activation='tanh',layer_type = AttentionDropoutLayer)\n",
    "\n",
    "model.addLayer( units=9, activation='tanh')\n",
    "\n",
    "\n",
    "\n",
    "\n",
    "model.addLayer( units=1, activation='',layer_type = AttentionDropoutLayer)\n",
    "model\n",
    "\n",
    "\n",
    "\n"
   ]
  },
  {
   "cell_type": "code",
   "execution_count": null,
   "metadata": {},
   "outputs": [
    {
     "data": {
      "text/plain": [
       "(9, 10)"
      ]
     },
     "execution_count": null,
     "metadata": {},
     "output_type": "execute_result"
    }
   ],
   "source": [
    "model.layers[1].weights.shape"
   ]
  },
  {
   "cell_type": "code",
   "execution_count": null,
   "metadata": {},
   "outputs": [
    {
     "data": {
      "text/plain": [
       "array([[0, 0, 0, 1, 0, 0, 1, 1, 1]])"
      ]
     },
     "execution_count": null,
     "metadata": {},
     "output_type": "execute_result"
    }
   ],
   "source": [
    "X = np.atleast_2d(np.linspace(-1,1,100))\n",
    "attention = np.ones(model.layers[2].weights.shape)\n",
    "\n",
    "dropout_percent = 0.5\n",
    "\n",
    "attention = np.random.binomial([np.ones((model.layers[2].weights.shape))],1-dropout_percent)[0]#.shape\n",
    "attention"
   ]
  },
  {
   "cell_type": "code",
   "execution_count": null,
   "metadata": {},
   "outputs": [],
   "source": []
  },
  {
   "cell_type": "code",
   "execution_count": null,
   "metadata": {},
   "outputs": [],
   "source": [
    "#attention = np.array([[0, 0, 0, 0, 1, 0, 0, 0, 0, 0]])"
   ]
  },
  {
   "cell_type": "code",
   "execution_count": null,
   "metadata": {},
   "outputs": [],
   "source": [
    "yhat = []\n",
    "\n",
    "for x in X.T:\n",
    "    yhat += [model.forward(np.atleast_2d(x), attention)]\n",
    "\n",
    "yhat = np.array(yhat)"
   ]
  },
  {
   "cell_type": "code",
   "execution_count": null,
   "metadata": {},
   "outputs": [
    {
     "data": {
      "text/plain": [
       "0.4444444444444444"
      ]
     },
     "execution_count": null,
     "metadata": {},
     "output_type": "execute_result"
    }
   ],
   "source": [
    "np.mean(attention)"
   ]
  },
  {
   "cell_type": "code",
   "execution_count": null,
   "metadata": {},
   "outputs": [
    {
     "data": {
      "text/plain": [
       "array([[0, 0, 0, 1, 0, 0, 1, 1, 1]])"
      ]
     },
     "execution_count": null,
     "metadata": {},
     "output_type": "execute_result"
    }
   ],
   "source": [
    "attention"
   ]
  },
  {
   "cell_type": "code",
   "execution_count": null,
   "metadata": {},
   "outputs": [
    {
     "data": {
      "text/plain": [
       "((1,), (100, 1, 1))"
      ]
     },
     "execution_count": null,
     "metadata": {},
     "output_type": "execute_result"
    }
   ],
   "source": [
    "x.shape, yhat.shape"
   ]
  },
  {
   "cell_type": "code",
   "execution_count": null,
   "metadata": {},
   "outputs": [
    {
     "data": {
      "text/plain": [
       "[<matplotlib.lines.Line2D at 0x7f69fe576410>]"
      ]
     },
     "execution_count": null,
     "metadata": {},
     "output_type": "execute_result"
    },
    {
     "data": {
      "image/png": "[encoded data removed]",
      "text/plain": [
       "<Figure size 432x288 with 1 Axes>"
      ]
     },
     "metadata": {
      "needs_background": "light"
     },
     "output_type": "display_data"
    }
   ],
   "source": [
    "plt.plot(X.squeeze(), yhat.squeeze(),'x')"
   ]
  },
  {
   "cell_type": "code",
   "execution_count": null,
   "metadata": {},
   "outputs": [],
   "source": [
    "attention = np.ones(model.layers[2].weights.shape)\n"
   ]
  },
  {
   "cell_type": "code",
   "execution_count": null,
   "metadata": {},
   "outputs": [],
   "source": [
    "yhat_full = []\n",
    "\n",
    "for x in X.T:\n",
    "    yhat_full += [model.forward(np.atleast_2d(x), attention)]\n",
    "\n",
    "yhat_full = np.array(yhat_full)"
   ]
  },
  {
   "cell_type": "code",
   "execution_count": null,
   "metadata": {},
   "outputs": [
    {
     "data": {
      "text/plain": [
       "[<matplotlib.lines.Line2D at 0x7f69fe535a90>]"
      ]
     },
     "execution_count": null,
     "metadata": {},
     "output_type": "execute_result"
    },
    {
     "data": {
      "image/png": "[encoded data removed]",
      "text/plain": [
       "<Figure size 432x288 with 1 Axes>"
      ]
     },
     "metadata": {
      "needs_background": "light"
     },
     "output_type": "display_data"
    }
   ],
   "source": [
    "plt.plot(X.squeeze(), yhat.squeeze(),'x')\n",
    "plt.plot(X.squeeze(), yhat_full.squeeze(),'x')"
   ]
  },
  {
   "cell_type": "code",
   "execution_count": null,
   "metadata": {},
   "outputs": [],
   "source": []
  },
  {
   "cell_type": "code",
   "execution_count": null,
   "metadata": {},
   "outputs": [],
   "source": []
  }
 ],
 "metadata": {
  "kernelspec": {
   "display_name": "Python 3",
   "language": "python",
   "name": "python3"
  }
 },
 "nbformat": 4,
 "nbformat_minor": 4
}
