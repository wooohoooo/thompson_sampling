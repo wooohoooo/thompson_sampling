{
 "cells": [
  {
   "cell_type": "code",
   "execution_count": null,
   "metadata": {},
   "outputs": [],
   "source": [
    "# default_exp models\n"
   ]
  },
  {
   "cell_type": "markdown",
   "metadata": {},
   "source": [
    "# models\n",
    "> models to be used in contextual map solvers"
   ]
  },
  {
   "cell_type": "code",
   "execution_count": null,
   "metadata": {},
   "outputs": [
    {
     "name": "stderr",
     "output_type": "stream",
     "text": [
      "\n",
      "Bad key \"text.kerning_factor\" on line 4 in\n",
      "/home/thomas/anaconda3/envs/pytorch_GPU/lib/python3.7/site-packages/matplotlib/mpl-data/stylelib/_classic_test_patch.mplstyle.\n",
      "You probably need to get an updated matplotlibrc file from\n",
      "https://github.com/matplotlib/matplotlib/blob/v3.1.3/matplotlibrc.template\n",
      "or from the matplotlib source distribution\n"
     ]
    }
   ],
   "source": [
    "#export\n",
    "from thompson_sampling.multi_armed_bandits import contextual_categorical_bandit, contextual_categorical_get_optimal_arm, contextual_numerical_bandit\n",
    "import matplotlib.pyplot as plt\n",
    "import numpy as np\n",
    "\n"
   ]
  },
  {
   "cell_type": "code",
   "execution_count": null,
   "metadata": {},
   "outputs": [],
   "source": [
    "%matplotlib inline\n",
    "%load_ext autoreload\n",
    "%autoreload 2"
   ]
  },
  {
   "cell_type": "code",
   "execution_count": null,
   "metadata": {},
   "outputs": [],
   "source": [
    "theta = [0.6, 0.9]\n",
    "noise = 0.1\n",
    "\n",
    "np.random.seed(42)"
   ]
  },
  {
   "cell_type": "markdown",
   "metadata": {},
   "source": [
    "## Categorical\n",
    "> for logistic regression"
   ]
  },
  {
   "cell_type": "markdown",
   "metadata": {},
   "source": [
    "### Linear"
   ]
  },
  {
   "cell_type": "code",
   "execution_count": null,
   "metadata": {},
   "outputs": [],
   "source": []
  },
  {
   "cell_type": "code",
   "execution_count": null,
   "metadata": {},
   "outputs": [],
   "source": [
    "#export\n",
    "from scipy.optimize import minimize\n",
    "import scipy.stats as stats\n",
    "import numpy as np\n",
    "\n",
    "\n",
    "\n",
    "class OnlineLogisticRegression:\n",
    "    \"\"\"taken from https://gdmarmerola.github.io/ts-for-contextual-bandits/ \"\"\"\n",
    "    \n",
    "    # initializing\n",
    "    def __init__(self,n_dim, lambda_ = None, alpha = None):\n",
    "        \n",
    "        # the only hyperparameter is the deviation on the prior (L2 regularizer)\n",
    "        self.lambda_ = lambda_ or 1\n",
    "        self.alpha = alpha or 1\n",
    "                \n",
    "        # initializing parameters of the model\n",
    "        self.n_dim = n_dim, \n",
    "        self.m = np.zeros(self.n_dim)\n",
    "        self.q = np.ones(self.n_dim) * self.lambda_\n",
    "        \n",
    "        # initializing weights\n",
    "        self.w = np.random.normal(self.m, self.alpha * (self.q)**(-1.0), size = self.n_dim)\n",
    "        \n",
    "    # the loss function\n",
    "    def loss(self, w, *args):\n",
    "        X, y = args\n",
    "        return 0.5 * (self.q * (w - self.m)).dot(w - self.m) + np.sum([np.log(1 + np.exp(-y[j] * w.dot(X[j]))) for j in range(y.shape[0])])\n",
    "        \n",
    "    # the gradient\n",
    "    def grad(self, w, *args):\n",
    "        X, y = args\n",
    "        return self.q * (w - self.m) + (-1) * np.array([y[j] *  X[j] / (1. + np.exp(y[j] * w.dot(X[j]))) for j in range(y.shape[0])]).sum(axis=0)\n",
    "    \n",
    "    # method for sampling weights\n",
    "    def get_weights(self):\n",
    "      return stats.multivariate_normal(self.m, self.alpha * (self.q)**(-1.0)).rvs()\n",
    "        #return np.random.normal(self.m, self.alpha * (self.q)**(-1.0), size = self.n_dim)\n",
    "    \n",
    "    # fitting method\n",
    "    def fit(self, X, y):\n",
    "        \n",
    "#         print(X)\n",
    "        \n",
    "#         print(f'X {X.shape}')\n",
    "#         print(f'y {y.shape}')\n",
    "#         print(f'self w {self.w.shape}')\n",
    "#         print(f'self m {self.m.shape}')\n",
    "                \n",
    "        # step 1, find w\n",
    "        self.w = minimize(self.loss, self.w, args=(X, y), jac=self.grad, method=\"L-BFGS-B\", options={'maxiter': 20, 'disp':True}).x\n",
    "        self.m = self.w\n",
    "        \n",
    "        # step 2, update q\n",
    "        P = (1 + np.exp(1 - X.dot(self.m))) ** (-1)\n",
    "        self.q = self.q + (P*(1-P)).dot(X ** 2)\n",
    "\n",
    "\n",
    "    def observe(self,X,y):\n",
    "        self.fit(X,y)\n",
    "                \n",
    "    # probability output method, using weights sample\n",
    "    def predict_proba(self, X, mode='sample'):\n",
    "        \n",
    "        # adding intercept to X\n",
    "        #X = add_constant(X)\n",
    "        \n",
    "        # sampling weights after update\n",
    "        self.w = self.get_weights()\n",
    "        \n",
    "        # using weight depending on mode\n",
    "        if mode == 'sample':\n",
    "            w = self.w # weights are samples of posteriors\n",
    "        elif mode == 'expected':\n",
    "            w = self.m # weights are expected values of posteriors\n",
    "        else:\n",
    "            raise Exception('mode not recognized!')\n",
    "            \n",
    "            \n",
    "        X = np.atleast_1d(X)\n",
    "        w = np.atleast_1d(w)\n",
    "        #print(f'X shape {X.shape}')\n",
    "        #print(f'w shape {w.shape}')\n",
    "\n",
    "        # calculating probabilities\n",
    "        proba = 1 / (1 + np.exp(-1 * X.dot(w)))\n",
    "        return np.array([1-proba , proba]).T"
   ]
  },
  {
   "cell_type": "code",
   "execution_count": null,
   "metadata": {},
   "outputs": [
    {
     "name": "stderr",
     "output_type": "stream",
     "text": [
      "No handles with labels found to put in legend.\n"
     ]
    },
    {
     "data": {
      "text/plain": [
       "<Figure size 1350x525 with 0 Axes>"
      ]
     },
     "metadata": {},
     "output_type": "display_data"
    },
    {
     "data": {
      "image/png": "[encoded data removed]",
      "text/plain": [
       "<Figure size 1350x525 with 2 Axes>"
      ]
     },
     "metadata": {
      "needs_background": "light"
     },
     "output_type": "display_data"
    }
   ],
   "source": [
    "\n",
    "\n",
    "wee_x = np.random.uniform(-6,6,10)\n",
    "wee_y = np.array([contextual_categorical_bandit(x,0, theta, noise)[0] for x in wee_x])\n",
    "\n",
    "\n",
    "\n",
    "\n",
    "# OLR object\n",
    "online_lr = OnlineLogisticRegression(1, .5, 1)\n",
    "for i in range(len(wee_y)):\n",
    "    online_lr.fit(wee_x[i].reshape(-1,1), wee_y[i].reshape(-1,1))\n",
    "    \n",
    "    \n",
    "    \n",
    "    \n",
    "    \n",
    "# closing other figures\n",
    "plt.close('all')\n",
    "plt.figure(figsize=[9,3.5], dpi=150)\n",
    "\n",
    "# let us check the distribution of weights and uncertainty bounds\n",
    "plt.figure(figsize=[9,3.5], dpi=150)\n",
    "\n",
    "# plotting the pdf of the weight distribution\n",
    "X_pdf = np.linspace(-4, 4, 1000)\n",
    "pdf = stats.norm(loc=online_lr.m, scale=online_lr.q**(-1.0)).pdf(X_pdf)\n",
    "\n",
    "# range and resolution of probability plot\n",
    "X_prob = np.linspace(-6, 6, 1000)\n",
    "p_dist = 1/(1 + np.exp(-X_prob * online_lr.m))\n",
    "p_dist_plus = 1/(1 + np.exp(-X_prob * (online_lr.m + 2*online_lr.q**(-1.0))))\n",
    "p_dist_minus = 1/(1 + np.exp(-X_prob * (online_lr.m - 2*online_lr.q**(-1.0))))\n",
    "\n",
    "# opening subplots\n",
    "ax1 = plt.subplot2grid((1, 5), (0, 0), colspan=2, rowspan=1)\n",
    "ax2 = plt.subplot2grid((1, 5), (0, 2), colspan=3, rowspan=1)\n",
    "\n",
    "# plotting distriution of weights\n",
    "ax1.plot(X_pdf, pdf, color='b', linewidth=2, alpha=0.5)\n",
    "#ax1.plot([cmab.weights[0][1], cmab.weights[0][1]], [0, max(pdf)], 'k--', label='True $\\\\beta$', linewidth=1)\n",
    "ax1.fill_between(X_pdf, pdf, 0, color='b', alpha=0.2)\n",
    "\n",
    "# plotting probabilities\n",
    "ax2.plot(X_prob, p_dist, color='b', linewidth=2, alpha=0.5)\n",
    "ax2.fill_between(X_prob, p_dist_plus, p_dist_minus, color='b', alpha=0.2)\n",
    "ax2.scatter(wee_x, wee_y, c='k')\n",
    "\n",
    "# title and comments\n",
    "ax1.set_title('OLR estimate for $\\\\beta$', fontsize=10)\n",
    "ax1.set_xlabel('$\\\\beta$', fontsize=10); ax1.set_ylabel('$density$', fontsize=10)\n",
    "ax2.set_title('OLR estimate for $\\\\theta(x)$', fontsize=10)\n",
    "ax2.set_xlabel('$x$', fontsize=10); ax2.set_ylabel('$\\\\theta(x)$', fontsize=10)\n",
    "\n",
    "ax1.legend(fontsize=10)\n",
    "plt.tight_layout()\n",
    "plt.show()"
   ]
  },
  {
   "cell_type": "code",
   "execution_count": null,
   "metadata": {},
   "outputs": [
    {
     "data": {
      "text/plain": [
       "0.7497864801605931"
      ]
     },
     "execution_count": null,
     "metadata": {},
     "output_type": "execute_result"
    }
   ],
   "source": [
    "online_lr.predict_proba(np.array(wee_x[0]))[0]"
   ]
  },
  {
   "cell_type": "code",
   "execution_count": null,
   "metadata": {},
   "outputs": [
    {
     "data": {
      "text/plain": [
       "[array([-2.49426422, -1.60365788]),\n",
       " array([-0.52716019,  3.42211154]),\n",
       " array([-3.60391461,  0.17081326]),\n",
       " array([ 1.10897483, -5.44259505]),\n",
       " array([ 1.29053822, -3.95371052]),\n",
       " array([-5.21938088,  5.38662645]),\n",
       " array([5.5875844 , 3.70076818]),\n",
       " array([-2.34463477, -4.82793463]),\n",
       " array([ 2.21079632, -0.71817008]),\n",
       " array([-4.53554118, -0.05787708])]"
      ]
     },
     "execution_count": null,
     "metadata": {},
     "output_type": "execute_result"
    }
   ],
   "source": [
    "wee_x2 = np.random.uniform(-6,6,[10,2])\n",
    "[x for x in wee_x2]"
   ]
  },
  {
   "cell_type": "code",
   "execution_count": null,
   "metadata": {},
   "outputs": [
    {
     "data": {
      "text/plain": [
       "array([0.03904842, 0.96095158])"
      ]
     },
     "execution_count": null,
     "metadata": {},
     "output_type": "execute_result"
    }
   ],
   "source": [
    "wee_x2 = np.random.uniform(-6,6,[10,2])\n",
    "wee_y2 = np.array([contextual_categorical_bandit(x,0, theta, noise)[0] for x in wee_x])\n",
    "\n",
    "\n",
    "\n",
    "\n",
    "# OLR object\n",
    "online_lr2 = OnlineLogisticRegression(2, .5, 1)\n",
    "for i in range(len(wee_y2)):\n",
    "    online_lr2.fit(wee_x2[i].reshape(1,-1), wee_y2[i].reshape(1,-1))\n",
    "    \n",
    "online_lr2.predict_proba(wee_x2[0].reshape(1,-1))[0]"
   ]
  },
  {
   "cell_type": "code",
   "execution_count": null,
   "metadata": {},
   "outputs": [
    {
     "data": {
      "text/plain": [
       "(1, 2)"
      ]
     },
     "execution_count": null,
     "metadata": {},
     "output_type": "execute_result"
    }
   ],
   "source": [
    "wee_x2[i].reshape(1,-1).shape"
   ]
  },
  {
   "cell_type": "markdown",
   "metadata": {},
   "source": [
    "## numerical\n",
    "> for regression\n"
   ]
  },
  {
   "cell_type": "markdown",
   "metadata": {},
   "source": [
    "### Linear\n",
    "\n",
    "from https://www.quantstart.com/articles/Bayesian-Linear-Regression-Models-with-PyMC3/"
   ]
  },
  {
   "cell_type": "code",
   "execution_count": null,
   "metadata": {},
   "outputs": [],
   "source": [
    "#export \n",
    "\n",
    "\n",
    "class BayesLinReg:\n",
    "\n",
    "    def __init__(self, n_features, alpha, beta):\n",
    "        self.n_features = n_features\n",
    "        self.alpha = alpha\n",
    "        self.beta = beta\n",
    "        self.mean = np.zeros(n_features)\n",
    "        self.cov_inv = np.identity(n_features) / self.alpha\n",
    "\n",
    "    def observe(self, x, y):\n",
    "\n",
    "        # Update the inverse covariance matrix (Bishop eq. 3.51)\n",
    "        cov_inv = self.cov_inv + self.beta * np.outer(x, x)\n",
    "\n",
    "        # Update the mean vector (Bishop eq. 3.50)\n",
    "        cov = np.linalg.inv(cov_inv)\n",
    "        mean = cov @ (self.cov_inv @ self.mean + self.beta * y * x)\n",
    "\n",
    "        self.cov_inv = cov_inv\n",
    "        self.mean = mean\n",
    "\n",
    "        return self\n",
    "    \n",
    "    def learn(self,X,y):\n",
    "        \"until refactoring...\"\n",
    "        self.observe(X,y)\n",
    "\n",
    "    def predict(self, x):\n",
    "\n",
    "        # Obtain the predictive mean (Bishop eq. 3.58)\n",
    "        y_pred_mean = x @ self.mean\n",
    "\n",
    "        # Obtain the predictive variance (Bishop eq. 3.59)\n",
    "        w_cov = np.linalg.inv(self.cov_inv)\n",
    "        y_pred_var = 1 / self.beta + x @ w_cov @ x.T\n",
    "\n",
    "        return stats.norm(loc=y_pred_mean, scale=y_pred_var ** .5)\n",
    "\n",
    "    @property\n",
    "    def weights_dist(self):\n",
    "        cov = np.linalg.inv(self.cov_inv)\n",
    "        return stats.multivariate_normal(mean=self.mean, cov=cov)\n",
    "\n",
    "\n",
    "class BatchBayesLinReg(BayesLinReg):\n",
    "\n",
    "    def observe(self, x, y):\n",
    "\n",
    "        # If x and y are singletons, then we coerce them to a batch of length 1\n",
    "        x = np.atleast_2d(x)\n",
    "        y = np.atleast_1d(y)\n",
    "\n",
    "        # Update the inverse covariance matrix (Bishop eq. 3.51)\n",
    "        cov_inv = self.cov_inv + self.beta * x.T @ x\n",
    "\n",
    "        # Update the mean vector (Bishop eq. 3.50)\n",
    "        cov = np.linalg.inv(cov_inv)\n",
    "        mean = cov @ (self.cov_inv @ self.mean + self.beta * y @ x)\n",
    "\n",
    "        self.cov_inv = cov_inv\n",
    "        self.mean = mean\n",
    "\n",
    "        return (self.predict(x).mean() - y)**2\n",
    "    \n",
    "    def learn(self,X,y):\n",
    "        \"until refactoring...\"\n",
    "\n",
    "        self.observe(X,y)\n",
    "\n",
    "    def predict(self, x):\n",
    "\n",
    "        x = np.atleast_2d(x)\n",
    "\n",
    "        # Obtain the predictive mean (Bishop eq. 3.58)\n",
    "        y_pred_mean = x @ self.mean\n",
    "\n",
    "        # Obtain the predictive variance (Bishop eq. 3.59)\n",
    "        w_cov = np.linalg.inv(self.cov_inv)\n",
    "        y_pred_var = 1 / self.beta + (x @ w_cov * x).sum(axis=1)\n",
    "\n",
    "        # Drop a dimension from the mean and variance in case x and y were singletons\n",
    "        # There might be a more elegant way to proceed but this works!\n",
    "        y_pred_mean = np.squeeze(y_pred_mean)\n",
    "        y_pred_var = np.squeeze(y_pred_var)\n",
    "\n",
    "        return stats.norm(loc=y_pred_mean, scale=y_pred_var ** .5)"
   ]
  },
  {
   "cell_type": "code",
   "execution_count": null,
   "metadata": {},
   "outputs": [
    {
     "data": {
      "text/plain": [
       "<matplotlib.collections.PathCollection at 0x7fabbb98bd10>"
      ]
     },
     "execution_count": null,
     "metadata": {},
     "output_type": "execute_result"
    },
    {
     "data": {
      "image/png": "[encoded data removed]",
      "text/plain": [
       "<Figure size 432x288 with 1 Axes>"
      ]
     },
     "metadata": {
      "needs_background": "light"
     },
     "output_type": "display_data"
    }
   ],
   "source": [
    "X = np.linspace(-1,1, 10)\n",
    "X = np.atleast_2d(X).T\n",
    "y0 = [contextual_numerical_bandit(x,0,theta,0.1) for x in X]\n",
    "y1 = [contextual_numerical_bandit(x,1,theta,0.1) for x in X]\n",
    "\n",
    "plt.scatter(X.squeeze(),y1)\n",
    "plt.scatter(X.squeeze(),y0)"
   ]
  },
  {
   "cell_type": "code",
   "execution_count": null,
   "metadata": {},
   "outputs": [
    {
     "data": {
      "text/plain": [
       "array([[ True]])"
      ]
     },
     "execution_count": null,
     "metadata": {},
     "output_type": "execute_result"
    }
   ],
   "source": [
    "np.atleast_2d(X[0]).T == np.atleast_2d(X[0])"
   ]
  },
  {
   "cell_type": "code",
   "execution_count": null,
   "metadata": {},
   "outputs": [
    {
     "data": {
      "text/plain": [
       "(10, 1)"
      ]
     },
     "execution_count": null,
     "metadata": {},
     "output_type": "execute_result"
    }
   ],
   "source": [
    "X.shape"
   ]
  },
  {
   "cell_type": "code",
   "execution_count": null,
   "metadata": {},
   "outputs": [
    {
     "data": {
      "text/plain": [
       "(1, 1)"
      ]
     },
     "execution_count": null,
     "metadata": {},
     "output_type": "execute_result"
    }
   ],
   "source": [
    "np.atleast_2d(X[0].T).shape"
   ]
  },
  {
   "cell_type": "code",
   "execution_count": null,
   "metadata": {},
   "outputs": [],
   "source": [
    "bbl = BatchBayesLinReg(n_features = X.shape[1],alpha=0.3, beta=10)"
   ]
  },
  {
   "cell_type": "code",
   "execution_count": null,
   "metadata": {},
   "outputs": [],
   "source": [
    "batch_size = X.shape[0]\n",
    "n_batches = len(X) // batch_size\n",
    "\n",
    "batches = zip(\n",
    "    np.array_split(X, n_batches),\n",
    "    np.array_split(y0, n_batches)\n",
    ")\n",
    "\n",
    "for x_batch, y_batch in batches:\n",
    "    bbl.observe(np.atleast_2d(x_batch), y_batch)"
   ]
  },
  {
   "cell_type": "code",
   "execution_count": null,
   "metadata": {},
   "outputs": [],
   "source": [
    "y_hat_dist = bbl.predict(X)"
   ]
  },
  {
   "cell_type": "code",
   "execution_count": null,
   "metadata": {},
   "outputs": [],
   "source": [
    "y_hat = y_hat_dist.mean()\n",
    "y_hat_std = y_hat_dist.std()"
   ]
  },
  {
   "cell_type": "code",
   "execution_count": null,
   "metadata": {},
   "outputs": [
    {
     "data": {
      "text/plain": [
       "array([-0.82701683, -1.33850595, -0.54916743, -0.17204244,  0.37254324,\n",
       "       -0.06865883,  0.02751519,  0.31317877,  0.97693689,  0.97430953])"
      ]
     },
     "execution_count": null,
     "metadata": {},
     "output_type": "execute_result"
    }
   ],
   "source": [
    "y_hat_dist.rvs()"
   ]
  },
  {
   "cell_type": "code",
   "execution_count": null,
   "metadata": {},
   "outputs": [
    {
     "data": {
      "text/plain": [
       "array([0.35027   , 0.3372321 , 0.32711283, 0.32018902, 0.31667035,\n",
       "       0.31667035, 0.32018902, 0.32711283, 0.3372321 , 0.35027   ])"
      ]
     },
     "execution_count": null,
     "metadata": {},
     "output_type": "execute_result"
    }
   ],
   "source": [
    "y_hat_std"
   ]
  },
  {
   "cell_type": "code",
   "execution_count": null,
   "metadata": {},
   "outputs": [
    {
     "data": {
      "text/plain": [
       "<matplotlib.collections.PolyCollection at 0x7fabbb5c98d0>"
      ]
     },
     "execution_count": null,
     "metadata": {},
     "output_type": "execute_result"
    },
    {
     "data": {
      "image/png": "[encoded data removed]",
      "text/plain": [
       "<Figure size 432x288 with 1 Axes>"
      ]
     },
     "metadata": {
      "needs_background": "light"
     },
     "output_type": "display_data"
    }
   ],
   "source": [
    "plt.plot(X.squeeze(),y_hat)\n",
    "plt.plot(X.squeeze(),y0,'x')\n",
    "plt.fill_between(X.squeeze(), y_hat, y_hat - y_hat_std, alpha = 0.3,color='blue')\n",
    "plt.fill_between(X.squeeze(), y_hat, y_hat + y_hat_std, alpha = 0.3,color='blue')\n"
   ]
  },
  {
   "cell_type": "code",
   "execution_count": null,
   "metadata": {},
   "outputs": [
    {
     "data": {
      "text/plain": [
       "-1.0447169889826577"
      ]
     },
     "execution_count": null,
     "metadata": {},
     "output_type": "execute_result"
    }
   ],
   "source": [
    "y_hat_single_dist = bbl.predict(X[0])\n",
    "y_hat_single_dist.rvs()"
   ]
  },
  {
   "cell_type": "markdown",
   "metadata": {},
   "source": [
    "### nonlinear"
   ]
  },
  {
   "cell_type": "code",
   "execution_count": null,
   "metadata": {},
   "outputs": [],
   "source": [
    "#export \n",
    "import torch\n",
    "from torch.autograd import Variable\n",
    "\n",
    "class SimpleModel(torch.nn.Module):\n",
    "    def __init__(self,num_input, num_hidden_units=100, p=0.05, decay=0.001, non_linearity=torch.nn.LeakyReLU):\n",
    "        super(SimpleModel, self).__init__()\n",
    "        self.dropout_p = p\n",
    "        self.decay = decay\n",
    "        self.f = torch.nn.Sequential(\n",
    "            torch.nn.Linear(num_input,num_hidden_units),\n",
    "            torch.nn.ReLU(),\n",
    "            torch.nn.Linear(num_hidden_units,1)\n",
    "        )\n",
    "    def forward(self, X):\n",
    "        X = Variable(torch.Tensor(X), requires_grad=False)\n",
    "        return self.f(X)"
   ]
  },
  {
   "cell_type": "code",
   "execution_count": null,
   "metadata": {},
   "outputs": [],
   "source": []
  },
  {
   "cell_type": "code",
   "execution_count": null,
   "metadata": {},
   "outputs": [],
   "source": [
    "X = np.atleast_2d(np.linspace(-3,3,100)).T\n",
    "\n",
    "y = np.sin(X) + np.random.normal(1)"
   ]
  },
  {
   "cell_type": "code",
   "execution_count": null,
   "metadata": {},
   "outputs": [
    {
     "data": {
      "text/plain": [
       "[<matplotlib.lines.Line2D at 0x7fab6c22f750>]"
      ]
     },
     "execution_count": null,
     "metadata": {},
     "output_type": "execute_result"
    },
    {
     "data": {
      "image/png": "[encoded data removed]",
      "text/plain": [
       "<Figure size 432x288 with 1 Axes>"
      ]
     },
     "metadata": {
      "needs_background": "light"
     },
     "output_type": "display_data"
    }
   ],
   "source": [
    "plt.plot(X,y)"
   ]
  },
  {
   "cell_type": "code",
   "execution_count": null,
   "metadata": {},
   "outputs": [],
   "source": [
    "sm = SimpleModel(1)"
   ]
  },
  {
   "cell_type": "code",
   "execution_count": null,
   "metadata": {},
   "outputs": [],
   "source": [
    "y_hat = sm(X)"
   ]
  },
  {
   "cell_type": "code",
   "execution_count": null,
   "metadata": {},
   "outputs": [
    {
     "data": {
      "text/plain": [
       "[<matplotlib.lines.Line2D at 0x7fabbbcbd850>]"
      ]
     },
     "execution_count": null,
     "metadata": {},
     "output_type": "execute_result"
    },
    {
     "data": {
      "image/png": "[encoded data removed]",
      "text/plain": [
       "<Figure size 432x288 with 1 Axes>"
      ]
     },
     "metadata": {
      "needs_background": "light"
     },
     "output_type": "display_data"
    }
   ],
   "source": [
    "plt.plot(X,y_hat.detach())"
   ]
  },
  {
   "cell_type": "code",
   "execution_count": null,
   "metadata": {},
   "outputs": [],
   "source": [
    "epochs = 10000\n",
    "\n",
    "optimizer = torch.optim.SGD(\n",
    "            sm.parameters(),\n",
    "            weight_decay=0.01,\n",
    "            lr=0.001)\n",
    "criterion = torch.nn.MSELoss()\n",
    "y_torch = Variable(torch.Tensor(y), requires_grad=False)\n",
    "\n",
    "for i in range(epochs):\n",
    "    y_pred = sm(X)\n",
    "    optimizer.zero_grad()\n",
    "    loss = criterion(y_pred, y_torch)\n",
    "    loss.backward()\n",
    "    optimizer.step()"
   ]
  },
  {
   "cell_type": "code",
   "execution_count": null,
   "metadata": {},
   "outputs": [
    {
     "data": {
      "text/plain": [
       "[<matplotlib.lines.Line2D at 0x7fabbbc79ed0>]"
      ]
     },
     "execution_count": null,
     "metadata": {},
     "output_type": "execute_result"
    },
    {
     "data": {
      "image/png": "[encoded data removed]",
      "text/plain": [
       "<Figure size 432x288 with 1 Axes>"
      ]
     },
     "metadata": {
      "needs_background": "light"
     },
     "output_type": "display_data"
    }
   ],
   "source": [
    "y_hat = sm(X)\n",
    "plt.plot(X,y_hat.detach())\n",
    "plt.plot(X,y)"
   ]
  },
  {
   "cell_type": "code",
   "execution_count": null,
   "metadata": {},
   "outputs": [],
   "source": [
    "#export\n",
    "\n",
    "# from https://github.com/dennisbakhuis/Tutorials/blob/master/Neural_Network/Artificial_Neural_Network.ipynb\n",
    "class ActivationDoesNotExist(Exception):\n",
    "    \"\"\"Valid activations are sigmoid, tanh, and relu, provided as a string\"\"\"\n",
    "    pass\n",
    "\n",
    "class InputDimensionNotCorrect(Exception):\n",
    "    \"\"\"Need to specify input dimension, i.e. input shape into the first layer\"\"\"\n",
    "    pass\n",
    "\n",
    "class LossFunctionNotDefined(Exception):\n",
    "    \"\"\"Loss function in cost() method not defined\"\"\"\n",
    "    pass\n",
    "\n",
    "\n",
    "class DenseLayer:\n",
    "    \"\"\"\n",
    "    A class to define fully connected layers.\n",
    "    \"\"\"\n",
    "    \n",
    "    def __init__(self, inputDimension, units, activation='', randomMultiplier=0.01):\n",
    "        \"\"\"\n",
    "        Constructor:\n",
    "          inputDimension: number of input features\n",
    "          units: number of neurons in the layer\n",
    "          activation: activation function applied to layer\n",
    "            - options: 'sigmoid', 'tanh', 'relu', ''\n",
    "          randomMultiplier: multiplier applied to the random weights during initialization\n",
    "        \"\"\"\n",
    "        self.weights, self.bias = self.initialize(inputDimension, units, randomMultiplier)\n",
    "        if activation == 'sigmoid':\n",
    "            self.activation = activation\n",
    "            self.activationForward = self.sigmoid\n",
    "            self.activationBackward = self.sigmoidGrad\n",
    "        elif activation == 'relu':\n",
    "            self.activation = activation\n",
    "            self.activationForward = self.relu\n",
    "            self.activationBackward = self.reluGrad\n",
    "        elif activation == 'tanh':\n",
    "            self.activation = activation\n",
    "            self.activationForward = self.tanh\n",
    "            self.activationBackward = self.tanhGrad\n",
    "        elif activation != '':\n",
    "            raise ActivationDoesNotExist\n",
    "        else:\n",
    "            self.activation = 'none'\n",
    "            self.activationForward = self.linear\n",
    "            self.activationBackward = self.linear\n",
    "    \n",
    "    def initialize(self, nx, nh, randomMultiplier):\n",
    "        \"\"\"\n",
    "        Initializes weights randomly:\n",
    "          nx: number of input features\n",
    "          nh: number of units\n",
    "          randomMultiplier: multiplier applied to the random weights during initialization\n",
    "        returns:\n",
    "          weights: the randomly initialized weights\n",
    "          bias: the bias terms\n",
    "        \"\"\"\n",
    "        weights = randomMultiplier * np.random.randn(nh, nx)\n",
    "        bias = np.zeros([nh, 1])\n",
    "        return weights, bias\n",
    "\n",
    "    \n",
    "    def sigmoid(self, Z):\n",
    "        \"\"\"\n",
    "        Sigmoid activation function\n",
    "        \"\"\"\n",
    "        A = 1 / (1 + np.exp(-Z))\n",
    "        return A\n",
    "        \n",
    "    def sigmoidGrad(self, dA):\n",
    "        \"\"\"\n",
    "        Differential of sigmoid function with chain rule applied\n",
    "        \"\"\"\n",
    "        s = 1 / (1 + np.exp(-self.prevZ))\n",
    "        dZ = dA * s * (1 - s)\n",
    "        return dZ\n",
    "    \n",
    "    \n",
    "    def relu(self, Z):\n",
    "        \"\"\"\n",
    "        Relu activation function\n",
    "        \"\"\"\n",
    "        A = np.maximum(0, Z)\n",
    "        return A\n",
    "        \n",
    "    def reluGrad(self, dA):\n",
    "        \"\"\"\n",
    "        Differential of relu function with chain rule applied\n",
    "        \"\"\"\n",
    "        s = np.maximum(0, self.prevZ)\n",
    "        dZ = (s>0) * 1 * dA\n",
    "        return dZ \n",
    "\n",
    "        \n",
    "    def tanh(self, Z):\n",
    "        \"\"\"\n",
    "        Tanh activation function\n",
    "        \"\"\"\n",
    "        A = np.tanh(Z)\n",
    "        return A\n",
    "\n",
    "    def tanhGrad(self, dA):\n",
    "        \"\"\"\n",
    "        Differential of tanh function with chain rule applied\n",
    "        \"\"\"\n",
    "        s = np.tanh(self.prevZ)\n",
    "        dZ = (1 - s**2) * dA\n",
    "        return dZ\n",
    "\n",
    "\n",
    "    def linear(self, Z):\n",
    "        \"\"\"\n",
    "        Placeholder when no activation function is used\n",
    "        \"\"\"\n",
    "        return Z\n",
    "        \n",
    "    \n",
    "    def forward(self, A):\n",
    "        \"\"\"\n",
    "        Forward pass through layer\n",
    "          A: input vector\n",
    "        \"\"\"\n",
    "        Z = np.dot(self.weights, A) + self.bias\n",
    "        self.prevZ = Z\n",
    "        self.prevA = A\n",
    "        A = self.activationForward(Z)\n",
    "        return A\n",
    "    \n",
    "    \n",
    "    def backward(self, dA):\n",
    "        \"\"\"\n",
    "        Backward pass through layer\n",
    "          dA: previous gradient\n",
    "        \"\"\"\n",
    "        dZ = self.activationBackward(dA)\n",
    "        m = self.prevA.shape[1]\n",
    "        self.dW = 1 / m * np.dot(dZ, self.prevA.T)\n",
    "        self.db = 1 / m * np.sum(dZ, axis=1, keepdims=True)\n",
    "        prevdA = np.dot(self.weights.T, dZ)\n",
    "        return prevdA\n",
    "    \n",
    "    \n",
    "    def update(self, learning_rate):\n",
    "        \"\"\"\n",
    "        Update weights using gradients from backward pass\n",
    "          learning_rate: the learning rate used in the gradient descent\n",
    "        \"\"\"\n",
    "        self.weights = self.weights - learning_rate * self.dW\n",
    "        self.bias = self.bias - learning_rate * self.db\n",
    "\n",
    "        \n",
    "    def outputDimension(self):\n",
    "        \"\"\"\n",
    "        Returns the output dimension for the next layer\n",
    "        \"\"\"\n",
    "        return len(self.bias)\n",
    "\n",
    "    \n",
    "    def __repr__(self):\n",
    "        \"\"\"\n",
    "        Used to print a pretty summary of the layer\n",
    "        \"\"\"\n",
    "        act = 'none' if self.activation == '' else self.activation\n",
    "        return f'Dense layer (nx={self.weights.shape[1]}, nh={self.weights.shape[0]}, activation={act})'\n",
    "\n",
    "\n",
    "\n",
    "\n",
    "class NeuralNetwork:\n",
    "    \"\"\"\n",
    "    Neural Network structure that holds our layers\n",
    "    \"\"\"\n",
    "    \n",
    "    def __init__(self, loss='cross-entropy', randomMultiplier = 0.01):\n",
    "        \"\"\"\n",
    "        Constructor:\n",
    "          loss: the loss function. Two are defined:\n",
    "             - 'cross-entropy' and 'mean-square-error'\n",
    "          randomMultiplier: multiplier applied to the random weights during initialization\n",
    "        \"\"\"\n",
    "        self.layers=[]\n",
    "        self.randomMultiplier = randomMultiplier\n",
    "        if loss=='cross-entropy':\n",
    "            self.lossFunction = self.crossEntropyLoss\n",
    "            self.lossBackward = self.crossEntropyLossGrad\n",
    "        elif loss=='mean-square-error':\n",
    "            self.lossFunction = self.meanSquareError\n",
    "            self.lossBackward = self.meanSquareErrorGrad\n",
    "        else:\n",
    "            raise LossFunctionNotDefined\n",
    "        self.loss=loss\n",
    "\n",
    "\n",
    "    def addLayer(self, inputDimension=None, units=1, activation=''):\n",
    "        \"\"\"\n",
    "        Adds a Dense layer to the network:\n",
    "          inputDimension: required when it is the first layer. otherwise takes dimensions of previous layer.\n",
    "          units: number of neurons in the layer\n",
    "          activation: activation function: valid choices are: 'sigmoid', 'tanh', 'relu', ''\n",
    "        \"\"\"\n",
    "        if (inputDimension is None):\n",
    "            if (len(self.layers)==0):\n",
    "                raise InputDimensionNotCorrect\n",
    "            inputDimension=self.layers[-1].outputDimension()\n",
    "        layer = DenseLayer(inputDimension, units, activation, randomMultiplier= self.randomMultiplier)\n",
    "        self.layers.append(layer)\n",
    "\n",
    "    def crossEntropyLoss(self, Y, A, epsilon=1e-15):\n",
    "        \"\"\"\n",
    "        Cross Entropy loss function\n",
    "          Y: true labels\n",
    "          A: final activation function (predicted labels)\n",
    "          epsilon: small value to make minimize chance for log(0) error\n",
    "        \"\"\"\n",
    "        m = Y.shape[1]\n",
    "        loss = -1 * (Y * np.log(A + epsilon) + (1 - Y) * np.log(1 - A + epsilon))\n",
    "        cost = 1 / m * np.sum(loss)\n",
    "        return np.squeeze(cost)\n",
    "            \n",
    "    def crossEntropyLossGrad(self, Y, A):\n",
    "        \"\"\"\n",
    "        Cross Entropy loss Gradient\n",
    "          Y: true labels\n",
    "          A: final activation function (predicted labels)\n",
    "        \"\"\"\n",
    "        dA = -(np.divide(Y, A) - np.divide(1 - Y, 1 - A))\n",
    "        return dA\n",
    "    \n",
    "    \n",
    "    def meanSquareError(self, Y, A):\n",
    "        \"\"\"\n",
    "        Mean square error loss function\n",
    "          Y: true labels\n",
    "          A: final activation function (predicted labels)\n",
    "        \"\"\"\n",
    "        loss = np.square(Y - A)\n",
    "        m = Y.shape[1]\n",
    "        cost = 1 / m * np.sum(loss)\n",
    "        return np.squeeze(cost)\n",
    "    \n",
    "    def meanSquareErrorGrad(self, Y, A):\n",
    "        \"\"\"\n",
    "        Mean square error loss gradient\n",
    "          Y: true labels\n",
    "          A: final activation function (predicted labels)\n",
    "        \"\"\"\n",
    "        dA = -2 * (Y - A)\n",
    "        return dA\n",
    "\n",
    "    \n",
    "    def cost(self, Y, A):\n",
    "        \"\"\"\n",
    "        Cost function wrapper\n",
    "          Y: true labels\n",
    "          A: final activation function (predicted labels)\n",
    "        \"\"\"\n",
    "        return self.lossFunction(Y, A)\n",
    "\n",
    "        \n",
    "    def forward(self, X):\n",
    "        \"\"\"\n",
    "        Forward pass through the whole model.\n",
    "          X: input vector\n",
    "        \"\"\"\n",
    "        x = np.copy(X)\n",
    "        for layer in self.layers:\n",
    "            x = layer.forward(x)\n",
    "        return x\n",
    "            \n",
    "    \n",
    "    def backward(self, A, Y):\n",
    "        \"\"\"\n",
    "        backward pass through the whole model\n",
    "          Y: true labels\n",
    "          A: final activation function (predicted labels)\n",
    "        \"\"\"\n",
    "        dA = self.lossBackward(Y, A)\n",
    "        for layer in reversed(self.layers):\n",
    "            dA = layer.backward(dA)\n",
    "    \n",
    "    \n",
    "    def update(self, learning_rate=0.01):\n",
    "        \"\"\"\n",
    "        Update weights and do a step of gradient descent for the whole model.\n",
    "          learning_rate: learning_rate to use\n",
    "        \"\"\"\n",
    "        for layer in self.layers:\n",
    "            layer.update(learning_rate)\n",
    "    \n",
    "    \n",
    "    def __repr__(self):\n",
    "        \"\"\"\n",
    "        Pretty print the model\n",
    "        \"\"\"\n",
    "        layrepr = ['  ' + str(ix+1)+' -> ' + str(x) for ix, x in enumerate(self.layers)]\n",
    "        return '[\\n' + '\\n'.join(layrepr) + '\\n]'\n",
    "   \n",
    "    \n",
    "    def numberOfParameters(self):\n",
    "        \"\"\"\n",
    "        Print number of trainable parameters in the model\n",
    "        \"\"\"\n",
    "        n = 0\n",
    "        for layer in self.layers:\n",
    "            n += np.size(layer.weights) + len(layer.bias)\n",
    "        print(f'There are {n} trainable parameters in the model.')\n"
   ]
  },
  {
   "cell_type": "code",
   "execution_count": null,
   "metadata": {},
   "outputs": [],
   "source": [
    "num_features = 1\n",
    "num_observations = 100"
   ]
  },
  {
   "cell_type": "code",
   "execution_count": null,
   "metadata": {},
   "outputs": [
    {
     "data": {
      "text/plain": [
       "(1, 100)"
      ]
     },
     "execution_count": null,
     "metadata": {},
     "output_type": "execute_result"
    }
   ],
   "source": [
    "X = X.reshape([num_features,num_observations])\n",
    "\n",
    "X.shape"
   ]
  },
  {
   "cell_type": "code",
   "execution_count": null,
   "metadata": {},
   "outputs": [
    {
     "data": {
      "text/plain": [
       "(1, 100)"
      ]
     },
     "execution_count": null,
     "metadata": {},
     "output_type": "execute_result"
    }
   ],
   "source": [
    "Y = y.reshape([1,num_observations])\n",
    "Y.shape"
   ]
  },
  {
   "cell_type": "code",
   "execution_count": null,
   "metadata": {},
   "outputs": [
    {
     "name": "stdout",
     "output_type": "stream",
     "text": [
      "cost: 0.6913322225016876\n",
      "cost: 0.009957629119584959\n",
      "cost: 0.005741102285052095\n",
      "cost: 0.004060046154289381\n",
      "cost: 0.003165380809915311\n",
      "cost: 0.0025985195010567964\n",
      "cost: 0.0021718796597792753\n",
      "cost: 0.0017617847384897665\n",
      "cost: 0.001207938935378978\n",
      "cost: 0.0004985141881784148\n"
     ]
    }
   ],
   "source": [
    "model = NeuralNetwork(loss='mean-square-error')\n",
    "model.addLayer(inputDimension=1, units=10, activation='tanh')\n",
    "\n",
    "model.addLayer(units=1, activation='')\n",
    "model\n",
    "\n",
    "\n",
    "num_iterations = 100000\n",
    "for ix in range(num_iterations):\n",
    "    A = model.forward(X)\n",
    "    model.backward(A, Y)\n",
    "    model.update()\n",
    "    if ix % 10000 == 0:\n",
    "        print('cost:', model.cost(Y, A))"
   ]
  },
  {
   "cell_type": "code",
   "execution_count": null,
   "metadata": {},
   "outputs": [
    {
     "data": {
      "text/plain": [
       "<matplotlib.legend.Legend at 0x7fab67e060d0>"
      ]
     },
     "execution_count": null,
     "metadata": {},
     "output_type": "execute_result"
    },
    {
     "data": {
      "image/png": "[encoded data removed]",
      "text/plain": [
       "<Figure size 432x288 with 1 Axes>"
      ]
     },
     "metadata": {
      "needs_background": "light"
     },
     "output_type": "display_data"
    }
   ],
   "source": [
    "plt.plot(A.squeeze(),label='prediction')\n",
    "plt.plot(y.squeeze(),label='truth')\n",
    "plt.legend()"
   ]
  },
  {
   "cell_type": "code",
   "execution_count": null,
   "metadata": {},
   "outputs": [
    {
     "name": "stdout",
     "output_type": "stream",
     "text": [
      "cost: 0.6733277569541112\n",
      "cost: 0.17118129903197202\n",
      "cost: 0.17118129903197202\n",
      "cost: 0.17118129903197202\n",
      "cost: 0.17118129903197202\n",
      "cost: 0.17118129903197202\n",
      "cost: 0.17118129903197202\n",
      "cost: 0.17118129903197202\n",
      "cost: 0.17118129903197202\n",
      "cost: 0.17118129903197202\n"
     ]
    }
   ],
   "source": [
    "model = NeuralNetwork(loss='mean-square-error')\n",
    "#model.addLayer(inputDimension=1, units=10, activation='tanh')\n",
    "\n",
    "model.addLayer(inputDimension=1, units=1, activation='')\n",
    "model\n",
    "\n",
    "\n",
    "num_iterations = 100000\n",
    "for ix in range(num_iterations):\n",
    "    # minibatch\n",
    "    X_train, X_test, y_train, y_test = train_test_split(X.T, y, test_size=0.01, random_state=42)\n",
    "\n",
    "    A = model.forward(X)\n",
    "    model.backward(A, Y)\n",
    "    model.update()\n",
    "    if ix % 10000 == 0:\n",
    "        print('cost:', model.cost(Y, A))"
   ]
  },
  {
   "cell_type": "code",
   "execution_count": null,
   "metadata": {},
   "outputs": [
    {
     "data": {
      "text/plain": [
       "<matplotlib.legend.Legend at 0x7fab67d1cb90>"
      ]
     },
     "execution_count": null,
     "metadata": {},
     "output_type": "execute_result"
    },
    {
     "data": {
      "image/png": "[encoded data removed]",
      "text/plain": [
       "<Figure size 432x288 with 1 Axes>"
      ]
     },
     "metadata": {
      "needs_background": "light"
     },
     "output_type": "display_data"
    }
   ],
   "source": [
    "plt.plot(A.squeeze(),label='prediction of linear model')\n",
    "plt.plot(y.squeeze(),label='truth')\n",
    "plt.legend()"
   ]
  },
  {
   "cell_type": "code",
   "execution_count": null,
   "metadata": {},
   "outputs": [],
   "source": [
    "\n",
    "from nbdev.export import *\n",
    "notebook2script()"
   ]
  },
  {
   "cell_type": "code",
   "execution_count": null,
   "metadata": {},
   "outputs": [],
   "source": []
  },
  {
   "cell_type": "code",
   "execution_count": null,
   "metadata": {},
   "outputs": [],
   "source": []
  }
 ],
 "metadata": {
  "kernelspec": {
   "display_name": "Python 3",
   "language": "python",
   "name": "python3"
  }
 },
 "nbformat": 4,
 "nbformat_minor": 4
}
