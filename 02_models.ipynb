{
 "cells": [
  {
   "cell_type": "code",
   "execution_count": 1,
   "metadata": {},
   "outputs": [],
   "source": [
    "# default_exp models\n"
   ]
  },
  {
   "cell_type": "markdown",
   "metadata": {},
   "source": [
    "# models\n",
    "> models to be used in contextual map solvers"
   ]
  },
  {
   "cell_type": "code",
   "execution_count": 2,
   "metadata": {},
   "outputs": [],
   "source": [
    "#export\n",
    "from thompson_sampling.multi_armed_bandits import contextual_categorical_bandit, contextual_categorical_get_optimal_arm\n",
    "import matplotlib.pyplot as plt\n",
    "import numpy as np\n",
    "\n",
    "%load_ext autoreload\n",
    "%autoreload 2"
   ]
  },
  {
   "cell_type": "code",
   "execution_count": 3,
   "metadata": {},
   "outputs": [],
   "source": [
    "%matplotlib inline\n"
   ]
  },
  {
   "cell_type": "code",
   "execution_count": 4,
   "metadata": {},
   "outputs": [],
   "source": [
    "theta = [0.6, 0.9]\n",
    "noise = 0.1\n",
    "\n",
    "np.random.seed(42)"
   ]
  },
  {
   "cell_type": "markdown",
   "metadata": {},
   "source": [
    "## Categorical\n",
    "> for logistic regression"
   ]
  },
  {
   "cell_type": "markdown",
   "metadata": {},
   "source": [
    "### Linear"
   ]
  },
  {
   "cell_type": "code",
   "execution_count": null,
   "metadata": {},
   "outputs": [],
   "source": []
  },
  {
   "cell_type": "code",
   "execution_count": 5,
   "metadata": {},
   "outputs": [],
   "source": [
    "#export\n",
    "from scipy.optimize import minimize\n",
    "import scipy.stats as stats\n",
    "import numpy as np\n",
    "\n",
    "\n",
    "\n",
    "class OnlineLogisticRegression:\n",
    "    \"\"\"taken from https://gdmarmerola.github.io/ts-for-contextual-bandits/ \"\"\"\n",
    "    \n",
    "    # initializing\n",
    "    def __init__(self,n_dim, lambda_ = None, alpha = None):\n",
    "        \n",
    "        # the only hyperparameter is the deviation on the prior (L2 regularizer)\n",
    "        self.lambda_ = lambda_ or 1\n",
    "        self.alpha = alpha or 1\n",
    "                \n",
    "        # initializing parameters of the model\n",
    "        self.n_dim = n_dim, \n",
    "        self.m = np.zeros(self.n_dim)\n",
    "        self.q = np.ones(self.n_dim) * self.lambda_\n",
    "        \n",
    "        # initializing weights\n",
    "        self.w = np.random.normal(self.m, self.alpha * (self.q)**(-1.0), size = self.n_dim)\n",
    "        \n",
    "    # the loss function\n",
    "    def loss(self, w, *args):\n",
    "        X, y = args\n",
    "        return 0.5 * (self.q * (w - self.m)).dot(w - self.m) + np.sum([np.log(1 + np.exp(-y[j] * w.dot(X[j]))) for j in range(y.shape[0])])\n",
    "        \n",
    "    # the gradient\n",
    "    def grad(self, w, *args):\n",
    "        X, y = args\n",
    "        return self.q * (w - self.m) + (-1) * np.array([y[j] *  X[j] / (1. + np.exp(y[j] * w.dot(X[j]))) for j in range(y.shape[0])]).sum(axis=0)\n",
    "    \n",
    "    # method for sampling weights\n",
    "    def get_weights(self):\n",
    "      return stats.multivariate_normal(self.m, self.alpha * (self.q)**(-1.0)).rvs()\n",
    "        #return np.random.normal(self.m, self.alpha * (self.q)**(-1.0), size = self.n_dim)\n",
    "    \n",
    "    # fitting method\n",
    "    def fit(self, X, y):\n",
    "        \n",
    "#         print(X)\n",
    "        \n",
    "#         print(f'X {X.shape}')\n",
    "#         print(f'y {y.shape}')\n",
    "#         print(f'self w {self.w.shape}')\n",
    "#         print(f'self m {self.m.shape}')\n",
    "                \n",
    "        # step 1, find w\n",
    "        self.w = minimize(self.loss, self.w, args=(X, y), jac=self.grad, method=\"L-BFGS-B\", options={'maxiter': 20, 'disp':True}).x\n",
    "        self.m = self.w\n",
    "        \n",
    "        # step 2, update q\n",
    "        P = (1 + np.exp(1 - X.dot(self.m))) ** (-1)\n",
    "        self.q = self.q + (P*(1-P)).dot(X ** 2)\n",
    "\n",
    "\n",
    "    def observe(self,X,y):\n",
    "        self.fit(X,y)\n",
    "                \n",
    "    # probability output method, using weights sample\n",
    "    def predict_proba(self, X, mode='sample'):\n",
    "        \n",
    "        # adding intercept to X\n",
    "        #X = add_constant(X)\n",
    "        \n",
    "        # sampling weights after update\n",
    "        self.w = self.get_weights()\n",
    "        \n",
    "        # using weight depending on mode\n",
    "        if mode == 'sample':\n",
    "            w = self.w # weights are samples of posteriors\n",
    "        elif mode == 'expected':\n",
    "            w = self.m # weights are expected values of posteriors\n",
    "        else:\n",
    "            raise Exception('mode not recognized!')\n",
    "            \n",
    "            \n",
    "        X = np.atleast_1d(X)\n",
    "        w = np.atleast_1d(w)\n",
    "        #print(f'X shape {X.shape}')\n",
    "        #print(f'w shape {w.shape}')\n",
    "\n",
    "        # calculating probabilities\n",
    "        proba = 1 / (1 + np.exp(-1 * X.dot(w)))\n",
    "        return np.array([1-proba , proba]).T"
   ]
  },
  {
   "cell_type": "code",
   "execution_count": 6,
   "metadata": {},
   "outputs": [
    {
     "name": "stderr",
     "output_type": "stream",
     "text": [
      "No handles with labels found to put in legend.\n"
     ]
    },
    {
     "data": {
      "text/plain": [
       "<Figure size 1350x525 with 0 Axes>"
      ]
     },
     "metadata": {},
     "output_type": "display_data"
    },
    {
     "data": {
      "image/png": "[encoded data removed]",
      "text/plain": [
       "<Figure size 1350x525 with 2 Axes>"
      ]
     },
     "metadata": {
      "needs_background": "light"
     },
     "output_type": "display_data"
    }
   ],
   "source": [
    "\n",
    "\n",
    "wee_x = np.random.uniform(-6,6,10)\n",
    "wee_y = np.array([contextual_categorical_bandit(x,0, theta, noise)[0] for x in wee_x])\n",
    "\n",
    "\n",
    "\n",
    "\n",
    "# OLR object\n",
    "online_lr = OnlineLogisticRegression(1, .5, 1)\n",
    "for i in range(len(wee_y)):\n",
    "    online_lr.fit(wee_x[i].reshape(-1,1), wee_y[i].reshape(-1,1))\n",
    "    \n",
    "    \n",
    "    \n",
    "    \n",
    "    \n",
    "# closing other figures\n",
    "plt.close('all')\n",
    "plt.figure(figsize=[9,3.5], dpi=150)\n",
    "\n",
    "# let us check the distribution of weights and uncertainty bounds\n",
    "plt.figure(figsize=[9,3.5], dpi=150)\n",
    "\n",
    "# plotting the pdf of the weight distribution\n",
    "X_pdf = np.linspace(-4, 4, 1000)\n",
    "pdf = stats.norm(loc=online_lr.m, scale=online_lr.q**(-1.0)).pdf(X_pdf)\n",
    "\n",
    "# range and resolution of probability plot\n",
    "X_prob = np.linspace(-6, 6, 1000)\n",
    "p_dist = 1/(1 + np.exp(-X_prob * online_lr.m))\n",
    "p_dist_plus = 1/(1 + np.exp(-X_prob * (online_lr.m + 2*online_lr.q**(-1.0))))\n",
    "p_dist_minus = 1/(1 + np.exp(-X_prob * (online_lr.m - 2*online_lr.q**(-1.0))))\n",
    "\n",
    "# opening subplots\n",
    "ax1 = plt.subplot2grid((1, 5), (0, 0), colspan=2, rowspan=1)\n",
    "ax2 = plt.subplot2grid((1, 5), (0, 2), colspan=3, rowspan=1)\n",
    "\n",
    "# plotting distriution of weights\n",
    "ax1.plot(X_pdf, pdf, color='b', linewidth=2, alpha=0.5)\n",
    "#ax1.plot([cmab.weights[0][1], cmab.weights[0][1]], [0, max(pdf)], 'k--', label='True $\\\\beta$', linewidth=1)\n",
    "ax1.fill_between(X_pdf, pdf, 0, color='b', alpha=0.2)\n",
    "\n",
    "# plotting probabilities\n",
    "ax2.plot(X_prob, p_dist, color='b', linewidth=2, alpha=0.5)\n",
    "ax2.fill_between(X_prob, p_dist_plus, p_dist_minus, color='b', alpha=0.2)\n",
    "ax2.scatter(wee_x, wee_y, c='k')\n",
    "\n",
    "# title and comments\n",
    "ax1.set_title('OLR estimate for $\\\\beta$', fontsize=10)\n",
    "ax1.set_xlabel('$\\\\beta$', fontsize=10); ax1.set_ylabel('$density$', fontsize=10)\n",
    "ax2.set_title('OLR estimate for $\\\\theta(x)$', fontsize=10)\n",
    "ax2.set_xlabel('$x$', fontsize=10); ax2.set_ylabel('$\\\\theta(x)$', fontsize=10)\n",
    "\n",
    "ax1.legend(fontsize=10)\n",
    "plt.tight_layout()\n",
    "plt.show()"
   ]
  },
  {
   "cell_type": "code",
   "execution_count": 7,
   "metadata": {},
   "outputs": [
    {
     "data": {
      "text/plain": [
       "0.7497864801605931"
      ]
     },
     "execution_count": 7,
     "metadata": {},
     "output_type": "execute_result"
    }
   ],
   "source": [
    "online_lr.predict_proba(np.array(wee_x[0]))[0]"
   ]
  },
  {
   "cell_type": "code",
   "execution_count": 8,
   "metadata": {},
   "outputs": [
    {
     "data": {
      "text/plain": [
       "[array([-2.49426422, -1.60365788]),\n",
       " array([-0.52716019,  3.42211154]),\n",
       " array([-3.60391461,  0.17081326]),\n",
       " array([ 1.10897483, -5.44259505]),\n",
       " array([ 1.29053822, -3.95371052]),\n",
       " array([-5.21938088,  5.38662645]),\n",
       " array([5.5875844 , 3.70076818]),\n",
       " array([-2.34463477, -4.82793463]),\n",
       " array([ 2.21079632, -0.71817008]),\n",
       " array([-4.53554118, -0.05787708])]"
      ]
     },
     "execution_count": 8,
     "metadata": {},
     "output_type": "execute_result"
    }
   ],
   "source": [
    "wee_x2 = np.random.uniform(-6,6,[10,2])\n",
    "[x for x in wee_x2]"
   ]
  },
  {
   "cell_type": "code",
   "execution_count": 9,
   "metadata": {},
   "outputs": [
    {
     "data": {
      "text/plain": [
       "array([0.03904842, 0.96095158])"
      ]
     },
     "execution_count": 9,
     "metadata": {},
     "output_type": "execute_result"
    }
   ],
   "source": [
    "wee_x2 = np.random.uniform(-6,6,[10,2])\n",
    "wee_y2 = np.array([contextual_categorical_bandit(x,0, theta, noise)[0] for x in wee_x])\n",
    "\n",
    "\n",
    "\n",
    "\n",
    "# OLR object\n",
    "online_lr2 = OnlineLogisticRegression(2, .5, 1)\n",
    "for i in range(len(wee_y2)):\n",
    "    online_lr2.fit(wee_x2[i].reshape(1,-1), wee_y2[i].reshape(1,-1))\n",
    "    \n",
    "online_lr2.predict_proba(wee_x2[0].reshape(1,-1))[0]"
   ]
  },
  {
   "cell_type": "code",
   "execution_count": 10,
   "metadata": {},
   "outputs": [
    {
     "data": {
      "text/plain": [
       "(1, 2)"
      ]
     },
     "execution_count": 10,
     "metadata": {},
     "output_type": "execute_result"
    }
   ],
   "source": [
    "wee_x2[i].reshape(1,-1).shape"
   ]
  },
  {
   "cell_type": "markdown",
   "metadata": {},
   "source": [
    "## numerical\n",
    "> for regression\n"
   ]
  },
  {
   "cell_type": "markdown",
   "metadata": {},
   "source": [
    "### Linear"
   ]
  },
  {
   "cell_type": "code",
   "execution_count": 11,
   "metadata": {},
   "outputs": [],
   "source": [
    "#export\n",
    "\n",
    "\"this is not working at the moment\"\n",
    "class BayesLinReg(object):\n",
    "\n",
    "  def __init__(self, num_features,v):\n",
    "    self.intercept = False\n",
    "    if self.intercept:\n",
    "      num_features += 1\n",
    "\n",
    "    self.B = np.eye(num_features)\n",
    "    self.Binv = np.linalg.inv(self.B)\n",
    "    self.f = np.atleast_1d(np.zeros(num_features))\n",
    "    self.v = v\n",
    "\n",
    "    self.mu = np.zeros(num_features)\n",
    "\n",
    "  def add_intercept(self,X):\n",
    "    if self.intercept:\n",
    "      X = np.insert(np.atleast_1d(X),0,1)\n",
    "    X = np.atleast_1d(X)\n",
    "    \n",
    "    return X.T\n",
    "\n",
    "\n",
    "  def observe(self,X,y):\n",
    "    y = np.atleast_2d(y)\n",
    "    X = self.add_intercept(X)\n",
    "    self.B += np.outer(X,X)\n",
    "    self.f += np.dot(X,y).T\n",
    "\n",
    "\n",
    "  def get_mean_std(self):\n",
    "      B_inv = np.linalg.inv(self.B)\n",
    "      mu_t = B_inv.dot(self.f.T)\n",
    "\n",
    "      return mu_t, B_inv\n",
    "\n",
    "      \n",
    "\n",
    "#helpers\n",
    "  def train(self,X,y,shuffle = True):\n",
    "      index = list(range(X.shape[0]))\n",
    "      if shuffle ==True:\n",
    "          np.random.shuffle(index)\n",
    "      for i in index:\n",
    "          self.observe(X[i],y[i]) \n",
    "          \n",
    "\n",
    "      \n",
    "  def predict_ML(self,X):\n",
    "      beta= np.linalg.inv(self.B).dot(self.f.T)\n",
    "\n",
    "      y = []\n",
    "      try:\n",
    "          for i in range(len(X)):\n",
    "              x = X[i]\n",
    "              y += [self.predict_ML_x(x)]\n",
    "              return y\n",
    "      except:\n",
    "          X = self.add_intercept(X)\n",
    "          return X.T.dot(beta)\n",
    "          \n",
    "\n",
    "\n",
    "\n",
    "\n",
    "  def predict_ML_x(self,x):\n",
    "      beta = np.linalg.inv(self.B).dot(self.f.T)\n",
    "      x = self.add_intercept(x)\n",
    "      return x.T.dot(beta)[0][0]\n",
    "\n",
    "  def draw(self):\n",
    "      B_inv = np.linalg.inv(self.B)\n",
    "      mu_t = B_inv.dot(self.f.T)\n",
    "      dist = stats.multivariate_normal\n",
    "      return dist.rvs(mean=mu_t.flatten(),cov=self.v**2*B_inv)\n"
   ]
  },
  {
   "cell_type": "markdown",
   "metadata": {},
   "source": [
    "### nonlinear"
   ]
  },
  {
   "cell_type": "code",
   "execution_count": 12,
   "metadata": {},
   "outputs": [],
   "source": [
    "#export \n",
    "import torch\n",
    "from torch.autograd import Variable\n",
    "\n",
    "class SimpleModel(torch.nn.Module):\n",
    "    def __init__(self,num_input, num_hidden_units=100, p=0.05, decay=0.001, non_linearity=torch.nn.LeakyReLU):\n",
    "        super(SimpleModel, self).__init__()\n",
    "        self.dropout_p = p\n",
    "        self.decay = decay\n",
    "        self.f = torch.nn.Sequential(\n",
    "            torch.nn.Linear(num_input,num_hidden_units),\n",
    "            torch.nn.ReLU(),\n",
    "            torch.nn.Linear(num_hidden_units,1)\n",
    "        )\n",
    "    def forward(self, X):\n",
    "        X = Variable(torch.Tensor(X), requires_grad=False)\n",
    "        return self.f(X)"
   ]
  },
  {
   "cell_type": "code",
   "execution_count": null,
   "metadata": {},
   "outputs": [],
   "source": []
  },
  {
   "cell_type": "code",
   "execution_count": 13,
   "metadata": {},
   "outputs": [],
   "source": [
    "X = np.atleast_2d(np.linspace(-3,3,100)).T\n",
    "\n",
    "y = np.sin(X) + np.random.normal(1)"
   ]
  },
  {
   "cell_type": "code",
   "execution_count": 14,
   "metadata": {},
   "outputs": [
    {
     "data": {
      "text/plain": [
       "[<matplotlib.lines.Line2D at 0x7fd9384cec90>]"
      ]
     },
     "execution_count": 14,
     "metadata": {},
     "output_type": "execute_result"
    },
    {
     "data": {
      "image/png": "[encoded data removed]",
      "text/plain": [
       "<Figure size 432x288 with 1 Axes>"
      ]
     },
     "metadata": {
      "needs_background": "light"
     },
     "output_type": "display_data"
    }
   ],
   "source": [
    "plt.plot(X,y)"
   ]
  },
  {
   "cell_type": "code",
   "execution_count": 15,
   "metadata": {},
   "outputs": [],
   "source": [
    "sm = SimpleModel(1)"
   ]
  },
  {
   "cell_type": "code",
   "execution_count": 16,
   "metadata": {},
   "outputs": [],
   "source": [
    "y_hat = sm(X)"
   ]
  },
  {
   "cell_type": "code",
   "execution_count": 17,
   "metadata": {},
   "outputs": [
    {
     "data": {
      "text/plain": [
       "[<matplotlib.lines.Line2D at 0x7fd938448e90>]"
      ]
     },
     "execution_count": 17,
     "metadata": {},
     "output_type": "execute_result"
    },
    {
     "data": {
      "image/png": "[encoded data removed]",
      "text/plain": [
       "<Figure size 432x288 with 1 Axes>"
      ]
     },
     "metadata": {
      "needs_background": "light"
     },
     "output_type": "display_data"
    }
   ],
   "source": [
    "plt.plot(X,y_hat.detach())"
   ]
  },
  {
   "cell_type": "code",
   "execution_count": 18,
   "metadata": {},
   "outputs": [],
   "source": [
    "epochs = 10000\n",
    "\n",
    "optimizer = torch.optim.SGD(\n",
    "            sm.parameters(),\n",
    "            weight_decay=0.01,\n",
    "            lr=0.001)\n",
    "criterion = torch.nn.MSELoss()\n",
    "y = Variable(torch.Tensor(y), requires_grad=False)\n",
    "\n",
    "for i in range(epochs):\n",
    "    y_pred = sm(X)\n",
    "    optimizer.zero_grad()\n",
    "    loss = criterion(y_pred, y)\n",
    "    loss.backward()\n",
    "    optimizer.step()"
   ]
  },
  {
   "cell_type": "code",
   "execution_count": 19,
   "metadata": {
    "scrolled": true
   },
   "outputs": [
    {
     "data": {
      "text/plain": [
       "[<matplotlib.lines.Line2D at 0x7fd9373c85d0>]"
      ]
     },
     "execution_count": 19,
     "metadata": {},
     "output_type": "execute_result"
    },
    {
     "data": {
      "image/png": "[encoded data removed]",
      "text/plain": [
       "<Figure size 432x288 with 1 Axes>"
      ]
     },
     "metadata": {
      "needs_background": "light"
     },
     "output_type": "display_data"
    }
   ],
   "source": [
    "y_hat = sm(X)\n",
    "plt.plot(X,y_hat.detach())\n",
    "plt.plot(X,y)"
   ]
  },
  {
   "cell_type": "code",
   "execution_count": 21,
   "metadata": {},
   "outputs": [
    {
     "name": "stdout",
     "output_type": "stream",
     "text": [
      "Converted 00_abstractions.ipynb.\n",
      "Converted 01_multi_armed_bandits.ipynb.\n",
      "Converted 02_models.ipynb.\n",
      "Converted 03_ensembles.ipynb.\n",
      "Converted 04_solvers.ipynb.\n",
      "Converted 10_adversarial_thompson_sampler.ipynb.\n",
      "Converted 99_helpers.ipynb.\n",
      "Converted contextual_bandits.ipynb.\n",
      "Converted index.ipynb.\n",
      "Converted noncontextual_bandits.ipynb.\n"
     ]
    }
   ],
   "source": [
    "\n",
    "from nbdev.export import *\n",
    "notebook2script()"
   ]
  },
  {
   "cell_type": "code",
   "execution_count": null,
   "metadata": {},
   "outputs": [],
   "source": []
  }
 ],
 "metadata": {
  "kernelspec": {
   "display_name": "Python 3",
   "language": "python",
   "name": "python3"
  },
  "language_info": {
   "codemirror_mode": {
    "name": "ipython",
    "version": 3
   },
   "file_extension": ".py",
   "mimetype": "text/x-python",
   "name": "python",
   "nbconvert_exporter": "python",
   "pygments_lexer": "ipython3",
   "version": "3.7.6"
  }
 },
 "nbformat": 4,
 "nbformat_minor": 4
}
