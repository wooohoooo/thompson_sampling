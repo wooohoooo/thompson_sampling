{
 "cells": [
  {
   "cell_type": "code",
   "execution_count": null,
   "metadata": {},
   "outputs": [],
   "source": [
    "# default_exp solvers"
   ]
  },
  {
   "cell_type": "markdown",
   "metadata": {},
   "source": [
    "# solvers\n",
    "> algorithms to solve the MAP problems"
   ]
  },
  {
   "cell_type": "code",
   "execution_count": null,
   "metadata": {},
   "outputs": [],
   "source": [
    "#export\n",
    "from thompson_sampling.abstractions import AbstractSolver, AbstractContextualSolver,AbstractContextualSolverSingleModel\n",
    "import numpy as np\n",
    "import scipy.stats as stats\n",
    "import matplotlib.cm as cm\n",
    "import matplotlib.pyplot as plt\n"
   ]
  },
  {
   "cell_type": "code",
   "execution_count": null,
   "metadata": {},
   "outputs": [],
   "source": [
    "import matplotlib.pyplot as plt\n",
    "\n",
    "%matplotlib inline\n",
    "%load_ext autoreload\n",
    "%autoreload 2\n",
    "\n"
   ]
  },
  {
   "cell_type": "markdown",
   "metadata": {},
   "source": [
    "## categorical\n",
    "\n",
    "### non-contextual"
   ]
  },
  {
   "cell_type": "markdown",
   "metadata": {},
   "source": [
    "#### AB test"
   ]
  },
  {
   "cell_type": "code",
   "execution_count": null,
   "metadata": {},
   "outputs": [],
   "source": [
    "#export\n",
    "class AB(AbstractSolver):\n",
    "  def __init__(self, n_experiments=1000, num_options=2):\n",
    "    self.trials = np.zeros(shape=(num_options,))\n",
    "    self.successes = np.zeros(shape=(num_options,))\n",
    "    self.experiments_done = 0\n",
    "    self.n_experiments = n_experiments\n",
    "\n",
    "\n",
    "\n",
    "  def choose_arm(self):\n",
    "    \"\"\"we choose to either randomly sample an arm \n",
    "    or play the previously determined best choice\"\"\"\n",
    "\n",
    "    # if we need more experimentation, we explore\n",
    "    if self.experiments_done < self.n_experiments:\n",
    "      arm = self.explore()\n",
    "    # otherwise, we exploit\n",
    "    else:\n",
    "      arm = self.exploit()\n",
    "    return arm\n",
    "\n",
    "\n",
    "  def update(self, arm, reward):\n",
    "    \"\"\"Updates the arms about being played and about receiving a reward\"\"\"\n",
    "\n",
    "    # simply count the number of trials and successes for each arm\n",
    "    self.trials[arm] += 1\n",
    "    if reward:\n",
    "      self.successes[arm] += 1\n",
    "    self.experiments_done += 1\n",
    "\n",
    "\n",
    "  def explore(self):\n",
    "    \"\"\"returns arm 0 or arm 1 depending on a draw from interval [0,1]\n",
    "    NOTE: this isn't necessarilyhow you'd do it in real life, \n",
    "    please consult the sources for that case\"\"\"\n",
    "\n",
    "    # literally choose by random which arm to return\n",
    "    if np.random.random() <.5:\n",
    "        return 0\n",
    "    else:\n",
    "        return 1\n",
    "\n",
    "  def exploit(self):\n",
    "    \"\"\"returns arm with highest expected payoff\n",
    "    Always the same arm after exploration phase\"\"\"\n",
    "\n",
    "    # return the arm with the highest success rate\n",
    "    return np.argmax(self.successes/self.trials)\n",
    "  \n"
   ]
  },
  {
   "cell_type": "code",
   "execution_count": null,
   "metadata": {},
   "outputs": [],
   "source": [
    "#export\n",
    "class BetaBandit(AbstractSolver):\n",
    "\n",
    "    def __init__(self, num_options = 2, prior = None):\n",
    "        \"\"\"initialize BetaBandit\"\"\"\n",
    "        self.num_options = num_options\n",
    "\n",
    "        #setting the prior, either uninformative or user generated\n",
    "        if prior == None:\n",
    "            self.prior = np.ones(shape=(num_options,2))\n",
    "        else:\n",
    "            assert prior.shape == (num_options,2), f\"the prior seems to have wrong dimensionality, please conform to (num_options, 2){(num_options,2)}\"\n",
    "            self.prior = prior\n",
    "\n",
    "        self.trials = np.zeros(shape=(num_options,))\n",
    "        self.successes = np.zeros(shape=(num_options,))\n",
    "\n",
    "\n",
    "    def choose_arm(self):\n",
    "        \"\"\"draw from arms.\n",
    "        arm with the highest expected outcome wins. \n",
    "        expected outcome is determined stochastically, so even an arm with bad \n",
    "        outcome until now will have a chance of being drawn\"\"\"\n",
    "\n",
    "        sampled_theta=[]\n",
    "        for i in range(self.num_options):\n",
    "\n",
    "            dist = stats.beta(self.prior[i,0]+self.successes[i], \n",
    "                              self.prior[i,1]+self.trials[i] - self.successes[i])\n",
    "                \n",
    "            sampled_theta += [dist.rvs()]\n",
    "      \n",
    "        return(sampled_theta.index(max(sampled_theta)))    \n",
    "        \n",
    "    def update(self,arm,success):\n",
    "        \"\"\"update beta-parameters of specific arm\"\"\"\n",
    "        #count times arm has been drawn\"\"\"\n",
    "        self.trials[arm] = self.trials[arm] +1\n",
    "        #count number of successes on that arm\"\"\"\n",
    "\n",
    "        # for decay factors: self.successes = self.successes *.99\n",
    "        if success:\n",
    "            self.successes[arm] = self.successes[arm]+ 1\n",
    "            \n",
    "\n",
    "\n",
    "\n",
    "\n",
    "\n",
    "# helpers\n",
    "\n",
    "    def choose_arm_and_plot(self):\n",
    "\n",
    "\n",
    "        sampled_theta = []\n",
    "        dist_heights = []\n",
    "\n",
    "      \n",
    "        for i in range(self.num_options):\n",
    "\n",
    "            dist = stats.beta(self.prior[i,0]+self.successes[i], \n",
    "                              self.prior[i,1]+self.trials[i] - self.successes[i])\n",
    "            sample = dist.rvs()\n",
    "            sampled_theta += [sample]\n",
    "            dist_heights += [dist.pdf(sample)]\n",
    "\n",
    "            \n",
    "        w = 10\n",
    "        z = 5\n",
    "        colors = iter(cm.rainbow(np.linspace(0, 1, self.num_options)))\n",
    "            \n",
    "        for k,i in enumerate(range(self.num_options)):\n",
    "                color = next(colors)\n",
    "\n",
    "                dist = stats.beta(self.prior[i,0] + self.successes[i],\n",
    "                            self.prior[i,1] + self.trials[i] - self.successes[i])\n",
    "                x = np.linspace(0,1,100)\n",
    "                y = dist.pdf(x)\n",
    "                plt.plot(x,y,color=color,label=\"arm #%i\"%(i+1),alpha=0.8)\n",
    "\n",
    "                plt.scatter(sampled_theta[i],dist_heights[i], s = 200,label=f'sample drawn from arm {i}')\n",
    "\n",
    "                plt.fill_between(x,0,y,alpha=1/(self.num_options+1),color=color)\n",
    "                leg = plt.legend()\n",
    "                plt.tight_layout    \n",
    "      \n",
    "        return(sampled_theta.index(max(sampled_theta)))  \n",
    "\n",
    "\n",
    "    def plot_params(self):\n",
    "        \"\"\"plot the distributions that underly the arms\"\"\"\n",
    "        \n",
    "        w = 10\n",
    "        z = 5\n",
    "        colors = iter(cm.rainbow(np.linspace(0, 1, self.num_options)))\n",
    "            \n",
    "        for k,i in enumerate(range(self.num_options)):\n",
    "                color = next(colors)\n",
    "\n",
    "                dist = stats.beta(self.prior[i,0] + self.successes[i],\n",
    "                            self.prior[i,1] + self.trials[i] - self.successes[i])\n",
    "                x = np.linspace(0,1,100)\n",
    "                y = dist.pdf(x)\n",
    "                plt.plot(x,y,color=color,label=\"arm #%i\"%(i+1))\n",
    "                plt.fill_between(x,0,y,alpha=1/self.num_options,color=color)\n",
    "                leg = plt.legend()\n",
    "                plt.tight_layout\n"
   ]
  },
  {
   "cell_type": "code",
   "execution_count": null,
   "metadata": {},
   "outputs": [],
   "source": [
    "\n"
   ]
  },
  {
   "cell_type": "code",
   "execution_count": null,
   "metadata": {},
   "outputs": [
    {
     "data": {
      "text/plain": [
       "0.63"
      ]
     },
     "execution_count": null,
     "metadata": {},
     "output_type": "execute_result"
    }
   ],
   "source": [
    "bb = BetaBandit()\n",
    "np.mean([bb.choose_arm() for x in range(100)])"
   ]
  },
  {
   "cell_type": "code",
   "execution_count": null,
   "metadata": {},
   "outputs": [
    {
     "data": {
      "text/plain": [
       "1"
      ]
     },
     "execution_count": null,
     "metadata": {},
     "output_type": "execute_result"
    },
    {
     "data": {
      "image/png": "[encoded data removed]",
      "text/plain": [
       "<Figure size 432x288 with 1 Axes>"
      ]
     },
     "metadata": {
      "needs_background": "light"
     },
     "output_type": "display_data"
    }
   ],
   "source": [
    "bb.choose_arm_and_plot() #uniform binomials, no observations yet"
   ]
  },
  {
   "cell_type": "code",
   "execution_count": null,
   "metadata": {},
   "outputs": [
    {
     "data": {
      "text/plain": [
       "1"
      ]
     },
     "execution_count": null,
     "metadata": {},
     "output_type": "execute_result"
    },
    {
     "data": {
      "image/png": "[encoded data removed]",
      "text/plain": [
       "<Figure size 432x288 with 1 Axes>"
      ]
     },
     "metadata": {
      "needs_background": "light"
     },
     "output_type": "display_data"
    }
   ],
   "source": [
    "bb.choose_arm_and_plot() #uniform binomials, no observations yet"
   ]
  },
  {
   "cell_type": "code",
   "execution_count": null,
   "metadata": {},
   "outputs": [],
   "source": [
    "bb.update(0,0)\n",
    "bb.update(0,1)\n",
    "bb.update(0,1)"
   ]
  },
  {
   "cell_type": "code",
   "execution_count": null,
   "metadata": {},
   "outputs": [
    {
     "data": {
      "text/plain": [
       "0.43"
      ]
     },
     "execution_count": null,
     "metadata": {},
     "output_type": "execute_result"
    }
   ],
   "source": [
    "np.mean([bb.choose_arm() for x in range(100)])"
   ]
  },
  {
   "cell_type": "code",
   "execution_count": null,
   "metadata": {},
   "outputs": [
    {
     "data": {
      "text/plain": [
       "0"
      ]
     },
     "execution_count": null,
     "metadata": {},
     "output_type": "execute_result"
    },
    {
     "data": {
      "image/png": "[encoded data removed]",
      "text/plain": [
       "<Figure size 432x288 with 1 Axes>"
      ]
     },
     "metadata": {
      "needs_background": "light"
     },
     "output_type": "display_data"
    }
   ],
   "source": [
    "bb.choose_arm_and_plot()"
   ]
  },
  {
   "cell_type": "code",
   "execution_count": null,
   "metadata": {},
   "outputs": [],
   "source": [
    "bb.update(1,0)\n",
    "bb.update(1,0)\n",
    "bb.update(1,0)"
   ]
  },
  {
   "cell_type": "code",
   "execution_count": null,
   "metadata": {},
   "outputs": [
    {
     "data": {
      "text/plain": [
       "0"
      ]
     },
     "execution_count": null,
     "metadata": {},
     "output_type": "execute_result"
    },
    {
     "data": {
      "image/png": "[encoded data removed]",
      "text/plain": [
       "<Figure size 432x288 with 1 Axes>"
      ]
     },
     "metadata": {
      "needs_background": "light"
     },
     "output_type": "display_data"
    }
   ],
   "source": [
    "bb.choose_arm_and_plot()"
   ]
  },
  {
   "cell_type": "markdown",
   "metadata": {},
   "source": [
    "## Contextual"
   ]
  },
  {
   "cell_type": "code",
   "execution_count": null,
   "metadata": {},
   "outputs": [],
   "source": [
    "#export\n",
    "class LogisticThompsonSampler(AbstractContextualSolver):\n",
    "\n",
    "    \n",
    "    def update(self,arm,context,reward):\n",
    "        \n",
    "        model = self.model_list[arm]\n",
    "        #X =  np.atleast_1d(np.append(arm, context))\n",
    "        X = np.atleast_2d(context)\n",
    "        # print(f'X {X}')\n",
    "    \n",
    "        reward = np.atleast_1d(reward)\n",
    "        #model.observe(X.reshape(1,-1), reward.reshape(1,-1))\n",
    "        model.observe(X, reward)\n",
    "        \n",
    "    def choose_arm(self,context):\n",
    "        reward_list = []\n",
    "\n",
    "        for arm in range(self.num_arms):\n",
    "            model = self.model_list[arm]\n",
    "            X = np.atleast_2d(context)\n",
    "            \n",
    "            probas = model.predict_proba(X)\n",
    "\n",
    "            reward_sample = probas[0][1]\n",
    "            \n",
    "            # print(reward_sample)\n",
    "        \n",
    "            reward_list += [reward_sample]\n",
    "\n",
    "            \n",
    "      \n",
    "        return np.argmax(reward_list)     \n",
    "    \n",
    "    \n",
    "    \n",
    "    \n",
    "    \n",
    "    \n",
    "    \n",
    "# helpers\n",
    "\n",
    "    def plot_params(self):\n",
    "        colors = iter(cm.rainbow(np.linspace(0, 1, self.num_arms)))\n",
    "\n",
    "        for arm in range(len(self.model_list)):\n",
    "            color = next(colors)\n",
    "\n",
    "            model = self.model_list[arm]\n",
    "            X_pdf = np.linspace(-2, 2, 1000)\n",
    "            pdf = stats.norm(loc=model.m, scale=model.q**(-1.0)).pdf(X_pdf)\n",
    "\n",
    "\n",
    "            # plotting distriution of weights\n",
    "            plt.plot(X_pdf, pdf, color=color, linewidth=2, alpha=0.5, label=f'estimated parameter arm {arm}')\n",
    "            plt.fill_between(X_pdf, pdf, 0, color=color, alpha=0.2)\n",
    "            plt.legend()\n",
    "\n",
    "        \n",
    "        \n",
    "    def choose_arm_and_plot(self,context):\n",
    "        colors = iter(cm.rainbow(np.linspace(0, 1, self.num_arms)))\n",
    "        reward_list = []\n",
    "\n",
    "        \n",
    "        for arm in range(self.num_arms):\n",
    "            model = self.model_list[arm]\n",
    "            X = np.atleast_1d(context)\n",
    "\n",
    "\n",
    "            reward_sample = model.predict_proba(X)[0]\n",
    "            reward_list += [reward_sample]\n",
    "            \n",
    "            # plot\n",
    "            color = next(colors)\n",
    "\n",
    "            model = self.model_list[arm]\n",
    "            X_pdf = np.linspace(-2, 2, 1000)\n",
    "            dist = stats.norm(loc=model.m, scale=model.alpha**(-1.0))\n",
    "            pdf = dist.pdf(X_pdf)\n",
    "            \n",
    "            height = dist.pdf(reward_sample)\n",
    "\n",
    "\n",
    "            # plotting distriution of weights\n",
    "            plt.plot(X_pdf, pdf, color=color, linewidth=2, alpha=0.5, label=f'estimated parameter arm {arm}')\n",
    "            plt.fill_between(X_pdf, pdf, 0, color=color, alpha=0.2)\n",
    "\n",
    "            \n",
    "            plt.scatter(reward_sample, height, s = 200,label=f'sample drawn from arm {arm}')\n",
    "\n",
    "            plt.legend()\n",
    "        return np.argmax(reward_list)     \n"
   ]
  },
  {
   "cell_type": "code",
   "execution_count": null,
   "metadata": {},
   "outputs": [],
   "source": [
    "from thompson_sampling.models import OnlineLogisticRegression\n",
    "from thompson_sampling.multi_armed_bandits import contextual_categorical_bandit"
   ]
  },
  {
   "cell_type": "code",
   "execution_count": null,
   "metadata": {},
   "outputs": [],
   "source": [
    "lts = LogisticThompsonSampler(OnlineLogisticRegression, num_arms=2, num_context = 1)"
   ]
  },
  {
   "cell_type": "code",
   "execution_count": null,
   "metadata": {},
   "outputs": [
    {
     "data": {
      "text/plain": [
       "-1.1227866404079636"
      ]
     },
     "execution_count": null,
     "metadata": {},
     "output_type": "execute_result"
    }
   ],
   "source": [
    "lts.model_list[0].get_weights()"
   ]
  },
  {
   "cell_type": "code",
   "execution_count": null,
   "metadata": {},
   "outputs": [
    {
     "data": {
      "text/plain": [
       "2"
      ]
     },
     "execution_count": null,
     "metadata": {},
     "output_type": "execute_result"
    },
    {
     "data": {
      "image/png": "[encoded data removed]",
      "text/plain": [
       "<Figure size 432x288 with 1 Axes>"
      ]
     },
     "metadata": {
      "needs_background": "light"
     },
     "output_type": "display_data"
    }
   ],
   "source": [
    "lts.choose_arm_and_plot(np.atleast_2d([0.9]))"
   ]
  },
  {
   "cell_type": "code",
   "execution_count": null,
   "metadata": {},
   "outputs": [],
   "source": []
  },
  {
   "cell_type": "code",
   "execution_count": null,
   "metadata": {},
   "outputs": [],
   "source": [
    "arm0 = 0\n",
    "arm1 = 1\n",
    "theta = [0.1, 1.9]\n",
    "noise = 0.0\n",
    "\n",
    "\n",
    "lts.update(arm1, .1, contextual_categorical_bandit(context = np.array(0.1),choice = arm1, theta = theta, noise = noise)[0])\n",
    "lts.update(arm1, .1, contextual_categorical_bandit(context = np.array(.1),choice = arm1, theta = theta, noise = noise)[0])\n",
    "lts.update(arm1, .5, contextual_categorical_bandit(context = np.array(0.5),choice = arm1, theta = theta, noise = noise)[0])\n",
    "lts.update(arm1, .5, contextual_categorical_bandit(context = np.array(.5),choice = arm1, theta = theta, noise = noise)[0])\n",
    "lts.update(arm1, .9, contextual_categorical_bandit(context = np.array(0.9),choice = arm1, theta = theta, noise = noise)[0])\n",
    "lts.update(arm1, .9, contextual_categorical_bandit(context = np.array(.9),choice = arm1, theta = theta, noise = noise)[0])\n"
   ]
  },
  {
   "cell_type": "code",
   "execution_count": null,
   "metadata": {},
   "outputs": [
    {
     "data": {
      "text/plain": [
       "0"
      ]
     },
     "execution_count": null,
     "metadata": {},
     "output_type": "execute_result"
    },
    {
     "data": {
      "image/png": "[encoded data removed]",
      "text/plain": [
       "<Figure size 432x288 with 1 Axes>"
      ]
     },
     "metadata": {
      "needs_background": "light"
     },
     "output_type": "display_data"
    }
   ],
   "source": [
    "lts.choose_arm_and_plot(0.9)"
   ]
  },
  {
   "cell_type": "code",
   "execution_count": null,
   "metadata": {},
   "outputs": [
    {
     "data": {
      "text/plain": [
       "0"
      ]
     },
     "execution_count": null,
     "metadata": {},
     "output_type": "execute_result"
    }
   ],
   "source": [
    "lts.choose_arm(0.9)"
   ]
  },
  {
   "cell_type": "code",
   "execution_count": null,
   "metadata": {},
   "outputs": [],
   "source": [
    "lts2 = LogisticThompsonSampler(OnlineLogisticRegression, num_arms=2, num_context = 2)"
   ]
  },
  {
   "cell_type": "code",
   "execution_count": null,
   "metadata": {},
   "outputs": [
    {
     "data": {
      "text/plain": [
       "0"
      ]
     },
     "execution_count": null,
     "metadata": {},
     "output_type": "execute_result"
    }
   ],
   "source": [
    "context = np.atleast_1d(np.array([1,1]))#.T#.reshape(1,-1)#.T\n",
    "\n",
    "lts2.choose_arm(context)"
   ]
  },
  {
   "cell_type": "code",
   "execution_count": null,
   "metadata": {},
   "outputs": [
    {
     "data": {
      "text/plain": [
       "(2,)"
      ]
     },
     "execution_count": null,
     "metadata": {},
     "output_type": "execute_result"
    }
   ],
   "source": [
    "context.shape"
   ]
  },
  {
   "cell_type": "code",
   "execution_count": null,
   "metadata": {},
   "outputs": [],
   "source": [
    "lts2.update(0,context,np.atleast_1d(1))"
   ]
  },
  {
   "cell_type": "markdown",
   "metadata": {},
   "source": [
    "# Numerical\n",
    "\n",
    "## no context\n"
   ]
  },
  {
   "cell_type": "code",
   "execution_count": null,
   "metadata": {},
   "outputs": [],
   "source": [
    "#export\n",
    "class GaussianBandit(AbstractSolver):\n",
    "\n",
    "    def __init__(self, num_options = 2, mean_prior = 0, std_prior = 1):\n",
    "        \"\"\"initialize BetaBandit\"\"\"\n",
    "        self.num_options = num_options\n",
    "\n",
    "        #setting the prior, either uninformative or user generated\n",
    "#         if prior == None:\n",
    "#             self.prior = np.ones(shape=(num_options,2))\n",
    "#         else:\n",
    "#             assert prior.shape == (num_options,2), f\"the prior seems to have wrong dimensionality, please conform to (num_options, 2){(num_options,2)}\"\n",
    "#             self.prior = prior\n",
    "\n",
    "        self.trials = np.zeros(shape=(num_options,))\n",
    "        self.sum_x = np.zeros(shape=(num_options,))\n",
    "        self.sum_x2 = np.zeros(shape=(num_options,))\n",
    "\n",
    "        self.mean_prior = mean_prior\n",
    "        self.std_prior = std_prior\n",
    "\n",
    "    def choose_arm(self):\n",
    "        \"\"\"draw from arms.\n",
    "        arm with the highest expected outcome wins. \n",
    "        expected outcome is determined stochastically, so even an arm with bad \n",
    "        outcome until now will have a chance of being drawn\"\"\"\n",
    "\n",
    "        sampled_outcomes = []\n",
    "        for i in range(self.num_options):\n",
    "            \n",
    "            if self.trials[i] > 1:\n",
    "                mean = self.compute_online_mean(i)\n",
    "                stdev = self.compute_online_std(i, mean)\n",
    "            else:\n",
    "                mean = 0\n",
    "                stdev = 1\n",
    "            \n",
    "\n",
    "            dist = stats.norm(mean,stdev)\n",
    "            \n",
    "            sampled_outcome = dist.rvs()\n",
    "            #print(sampled_outcome)\n",
    "            \n",
    "            sampled_outcomes += [sampled_outcome]\n",
    "            \n",
    "        return np.argmax(sampled_outcomes)\n",
    "      \n",
    "        #return(sampled_outcomes.argmax(sampled_outcomes))   \n",
    "        \n",
    "    def update(self, arm, outcome):\n",
    "        \"\"\"update parameters of specific arm\"\"\"\n",
    "        #count times arm has been drawn\"\"\"\n",
    "        self.trials[arm] = self.trials[arm] +1\n",
    "        #count number of successes on that arm\"\"\"\n",
    "\n",
    "        # for decay factors: self.successes = self.successes *.99\n",
    "        \n",
    "        self.sum_x[arm] += outcome\n",
    "        self.sum_x2[arm] += outcome*outcome\n",
    "        \n",
    "        \n",
    "    def compute_online_mean(self, arm):\n",
    "        return self.sum_x[arm] / (self.trials[arm])\n",
    "    \n",
    "    def compute_online_std(self, arm, mean = None):\n",
    "        mean = mean or self.compute_online_mean(arm)\n",
    "        #np max against degeneration)\n",
    "        return np.max([np.sqrt((self.sum_x2[arm] / (self.trials[arm])) - (mean * mean)), 0.00001])\n",
    "        \n",
    "        \n",
    "\n",
    "        \n",
    "    def plot_params(self):\n",
    "        \"\"\"plot the distributions that underly the arms\"\"\"\n",
    "        \n",
    "        w = 10\n",
    "        z = 5\n",
    "        colors = iter(cm.rainbow(np.linspace(0, 1, self.num_options)))\n",
    "            \n",
    "        for k,i in enumerate(range(self.num_options)):\n",
    "                color = next(colors)\n",
    "                \n",
    "                \n",
    "            \n",
    "            \n",
    "                if self.trials[i] > 1:\n",
    "                    mean = self.compute_online_mean(i)\n",
    "                    stdev = self.compute_online_std(i, mean)\n",
    "                else:\n",
    "                    mean = 0\n",
    "                    stdev = 1\n",
    "\n",
    "\n",
    "                dist = stats.norm(mean,stdev)\n",
    "\n",
    "                x = np.linspace(-6,6,100)\n",
    "                y = dist.pdf(x)\n",
    "                plt.plot(x,y,color=color,label=\"arm #%i\"%(i+1))\n",
    "                plt.fill_between(x,0,y,alpha=1/self.num_options,color=color)\n",
    "                leg = plt.legend()\n",
    "                plt.tight_layout\n",
    "     \n",
    "\n",
    "            "
   ]
  },
  {
   "cell_type": "code",
   "execution_count": null,
   "metadata": {},
   "outputs": [],
   "source": [
    "num_arms = 10"
   ]
  },
  {
   "cell_type": "code",
   "execution_count": null,
   "metadata": {},
   "outputs": [],
   "source": [
    "gb = GaussianBandit(num_arms)"
   ]
  },
  {
   "cell_type": "code",
   "execution_count": null,
   "metadata": {},
   "outputs": [
    {
     "data": {
      "image/png": "[encoded data removed]",
      "text/plain": [
       "<Figure size 432x288 with 1 Axes>"
      ]
     },
     "metadata": {
      "needs_background": "light"
     },
     "output_type": "display_data"
    }
   ],
   "source": [
    "gb.plot_params()"
   ]
  },
  {
   "cell_type": "code",
   "execution_count": null,
   "metadata": {},
   "outputs": [
    {
     "data": {
      "text/plain": [
       "(4.61,\n",
       " (array([ 8,  9,  5,  7, 15,  9,  5, 14, 28]),\n",
       "  array([0, 1, 2, 3, 4, 5, 6, 7, 8, 9])))"
      ]
     },
     "execution_count": null,
     "metadata": {},
     "output_type": "execute_result"
    }
   ],
   "source": [
    "np.mean([gb.choose_arm() for x in range(100)]), np.histogram([gb.choose_arm() for x in range(100)], bins=list(range(num_arms)))"
   ]
  },
  {
   "cell_type": "code",
   "execution_count": null,
   "metadata": {},
   "outputs": [],
   "source": [
    "gb.update(0, 10)\n",
    "gb.update(0, 1)\n",
    "gb.update(1, -3)\n",
    "gb.update(1, 0)"
   ]
  },
  {
   "cell_type": "code",
   "execution_count": null,
   "metadata": {},
   "outputs": [
    {
     "data": {
      "image/png": "[encoded data removed]",
      "text/plain": [
       "<Figure size 432x288 with 1 Axes>"
      ]
     },
     "metadata": {
      "needs_background": "light"
     },
     "output_type": "display_data"
    }
   ],
   "source": [
    "# degenerate gaussian\n",
    "gb.plot_params()"
   ]
  },
  {
   "cell_type": "code",
   "execution_count": null,
   "metadata": {},
   "outputs": [
    {
     "data": {
      "text/plain": [
       "(0.81,\n",
       " (array([83,  2,  2,  1,  5,  2,  1,  1,  3]),\n",
       "  array([0, 1, 2, 3, 4, 5, 6, 7, 8, 9])))"
      ]
     },
     "execution_count": null,
     "metadata": {},
     "output_type": "execute_result"
    }
   ],
   "source": [
    "np.mean([gb.choose_arm() for x in range(100)]), np.histogram([gb.choose_arm() for x in range(100)], bins=list(range(num_arms)))"
   ]
  },
  {
   "cell_type": "code",
   "execution_count": null,
   "metadata": {},
   "outputs": [
    {
     "data": {
      "text/plain": [
       "array([2., 2., 0., 0., 0., 0., 0., 0., 0., 0.])"
      ]
     },
     "execution_count": null,
     "metadata": {},
     "output_type": "execute_result"
    }
   ],
   "source": [
    "gb.trials"
   ]
  },
  {
   "cell_type": "code",
   "execution_count": null,
   "metadata": {},
   "outputs": [
    {
     "data": {
      "text/plain": [
       "(5.5, -1.5)"
      ]
     },
     "execution_count": null,
     "metadata": {},
     "output_type": "execute_result"
    }
   ],
   "source": [
    "gb.compute_online_mean(0), gb.compute_online_mean(1)"
   ]
  },
  {
   "cell_type": "code",
   "execution_count": null,
   "metadata": {},
   "outputs": [
    {
     "data": {
      "text/plain": [
       "(4.5, 1.5)"
      ]
     },
     "execution_count": null,
     "metadata": {},
     "output_type": "execute_result"
    }
   ],
   "source": [
    "gb.compute_online_std(0), gb.compute_online_std(1)"
   ]
  },
  {
   "cell_type": "code",
   "execution_count": null,
   "metadata": {},
   "outputs": [],
   "source": [
    "gb.update(1, 5)\n",
    "gb.update(0, 1)\n",
    "gb.update(0, -10)\n",
    "gb.update(1, 10)"
   ]
  },
  {
   "cell_type": "code",
   "execution_count": null,
   "metadata": {},
   "outputs": [
    {
     "data": {
      "text/plain": [
       "(1.56,\n",
       " (array([37, 45,  1,  2,  6,  1,  2,  3,  3]),\n",
       "  array([0, 1, 2, 3, 4, 5, 6, 7, 8, 9])))"
      ]
     },
     "execution_count": null,
     "metadata": {},
     "output_type": "execute_result"
    }
   ],
   "source": [
    "np.mean([gb.choose_arm() for x in range(100)]), np.histogram([gb.choose_arm() for x in range(100)], bins=list(range(num_arms)))"
   ]
  },
  {
   "cell_type": "code",
   "execution_count": null,
   "metadata": {},
   "outputs": [
    {
     "data": {
      "text/plain": [
       "(0.5, 3.0)"
      ]
     },
     "execution_count": null,
     "metadata": {},
     "output_type": "execute_result"
    }
   ],
   "source": [
    "gb.compute_online_mean(0), gb.compute_online_mean(1)"
   ]
  },
  {
   "cell_type": "code",
   "execution_count": null,
   "metadata": {},
   "outputs": [
    {
     "data": {
      "text/plain": [
       "(7.088723439378913, 4.949747468305833)"
      ]
     },
     "execution_count": null,
     "metadata": {},
     "output_type": "execute_result"
    }
   ],
   "source": [
    "gb.compute_online_std(0), gb.compute_online_std(1)"
   ]
  },
  {
   "cell_type": "code",
   "execution_count": null,
   "metadata": {},
   "outputs": [
    {
     "data": {
      "image/png": "[encoded data removed]",
      "text/plain": [
       "<Figure size 432x288 with 1 Axes>"
      ]
     },
     "metadata": {
      "needs_background": "light"
     },
     "output_type": "display_data"
    }
   ],
   "source": [
    "gb.plot_params()"
   ]
  },
  {
   "cell_type": "markdown",
   "metadata": {},
   "source": [
    "\n",
    "## context"
   ]
  },
  {
   "cell_type": "code",
   "execution_count": null,
   "metadata": {},
   "outputs": [],
   "source": [
    "#export\n",
    "\n",
    "class GaussianContextualSampler(AbstractContextualSolver):\n",
    "\n",
    "    \n",
    "    def update(self,arm,context,reward):\n",
    "        \n",
    "        model = self.model_list[arm]\n",
    "        X = np.atleast_2d(context)\n",
    "    \n",
    "        reward = np.atleast_1d(reward)\n",
    "        model.observe(X, reward)\n",
    "        \n",
    "    def choose_arm(self,context):\n",
    "        reward_list = []\n",
    "        \n",
    "        \n",
    "\n",
    "        for arm in range(self.num_arms):\n",
    "            model = self.model_list[arm]\n",
    "            X = np.atleast_2d(context)\n",
    "            \n",
    "            arm_dist = model.predict(X)\n",
    "            \n",
    "\n",
    "            reward_sample = arm_dist.rvs()\n",
    "            \n",
    "        \n",
    "            reward_list += [reward_sample]\n",
    "\n",
    "            \n",
    "      \n",
    "        return np.argmax(reward_list)     \n",
    "    \n",
    "    \n",
    "    \n",
    "    \n",
    "      \n",
    "        \n",
    "    def choose_arm_and_plot(self,context):\n",
    "        colors = iter(cm.rainbow(np.linspace(0, 1, self.num_arms)))\n",
    "        reward_list = []\n",
    "\n",
    "        \n",
    "\n",
    "\n",
    "\n",
    "        for arm in range(self.num_arms):\n",
    "            model = self.model_list[arm]\n",
    "            X = np.atleast_2d(context)\n",
    "\n",
    "            arm_dist = model.predict(X)\n",
    "\n",
    "\n",
    "            reward_sample = arm_dist.rvs()\n",
    "\n",
    "\n",
    "            reward_list += [reward_sample]\n",
    "\n",
    "\n",
    "            \n",
    "            # plot\n",
    "            color = next(colors)\n",
    "\n",
    "            model = self.model_list[arm]\n",
    "            X_pdf = np.linspace(-10, 10, 1000)\n",
    "            pdf = arm_dist.pdf(X_pdf)\n",
    "            \n",
    "            height = arm_dist.pdf(reward_sample)\n",
    "\n",
    "\n",
    "            # plotting distriution of weights\n",
    "            plt.plot(X_pdf, pdf, color=color, linewidth=2, alpha=0.5, label=f'estimated parameter arm {arm}')\n",
    "            plt.fill_between(X_pdf, pdf, 0, color=color, alpha=0.2)\n",
    "\n",
    "            \n",
    "            plt.scatter(reward_sample, height, s = 200,label=f'sample drawn from arm {arm}')\n",
    "\n",
    "            plt.legend()\n",
    "        return np.argmax(reward_list)     \n",
    "\n"
   ]
  },
  {
   "cell_type": "code",
   "execution_count": null,
   "metadata": {},
   "outputs": [],
   "source": [
    "from thompson_sampling.models import BatchBayesLinReg\n",
    "from thompson_sampling.multi_armed_bandits import contextual_numerical_bandit"
   ]
  },
  {
   "cell_type": "code",
   "execution_count": null,
   "metadata": {},
   "outputs": [],
   "source": [
    "gcs = GaussianContextualSampler(BatchBayesLinReg,num_arms=2, num_context = 1,model_params={'alpha':1, 'beta':4})"
   ]
  },
  {
   "cell_type": "code",
   "execution_count": null,
   "metadata": {},
   "outputs": [],
   "source": []
  },
  {
   "cell_type": "code",
   "execution_count": null,
   "metadata": {},
   "outputs": [
    {
     "data": {
      "text/plain": [
       "<matplotlib.collections.PathCollection at 0x7fc17b41f2e0>"
      ]
     },
     "execution_count": null,
     "metadata": {},
     "output_type": "execute_result"
    },
    {
     "data": {
      "image/png": "[encoded data removed]",
      "text/plain": [
       "<Figure size 432x288 with 1 Axes>"
      ]
     },
     "metadata": {
      "needs_background": "light"
     },
     "output_type": "display_data"
    }
   ],
   "source": [
    "arm0 = 0\n",
    "arm1 = 1\n",
    "theta = [0.1, 1.9]\n",
    "noise = 1\n",
    "\n",
    "\n",
    "\n",
    "X = np.linspace(-10,10, 10)\n",
    "y0 = [contextual_numerical_bandit(x,0,theta,noise) for x in X]\n",
    "y1 = [contextual_numerical_bandit(x,1,theta,noise) for x in X]\n",
    "\n",
    "plt.scatter(X,y1)\n",
    "plt.scatter(X,y0)"
   ]
  },
  {
   "cell_type": "code",
   "execution_count": null,
   "metadata": {},
   "outputs": [
    {
     "data": {
      "text/plain": [
       "[None, None, None, None, None, None]"
      ]
     },
     "execution_count": null,
     "metadata": {},
     "output_type": "execute_result"
    }
   ],
   "source": [
    "\n",
    "\n",
    "contexts = [10,-10,-1,9.5,-9,1]\n",
    "\n",
    "a = [gcs.update(arm1, context, contextual_numerical_bandit(context = np.array(context),choice = arm1, theta = theta, noise = noise)) for context in contexts]\n",
    "\n",
    "a"
   ]
  },
  {
   "cell_type": "code",
   "execution_count": null,
   "metadata": {},
   "outputs": [
    {
     "data": {
      "text/plain": [
       "[18.964339109966772,\n",
       " -18.64914369045201,\n",
       " -4.030550327843968,\n",
       " 16.828605269449085,\n",
       " -17.247417544710956,\n",
       " 0.6551501069414012]"
      ]
     },
     "execution_count": null,
     "metadata": {},
     "output_type": "execute_result"
    }
   ],
   "source": [
    "a = [contextual_numerical_bandit(context = np.array(context),choice = arm0, theta = theta, noise = noise) for context in contexts]\n",
    "a"
   ]
  },
  {
   "cell_type": "code",
   "execution_count": null,
   "metadata": {},
   "outputs": [
    {
     "data": {
      "text/plain": [
       "1.3916492408459904"
      ]
     },
     "execution_count": null,
     "metadata": {},
     "output_type": "execute_result"
    }
   ],
   "source": [
    "contextual_numerical_bandit(context = np.array(10),choice = arm1, theta = theta, noise = noise)"
   ]
  },
  {
   "cell_type": "code",
   "execution_count": null,
   "metadata": {},
   "outputs": [],
   "source": [
    "#plt.plot(context,a)"
   ]
  },
  {
   "cell_type": "code",
   "execution_count": null,
   "metadata": {},
   "outputs": [
    {
     "data": {
      "text/plain": [
       "1.1252044098639682"
      ]
     },
     "execution_count": null,
     "metadata": {},
     "output_type": "execute_result"
    }
   ],
   "source": [
    " contextual_numerical_bandit(context = np.array(context),choice = arm1, theta = theta, noise = noise)"
   ]
  },
  {
   "cell_type": "code",
   "execution_count": null,
   "metadata": {},
   "outputs": [],
   "source": [
    "gcs.update(arm1, 10,  contextual_numerical_bandit(context = np.array(context),choice = arm1, theta = theta, noise = noise))"
   ]
  },
  {
   "cell_type": "code",
   "execution_count": null,
   "metadata": {},
   "outputs": [
    {
     "data": {
      "text/plain": [
       "1"
      ]
     },
     "execution_count": null,
     "metadata": {},
     "output_type": "execute_result"
    },
    {
     "data": {
      "image/png": "[encoded data removed]",
      "text/plain": [
       "<Figure size 432x288 with 1 Axes>"
      ]
     },
     "metadata": {
      "needs_background": "light"
     },
     "output_type": "display_data"
    }
   ],
   "source": [
    "gcs.choose_arm_and_plot(5)"
   ]
  },
  {
   "cell_type": "code",
   "execution_count": null,
   "metadata": {},
   "outputs": [
    {
     "data": {
      "text/plain": [
       "0"
      ]
     },
     "execution_count": null,
     "metadata": {},
     "output_type": "execute_result"
    },
    {
     "data": {
      "image/png": "[encoded data removed]",
      "text/plain": [
       "<Figure size 432x288 with 1 Axes>"
      ]
     },
     "metadata": {
      "needs_background": "light"
     },
     "output_type": "display_data"
    }
   ],
   "source": [
    "\n",
    "gcs.choose_arm_and_plot(-5)"
   ]
  },
  {
   "cell_type": "markdown",
   "metadata": {},
   "source": [
    "# numerical or categorical reward, categorical arm\n",
    "\n",
    "## no context"
   ]
  },
  {
   "cell_type": "code",
   "execution_count": null,
   "metadata": {},
   "outputs": [],
   "source": [
    "#export\n",
    "class GaussianCategoricalBandit(GaussianBandit):\n",
    "\n",
    "\n",
    "    def choose_arm(self):\n",
    "        \"\"\"draw from arms.\n",
    "        arm with the highest expected outcome wins. \n",
    "        expected outcome is determined stochastically, so even an arm with bad \n",
    "        outcome until now will have a chance of being drawn\"\"\"\n",
    "\n",
    "        sampled_outcomes = []\n",
    "        arm_samples = np.zeros(shape=(self.num_options,100))\n",
    "        for arm in range(self.num_options):\n",
    "            \n",
    "            for i in range(100):\n",
    "            \n",
    "                if self.trials[arm] > 1:\n",
    "                    mean = self.compute_online_mean(arm)\n",
    "                    stdev = self.compute_online_std(arm, mean)\n",
    "                else:\n",
    "                    mean = 0\n",
    "                    stdev = 1\n",
    "\n",
    "\n",
    "                dist = stats.norm(mean,stdev)\n",
    "\n",
    "                arm_samples[arm,i] = dist.rvs()\n",
    "\n",
    "        winning_ratio = np.argmax(arm_samples,0)\n",
    "\n",
    "        winning_arm = np.bincount(winning_ratio).argmax()\n",
    "\n",
    "        \n",
    "        # ToDo sample from ratio of winning arms, i.e. nb.bincount(winning_ratio).mean()\n",
    "        return winning_arm\n",
    "        \n",
    "        \n",
    "       \n",
    "    def choose_arm_and_plot(self):\n",
    "        print('this is not implemented, will not plot the distribution, please also call plot arm')\n",
    "        return self.choose_arm()\n",
    "\n",
    "\n",
    "            "
   ]
  },
  {
   "cell_type": "code",
   "execution_count": null,
   "metadata": {},
   "outputs": [],
   "source": [
    "gcb = GaussianCategoricalBandit(2)"
   ]
  },
  {
   "cell_type": "code",
   "execution_count": null,
   "metadata": {},
   "outputs": [
    {
     "data": {
      "image/png": "[encoded data removed]",
      "text/plain": [
       "<Figure size 432x288 with 1 Axes>"
      ]
     },
     "metadata": {
      "needs_background": "light"
     },
     "output_type": "display_data"
    }
   ],
   "source": [
    "gcb.plot_params()"
   ]
  },
  {
   "cell_type": "code",
   "execution_count": null,
   "metadata": {},
   "outputs": [
    {
     "data": {
      "text/plain": [
       "[0, 1]"
      ]
     },
     "execution_count": null,
     "metadata": {},
     "output_type": "execute_result"
    }
   ],
   "source": [
    "[i for i in range(gcb.num_options)]"
   ]
  },
  {
   "cell_type": "code",
   "execution_count": null,
   "metadata": {},
   "outputs": [],
   "source": [
    "gcb.update(1,0)\n",
    "gcb.update(1,0)\n",
    "gcb.update(1,0)\n",
    "gcb.update(1,1)\n",
    "gcb.update(0,0)\n",
    "gcb.update(0,1)\n",
    "gcb.update(0,1)\n",
    "gcb.update(0,1)\n"
   ]
  },
  {
   "cell_type": "code",
   "execution_count": null,
   "metadata": {},
   "outputs": [
    {
     "data": {
      "image/png": "[encoded data removed]",
      "text/plain": [
       "<Figure size 432x288 with 1 Axes>"
      ]
     },
     "metadata": {
      "needs_background": "light"
     },
     "output_type": "display_data"
    }
   ],
   "source": [
    "gcb.plot_params()"
   ]
  },
  {
   "cell_type": "code",
   "execution_count": null,
   "metadata": {},
   "outputs": [],
   "source": [
    "gcb.update(1, 5)\n",
    "gcb.update(0, 1)\n",
    "gcb.update(0, -10)\n",
    "gcb.update(1, 10)"
   ]
  },
  {
   "cell_type": "code",
   "execution_count": null,
   "metadata": {},
   "outputs": [
    {
     "data": {
      "image/png": "[encoded data removed]",
      "text/plain": [
       "<Figure size 432x288 with 1 Axes>"
      ]
     },
     "metadata": {
      "needs_background": "light"
     },
     "output_type": "display_data"
    }
   ],
   "source": [
    "gcb.plot_params()"
   ]
  },
  {
   "cell_type": "markdown",
   "metadata": {},
   "source": [
    "## contextual"
   ]
  },
  {
   "cell_type": "code",
   "execution_count": null,
   "metadata": {},
   "outputs": [],
   "source": [
    "#export\n",
    "class GaussianUniversalContextualSampler(GaussianContextualSampler):\n",
    "\n",
    "    \n",
    "    def update(self,arm,context,reward):\n",
    "        \n",
    "        model = self.model_list[arm]\n",
    "        X = np.atleast_2d(context)\n",
    "    \n",
    "        reward = np.atleast_1d(reward)\n",
    "        model.observe(X, reward)\n",
    "        \n",
    "        \n",
    "        \n",
    "        \n",
    "        \n",
    "        \n",
    "    def choose_arm(self, context, num_samples = 10):\n",
    "        \"\"\"draw from arms.\n",
    "        arm with the highest expected outcome wins. \n",
    "        expected outcome is determined stochastically, so even an arm with bad \n",
    "        outcome until now will have a chance of being drawn\"\"\"\n",
    "\n",
    "        sampled_outcomes = []\n",
    "        arm_samples = np.zeros(shape=(self.num_arms,num_samples))\n",
    "        \n",
    "        X = np.atleast_2d(context)\n",
    "        \n",
    "        for arm in range(self.num_arms):\n",
    "            model = self.model_list[arm]\n",
    "            arm_dist = model.predict(X)\n",
    "\n",
    " \n",
    "            for i in range(num_samples):\n",
    "            \n",
    "                arm_samples[arm,i] = arm_dist.rvs()\n",
    "\n",
    "        winning_ratio = np.argmax(arm_samples,0)\n",
    "\n",
    "        winning_arm = np.bincount(winning_ratio).argmax()\n",
    "\n",
    "        \n",
    "        # ToDo sample from ratio of winning arms, i.e. nb.bincount(winning_ratio).mean()\n",
    "        return winning_arm\n",
    "        \n",
    "        \n",
    "\n",
    "    "
   ]
  },
  {
   "cell_type": "code",
   "execution_count": null,
   "metadata": {},
   "outputs": [],
   "source": [
    "#gucs = GaussianUniversalContextualSampler"
   ]
  },
  {
   "cell_type": "code",
   "execution_count": null,
   "metadata": {},
   "outputs": [],
   "source": [
    "gucs = GaussianUniversalContextualSampler(BatchBayesLinReg,num_arms=2, num_context = 1,model_params={'alpha':1, 'beta':4})"
   ]
  },
  {
   "cell_type": "code",
   "execution_count": null,
   "metadata": {},
   "outputs": [],
   "source": [
    "arm0 = 0\n",
    "arm1 = 1\n",
    "theta = [0.1, 1.9]\n",
    "noise = 0.0\n",
    "\n",
    "\n",
    "contexts = [10,-10,-1,9.5,-9,1]\n",
    "\n",
    "a = [gucs.update(arm1, context, contextual_numerical_bandit(context = np.array(context),choice = arm1, theta = theta, noise = noise)) for context in contexts]\n",
    "a = [gucs.update(arm1, context, contextual_numerical_bandit(context = np.array(context),choice = arm1, theta = theta, noise = noise)) for context in contexts]\n",
    "a = [gucs.update(arm1, context, contextual_numerical_bandit(context = np.array(context),choice = arm1, theta = theta, noise = noise)) for context in contexts]\n"
   ]
  },
  {
   "cell_type": "code",
   "execution_count": null,
   "metadata": {},
   "outputs": [
    {
     "data": {
      "text/plain": [
       "0"
      ]
     },
     "execution_count": null,
     "metadata": {},
     "output_type": "execute_result"
    },
    {
     "data": {
      "image/png": "[encoded data removed]",
      "text/plain": [
       "<Figure size 432x288 with 1 Axes>"
      ]
     },
     "metadata": {
      "needs_background": "light"
     },
     "output_type": "display_data"
    }
   ],
   "source": [
    "gcs.choose_arm_and_plot(1)"
   ]
  },
  {
   "cell_type": "code",
   "execution_count": null,
   "metadata": {},
   "outputs": [
    {
     "data": {
      "text/plain": [
       "0"
      ]
     },
     "execution_count": null,
     "metadata": {},
     "output_type": "execute_result"
    },
    {
     "data": {
      "image/png": "[encoded data removed]",
      "text/plain": [
       "<Figure size 432x288 with 1 Axes>"
      ]
     },
     "metadata": {
      "needs_background": "light"
     },
     "output_type": "display_data"
    }
   ],
   "source": [
    "gcs.choose_arm_and_plot(0)"
   ]
  },
  {
   "cell_type": "code",
   "execution_count": null,
   "metadata": {},
   "outputs": [
    {
     "data": {
      "text/plain": [
       "0"
      ]
     },
     "execution_count": null,
     "metadata": {},
     "output_type": "execute_result"
    },
    {
     "data": {
      "image/png": "[encoded data removed]",
      "text/plain": [
       "<Figure size 432x288 with 1 Axes>"
      ]
     },
     "metadata": {
      "needs_background": "light"
     },
     "output_type": "display_data"
    }
   ],
   "source": [
    "gcs.choose_arm_and_plot(0)"
   ]
  },
  {
   "cell_type": "code",
   "execution_count": null,
   "metadata": {},
   "outputs": [
    {
     "name": "stdout",
     "output_type": "stream",
     "text": [
      "Converted 00_abstractions.ipynb.\n",
      "Converted 01_multi_armed_bandits.ipynb.\n",
      "Converted 02_models.ipynb.\n",
      "Converted 03_ensembles.ipynb.\n",
      "Converted 04_solvers.ipynb.\n",
      "Converted 05_bayesian_regression.ipynb.\n",
      "Converted 06_network_with_thompson_attention.ipynb.\n",
      "Converted 99_helpers.ipynb.\n",
      "Converted contextual_bandits.ipynb.\n",
      "Converted index.ipynb.\n",
      "This cell doesn't have an export destination and was ignored:\n",
      "e\n"
     ]
    },
    {
     "ename": "FileNotFoundError",
     "evalue": "[Errno 2] No such file or directory: '/home/thomas/Documents/GitHub/thompson_sampling/thompson_sampling/None.py'",
     "output_type": "error",
     "traceback": [
      "\u001b[0;31m---------------------------------------------------------------------------\u001b[0m",
      "\u001b[0;31mFileNotFoundError\u001b[0m                         Traceback (most recent call last)",
      "\u001b[0;32m<ipython-input-67-6ff9d98e6966>\u001b[0m in \u001b[0;36m<module>\u001b[0;34m\u001b[0m\n\u001b[1;32m      1\u001b[0m \u001b[0;32mfrom\u001b[0m \u001b[0mnbdev\u001b[0m\u001b[0;34m.\u001b[0m\u001b[0mexport\u001b[0m \u001b[0;32mimport\u001b[0m \u001b[0;34m*\u001b[0m\u001b[0;34m\u001b[0m\u001b[0;34m\u001b[0m\u001b[0m\n\u001b[0;32m----> 2\u001b[0;31m \u001b[0mnotebook2script\u001b[0m\u001b[0;34m(\u001b[0m\u001b[0;34m)\u001b[0m\u001b[0;34m\u001b[0m\u001b[0;34m\u001b[0m\u001b[0m\n\u001b[0m",
      "\u001b[0;32m~/anaconda3/envs/ippen1/lib/python3.8/site-packages/nbdev/export.py\u001b[0m in \u001b[0;36mnotebook2script\u001b[0;34m(fname, silent, to_dict)\u001b[0m\n\u001b[1;32m    369\u001b[0m     \u001b[0;32melse\u001b[0m\u001b[0;34m:\u001b[0m \u001b[0mfiles\u001b[0m \u001b[0;34m=\u001b[0m \u001b[0mglob\u001b[0m\u001b[0;34m.\u001b[0m\u001b[0mglob\u001b[0m\u001b[0;34m(\u001b[0m\u001b[0mfname\u001b[0m\u001b[0;34m)\u001b[0m\u001b[0;34m\u001b[0m\u001b[0;34m\u001b[0m\u001b[0m\n\u001b[1;32m    370\u001b[0m     \u001b[0md\u001b[0m \u001b[0;34m=\u001b[0m \u001b[0mcollections\u001b[0m\u001b[0;34m.\u001b[0m\u001b[0mdefaultdict\u001b[0m\u001b[0;34m(\u001b[0m\u001b[0mlist\u001b[0m\u001b[0;34m)\u001b[0m \u001b[0;32mif\u001b[0m \u001b[0mto_dict\u001b[0m \u001b[0;32melse\u001b[0m \u001b[0;32mNone\u001b[0m\u001b[0;34m\u001b[0m\u001b[0;34m\u001b[0m\u001b[0m\n\u001b[0;32m--> 371\u001b[0;31m     \u001b[0;32mfor\u001b[0m \u001b[0mf\u001b[0m \u001b[0;32min\u001b[0m \u001b[0msorted\u001b[0m\u001b[0;34m(\u001b[0m\u001b[0mfiles\u001b[0m\u001b[0;34m)\u001b[0m\u001b[0;34m:\u001b[0m \u001b[0md\u001b[0m \u001b[0;34m=\u001b[0m \u001b[0m_notebook2script\u001b[0m\u001b[0;34m(\u001b[0m\u001b[0mf\u001b[0m\u001b[0;34m,\u001b[0m \u001b[0msilent\u001b[0m\u001b[0;34m=\u001b[0m\u001b[0msilent\u001b[0m\u001b[0;34m,\u001b[0m \u001b[0mto_dict\u001b[0m\u001b[0;34m=\u001b[0m\u001b[0md\u001b[0m\u001b[0;34m)\u001b[0m\u001b[0;34m\u001b[0m\u001b[0;34m\u001b[0m\u001b[0m\n\u001b[0m\u001b[1;32m    372\u001b[0m     \u001b[0;32mif\u001b[0m \u001b[0mto_dict\u001b[0m\u001b[0;34m:\u001b[0m \u001b[0;32mreturn\u001b[0m \u001b[0md\u001b[0m\u001b[0;34m\u001b[0m\u001b[0;34m\u001b[0m\u001b[0m\n\u001b[1;32m    373\u001b[0m     \u001b[0;32melse\u001b[0m\u001b[0;34m:\u001b[0m \u001b[0madd_init\u001b[0m\u001b[0;34m(\u001b[0m\u001b[0mConfig\u001b[0m\u001b[0;34m(\u001b[0m\u001b[0;34m)\u001b[0m\u001b[0;34m.\u001b[0m\u001b[0mlib_path\u001b[0m\u001b[0;34m)\u001b[0m\u001b[0;34m\u001b[0m\u001b[0;34m\u001b[0m\u001b[0m\n",
      "\u001b[0;32m~/anaconda3/envs/ippen1/lib/python3.8/site-packages/nbdev/export.py\u001b[0m in \u001b[0;36m_notebook2script\u001b[0;34m(fname, silent, to_dict)\u001b[0m\n\u001b[1;32m    308\u001b[0m         \u001b[0mextra\u001b[0m\u001b[0;34m,\u001b[0m\u001b[0mcode\u001b[0m \u001b[0;34m=\u001b[0m \u001b[0mextra_add\u001b[0m\u001b[0;34m(\u001b[0m\u001b[0mcode\u001b[0m\u001b[0;34m)\u001b[0m\u001b[0;34m\u001b[0m\u001b[0;34m\u001b[0m\u001b[0m\n\u001b[1;32m    309\u001b[0m         \u001b[0;32mif\u001b[0m \u001b[0ma\u001b[0m\u001b[0;34m:\u001b[0m\u001b[0;34m\u001b[0m\u001b[0;34m\u001b[0m\u001b[0m\n\u001b[0;32m--> 310\u001b[0;31m             \u001b[0;32mif\u001b[0m \u001b[0mto_dict\u001b[0m \u001b[0;32mis\u001b[0m \u001b[0;32mNone\u001b[0m\u001b[0;34m:\u001b[0m \u001b[0m_add2add\u001b[0m\u001b[0;34m(\u001b[0m\u001b[0mfname_out\u001b[0m\u001b[0;34m,\u001b[0m \u001b[0;34m[\u001b[0m\u001b[0;34mf\"'{f}'\"\u001b[0m \u001b[0;32mfor\u001b[0m \u001b[0mf\u001b[0m \u001b[0;32min\u001b[0m \u001b[0mnames\u001b[0m \u001b[0;32mif\u001b[0m \u001b[0;34m'.'\u001b[0m \u001b[0;32mnot\u001b[0m \u001b[0;32min\u001b[0m \u001b[0mf\u001b[0m \u001b[0;32mand\u001b[0m \u001b[0mlen\u001b[0m\u001b[0;34m(\u001b[0m\u001b[0mf\u001b[0m\u001b[0;34m)\u001b[0m \u001b[0;34m>\u001b[0m \u001b[0;36m0\u001b[0m\u001b[0;34m]\u001b[0m \u001b[0;34m+\u001b[0m \u001b[0mextra\u001b[0m\u001b[0;34m)\u001b[0m\u001b[0;34m\u001b[0m\u001b[0;34m\u001b[0m\u001b[0m\n\u001b[0m\u001b[1;32m    311\u001b[0m         \u001b[0mmod\u001b[0m\u001b[0;34m.\u001b[0m\u001b[0mindex\u001b[0m\u001b[0;34m.\u001b[0m\u001b[0mupdate\u001b[0m\u001b[0;34m(\u001b[0m\u001b[0;34m{\u001b[0m\u001b[0mf\u001b[0m\u001b[0;34m:\u001b[0m \u001b[0mfname\u001b[0m\u001b[0;34m.\u001b[0m\u001b[0mname\u001b[0m \u001b[0;32mfor\u001b[0m \u001b[0mf\u001b[0m \u001b[0;32min\u001b[0m \u001b[0mnames\u001b[0m\u001b[0;34m}\u001b[0m\u001b[0;34m)\u001b[0m\u001b[0;34m\u001b[0m\u001b[0;34m\u001b[0m\u001b[0m\n\u001b[1;32m    312\u001b[0m         \u001b[0mcode\u001b[0m \u001b[0;34m=\u001b[0m \u001b[0mre\u001b[0m\u001b[0;34m.\u001b[0m\u001b[0msub\u001b[0m\u001b[0;34m(\u001b[0m\u001b[0;34mr' +$'\u001b[0m\u001b[0;34m,\u001b[0m \u001b[0;34m''\u001b[0m\u001b[0;34m,\u001b[0m \u001b[0mcode\u001b[0m\u001b[0;34m,\u001b[0m \u001b[0mflags\u001b[0m\u001b[0;34m=\u001b[0m\u001b[0mre\u001b[0m\u001b[0;34m.\u001b[0m\u001b[0mMULTILINE\u001b[0m\u001b[0;34m)\u001b[0m\u001b[0;34m\u001b[0m\u001b[0;34m\u001b[0m\u001b[0m\n",
      "\u001b[0;32m~/anaconda3/envs/ippen1/lib/python3.8/site-packages/nbdev/export.py\u001b[0m in \u001b[0;36m_add2add\u001b[0;34m(fname, names, line_width)\u001b[0m\n\u001b[1;32m    194\u001b[0m \u001b[0;32mdef\u001b[0m \u001b[0m_add2add\u001b[0m\u001b[0;34m(\u001b[0m\u001b[0mfname\u001b[0m\u001b[0;34m,\u001b[0m \u001b[0mnames\u001b[0m\u001b[0;34m,\u001b[0m \u001b[0mline_width\u001b[0m\u001b[0;34m=\u001b[0m\u001b[0;36m120\u001b[0m\u001b[0;34m)\u001b[0m\u001b[0;34m:\u001b[0m\u001b[0;34m\u001b[0m\u001b[0;34m\u001b[0m\u001b[0m\n\u001b[1;32m    195\u001b[0m     \u001b[0;32mif\u001b[0m \u001b[0mlen\u001b[0m\u001b[0;34m(\u001b[0m\u001b[0mnames\u001b[0m\u001b[0;34m)\u001b[0m \u001b[0;34m==\u001b[0m \u001b[0;36m0\u001b[0m\u001b[0;34m:\u001b[0m \u001b[0;32mreturn\u001b[0m\u001b[0;34m\u001b[0m\u001b[0;34m\u001b[0m\u001b[0m\n\u001b[0;32m--> 196\u001b[0;31m     \u001b[0;32mwith\u001b[0m \u001b[0mopen\u001b[0m\u001b[0;34m(\u001b[0m\u001b[0mfname\u001b[0m\u001b[0;34m,\u001b[0m \u001b[0;34m'r'\u001b[0m\u001b[0;34m,\u001b[0m \u001b[0mencoding\u001b[0m\u001b[0;34m=\u001b[0m\u001b[0;34m'utf8'\u001b[0m\u001b[0;34m)\u001b[0m \u001b[0;32mas\u001b[0m \u001b[0mf\u001b[0m\u001b[0;34m:\u001b[0m \u001b[0mtext\u001b[0m \u001b[0;34m=\u001b[0m \u001b[0mf\u001b[0m\u001b[0;34m.\u001b[0m\u001b[0mread\u001b[0m\u001b[0;34m(\u001b[0m\u001b[0;34m)\u001b[0m\u001b[0;34m\u001b[0m\u001b[0;34m\u001b[0m\u001b[0m\n\u001b[0m\u001b[1;32m    197\u001b[0m     \u001b[0mtw\u001b[0m \u001b[0;34m=\u001b[0m \u001b[0mTextWrapper\u001b[0m\u001b[0;34m(\u001b[0m\u001b[0mwidth\u001b[0m\u001b[0;34m=\u001b[0m\u001b[0;36m120\u001b[0m\u001b[0;34m,\u001b[0m \u001b[0minitial_indent\u001b[0m\u001b[0;34m=\u001b[0m\u001b[0;34m''\u001b[0m\u001b[0;34m,\u001b[0m \u001b[0msubsequent_indent\u001b[0m\u001b[0;34m=\u001b[0m\u001b[0;34m' '\u001b[0m\u001b[0;34m*\u001b[0m\u001b[0;36m11\u001b[0m\u001b[0;34m,\u001b[0m \u001b[0mbreak_long_words\u001b[0m\u001b[0;34m=\u001b[0m\u001b[0;32mFalse\u001b[0m\u001b[0;34m)\u001b[0m\u001b[0;34m\u001b[0m\u001b[0;34m\u001b[0m\u001b[0m\n\u001b[1;32m    198\u001b[0m     \u001b[0mre_all\u001b[0m \u001b[0;34m=\u001b[0m \u001b[0m_re__all__def\u001b[0m\u001b[0;34m.\u001b[0m\u001b[0msearch\u001b[0m\u001b[0;34m(\u001b[0m\u001b[0mtext\u001b[0m\u001b[0;34m)\u001b[0m\u001b[0;34m\u001b[0m\u001b[0;34m\u001b[0m\u001b[0m\n",
      "\u001b[0;31mFileNotFoundError\u001b[0m: [Errno 2] No such file or directory: '/home/thomas/Documents/GitHub/thompson_sampling/thompson_sampling/None.py'"
     ]
    }
   ],
   "source": [
    "from nbdev.export import *\n",
    "notebook2script()"
   ]
  },
  {
   "cell_type": "code",
   "execution_count": null,
   "metadata": {},
   "outputs": [],
   "source": []
  },
  {
   "cell_type": "code",
   "execution_count": null,
   "metadata": {},
   "outputs": [],
   "source": []
  },
  {
   "cell_type": "code",
   "execution_count": null,
   "metadata": {},
   "outputs": [],
   "source": []
  },
  {
   "cell_type": "code",
   "execution_count": null,
   "metadata": {},
   "outputs": [],
   "source": []
  },
  {
   "cell_type": "code",
   "execution_count": null,
   "metadata": {},
   "outputs": [],
   "source": [
    "#export\n",
    "from collections import OrderedDict\n",
    "       \n",
    "\n",
    "\n",
    "\n",
    "class GaussianContextualSamplerSingleModel(AbstractContextualSolverSingleModel):\n",
    "\n",
    "    \n",
    "    def update(self,arm_ix,context,reward):\n",
    "        arm = self.arms[arm_ix]\n",
    "        X = np.append(arm,context)\n",
    "        reward = np.atleast_1d(reward)\n",
    "        \n",
    "        #print(X, reward)\n",
    "        self.errors.append(self.model.observe(X, reward))\n",
    "        \n",
    "    def choose_arm(self,context):\n",
    "        reward_dict = {}\n",
    "        \n",
    "        \n",
    "\n",
    "        for arm_ix in self.arms:\n",
    "            arm = self.arms[arm_ix]\n",
    "            \n",
    "            X = np.append(arm,context)\n",
    "            #print(X)\n",
    "            \n",
    "            arm_dist = self.model.predict(X)\n",
    "            \n",
    "\n",
    "            reward_sample = arm_dist.rvs()\n",
    "            \n",
    "            #print(reward_sample)\n",
    "            #print(arm)\n",
    "            reward_dict[arm_ix] = reward_sample\n",
    "\n",
    "            \n",
    "        max_ix = max(reward_dict, key=lambda key: reward_dict[key])   \n",
    "        return  {'arm' :self.arms[max_ix], 'arm_ix':max_ix}\n",
    "    \n",
    "    \n",
    "    \n",
    "    \n",
    "      \n",
    "        \n",
    "    def choose_arm_and_plot(self,context):\n",
    "        colors = iter(cm.rainbow(np.linspace(0, 1, self.num_arms)))\n",
    "        reward_list = []\n",
    "\n",
    "        \n",
    "\n",
    "\n",
    "\n",
    "        for arm in range(self.num_arms):\n",
    "            X = np.atleast_2d(np.append(arm,context))\n",
    "            print(X)\n",
    "\n",
    "\n",
    "            arm_dist = self.model.predict(X)\n",
    "\n",
    "\n",
    "            reward_sample = arm_dist.rvs()\n",
    "\n",
    "            print(reward_sample)\n",
    "            \n",
    "            reward_list += [reward_sample]\n",
    "\n",
    "\n",
    "            \n",
    "            # plot\n",
    "            color = next(colors)\n",
    "\n",
    "            X_pdf = np.linspace(-10, 10, 1000)\n",
    "            pdf = arm_dist.pdf(X_pdf)\n",
    "            \n",
    "            height = arm_dist.pdf(reward_sample)\n",
    "\n",
    "\n",
    "            # plotting distriution of weights\n",
    "            plt.plot(X_pdf, pdf, color=color, linewidth=2, alpha=0.5, label=f'estimated parameter arm {arm}')\n",
    "            plt.fill_between(X_pdf, pdf, 0, color=color, alpha=0.2)\n",
    "\n",
    "            \n",
    "            plt.scatter(reward_sample, height, s = 200,label=f'sample drawn from arm {arm}')\n",
    "\n",
    "            plt.legend()\n",
    "        return np.argmax(reward_list)     \n"
   ]
  },
  {
   "cell_type": "code",
   "execution_count": null,
   "metadata": {},
   "outputs": [],
   "source": [
    "gcssm = GaussianContextualSamplerSingleModel(BatchBayesLinReg,num_arms=5, num_context = 1,model_params={'alpha':1, 'beta':4})"
   ]
  },
  {
   "cell_type": "code",
   "execution_count": null,
   "metadata": {},
   "outputs": [],
   "source": [
    "gcssm.model, gcssm.arms.values()"
   ]
  },
  {
   "cell_type": "code",
   "execution_count": null,
   "metadata": {},
   "outputs": [],
   "source": [
    "gcssm.choose_arm(np.array([9]))"
   ]
  },
  {
   "cell_type": "code",
   "execution_count": null,
   "metadata": {},
   "outputs": [],
   "source": [
    "gcssm.choose_arm(np.array([9]))"
   ]
  },
  {
   "cell_type": "code",
   "execution_count": null,
   "metadata": {},
   "outputs": [],
   "source": [
    "gcssm.update(arm_ix=0,context=np.array([9]),reward=1)"
   ]
  },
  {
   "cell_type": "code",
   "execution_count": null,
   "metadata": {},
   "outputs": [],
   "source": [
    "gcssm.arms"
   ]
  },
  {
   "cell_type": "code",
   "execution_count": null,
   "metadata": {},
   "outputs": [],
   "source": []
  },
  {
   "cell_type": "code",
   "execution_count": null,
   "metadata": {},
   "outputs": [],
   "source": []
  }
 ],
 "metadata": {
  "kernelspec": {
   "display_name": "Python 3",
   "language": "python",
   "name": "python3"
  }
 },
 "nbformat": 4,
 "nbformat_minor": 4
}
