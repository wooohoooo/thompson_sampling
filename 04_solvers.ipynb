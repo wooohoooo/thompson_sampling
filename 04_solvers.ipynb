{
 "cells": [
  {
   "cell_type": "code",
   "execution_count": null,
   "metadata": {},
   "outputs": [],
   "source": [
    "# default_exp solvers"
   ]
  },
  {
   "cell_type": "markdown",
   "metadata": {},
   "source": [
    "# solvers\n",
    "> algorithms to solve the MAP problems"
   ]
  },
  {
   "cell_type": "code",
   "execution_count": null,
   "metadata": {},
   "outputs": [],
   "source": [
    "#export\n",
    "from thompson_sampling.abstractions import AbstractSolver, AbstractContextualSolver\n",
    "import numpy as np\n",
    "import scipy.stats as stats\n",
    "import matplotlib.cm as cm\n",
    "import matplotlib.pyplot as plt\n"
   ]
  },
  {
   "cell_type": "code",
   "execution_count": null,
   "metadata": {},
   "outputs": [],
   "source": [
    "import matplotlib.pyplot as plt\n",
    "\n",
    "%matplotlib inline\n",
    "%load_ext autoreload\n",
    "%autoreload 2\n",
    "\n"
   ]
  },
  {
   "cell_type": "markdown",
   "metadata": {},
   "source": [
    "## categorical\n",
    "\n",
    "### non-contextual"
   ]
  },
  {
   "cell_type": "markdown",
   "metadata": {},
   "source": [
    "#### AB test"
   ]
  },
  {
   "cell_type": "code",
   "execution_count": null,
   "metadata": {},
   "outputs": [],
   "source": [
    "#export\n",
    "class AB(AbstractSolver):\n",
    "  def __init__(self, n_experiments=1000, num_options=2):\n",
    "    self.trials = np.zeros(shape=(num_options,))\n",
    "    self.successes = np.zeros(shape=(num_options,))\n",
    "    self.experiments_done = 0\n",
    "    self.n_experiments = n_experiments\n",
    "\n",
    "\n",
    "\n",
    "  def choose_arm(self):\n",
    "    \"\"\"we choose to either randomly sample an arm \n",
    "    or play the previously determined best choice\"\"\"\n",
    "\n",
    "    # if we need more experimentation, we explore\n",
    "    if self.experiments_done < self.n_experiments:\n",
    "      arm = self.explore()\n",
    "    # otherwise, we exploit\n",
    "    else:\n",
    "      arm = self.exploit()\n",
    "    return arm\n",
    "\n",
    "\n",
    "  def update(self, arm, reward):\n",
    "    \"\"\"Updates the arms about being played and about receiving a reward\"\"\"\n",
    "\n",
    "    # simply count the number of trials and successes for each arm\n",
    "    self.trials[arm] += 1\n",
    "    if reward:\n",
    "      self.successes[arm] += 1\n",
    "    self.experiments_done += 1\n",
    "\n",
    "\n",
    "  def explore(self):\n",
    "    \"\"\"returns arm 0 or arm 1 depending on a draw from interval [0,1]\n",
    "    NOTE: this isn't necessarilyhow you'd do it in real life, \n",
    "    please consult the sources for that case\"\"\"\n",
    "\n",
    "    # literally choose by random which arm to return\n",
    "    if np.random.random() <.5:\n",
    "        return 0\n",
    "    else:\n",
    "        return 1\n",
    "\n",
    "  def exploit(self):\n",
    "    \"\"\"returns arm with highest expected payoff\n",
    "    Always the same arm after exploration phase\"\"\"\n",
    "\n",
    "    # return the arm with the highest success rate\n",
    "    return np.argmax(self.successes/self.trials)\n",
    "  \n"
   ]
  },
  {
   "cell_type": "code",
   "execution_count": null,
   "metadata": {},
   "outputs": [],
   "source": [
    "#export\n",
    "class BetaBandit(AbstractSolver):\n",
    "\n",
    "    def __init__(self, num_options = 2, prior = None):\n",
    "        \"\"\"initialize BetaBandit\"\"\"\n",
    "        self.num_options = num_options\n",
    "\n",
    "        #setting the prior, either uninformative or user generated\n",
    "        if prior == None:\n",
    "            self.prior = np.ones(shape=(num_options,2))\n",
    "        else:\n",
    "            assert prior.shape == (num_options,2), f\"the prior seems to have wrong dimensionality, please conform to (num_options, 2){(num_options,2)}\"\n",
    "            self.prior = prior\n",
    "\n",
    "        self.trials = np.zeros(shape=(num_options,))\n",
    "        self.successes = np.zeros(shape=(num_options,))\n",
    "\n",
    "\n",
    "    def choose_arm(self):\n",
    "        \"\"\"draw from arms.\n",
    "        arm with the highest expected outcome wins. \n",
    "        expected outcome is determined stochastically, so even an arm with bad \n",
    "        outcome until now will have a chance of being drawn\"\"\"\n",
    "\n",
    "        sampled_theta=[]\n",
    "        for i in range(self.num_options):\n",
    "\n",
    "            dist = stats.beta(self.prior[i,0]+self.successes[i], \n",
    "                              self.prior[i,1]+self.trials[i] - self.successes[i])\n",
    "                \n",
    "            sampled_theta += [dist.rvs()]\n",
    "      \n",
    "        return(sampled_theta.index(max(sampled_theta)))    \n",
    "        \n",
    "    def update(self,arm,success):\n",
    "        \"\"\"update beta-parameters of specific arm\"\"\"\n",
    "        #count times arm has been drawn\"\"\"\n",
    "        self.trials[arm] = self.trials[arm] +1\n",
    "        #count number of successes on that arm\"\"\"\n",
    "\n",
    "        # for decay factors: self.successes = self.successes *.99\n",
    "        if success:\n",
    "            self.successes[arm] = self.successes[arm]+ 1\n",
    "            \n",
    "\n",
    "\n",
    "\n",
    "\n",
    "\n",
    "# helpers\n",
    "\n",
    "    def choose_arm_and_plot(self):\n",
    "\n",
    "\n",
    "        sampled_theta = []\n",
    "        dist_heights = []\n",
    "\n",
    "      \n",
    "        for i in range(self.num_options):\n",
    "\n",
    "            dist = stats.beta(self.prior[i,0]+self.successes[i], \n",
    "                              self.prior[i,1]+self.trials[i] - self.successes[i])\n",
    "            sample = dist.rvs()\n",
    "            sampled_theta += [sample]\n",
    "            dist_heights += [dist.pdf(sample)]\n",
    "\n",
    "            \n",
    "        w = 10\n",
    "        z = 5\n",
    "        colors = iter(cm.rainbow(np.linspace(0, 1, self.num_options)))\n",
    "            \n",
    "        for k,i in enumerate(range(self.num_options)):\n",
    "                color = next(colors)\n",
    "\n",
    "                dist = stats.beta(self.prior[i,0] + self.successes[i],\n",
    "                            self.prior[i,1] + self.trials[i] - self.successes[i])\n",
    "                x = np.linspace(0,1,100)\n",
    "                y = dist.pdf(x)\n",
    "                plt.plot(x,y,color=color,label=\"arm #%i\"%(i+1),alpha=0.8)\n",
    "\n",
    "                plt.scatter(sampled_theta[i],dist_heights[i], s = 200,label=f'sample drawn from arm {i}')\n",
    "\n",
    "                plt.fill_between(x,0,y,alpha=1/(self.num_options+1),color=color)\n",
    "                leg = plt.legend()\n",
    "                plt.tight_layout    \n",
    "      \n",
    "        return(sampled_theta.index(max(sampled_theta)))  \n",
    "\n",
    "\n",
    "    def plot_params(self):\n",
    "        \"\"\"plot the distributions that underly the arms\"\"\"\n",
    "        \n",
    "        w = 10\n",
    "        z = 5\n",
    "        colors = iter(cm.rainbow(np.linspace(0, 1, self.num_options)))\n",
    "            \n",
    "        for k,i in enumerate(range(self.num_options)):\n",
    "                color = next(colors)\n",
    "\n",
    "                dist = stats.beta(self.prior[i,0] + self.successes[i],\n",
    "                            self.prior[i,1] + self.trials[i] - self.successes[i])\n",
    "                x = np.linspace(0,1,100)\n",
    "                y = dist.pdf(x)\n",
    "                plt.plot(x,y,color=color,label=\"arm #%i\"%(i+1))\n",
    "                plt.fill_between(x,0,y,alpha=1/self.num_options,color=color)\n",
    "                leg = plt.legend()\n",
    "                plt.tight_layout\n"
   ]
  },
  {
   "cell_type": "code",
   "execution_count": null,
   "metadata": {},
   "outputs": [],
   "source": []
  },
  {
   "cell_type": "code",
   "execution_count": null,
   "metadata": {},
   "outputs": [
    {
     "data": {
      "text/plain": [
       "0.49"
      ]
     },
     "execution_count": null,
     "metadata": {},
     "output_type": "execute_result"
    }
   ],
   "source": [
    "bb = BetaBandit()\n",
    "np.mean([bb.choose_arm() for x in range(100)])"
   ]
  },
  {
   "cell_type": "code",
   "execution_count": null,
   "metadata": {},
   "outputs": [
    {
     "data": {
      "text/plain": [
       "0"
      ]
     },
     "execution_count": null,
     "metadata": {},
     "output_type": "execute_result"
    },
    {
     "data": {
      "image/png": "[encoded data removed]",
      "text/plain": [
       "<Figure size 432x288 with 1 Axes>"
      ]
     },
     "metadata": {
      "needs_background": "light"
     },
     "output_type": "display_data"
    }
   ],
   "source": [
    "bb.choose_arm_and_plot() #uniform binomials, no observations yet"
   ]
  },
  {
   "cell_type": "code",
   "execution_count": null,
   "metadata": {},
   "outputs": [
    {
     "data": {
      "text/plain": [
       "0"
      ]
     },
     "execution_count": null,
     "metadata": {},
     "output_type": "execute_result"
    },
    {
     "data": {
      "image/png": "[encoded data removed]",
      "text/plain": [
       "<Figure size 432x288 with 1 Axes>"
      ]
     },
     "metadata": {
      "needs_background": "light"
     },
     "output_type": "display_data"
    }
   ],
   "source": [
    "bb.choose_arm_and_plot() #uniform binomials, no observations yet"
   ]
  },
  {
   "cell_type": "code",
   "execution_count": null,
   "metadata": {},
   "outputs": [],
   "source": [
    "bb.update(0,0)\n",
    "bb.update(0,1)\n",
    "bb.update(0,1)"
   ]
  },
  {
   "cell_type": "code",
   "execution_count": null,
   "metadata": {},
   "outputs": [
    {
     "data": {
      "text/plain": [
       "0.42"
      ]
     },
     "execution_count": null,
     "metadata": {},
     "output_type": "execute_result"
    }
   ],
   "source": [
    "np.mean([bb.choose_arm() for x in range(100)])"
   ]
  },
  {
   "cell_type": "code",
   "execution_count": null,
   "metadata": {},
   "outputs": [
    {
     "data": {
      "text/plain": [
       "0"
      ]
     },
     "execution_count": null,
     "metadata": {},
     "output_type": "execute_result"
    },
    {
     "data": {
      "image/png": "[encoded data removed]",
      "text/plain": [
       "<Figure size 432x288 with 1 Axes>"
      ]
     },
     "metadata": {
      "needs_background": "light"
     },
     "output_type": "display_data"
    }
   ],
   "source": [
    "bb.choose_arm_and_plot()"
   ]
  },
  {
   "cell_type": "code",
   "execution_count": null,
   "metadata": {},
   "outputs": [],
   "source": [
    "bb.update(1,0)\n",
    "bb.update(1,0)\n",
    "bb.update(1,0)"
   ]
  },
  {
   "cell_type": "code",
   "execution_count": null,
   "metadata": {},
   "outputs": [
    {
     "data": {
      "text/plain": [
       "0"
      ]
     },
     "execution_count": null,
     "metadata": {},
     "output_type": "execute_result"
    },
    {
     "data": {
      "image/png": "[encoded data removed]",
      "text/plain": [
       "<Figure size 432x288 with 1 Axes>"
      ]
     },
     "metadata": {
      "needs_background": "light"
     },
     "output_type": "display_data"
    }
   ],
   "source": [
    "bb.choose_arm_and_plot()"
   ]
  },
  {
   "cell_type": "markdown",
   "metadata": {},
   "source": [
    "# Numerical"
   ]
  },
  {
   "cell_type": "markdown",
   "metadata": {},
   "source": [
    "## noncontextual"
   ]
  },
  {
   "cell_type": "markdown",
   "metadata": {},
   "source": [
    "# Combinations\n",
    "\n",
    "## noncontextual"
   ]
  },
  {
   "cell_type": "markdown",
   "metadata": {},
   "source": [
    "### AX sample scheme \n",
    "normal distribution over outcomes, sample from winning arm a few times, p of winning is how often arm1 won over arm2\n",
    "\n",
    "\n",
    "\n"
   ]
  },
  {
   "cell_type": "code",
   "execution_count": null,
   "metadata": {},
   "outputs": [
    {
     "data": {
      "text/plain": [
       "(0.5454545454545454, 0.49792959773196915)"
      ]
     },
     "execution_count": null,
     "metadata": {},
     "output_type": "execute_result"
    }
   ],
   "source": [
    "test = [1,0,1,1,1,1,1,0,0,0,0]\n",
    "\n",
    "np.mean(test), np.std(test)\n"
   ]
  },
  {
   "cell_type": "code",
   "execution_count": null,
   "metadata": {},
   "outputs": [],
   "source": [
    "sum_x = 0\n",
    "sum_x2 = 0\n",
    "\n",
    "for n,sample in enumerate(test):\n",
    "    sum_x += sample\n",
    "    sum_x2 += sample*sample\n",
    "    \n"
   ]
  },
  {
   "cell_type": "code",
   "execution_count": null,
   "metadata": {},
   "outputs": [],
   "source": [
    "mean = sum_x / (n+1)\n",
    "stdev = np.sqrt((sum_x2 / (n+1)) - (mean * mean)) \n"
   ]
  },
  {
   "cell_type": "code",
   "execution_count": null,
   "metadata": {},
   "outputs": [
    {
     "data": {
      "text/plain": [
       "(0.5454545454545454, 0.4979295977319692)"
      ]
     },
     "execution_count": null,
     "metadata": {},
     "output_type": "execute_result"
    }
   ],
   "source": [
    "mean, stdev"
   ]
  },
  {
   "cell_type": "code",
   "execution_count": null,
   "metadata": {},
   "outputs": [
    {
     "data": {
      "text/plain": [
       "0"
      ]
     },
     "execution_count": null,
     "metadata": {},
     "output_type": "execute_result"
    }
   ],
   "source": [
    "sample"
   ]
  },
  {
   "cell_type": "code",
   "execution_count": null,
   "metadata": {},
   "outputs": [
    {
     "data": {
      "text/plain": [
       "<scipy.stats._distn_infrastructure.rv_frozen at 0x7f36baa17e10>"
      ]
     },
     "execution_count": null,
     "metadata": {},
     "output_type": "execute_result"
    }
   ],
   "source": [
    "stats.norm()"
   ]
  },
  {
   "cell_type": "code",
   "execution_count": null,
   "metadata": {},
   "outputs": [],
   "source": [
    "#export\n",
    "class GaussianBandit(AbstractSolver):\n",
    "\n",
    "    def __init__(self, num_options = 2, mean_prior = 0, std_prior = 1):\n",
    "        \"\"\"initialize BetaBandit\"\"\"\n",
    "        self.num_options = num_options\n",
    "\n",
    "        #setting the prior, either uninformative or user generated\n",
    "#         if prior == None:\n",
    "#             self.prior = np.ones(shape=(num_options,2))\n",
    "#         else:\n",
    "#             assert prior.shape == (num_options,2), f\"the prior seems to have wrong dimensionality, please conform to (num_options, 2){(num_options,2)}\"\n",
    "#             self.prior = prior\n",
    "\n",
    "        self.trials = np.zeros(shape=(num_options,))\n",
    "        self.sum_x = np.zeros(shape=(num_options,))\n",
    "        self.sum_x2 = np.zeros(shape=(num_options,))\n",
    "\n",
    "        self.mean_prior = mean_prior\n",
    "        self.std_prior = std_prior\n",
    "\n",
    "    def choose_arm(self):\n",
    "        \"\"\"draw from arms.\n",
    "        arm with the highest expected outcome wins. \n",
    "        expected outcome is determined stochastically, so even an arm with bad \n",
    "        outcome until now will have a chance of being drawn\"\"\"\n",
    "\n",
    "        sampled_outcomes = []\n",
    "        for i in range(self.num_options):\n",
    "            \n",
    "            if self.trials[i] > 1:\n",
    "                mean = self.compute_online_mean(i)\n",
    "                stdev = self.compute_online_std(i, mean)\n",
    "            else:\n",
    "                mean = 0\n",
    "                stdev = 1\n",
    "            \n",
    "\n",
    "            dist = stats.norm(mean,stdev)\n",
    "            \n",
    "            sampled_outcome = dist.rvs()\n",
    "            #print(sampled_outcome)\n",
    "            \n",
    "            sampled_outcomes += [sampled_outcome]\n",
    "      \n",
    "        return(sampled_outcomes.index(max(sampled_outcomes)))    \n",
    "        \n",
    "    def update(self, arm, outcome):\n",
    "        \"\"\"update parameters of specific arm\"\"\"\n",
    "        #count times arm has been drawn\"\"\"\n",
    "        self.trials[arm] = self.trials[arm] +1\n",
    "        #count number of successes on that arm\"\"\"\n",
    "\n",
    "        # for decay factors: self.successes = self.successes *.99\n",
    "        \n",
    "        self.sum_x[arm] += outcome\n",
    "        self.sum_x2[arm] += outcome*outcome\n",
    "        \n",
    "        \n",
    "    def compute_online_mean(self, arm):\n",
    "        return self.sum_x[arm] / (self.trials[arm])\n",
    "    \n",
    "    def compute_online_std(self, arm, mean = None):\n",
    "        mean = mean or self.compute_online_mean(arm)\n",
    "        return np.sqrt((self.sum_x2[arm] / (self.trials[arm])) - (mean * mean)) \n",
    "        \n",
    "        \n",
    "        \n",
    "\n",
    "            "
   ]
  },
  {
   "cell_type": "code",
   "execution_count": null,
   "metadata": {},
   "outputs": [],
   "source": []
  },
  {
   "cell_type": "code",
   "execution_count": null,
   "metadata": {},
   "outputs": [],
   "source": [
    "gb = GaussianBandit(2)"
   ]
  },
  {
   "cell_type": "code",
   "execution_count": null,
   "metadata": {},
   "outputs": [
    {
     "data": {
      "text/plain": [
       "0.53"
      ]
     },
     "execution_count": null,
     "metadata": {},
     "output_type": "execute_result"
    }
   ],
   "source": [
    "np.mean([gb.choose_arm() for x in range(100)])"
   ]
  },
  {
   "cell_type": "code",
   "execution_count": null,
   "metadata": {},
   "outputs": [],
   "source": [
    "gb.update(0, 1)\n",
    "gb.update(0, 1)\n",
    "gb.update(1, 0)\n",
    "gb.update(1, 0)"
   ]
  },
  {
   "cell_type": "code",
   "execution_count": null,
   "metadata": {},
   "outputs": [
    {
     "data": {
      "text/plain": [
       "0.0"
      ]
     },
     "execution_count": null,
     "metadata": {},
     "output_type": "execute_result"
    }
   ],
   "source": [
    "np.mean([gb.choose_arm() for x in range(100)])"
   ]
  },
  {
   "cell_type": "code",
   "execution_count": null,
   "metadata": {},
   "outputs": [
    {
     "data": {
      "text/plain": [
       "array([2., 2.])"
      ]
     },
     "execution_count": null,
     "metadata": {},
     "output_type": "execute_result"
    }
   ],
   "source": [
    "gb.trials"
   ]
  },
  {
   "cell_type": "code",
   "execution_count": null,
   "metadata": {},
   "outputs": [],
   "source": []
  },
  {
   "cell_type": "code",
   "execution_count": null,
   "metadata": {},
   "outputs": [
    {
     "data": {
      "text/plain": [
       "(1.0, 0.0)"
      ]
     },
     "execution_count": null,
     "metadata": {},
     "output_type": "execute_result"
    }
   ],
   "source": [
    "gb.compute_online_mean(0), gb.compute_online_mean(1)"
   ]
  },
  {
   "cell_type": "code",
   "execution_count": null,
   "metadata": {},
   "outputs": [
    {
     "data": {
      "text/plain": [
       "(0.0, 0.0)"
      ]
     },
     "execution_count": null,
     "metadata": {},
     "output_type": "execute_result"
    }
   ],
   "source": [
    "gb.compute_online_std(0), gb.compute_online_std(1)"
   ]
  },
  {
   "cell_type": "code",
   "execution_count": null,
   "metadata": {},
   "outputs": [],
   "source": [
    "gb.update(1, 1)\n",
    "gb.update(0, 1)\n",
    "gb.update(0, 0)\n",
    "gb.update(1, 0)"
   ]
  },
  {
   "cell_type": "code",
   "execution_count": null,
   "metadata": {},
   "outputs": [
    {
     "data": {
      "text/plain": [
       "0.24"
      ]
     },
     "execution_count": null,
     "metadata": {},
     "output_type": "execute_result"
    }
   ],
   "source": [
    "np.mean([gb.choose_arm() for x in range(100)])"
   ]
  },
  {
   "cell_type": "code",
   "execution_count": null,
   "metadata": {},
   "outputs": [
    {
     "data": {
      "text/plain": [
       "(0.75, 0.25)"
      ]
     },
     "execution_count": null,
     "metadata": {},
     "output_type": "execute_result"
    }
   ],
   "source": [
    "gb.compute_online_mean(0), gb.compute_online_mean(1)"
   ]
  },
  {
   "cell_type": "code",
   "execution_count": null,
   "metadata": {},
   "outputs": [
    {
     "data": {
      "text/plain": [
       "(0.4330127018922193, 0.4330127018922193)"
      ]
     },
     "execution_count": null,
     "metadata": {},
     "output_type": "execute_result"
    }
   ],
   "source": [
    "gb.compute_online_std(0), gb.compute_online_std(1)"
   ]
  },
  {
   "cell_type": "code",
   "execution_count": null,
   "metadata": {},
   "outputs": [],
   "source": []
  },
  {
   "cell_type": "code",
   "execution_count": null,
   "metadata": {},
   "outputs": [],
   "source": [
    "#export\n",
    "class GaussianCategoricalBandit(GaussianBandit):\n",
    "\n",
    "\n",
    "    def choose_arm(self):\n",
    "        \"\"\"draw from arms.\n",
    "        arm with the highest expected outcome wins. \n",
    "        expected outcome is determined stochastically, so even an arm with bad \n",
    "        outcome until now will have a chance of being drawn\"\"\"\n",
    "\n",
    "        sampled_outcomes = []\n",
    "        arm_samples = np.zeros(shape=(self.num_options,100))\n",
    "        for arm in range(self.num_options):\n",
    "            \n",
    "            for i in range(100):\n",
    "            \n",
    "                if self.trials[arm] > 1:\n",
    "                    mean = self.compute_online_mean(arm)\n",
    "                    stdev = self.compute_online_std(arm, mean)\n",
    "                else:\n",
    "                    mean = 0\n",
    "                    stdev = 1\n",
    "\n",
    "\n",
    "                dist = stats.norm(mean,stdev)\n",
    "\n",
    "                arm_samples[arm,i] = dist.rvs()\n",
    "                #print(sampled_outcome)\n",
    "        #print(arm_samples)\n",
    "        winning_ratio = np.argmax(arm_samples,0)\n",
    "        #print(winning_ratio.shape)\n",
    "        #print(winning_ratio)\n",
    "\n",
    "        #winning_ratio = np.argmax()\n",
    "        winning_arm = np.bincount(winning_ratio).argmax()\n",
    "        #print(winning_arm)\n",
    "        #sampled_outcome = np.mean()\n",
    "        #sampled_outcomes += [sampled_outcome]\n",
    "        #print(np.bincount(winning_ratio)/100)\n",
    "      \n",
    "        #return(sampled_outcomes.index(max(sampled_outcomes)))  \n",
    "        \n",
    "        # ToDo sample from ratio of winning arms, i.e. nb.bincount(winning_ratio).mean()\n",
    "        return winning_arm\n",
    "        \n",
    "\n",
    "        \n",
    "    def plot_params(self):\n",
    "        \"\"\"plot the distributions that underly the arms\"\"\"\n",
    "        \n",
    "        w = 10\n",
    "        z = 5\n",
    "        colors = iter(cm.rainbow(np.linspace(0, 1, self.num_options)))\n",
    "            \n",
    "        for k,i in enumerate(range(self.num_options)):\n",
    "                color = next(colors)\n",
    "                \n",
    "                \n",
    "            \n",
    "            \n",
    "                if self.trials[i] > 1:\n",
    "                    mean = self.compute_online_mean(i)\n",
    "                    stdev = self.compute_online_std(i, mean)\n",
    "                else:\n",
    "                    mean = 0\n",
    "                    stdev = 1\n",
    "\n",
    "\n",
    "                dist = stats.norm(mean,stdev)\n",
    "\n",
    "                x = np.linspace(-6,6,100)\n",
    "                y = dist.pdf(x)\n",
    "                plt.plot(x,y,color=color,label=\"arm #%i\"%(i+1))\n",
    "                plt.fill_between(x,0,y,alpha=1/self.num_options,color=color)\n",
    "                leg = plt.legend()\n",
    "                plt.tight_layout\n",
    "\n",
    "            "
   ]
  },
  {
   "cell_type": "code",
   "execution_count": null,
   "metadata": {},
   "outputs": [],
   "source": [
    "gcb = GaussianCategoricalBandit(2)"
   ]
  },
  {
   "cell_type": "code",
   "execution_count": null,
   "metadata": {},
   "outputs": [
    {
     "data": {
      "image/png": "[encoded data removed]",
      "text/plain": [
       "<Figure size 432x288 with 1 Axes>"
      ]
     },
     "metadata": {
      "needs_background": "light"
     },
     "output_type": "display_data"
    }
   ],
   "source": [
    "gcb.plot_params()"
   ]
  },
  {
   "cell_type": "code",
   "execution_count": null,
   "metadata": {},
   "outputs": [
    {
     "data": {
      "text/plain": [
       "1"
      ]
     },
     "execution_count": null,
     "metadata": {},
     "output_type": "execute_result"
    }
   ],
   "source": [
    "gcb.choose_arm()"
   ]
  },
  {
   "cell_type": "code",
   "execution_count": null,
   "metadata": {},
   "outputs": [
    {
     "data": {
      "text/plain": [
       "[0, 1]"
      ]
     },
     "execution_count": null,
     "metadata": {},
     "output_type": "execute_result"
    }
   ],
   "source": [
    "[i for i in range(gcb.num_options)]"
   ]
  },
  {
   "cell_type": "code",
   "execution_count": null,
   "metadata": {},
   "outputs": [],
   "source": [
    "gb = GaussianBandit(2)\n",
    "bb = BetaBandit(2)\n",
    "gcb = GaussianCategoricalBandit(2)"
   ]
  },
  {
   "cell_type": "code",
   "execution_count": null,
   "metadata": {},
   "outputs": [
    {
     "data": {
      "text/plain": [
       "0.4"
      ]
     },
     "execution_count": null,
     "metadata": {},
     "output_type": "execute_result"
    }
   ],
   "source": [
    "np.mean([gcb.choose_arm() for x in range(100)])"
   ]
  },
  {
   "cell_type": "code",
   "execution_count": null,
   "metadata": {},
   "outputs": [],
   "source": []
  },
  {
   "cell_type": "code",
   "execution_count": null,
   "metadata": {},
   "outputs": [],
   "source": [
    "for i in range(100):\n",
    "    \n",
    "    arm1_update = np.random.choice([0,1],p=[0.8,0.2])\n",
    "    arm2_update = np.random.choice([0,1],p=[0.9,0.1])\n",
    "    bb.update(0,arm1_update)\n",
    "    bb.update(1, arm2_update)\n",
    "    \n",
    "    gcb.update(0,arm1_update)\n",
    "    gcb.update(1, arm2_update)"
   ]
  },
  {
   "cell_type": "code",
   "execution_count": null,
   "metadata": {},
   "outputs": [
    {
     "data": {
      "text/plain": [
       "(0.21, 0.16)"
      ]
     },
     "execution_count": null,
     "metadata": {},
     "output_type": "execute_result"
    }
   ],
   "source": [
    "np.mean([gcb.choose_arm() for x in range(100)]), np.mean([bb.choose_arm() for x in range(100)])"
   ]
  },
  {
   "cell_type": "code",
   "execution_count": null,
   "metadata": {},
   "outputs": [
    {
     "data": {
      "text/plain": [
       "(0.0425, 0.0275)"
      ]
     },
     "execution_count": null,
     "metadata": {},
     "output_type": "execute_result"
    }
   ],
   "source": [
    "gcb.compute_online_mean(0), gcb.compute_online_mean(1)"
   ]
  },
  {
   "cell_type": "code",
   "execution_count": null,
   "metadata": {},
   "outputs": [
    {
     "data": {
      "text/plain": [
       "(0.20172691937369192, 0.1635351644142629)"
      ]
     },
     "execution_count": null,
     "metadata": {},
     "output_type": "execute_result"
    }
   ],
   "source": [
    "gcb.compute_online_std(0), gcb.compute_online_std(1)"
   ]
  },
  {
   "cell_type": "code",
   "execution_count": null,
   "metadata": {},
   "outputs": [
    {
     "data": {
      "image/png": "[encoded data removed]",
      "text/plain": [
       "<Figure size 432x288 with 1 Axes>"
      ]
     },
     "metadata": {
      "needs_background": "light"
     },
     "output_type": "display_data"
    }
   ],
   "source": [
    "gcb.plot_params()"
   ]
  },
  {
   "cell_type": "code",
   "execution_count": null,
   "metadata": {},
   "outputs": [
    {
     "data": {
      "image/png": "[encoded data removed]",
      "text/plain": [
       "<Figure size 432x288 with 1 Axes>"
      ]
     },
     "metadata": {
      "needs_background": "light"
     },
     "output_type": "display_data"
    }
   ],
   "source": [
    "bb.plot_params()"
   ]
  },
  {
   "cell_type": "markdown",
   "metadata": {},
   "source": [
    "## Contextual"
   ]
  },
  {
   "cell_type": "code",
   "execution_count": null,
   "metadata": {},
   "outputs": [],
   "source": [
    "#export\n",
    "class LogisticThompsonSampler(AbstractContextualSolver):\n",
    "\n",
    "    \n",
    "    def update(self,arm,context,reward):\n",
    "        \n",
    "        model = self.model_list[arm]\n",
    "        #X =  np.atleast_1d(np.append(arm, context))\n",
    "        X = np.atleast_2d(context)\n",
    "        # print(f'X {X}')\n",
    "    \n",
    "        reward = np.atleast_1d(reward)\n",
    "        #model.observe(X.reshape(1,-1), reward.reshape(1,-1))\n",
    "        model.observe(X, reward)\n",
    "        \n",
    "    def choose_arm(self,context):\n",
    "        reward_list = []\n",
    "\n",
    "        for arm in range(self.num_arms):\n",
    "            model = self.model_list[arm]\n",
    "            X = np.atleast_2d(context)\n",
    "            \n",
    "            probas = model.predict_proba(X)\n",
    "\n",
    "            reward_sample = probas[0][1]\n",
    "            \n",
    "            # print(reward_sample)\n",
    "        \n",
    "            reward_list += [reward_sample]\n",
    "\n",
    "            \n",
    "      \n",
    "        return np.argmax(reward_list)     \n",
    "    \n",
    "    \n",
    "    \n",
    "    \n",
    "    \n",
    "    \n",
    "    \n",
    "# helpers\n",
    "\n",
    "    def plot_params(self):\n",
    "        colors = iter(cm.rainbow(np.linspace(0, 1, self.num_arms)))\n",
    "\n",
    "        for arm in range(len(self.model_list)):\n",
    "            color = next(colors)\n",
    "\n",
    "            model = self.model_list[arm]\n",
    "            X_pdf = np.linspace(-2, 2, 1000)\n",
    "            pdf = stats.norm(loc=model.m, scale=model.q**(-1.0)).pdf(X_pdf)\n",
    "\n",
    "\n",
    "            # plotting distriution of weights\n",
    "            plt.plot(X_pdf, pdf, color=color, linewidth=2, alpha=0.5, label=f'estimated parameter arm {arm}')\n",
    "            plt.fill_between(X_pdf, pdf, 0, color=color, alpha=0.2)\n",
    "            plt.legend()\n",
    "\n",
    "        \n",
    "        \n",
    "    def choose_arm_and_plot(self,context):\n",
    "        colors = iter(cm.rainbow(np.linspace(0, 1, self.num_arms)))\n",
    "        reward_list = []\n",
    "\n",
    "        \n",
    "        for arm in range(self.num_arms):\n",
    "            model = self.model_list[arm]\n",
    "            X = np.atleast_1d(context)\n",
    "\n",
    "\n",
    "            reward_sample = model.predict_proba(X)[0]\n",
    "            reward_list += [reward_sample]\n",
    "            \n",
    "            # plot\n",
    "            color = next(colors)\n",
    "\n",
    "            model = self.model_list[arm]\n",
    "            X_pdf = np.linspace(-2, 2, 1000)\n",
    "            dist = stats.norm(loc=model.m, scale=model.alpha**(-1.0))\n",
    "            pdf = dist.pdf(X_pdf)\n",
    "            \n",
    "            height = dist.pdf(reward_sample)\n",
    "\n",
    "\n",
    "            # plotting distriution of weights\n",
    "            plt.plot(X_pdf, pdf, color=color, linewidth=2, alpha=0.5, label=f'estimated parameter arm {arm}')\n",
    "            plt.fill_between(X_pdf, pdf, 0, color=color, alpha=0.2)\n",
    "\n",
    "            \n",
    "            plt.scatter(reward_sample, height, s = 200,label=f'sample drawn from arm {arm}')\n",
    "\n",
    "            plt.legend()\n",
    "        return np.argmax(reward_list)     \n"
   ]
  },
  {
   "cell_type": "code",
   "execution_count": null,
   "metadata": {},
   "outputs": [],
   "source": [
    "from thompson_sampling.models import OnlineLogisticRegression\n",
    "from thompson_sampling.multi_armed_bandits import contextual_categorical_bandit"
   ]
  },
  {
   "cell_type": "code",
   "execution_count": null,
   "metadata": {},
   "outputs": [],
   "source": [
    "lts = LogisticThompsonSampler(OnlineLogisticRegression, num_arms=2, num_context = 1)"
   ]
  },
  {
   "cell_type": "code",
   "execution_count": null,
   "metadata": {},
   "outputs": [
    {
     "data": {
      "text/plain": [
       "1"
      ]
     },
     "execution_count": null,
     "metadata": {},
     "output_type": "execute_result"
    },
    {
     "data": {
      "image/png": "[encoded data removed]",
      "text/plain": [
       "<Figure size 432x288 with 1 Axes>"
      ]
     },
     "metadata": {
      "needs_background": "light"
     },
     "output_type": "display_data"
    }
   ],
   "source": [
    "lts.choose_arm_and_plot(0.9)"
   ]
  },
  {
   "cell_type": "code",
   "execution_count": null,
   "metadata": {},
   "outputs": [],
   "source": []
  },
  {
   "cell_type": "code",
   "execution_count": null,
   "metadata": {},
   "outputs": [],
   "source": [
    "arm0 = 0\n",
    "arm1 = 1\n",
    "theta = [0.1, 1.9]\n",
    "noise = 0.0\n",
    "\n",
    "\n",
    "lts.update(arm1, .1, contextual_categorical_bandit(context = np.array(0.1),choice = arm1, theta = theta, noise = noise)[0])\n",
    "lts.update(arm1, .1, contextual_categorical_bandit(context = np.array(.1),choice = arm1, theta = theta, noise = noise)[0])\n",
    "lts.update(arm1, .5, contextual_categorical_bandit(context = np.array(0.5),choice = arm1, theta = theta, noise = noise)[0])\n",
    "lts.update(arm1, .5, contextual_categorical_bandit(context = np.array(.5),choice = arm1, theta = theta, noise = noise)[0])\n",
    "lts.update(arm1, .9, contextual_categorical_bandit(context = np.array(0.9),choice = arm1, theta = theta, noise = noise)[0])\n",
    "lts.update(arm1, .9, contextual_categorical_bandit(context = np.array(.9),choice = arm1, theta = theta, noise = noise)[0])\n"
   ]
  },
  {
   "cell_type": "code",
   "execution_count": null,
   "metadata": {},
   "outputs": [
    {
     "data": {
      "text/plain": [
       "1"
      ]
     },
     "execution_count": null,
     "metadata": {},
     "output_type": "execute_result"
    },
    {
     "data": {
      "image/png": "[encoded data removed]",
      "text/plain": [
       "<Figure size 432x288 with 1 Axes>"
      ]
     },
     "metadata": {
      "needs_background": "light"
     },
     "output_type": "display_data"
    }
   ],
   "source": [
    "lts.choose_arm_and_plot(0.9)"
   ]
  },
  {
   "cell_type": "code",
   "execution_count": null,
   "metadata": {},
   "outputs": [
    {
     "data": {
      "text/plain": [
       "0"
      ]
     },
     "execution_count": null,
     "metadata": {},
     "output_type": "execute_result"
    }
   ],
   "source": [
    "lts.choose_arm(0.9)"
   ]
  },
  {
   "cell_type": "code",
   "execution_count": null,
   "metadata": {},
   "outputs": [],
   "source": [
    "lts2 = LogisticThompsonSampler(OnlineLogisticRegression, num_arms=2, num_context = 2)"
   ]
  },
  {
   "cell_type": "code",
   "execution_count": null,
   "metadata": {},
   "outputs": [
    {
     "data": {
      "text/plain": [
       "0"
      ]
     },
     "execution_count": null,
     "metadata": {},
     "output_type": "execute_result"
    }
   ],
   "source": [
    "context = np.atleast_1d(np.array([1,1]))#.T#.reshape(1,-1)#.T\n",
    "\n",
    "lts2.choose_arm(context)"
   ]
  },
  {
   "cell_type": "code",
   "execution_count": null,
   "metadata": {},
   "outputs": [
    {
     "data": {
      "text/plain": [
       "(2,)"
      ]
     },
     "execution_count": null,
     "metadata": {},
     "output_type": "execute_result"
    }
   ],
   "source": [
    "context.shape"
   ]
  },
  {
   "cell_type": "code",
   "execution_count": null,
   "metadata": {},
   "outputs": [],
   "source": [
    "lts2.update(0,context,np.atleast_1d(1))"
   ]
  },
  {
   "cell_type": "code",
   "execution_count": null,
   "metadata": {},
   "outputs": [],
   "source": []
  },
  {
   "cell_type": "code",
   "execution_count": null,
   "metadata": {},
   "outputs": [
    {
     "name": "stdout",
     "output_type": "stream",
     "text": [
      "Converted 00_abstractions.ipynb.\n",
      "Converted 01_multi_armed_bandits.ipynb.\n",
      "Converted 02_models.ipynb.\n",
      "Converted 03_ensembles.ipynb.\n",
      "Converted 04_solvers.ipynb.\n",
      "Converted 10_adversarial_thompson_sampler.ipynb.\n",
      "Converted 99_helpers.ipynb.\n",
      "Converted contextual_bandits.ipynb.\n",
      "Converted index.ipynb.\n",
      "Converted noncontextual_bandits.ipynb.\n"
     ]
    }
   ],
   "source": [
    "from nbdev.export import *\n",
    "notebook2script()"
   ]
  },
  {
   "cell_type": "code",
   "execution_count": null,
   "metadata": {},
   "outputs": [],
   "source": []
  }
 ],
 "metadata": {
  "kernelspec": {
   "display_name": "Python 3",
   "language": "python",
   "name": "python3"
  }
 },
 "nbformat": 4,
 "nbformat_minor": 4
}
