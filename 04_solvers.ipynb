{
 "cells": [
  {
   "cell_type": "code",
   "execution_count": null,
   "metadata": {},
   "outputs": [],
   "source": [
    "# default_exp solvers"
   ]
  },
  {
   "cell_type": "markdown",
   "metadata": {},
   "source": [
    "# solvers\n",
    "> algorithms to solve the MAP problems"
   ]
  },
  {
   "cell_type": "code",
   "execution_count": null,
   "metadata": {},
   "outputs": [
    {
     "name": "stderr",
     "output_type": "stream",
     "text": [
      "\n",
      "Bad key \"text.kerning_factor\" on line 4 in\n",
      "/home/thomas/anaconda3/envs/pytorch_GPU/lib/python3.7/site-packages/matplotlib/mpl-data/stylelib/_classic_test_patch.mplstyle.\n",
      "You probably need to get an updated matplotlibrc file from\n",
      "https://github.com/matplotlib/matplotlib/blob/v3.1.3/matplotlibrc.template\n",
      "or from the matplotlib source distribution\n"
     ]
    }
   ],
   "source": [
    "#export\n",
    "from thompson_sampling.abstractions import AbstractSolver, AbstractContextualSolver,AbstractContextualSolverSingleModel\n",
    "import numpy as np\n",
    "import scipy.stats as stats\n",
    "import matplotlib.cm as cm\n",
    "import matplotlib.pyplot as plt\n"
   ]
  },
  {
   "cell_type": "code",
   "execution_count": null,
   "metadata": {},
   "outputs": [],
   "source": [
    "import matplotlib.pyplot as plt\n",
    "\n",
    "%matplotlib inline\n",
    "%load_ext autoreload\n",
    "%autoreload 2\n",
    "\n"
   ]
  },
  {
   "cell_type": "markdown",
   "metadata": {},
   "source": [
    "## categorical\n",
    "\n",
    "### non-contextual"
   ]
  },
  {
   "cell_type": "markdown",
   "metadata": {},
   "source": [
    "#### AB test"
   ]
  },
  {
   "cell_type": "code",
   "execution_count": null,
   "metadata": {},
   "outputs": [],
   "source": [
    "#export\n",
    "class AB(AbstractSolver):\n",
    "  def __init__(self, n_experiments=1000, num_options=2):\n",
    "    self.trials = np.zeros(shape=(num_options,))\n",
    "    self.successes = np.zeros(shape=(num_options,))\n",
    "    self.experiments_done = 0\n",
    "    self.n_experiments = n_experiments\n",
    "\n",
    "\n",
    "\n",
    "  def choose_arm(self):\n",
    "    \"\"\"we choose to either randomly sample an arm \n",
    "    or play the previously determined best choice\"\"\"\n",
    "\n",
    "    # if we need more experimentation, we explore\n",
    "    if self.experiments_done < self.n_experiments:\n",
    "      arm = self.explore()\n",
    "    # otherwise, we exploit\n",
    "    else:\n",
    "      arm = self.exploit()\n",
    "    return arm\n",
    "\n",
    "\n",
    "  def update(self, arm, reward):\n",
    "    \"\"\"Updates the arms about being played and about receiving a reward\"\"\"\n",
    "\n",
    "    # simply count the number of trials and successes for each arm\n",
    "    self.trials[arm] += 1\n",
    "    if reward:\n",
    "      self.successes[arm] += 1\n",
    "    self.experiments_done += 1\n",
    "\n",
    "\n",
    "  def explore(self):\n",
    "    \"\"\"returns arm 0 or arm 1 depending on a draw from interval [0,1]\n",
    "    NOTE: this isn't necessarilyhow you'd do it in real life, \n",
    "    please consult the sources for that case\"\"\"\n",
    "\n",
    "    # literally choose by random which arm to return\n",
    "    if np.random.random() <.5:\n",
    "        return 0\n",
    "    else:\n",
    "        return 1\n",
    "\n",
    "  def exploit(self):\n",
    "    \"\"\"returns arm with highest expected payoff\n",
    "    Always the same arm after exploration phase\"\"\"\n",
    "\n",
    "    # return the arm with the highest success rate\n",
    "    return np.argmax(self.successes/self.trials)\n",
    "  \n"
   ]
  },
  {
   "cell_type": "code",
   "execution_count": null,
   "metadata": {},
   "outputs": [],
   "source": [
    "#export\n",
    "class BetaBandit(AbstractSolver):\n",
    "\n",
    "    def __init__(self, num_options = 2, prior = None):\n",
    "        \"\"\"initialize BetaBandit\"\"\"\n",
    "        self.num_options = num_options\n",
    "\n",
    "        #setting the prior, either uninformative or user generated\n",
    "        if prior == None:\n",
    "            self.prior = np.ones(shape=(num_options,2))\n",
    "        else:\n",
    "            assert prior.shape == (num_options,2), f\"the prior seems to have wrong dimensionality, please conform to (num_options, 2){(num_options,2)}\"\n",
    "            self.prior = prior\n",
    "\n",
    "        self.trials = np.zeros(shape=(num_options,))\n",
    "        self.successes = np.zeros(shape=(num_options,))\n",
    "\n",
    "\n",
    "    def choose_arm(self):\n",
    "        \"\"\"draw from arms.\n",
    "        arm with the highest expected outcome wins. \n",
    "        expected outcome is determined stochastically, so even an arm with bad \n",
    "        outcome until now will have a chance of being drawn\"\"\"\n",
    "\n",
    "        sampled_theta=[]\n",
    "        for i in range(self.num_options):\n",
    "\n",
    "            dist = stats.beta(self.prior[i,0]+self.successes[i], \n",
    "                              self.prior[i,1]+self.trials[i] - self.successes[i])\n",
    "                \n",
    "            sampled_theta += [dist.rvs()]\n",
    "      \n",
    "        return(sampled_theta.index(max(sampled_theta)))    \n",
    "        \n",
    "    def update(self,arm,success):\n",
    "        \"\"\"update beta-parameters of specific arm\"\"\"\n",
    "        #count times arm has been drawn\"\"\"\n",
    "        self.trials[arm] = self.trials[arm] +1\n",
    "        #count number of successes on that arm\"\"\"\n",
    "\n",
    "        # for decay factors: self.successes = self.successes *.99\n",
    "        if success:\n",
    "            self.successes[arm] = self.successes[arm]+ 1\n",
    "            \n",
    "\n",
    "\n",
    "\n",
    "\n",
    "\n",
    "# helpers\n",
    "\n",
    "    def choose_arm_and_plot(self):\n",
    "\n",
    "\n",
    "        sampled_theta = []\n",
    "        dist_heights = []\n",
    "\n",
    "      \n",
    "        for i in range(self.num_options):\n",
    "\n",
    "            dist = stats.beta(self.prior[i,0]+self.successes[i], \n",
    "                              self.prior[i,1]+self.trials[i] - self.successes[i])\n",
    "            sample = dist.rvs()\n",
    "            sampled_theta += [sample]\n",
    "            dist_heights += [dist.pdf(sample)]\n",
    "\n",
    "            \n",
    "        w = 10\n",
    "        z = 5\n",
    "        colors = iter(cm.rainbow(np.linspace(0, 1, self.num_options)))\n",
    "            \n",
    "        for k,i in enumerate(range(self.num_options)):\n",
    "                color = next(colors)\n",
    "\n",
    "                dist = stats.beta(self.prior[i,0] + self.successes[i],\n",
    "                            self.prior[i,1] + self.trials[i] - self.successes[i])\n",
    "                x = np.linspace(0,1,100)\n",
    "                y = dist.pdf(x)\n",
    "                plt.plot(x,y,color=color,label=\"arm #%i\"%(i+1),alpha=0.8)\n",
    "\n",
    "                plt.scatter(sampled_theta[i],dist_heights[i], s = 200,label=f'sample drawn from arm {i}')\n",
    "\n",
    "                plt.fill_between(x,0,y,alpha=1/(self.num_options+1),color=color)\n",
    "                leg = plt.legend()\n",
    "                plt.tight_layout    \n",
    "      \n",
    "        return(sampled_theta.index(max(sampled_theta)))  \n",
    "\n",
    "\n",
    "    def plot_params(self):\n",
    "        \"\"\"plot the distributions that underly the arms\"\"\"\n",
    "        \n",
    "        w = 10\n",
    "        z = 5\n",
    "        colors = iter(cm.rainbow(np.linspace(0, 1, self.num_options)))\n",
    "            \n",
    "        for k,i in enumerate(range(self.num_options)):\n",
    "                color = next(colors)\n",
    "\n",
    "                dist = stats.beta(self.prior[i,0] + self.successes[i],\n",
    "                            self.prior[i,1] + self.trials[i] - self.successes[i])\n",
    "                x = np.linspace(0,1,100)\n",
    "                y = dist.pdf(x)\n",
    "                plt.plot(x,y,color=color,label=\"arm #%i\"%(i+1))\n",
    "                plt.fill_between(x,0,y,alpha=1/self.num_options,color=color)\n",
    "                leg = plt.legend()\n",
    "                plt.tight_layout\n"
   ]
  },
  {
   "cell_type": "code",
   "execution_count": null,
   "metadata": {},
   "outputs": [],
   "source": [
    "\n"
   ]
  },
  {
   "cell_type": "code",
   "execution_count": null,
   "metadata": {},
   "outputs": [
    {
     "data": {
      "text/plain": [
       "0.52"
      ]
     },
     "execution_count": null,
     "metadata": {},
     "output_type": "execute_result"
    }
   ],
   "source": [
    "bb = BetaBandit()\n",
    "np.mean([bb.choose_arm() for x in range(100)])"
   ]
  },
  {
   "cell_type": "code",
   "execution_count": null,
   "metadata": {},
   "outputs": [
    {
     "data": {
      "text/plain": [
       "1"
      ]
     },
     "execution_count": null,
     "metadata": {},
     "output_type": "execute_result"
    },
    {
     "data": {
      "image/png": "[encoded data removed]",
      "text/plain": [
       "<Figure size 432x288 with 1 Axes>"
      ]
     },
     "metadata": {
      "needs_background": "light"
     },
     "output_type": "display_data"
    }
   ],
   "source": [
    "bb.choose_arm_and_plot() #uniform binomials, no observations yet"
   ]
  },
  {
   "cell_type": "code",
   "execution_count": null,
   "metadata": {},
   "outputs": [
    {
     "data": {
      "text/plain": [
       "1"
      ]
     },
     "execution_count": null,
     "metadata": {},
     "output_type": "execute_result"
    },
    {
     "data": {
      "image/png": "[encoded data removed]",
      "text/plain": [
       "<Figure size 432x288 with 1 Axes>"
      ]
     },
     "metadata": {
      "needs_background": "light"
     },
     "output_type": "display_data"
    }
   ],
   "source": [
    "bb.choose_arm_and_plot() #uniform binomials, no observations yet"
   ]
  },
  {
   "cell_type": "code",
   "execution_count": null,
   "metadata": {},
   "outputs": [],
   "source": [
    "bb.update(0,0)\n",
    "bb.update(0,1)\n",
    "bb.update(0,1)"
   ]
  },
  {
   "cell_type": "code",
   "execution_count": null,
   "metadata": {},
   "outputs": [
    {
     "data": {
      "text/plain": [
       "0.42"
      ]
     },
     "execution_count": null,
     "metadata": {},
     "output_type": "execute_result"
    }
   ],
   "source": [
    "np.mean([bb.choose_arm() for x in range(100)])"
   ]
  },
  {
   "cell_type": "code",
   "execution_count": null,
   "metadata": {},
   "outputs": [
    {
     "data": {
      "text/plain": [
       "1"
      ]
     },
     "execution_count": null,
     "metadata": {},
     "output_type": "execute_result"
    },
    {
     "data": {
      "image/png": "[encoded data removed]",
      "text/plain": [
       "<Figure size 432x288 with 1 Axes>"
      ]
     },
     "metadata": {
      "needs_background": "light"
     },
     "output_type": "display_data"
    }
   ],
   "source": [
    "bb.choose_arm_and_plot()"
   ]
  },
  {
   "cell_type": "code",
   "execution_count": null,
   "metadata": {},
   "outputs": [],
   "source": [
    "bb.update(1,0)\n",
    "bb.update(1,0)\n",
    "bb.update(1,0)"
   ]
  },
  {
   "cell_type": "code",
   "execution_count": null,
   "metadata": {},
   "outputs": [
    {
     "data": {
      "text/plain": [
       "0"
      ]
     },
     "execution_count": null,
     "metadata": {},
     "output_type": "execute_result"
    },
    {
     "data": {
      "image/png": "[encoded data removed]",
      "text/plain": [
       "<Figure size 432x288 with 1 Axes>"
      ]
     },
     "metadata": {
      "needs_background": "light"
     },
     "output_type": "display_data"
    }
   ],
   "source": [
    "bb.choose_arm_and_plot()"
   ]
  },
  {
   "cell_type": "markdown",
   "metadata": {},
   "source": [
    "## Contextual"
   ]
  },
  {
   "cell_type": "code",
   "execution_count": null,
   "metadata": {},
   "outputs": [],
   "source": [
    "#export\n",
    "class LogisticThompsonSampler(AbstractContextualSolver):\n",
    "\n",
    "    \n",
    "    def update(self,arm,context,reward):\n",
    "        \n",
    "        model = self.model_list[arm]\n",
    "        #X =  np.atleast_1d(np.append(arm, context))\n",
    "        X = np.atleast_2d(context)\n",
    "        # print(f'X {X}')\n",
    "    \n",
    "        reward = np.atleast_1d(reward)\n",
    "        #model.observe(X.reshape(1,-1), reward.reshape(1,-1))\n",
    "        model.observe(X, reward)\n",
    "        \n",
    "    def choose_arm(self,context):\n",
    "        reward_list = []\n",
    "\n",
    "        for arm in range(self.num_arms):\n",
    "            model = self.model_list[arm]\n",
    "            X = np.atleast_2d(context)\n",
    "            \n",
    "            probas = model.predict_proba(X)\n",
    "\n",
    "            reward_sample = probas[0][1]\n",
    "            \n",
    "            # print(reward_sample)\n",
    "        \n",
    "            reward_list += [reward_sample]\n",
    "\n",
    "            \n",
    "      \n",
    "        return np.argmax(reward_list)     \n",
    "    \n",
    "    \n",
    "    \n",
    "    \n",
    "    \n",
    "    \n",
    "    \n",
    "# helpers\n",
    "\n",
    "    def plot_params(self):\n",
    "        colors = iter(cm.rainbow(np.linspace(0, 1, self.num_arms)))\n",
    "\n",
    "        for arm in range(len(self.model_list)):\n",
    "            color = next(colors)\n",
    "\n",
    "            model = self.model_list[arm]\n",
    "            X_pdf = np.linspace(-2, 2, 1000)\n",
    "            pdf = stats.norm(loc=model.m, scale=model.q**(-1.0)).pdf(X_pdf)\n",
    "\n",
    "\n",
    "            # plotting distriution of weights\n",
    "            plt.plot(X_pdf, pdf, color=color, linewidth=2, alpha=0.5, label=f'estimated parameter arm {arm}')\n",
    "            plt.fill_between(X_pdf, pdf, 0, color=color, alpha=0.2)\n",
    "            plt.legend()\n",
    "\n",
    "        \n",
    "        \n",
    "    def choose_arm_and_plot(self,context):\n",
    "        colors = iter(cm.rainbow(np.linspace(0, 1, self.num_arms)))\n",
    "        reward_list = []\n",
    "\n",
    "        \n",
    "        for arm in range(self.num_arms):\n",
    "            model = self.model_list[arm]\n",
    "            X = np.atleast_1d(context)\n",
    "\n",
    "\n",
    "            reward_sample = model.predict_proba(X)[0]\n",
    "            reward_list += [reward_sample]\n",
    "            \n",
    "            # plot\n",
    "            color = next(colors)\n",
    "\n",
    "            model = self.model_list[arm]\n",
    "            X_pdf = np.linspace(-2, 2, 1000)\n",
    "            dist = stats.norm(loc=model.m, scale=model.alpha**(-1.0))\n",
    "            pdf = dist.pdf(X_pdf)\n",
    "            \n",
    "            height = dist.pdf(reward_sample)\n",
    "\n",
    "\n",
    "            # plotting distriution of weights\n",
    "            plt.plot(X_pdf, pdf, color=color, linewidth=2, alpha=0.5, label=f'estimated parameter arm {arm}')\n",
    "            plt.fill_between(X_pdf, pdf, 0, color=color, alpha=0.2)\n",
    "\n",
    "            \n",
    "            plt.scatter(reward_sample, height, s = 200,label=f'sample drawn from arm {arm}')\n",
    "\n",
    "            plt.legend()\n",
    "        return np.argmax(reward_list)     \n"
   ]
  },
  {
   "cell_type": "code",
   "execution_count": null,
   "metadata": {},
   "outputs": [],
   "source": [
    "from thompson_sampling.models import OnlineLogisticRegression\n",
    "from thompson_sampling.multi_armed_bandits import contextual_categorical_bandit"
   ]
  },
  {
   "cell_type": "code",
   "execution_count": null,
   "metadata": {},
   "outputs": [],
   "source": [
    "lts = LogisticThompsonSampler(OnlineLogisticRegression, num_arms=2, num_context = 1)"
   ]
  },
  {
   "cell_type": "code",
   "execution_count": null,
   "metadata": {},
   "outputs": [
    {
     "data": {
      "text/plain": [
       "-1.702677989504772"
      ]
     },
     "execution_count": null,
     "metadata": {},
     "output_type": "execute_result"
    }
   ],
   "source": [
    "lts.model_list[0].get_weights()"
   ]
  },
  {
   "cell_type": "code",
   "execution_count": null,
   "metadata": {},
   "outputs": [
    {
     "data": {
      "text/plain": [
       "2"
      ]
     },
     "execution_count": null,
     "metadata": {},
     "output_type": "execute_result"
    },
    {
     "data": {
      "image/png": "[encoded data removed]",
      "text/plain": [
       "<Figure size 432x288 with 1 Axes>"
      ]
     },
     "metadata": {
      "needs_background": "light"
     },
     "output_type": "display_data"
    }
   ],
   "source": [
    "lts.choose_arm_and_plot(np.atleast_2d([0.9]))"
   ]
  },
  {
   "cell_type": "code",
   "execution_count": null,
   "metadata": {},
   "outputs": [],
   "source": []
  },
  {
   "cell_type": "code",
   "execution_count": null,
   "metadata": {},
   "outputs": [],
   "source": [
    "arm0 = 0\n",
    "arm1 = 1\n",
    "theta = [0.1, 1.9]\n",
    "noise = 0.0\n",
    "\n",
    "\n",
    "lts.update(arm1, .1, contextual_categorical_bandit(context = np.array(0.1),choice = arm1, theta = theta, noise = noise)[0])\n",
    "lts.update(arm1, .1, contextual_categorical_bandit(context = np.array(.1),choice = arm1, theta = theta, noise = noise)[0])\n",
    "lts.update(arm1, .5, contextual_categorical_bandit(context = np.array(0.5),choice = arm1, theta = theta, noise = noise)[0])\n",
    "lts.update(arm1, .5, contextual_categorical_bandit(context = np.array(.5),choice = arm1, theta = theta, noise = noise)[0])\n",
    "lts.update(arm1, .9, contextual_categorical_bandit(context = np.array(0.9),choice = arm1, theta = theta, noise = noise)[0])\n",
    "lts.update(arm1, .9, contextual_categorical_bandit(context = np.array(.9),choice = arm1, theta = theta, noise = noise)[0])\n"
   ]
  },
  {
   "cell_type": "code",
   "execution_count": null,
   "metadata": {},
   "outputs": [
    {
     "data": {
      "text/plain": [
       "0"
      ]
     },
     "execution_count": null,
     "metadata": {},
     "output_type": "execute_result"
    },
    {
     "data": {
      "image/png": "[encoded data removed]",
      "text/plain": [
       "<Figure size 432x288 with 1 Axes>"
      ]
     },
     "metadata": {
      "needs_background": "light"
     },
     "output_type": "display_data"
    }
   ],
   "source": [
    "lts.choose_arm_and_plot(0.9)"
   ]
  },
  {
   "cell_type": "code",
   "execution_count": null,
   "metadata": {},
   "outputs": [
    {
     "data": {
      "text/plain": [
       "0"
      ]
     },
     "execution_count": null,
     "metadata": {},
     "output_type": "execute_result"
    }
   ],
   "source": [
    "lts.choose_arm(0.9)"
   ]
  },
  {
   "cell_type": "code",
   "execution_count": null,
   "metadata": {},
   "outputs": [],
   "source": [
    "lts2 = LogisticThompsonSampler(OnlineLogisticRegression, num_arms=2, num_context = 2)"
   ]
  },
  {
   "cell_type": "code",
   "execution_count": null,
   "metadata": {},
   "outputs": [
    {
     "data": {
      "text/plain": [
       "1"
      ]
     },
     "execution_count": null,
     "metadata": {},
     "output_type": "execute_result"
    }
   ],
   "source": [
    "context = np.atleast_1d(np.array([1,1]))#.T#.reshape(1,-1)#.T\n",
    "\n",
    "lts2.choose_arm(context)"
   ]
  },
  {
   "cell_type": "code",
   "execution_count": null,
   "metadata": {},
   "outputs": [
    {
     "data": {
      "text/plain": [
       "(2,)"
      ]
     },
     "execution_count": null,
     "metadata": {},
     "output_type": "execute_result"
    }
   ],
   "source": [
    "context.shape"
   ]
  },
  {
   "cell_type": "code",
   "execution_count": null,
   "metadata": {},
   "outputs": [],
   "source": [
    "lts2.update(0,context,np.atleast_1d(1))"
   ]
  },
  {
   "cell_type": "markdown",
   "metadata": {},
   "source": [
    "# Numerical\n",
    "\n",
    "## no context\n"
   ]
  },
  {
   "cell_type": "code",
   "execution_count": null,
   "metadata": {},
   "outputs": [],
   "source": [
    "#export\n",
    "class GaussianBandit(AbstractSolver):\n",
    "\n",
    "    def __init__(self, num_options = 2, mean_prior = 0, std_prior = 1):\n",
    "        \"\"\"initialize BetaBandit\"\"\"\n",
    "        self.num_options = num_options\n",
    "\n",
    "        #setting the prior, either uninformative or user generated\n",
    "#         if prior == None:\n",
    "#             self.prior = np.ones(shape=(num_options,2))\n",
    "#         else:\n",
    "#             assert prior.shape == (num_options,2), f\"the prior seems to have wrong dimensionality, please conform to (num_options, 2){(num_options,2)}\"\n",
    "#             self.prior = prior\n",
    "\n",
    "        self.trials = np.zeros(shape=(num_options,))\n",
    "        self.sum_x = np.zeros(shape=(num_options,))\n",
    "        self.sum_x2 = np.zeros(shape=(num_options,))\n",
    "\n",
    "        self.mean_prior = mean_prior\n",
    "        self.std_prior = std_prior\n",
    "\n",
    "    def choose_arm(self):\n",
    "        \"\"\"draw from arms.\n",
    "        arm with the highest expected outcome wins. \n",
    "        expected outcome is determined stochastically, so even an arm with bad \n",
    "        outcome until now will have a chance of being drawn\"\"\"\n",
    "\n",
    "        sampled_outcomes = []\n",
    "        for i in range(self.num_options):\n",
    "            \n",
    "            if self.trials[i] > 1:\n",
    "                mean = self.compute_online_mean(i)\n",
    "                stdev = self.compute_online_std(i, mean)\n",
    "            else:\n",
    "                mean = 0\n",
    "                stdev = 1\n",
    "            \n",
    "\n",
    "            dist = stats.norm(mean,stdev)\n",
    "            \n",
    "            sampled_outcome = dist.rvs()\n",
    "            #print(sampled_outcome)\n",
    "            \n",
    "            sampled_outcomes += [sampled_outcome]\n",
    "      \n",
    "        return(sampled_outcomes.index(max(sampled_outcomes)))    \n",
    "        \n",
    "    def update(self, arm, outcome):\n",
    "        \"\"\"update parameters of specific arm\"\"\"\n",
    "        #count times arm has been drawn\"\"\"\n",
    "        self.trials[arm] = self.trials[arm] +1\n",
    "        #count number of successes on that arm\"\"\"\n",
    "\n",
    "        # for decay factors: self.successes = self.successes *.99\n",
    "        \n",
    "        self.sum_x[arm] += outcome\n",
    "        self.sum_x2[arm] += outcome*outcome\n",
    "        \n",
    "        \n",
    "    def compute_online_mean(self, arm):\n",
    "        return self.sum_x[arm] / (self.trials[arm])\n",
    "    \n",
    "    def compute_online_std(self, arm, mean = None):\n",
    "        mean = mean or self.compute_online_mean(arm)\n",
    "        #np max against degeneration)\n",
    "        return np.max([np.sqrt((self.sum_x2[arm] / (self.trials[arm])) - (mean * mean)), 0.00001])\n",
    "        \n",
    "        \n",
    "\n",
    "        \n",
    "    def plot_params(self):\n",
    "        \"\"\"plot the distributions that underly the arms\"\"\"\n",
    "        \n",
    "        w = 10\n",
    "        z = 5\n",
    "        colors = iter(cm.rainbow(np.linspace(0, 1, self.num_options)))\n",
    "            \n",
    "        for k,i in enumerate(range(self.num_options)):\n",
    "                color = next(colors)\n",
    "                \n",
    "                \n",
    "            \n",
    "            \n",
    "                if self.trials[i] > 1:\n",
    "                    mean = self.compute_online_mean(i)\n",
    "                    stdev = self.compute_online_std(i, mean)\n",
    "                else:\n",
    "                    mean = 0\n",
    "                    stdev = 1\n",
    "\n",
    "\n",
    "                dist = stats.norm(mean,stdev)\n",
    "\n",
    "                x = np.linspace(-6,6,100)\n",
    "                y = dist.pdf(x)\n",
    "                plt.plot(x,y,color=color,label=\"arm #%i\"%(i+1))\n",
    "                plt.fill_between(x,0,y,alpha=1/self.num_options,color=color)\n",
    "                leg = plt.legend()\n",
    "                plt.tight_layout\n",
    "     \n",
    "\n",
    "            "
   ]
  },
  {
   "cell_type": "code",
   "execution_count": null,
   "metadata": {},
   "outputs": [],
   "source": [
    "gb = GaussianBandit(2)"
   ]
  },
  {
   "cell_type": "code",
   "execution_count": null,
   "metadata": {},
   "outputs": [
    {
     "data": {
      "image/png": "[encoded data removed]",
      "text/plain": [
       "<Figure size 432x288 with 1 Axes>"
      ]
     },
     "metadata": {
      "needs_background": "light"
     },
     "output_type": "display_data"
    }
   ],
   "source": [
    "gb.plot_params()"
   ]
  },
  {
   "cell_type": "code",
   "execution_count": null,
   "metadata": {},
   "outputs": [
    {
     "data": {
      "text/plain": [
       "0.53"
      ]
     },
     "execution_count": null,
     "metadata": {},
     "output_type": "execute_result"
    }
   ],
   "source": [
    "np.mean([gb.choose_arm() for x in range(100)])"
   ]
  },
  {
   "cell_type": "code",
   "execution_count": null,
   "metadata": {},
   "outputs": [],
   "source": [
    "gb.update(0, 10)\n",
    "gb.update(0, 1)\n",
    "gb.update(1, -3)\n",
    "gb.update(1, 0)"
   ]
  },
  {
   "cell_type": "code",
   "execution_count": null,
   "metadata": {},
   "outputs": [
    {
     "data": {
      "image/png": "[encoded data removed]",
      "text/plain": [
       "<Figure size 432x288 with 1 Axes>"
      ]
     },
     "metadata": {
      "needs_background": "light"
     },
     "output_type": "display_data"
    }
   ],
   "source": [
    "# degenerate gaussian\n",
    "gb.plot_params()"
   ]
  },
  {
   "cell_type": "code",
   "execution_count": null,
   "metadata": {},
   "outputs": [
    {
     "data": {
      "text/plain": [
       "0.15"
      ]
     },
     "execution_count": null,
     "metadata": {},
     "output_type": "execute_result"
    }
   ],
   "source": [
    "np.mean([gb.choose_arm() for x in range(100)])"
   ]
  },
  {
   "cell_type": "code",
   "execution_count": null,
   "metadata": {},
   "outputs": [
    {
     "data": {
      "text/plain": [
       "array([2., 2.])"
      ]
     },
     "execution_count": null,
     "metadata": {},
     "output_type": "execute_result"
    }
   ],
   "source": [
    "gb.trials"
   ]
  },
  {
   "cell_type": "code",
   "execution_count": null,
   "metadata": {},
   "outputs": [
    {
     "data": {
      "text/plain": [
       "(5.5, -1.5)"
      ]
     },
     "execution_count": null,
     "metadata": {},
     "output_type": "execute_result"
    }
   ],
   "source": [
    "gb.compute_online_mean(0), gb.compute_online_mean(1)"
   ]
  },
  {
   "cell_type": "code",
   "execution_count": null,
   "metadata": {},
   "outputs": [
    {
     "data": {
      "text/plain": [
       "(4.5, 1.5)"
      ]
     },
     "execution_count": null,
     "metadata": {},
     "output_type": "execute_result"
    }
   ],
   "source": [
    "gb.compute_online_std(0), gb.compute_online_std(1)"
   ]
  },
  {
   "cell_type": "code",
   "execution_count": null,
   "metadata": {},
   "outputs": [],
   "source": [
    "gb.update(1, 5)\n",
    "gb.update(0, 1)\n",
    "gb.update(0, -10)\n",
    "gb.update(1, 10)"
   ]
  },
  {
   "cell_type": "code",
   "execution_count": null,
   "metadata": {},
   "outputs": [
    {
     "data": {
      "text/plain": [
       "0.59"
      ]
     },
     "execution_count": null,
     "metadata": {},
     "output_type": "execute_result"
    }
   ],
   "source": [
    "np.mean([gb.choose_arm() for x in range(100)])"
   ]
  },
  {
   "cell_type": "code",
   "execution_count": null,
   "metadata": {},
   "outputs": [
    {
     "data": {
      "text/plain": [
       "(0.5, 3.0)"
      ]
     },
     "execution_count": null,
     "metadata": {},
     "output_type": "execute_result"
    }
   ],
   "source": [
    "gb.compute_online_mean(0), gb.compute_online_mean(1)"
   ]
  },
  {
   "cell_type": "code",
   "execution_count": null,
   "metadata": {},
   "outputs": [
    {
     "data": {
      "text/plain": [
       "(7.088723439378913, 4.949747468305833)"
      ]
     },
     "execution_count": null,
     "metadata": {},
     "output_type": "execute_result"
    }
   ],
   "source": [
    "gb.compute_online_std(0), gb.compute_online_std(1)"
   ]
  },
  {
   "cell_type": "code",
   "execution_count": null,
   "metadata": {},
   "outputs": [
    {
     "data": {
      "image/png": "[encoded data removed]",
      "text/plain": [
       "<Figure size 432x288 with 1 Axes>"
      ]
     },
     "metadata": {
      "needs_background": "light"
     },
     "output_type": "display_data"
    }
   ],
   "source": [
    "gb.plot_params()"
   ]
  },
  {
   "cell_type": "markdown",
   "metadata": {},
   "source": [
    "\n",
    "## context"
   ]
  },
  {
   "cell_type": "code",
   "execution_count": null,
   "metadata": {},
   "outputs": [],
   "source": [
    "#export\n",
    "\n",
    "class GaussianContextualSampler(AbstractContextualSolver):\n",
    "\n",
    "    \n",
    "    def update(self,arm,context,reward):\n",
    "        \n",
    "        model = self.model_list[arm]\n",
    "        X = np.atleast_2d(context)\n",
    "    \n",
    "        reward = np.atleast_1d(reward)\n",
    "        model.observe(X, reward)\n",
    "        \n",
    "    def choose_arm(self,context):\n",
    "        reward_list = []\n",
    "        \n",
    "        \n",
    "\n",
    "        for arm in range(self.num_arms):\n",
    "            model = self.model_list[arm]\n",
    "            X = np.atleast_2d(context)\n",
    "            \n",
    "            arm_dist = model.predict(X)\n",
    "            \n",
    "\n",
    "            reward_sample = arm_dist.rvs()\n",
    "            \n",
    "        \n",
    "            reward_list += [reward_sample]\n",
    "\n",
    "            \n",
    "      \n",
    "        return np.argmax(reward_list)     \n",
    "    \n",
    "    \n",
    "    \n",
    "    \n",
    "      \n",
    "        \n",
    "    def choose_arm_and_plot(self,context):\n",
    "        colors = iter(cm.rainbow(np.linspace(0, 1, self.num_arms)))\n",
    "        reward_list = []\n",
    "\n",
    "        \n",
    "\n",
    "\n",
    "\n",
    "        for arm in range(self.num_arms):\n",
    "            model = self.model_list[arm]\n",
    "            X = np.atleast_2d(context)\n",
    "\n",
    "            arm_dist = model.predict(X)\n",
    "\n",
    "\n",
    "            reward_sample = arm_dist.rvs()\n",
    "\n",
    "\n",
    "            reward_list += [reward_sample]\n",
    "\n",
    "\n",
    "            \n",
    "            # plot\n",
    "            color = next(colors)\n",
    "\n",
    "            model = self.model_list[arm]\n",
    "            X_pdf = np.linspace(-10, 10, 1000)\n",
    "            pdf = arm_dist.pdf(X_pdf)\n",
    "            \n",
    "            height = arm_dist.pdf(reward_sample)\n",
    "\n",
    "\n",
    "            # plotting distriution of weights\n",
    "            plt.plot(X_pdf, pdf, color=color, linewidth=2, alpha=0.5, label=f'estimated parameter arm {arm}')\n",
    "            plt.fill_between(X_pdf, pdf, 0, color=color, alpha=0.2)\n",
    "\n",
    "            \n",
    "            plt.scatter(reward_sample, height, s = 200,label=f'sample drawn from arm {arm}')\n",
    "\n",
    "            plt.legend()\n",
    "        return np.argmax(reward_list)     \n",
    "\n"
   ]
  },
  {
   "cell_type": "code",
   "execution_count": null,
   "metadata": {},
   "outputs": [],
   "source": [
    "from thompson_sampling.models import BatchBayesLinReg\n",
    "from thompson_sampling.multi_armed_bandits import contextual_numerical_bandit"
   ]
  },
  {
   "cell_type": "code",
   "execution_count": null,
   "metadata": {},
   "outputs": [],
   "source": [
    "gcs = GaussianContextualSampler(BatchBayesLinReg,num_arms=2, num_context = 1,model_params={'alpha':1, 'beta':4})"
   ]
  },
  {
   "cell_type": "code",
   "execution_count": null,
   "metadata": {},
   "outputs": [],
   "source": []
  },
  {
   "cell_type": "code",
   "execution_count": null,
   "metadata": {},
   "outputs": [
    {
     "data": {
      "text/plain": [
       "<matplotlib.collections.PathCollection at 0x7f2c265f3610>"
      ]
     },
     "execution_count": null,
     "metadata": {},
     "output_type": "execute_result"
    },
    {
     "data": {
      "image/png": "[encoded data removed]",
      "text/plain": [
       "<Figure size 432x288 with 1 Axes>"
      ]
     },
     "metadata": {
      "needs_background": "light"
     },
     "output_type": "display_data"
    }
   ],
   "source": [
    "arm0 = 0\n",
    "arm1 = 1\n",
    "theta = [0.1, 1.9]\n",
    "noise = 1\n",
    "\n",
    "\n",
    "\n",
    "X = np.linspace(-10,10, 10)\n",
    "y0 = [contextual_numerical_bandit(x,0,theta,noise) for x in X]\n",
    "y1 = [contextual_numerical_bandit(x,1,theta,noise) for x in X]\n",
    "\n",
    "plt.scatter(X,y1)\n",
    "plt.scatter(X,y0)"
   ]
  },
  {
   "cell_type": "code",
   "execution_count": null,
   "metadata": {},
   "outputs": [
    {
     "data": {
      "text/plain": [
       "[None, None, None, None, None, None]"
      ]
     },
     "execution_count": null,
     "metadata": {},
     "output_type": "execute_result"
    }
   ],
   "source": [
    "\n",
    "\n",
    "contexts = [10,-10,-1,9.5,-9,1]\n",
    "\n",
    "a = [gcs.update(arm1, context, contextual_numerical_bandit(context = np.array(context),choice = arm1, theta = theta, noise = noise)) for context in contexts]\n",
    "\n",
    "a"
   ]
  },
  {
   "cell_type": "code",
   "execution_count": null,
   "metadata": {},
   "outputs": [
    {
     "data": {
      "text/plain": [
       "[16.805707110669438,\n",
       " -19.152540223558955,\n",
       " -3.1180431072771126,\n",
       " 17.191698294180387,\n",
       " -17.61598646408455,\n",
       " 1.9694918966222383]"
      ]
     },
     "execution_count": null,
     "metadata": {},
     "output_type": "execute_result"
    }
   ],
   "source": [
    "a = [contextual_numerical_bandit(context = np.array(context),choice = arm0, theta = theta, noise = noise) for context in contexts]\n",
    "a"
   ]
  },
  {
   "cell_type": "code",
   "execution_count": null,
   "metadata": {},
   "outputs": [
    {
     "data": {
      "text/plain": [
       "1.2782481259481109"
      ]
     },
     "execution_count": null,
     "metadata": {},
     "output_type": "execute_result"
    }
   ],
   "source": [
    "contextual_numerical_bandit(context = np.array(10),choice = arm1, theta = theta, noise = noise)"
   ]
  },
  {
   "cell_type": "code",
   "execution_count": null,
   "metadata": {},
   "outputs": [],
   "source": [
    "#plt.plot(context,a)"
   ]
  },
  {
   "cell_type": "code",
   "execution_count": null,
   "metadata": {},
   "outputs": [
    {
     "data": {
      "text/plain": [
       "-0.36558059866178827"
      ]
     },
     "execution_count": null,
     "metadata": {},
     "output_type": "execute_result"
    }
   ],
   "source": [
    " contextual_numerical_bandit(context = np.array(context),choice = arm1, theta = theta, noise = noise)"
   ]
  },
  {
   "cell_type": "code",
   "execution_count": null,
   "metadata": {},
   "outputs": [],
   "source": [
    "gcs.update(arm1, 10,  contextual_numerical_bandit(context = np.array(context),choice = arm1, theta = theta, noise = noise))"
   ]
  },
  {
   "cell_type": "code",
   "execution_count": null,
   "metadata": {},
   "outputs": [
    {
     "data": {
      "text/plain": [
       "1"
      ]
     },
     "execution_count": null,
     "metadata": {},
     "output_type": "execute_result"
    },
    {
     "data": {
      "image/png": "[encoded data removed]",
      "text/plain": [
       "<Figure size 432x288 with 1 Axes>"
      ]
     },
     "metadata": {
      "needs_background": "light"
     },
     "output_type": "display_data"
    }
   ],
   "source": [
    "gcs.choose_arm_and_plot(5)"
   ]
  },
  {
   "cell_type": "code",
   "execution_count": null,
   "metadata": {},
   "outputs": [
    {
     "data": {
      "text/plain": [
       "1"
      ]
     },
     "execution_count": null,
     "metadata": {},
     "output_type": "execute_result"
    },
    {
     "data": {
      "image/png": "[encoded data removed]",
      "text/plain": [
       "<Figure size 432x288 with 1 Axes>"
      ]
     },
     "metadata": {
      "needs_background": "light"
     },
     "output_type": "display_data"
    }
   ],
   "source": [
    "\n",
    "gcs.choose_arm_and_plot(-5)"
   ]
  },
  {
   "cell_type": "markdown",
   "metadata": {},
   "source": [
    "# numerical or categorical reward, categorical arm\n",
    "\n",
    "## no context"
   ]
  },
  {
   "cell_type": "code",
   "execution_count": null,
   "metadata": {},
   "outputs": [],
   "source": [
    "#export\n",
    "class GaussianCategoricalBandit(GaussianBandit):\n",
    "\n",
    "\n",
    "    def choose_arm(self):\n",
    "        \"\"\"draw from arms.\n",
    "        arm with the highest expected outcome wins. \n",
    "        expected outcome is determined stochastically, so even an arm with bad \n",
    "        outcome until now will have a chance of being drawn\"\"\"\n",
    "\n",
    "        sampled_outcomes = []\n",
    "        arm_samples = np.zeros(shape=(self.num_options,100))\n",
    "        for arm in range(self.num_options):\n",
    "            \n",
    "            for i in range(100):\n",
    "            \n",
    "                if self.trials[arm] > 1:\n",
    "                    mean = self.compute_online_mean(arm)\n",
    "                    stdev = self.compute_online_std(arm, mean)\n",
    "                else:\n",
    "                    mean = 0\n",
    "                    stdev = 1\n",
    "\n",
    "\n",
    "                dist = stats.norm(mean,stdev)\n",
    "\n",
    "                arm_samples[arm,i] = dist.rvs()\n",
    "\n",
    "        winning_ratio = np.argmax(arm_samples,0)\n",
    "\n",
    "        winning_arm = np.bincount(winning_ratio).argmax()\n",
    "\n",
    "        \n",
    "        # ToDo sample from ratio of winning arms, i.e. nb.bincount(winning_ratio).mean()\n",
    "        return winning_arm\n",
    "        \n",
    "        \n",
    "       \n",
    "    def choose_arm_and_plot(self):\n",
    "        print('this is not implemented, will not plot the distribution, please also call plot arm')\n",
    "        return self.choose_arm()\n",
    "\n",
    "\n",
    "            "
   ]
  },
  {
   "cell_type": "code",
   "execution_count": null,
   "metadata": {},
   "outputs": [],
   "source": [
    "gcb = GaussianCategoricalBandit(2)"
   ]
  },
  {
   "cell_type": "code",
   "execution_count": null,
   "metadata": {},
   "outputs": [
    {
     "data": {
      "image/png": "[encoded data removed]",
      "text/plain": [
       "<Figure size 432x288 with 1 Axes>"
      ]
     },
     "metadata": {
      "needs_background": "light"
     },
     "output_type": "display_data"
    }
   ],
   "source": [
    "gcb.plot_params()"
   ]
  },
  {
   "cell_type": "code",
   "execution_count": null,
   "metadata": {},
   "outputs": [
    {
     "data": {
      "text/plain": [
       "[0, 1]"
      ]
     },
     "execution_count": null,
     "metadata": {},
     "output_type": "execute_result"
    }
   ],
   "source": [
    "[i for i in range(gcb.num_options)]"
   ]
  },
  {
   "cell_type": "markdown",
   "metadata": {},
   "source": [
    "## contextual"
   ]
  },
  {
   "cell_type": "code",
   "execution_count": null,
   "metadata": {},
   "outputs": [],
   "source": [
    "#export\n",
    "class GaussianUniversalContextualSampler(GaussianContextualSampler):\n",
    "\n",
    "    \n",
    "    def update(self,arm,context,reward):\n",
    "        \n",
    "        model = self.model_list[arm]\n",
    "        X = np.atleast_2d(context)\n",
    "    \n",
    "        reward = np.atleast_1d(reward)\n",
    "        model.observe(X, reward)\n",
    "        \n",
    "        \n",
    "        \n",
    "        \n",
    "        \n",
    "        \n",
    "    def choose_arm(self, context, num_samples = 10):\n",
    "        \"\"\"draw from arms.\n",
    "        arm with the highest expected outcome wins. \n",
    "        expected outcome is determined stochastically, so even an arm with bad \n",
    "        outcome until now will have a chance of being drawn\"\"\"\n",
    "\n",
    "        sampled_outcomes = []\n",
    "        arm_samples = np.zeros(shape=(self.num_arms,num_samples))\n",
    "        \n",
    "        X = np.atleast_2d(context)\n",
    "        \n",
    "        for arm in range(self.num_arms):\n",
    "            model = self.model_list[arm]\n",
    "            arm_dist = model.predict(X)\n",
    "\n",
    " \n",
    "            for i in range(num_samples):\n",
    "            \n",
    "                arm_samples[arm,i] = arm_dist.rvs()\n",
    "\n",
    "        winning_ratio = np.argmax(arm_samples,0)\n",
    "\n",
    "        winning_arm = np.bincount(winning_ratio).argmax()\n",
    "\n",
    "        \n",
    "        # ToDo sample from ratio of winning arms, i.e. nb.bincount(winning_ratio).mean()\n",
    "        return winning_arm\n",
    "        \n",
    "        \n",
    "\n",
    "    "
   ]
  },
  {
   "cell_type": "code",
   "execution_count": null,
   "metadata": {},
   "outputs": [],
   "source": [
    "#gucs = GaussianUniversalContextualSampler"
   ]
  },
  {
   "cell_type": "code",
   "execution_count": null,
   "metadata": {},
   "outputs": [],
   "source": [
    "gucs = GaussianUniversalContextualSampler(BatchBayesLinReg,num_arms=2, num_context = 1,model_params={'alpha':1, 'beta':4})"
   ]
  },
  {
   "cell_type": "code",
   "execution_count": null,
   "metadata": {},
   "outputs": [],
   "source": [
    "arm0 = 0\n",
    "arm1 = 1\n",
    "theta = [0.1, 1.9]\n",
    "noise = 0.0\n",
    "\n",
    "\n",
    "contexts = [10,-10,-1,9.5,-9,1]\n",
    "\n",
    "a = [gucs.update(arm1, context, contextual_numerical_bandit(context = np.array(context),choice = arm1, theta = theta, noise = noise)) for context in contexts]\n",
    "a = [gucs.update(arm1, context, contextual_numerical_bandit(context = np.array(context),choice = arm1, theta = theta, noise = noise)) for context in contexts]\n",
    "a = [gucs.update(arm1, context, contextual_numerical_bandit(context = np.array(context),choice = arm1, theta = theta, noise = noise)) for context in contexts]\n"
   ]
  },
  {
   "cell_type": "code",
   "execution_count": null,
   "metadata": {},
   "outputs": [
    {
     "data": {
      "text/plain": [
       "1"
      ]
     },
     "execution_count": null,
     "metadata": {},
     "output_type": "execute_result"
    },
    {
     "data": {
      "image/png": "[encoded data removed]",
      "text/plain": [
       "<Figure size 432x288 with 1 Axes>"
      ]
     },
     "metadata": {
      "needs_background": "light"
     },
     "output_type": "display_data"
    }
   ],
   "source": [
    "gcs.choose_arm_and_plot(1)"
   ]
  },
  {
   "cell_type": "code",
   "execution_count": null,
   "metadata": {},
   "outputs": [
    {
     "data": {
      "text/plain": [
       "1"
      ]
     },
     "execution_count": null,
     "metadata": {},
     "output_type": "execute_result"
    },
    {
     "data": {
      "image/png": "[encoded data removed]",
      "text/plain": [
       "<Figure size 432x288 with 1 Axes>"
      ]
     },
     "metadata": {
      "needs_background": "light"
     },
     "output_type": "display_data"
    }
   ],
   "source": [
    "gcs.choose_arm_and_plot(0)"
   ]
  },
  {
   "cell_type": "code",
   "execution_count": null,
   "metadata": {},
   "outputs": [
    {
     "data": {
      "text/plain": [
       "1"
      ]
     },
     "execution_count": null,
     "metadata": {},
     "output_type": "execute_result"
    },
    {
     "data": {
      "image/png": "[encoded data removed]",
      "text/plain": [
       "<Figure size 432x288 with 1 Axes>"
      ]
     },
     "metadata": {
      "needs_background": "light"
     },
     "output_type": "display_data"
    }
   ],
   "source": [
    "gcs.choose_arm_and_plot(0)"
   ]
  },
  {
   "cell_type": "code",
   "execution_count": null,
   "metadata": {},
   "outputs": [
    {
     "name": "stdout",
     "output_type": "stream",
     "text": [
      "Converted 00_abstractions.ipynb.\n",
      "Converted 01_multi_armed_bandits.ipynb.\n",
      "Converted 02_models.ipynb.\n",
      "Converted 03_ensembles.ipynb.\n",
      "Converted 04_solvers.ipynb.\n",
      "Converted 05_bayesian_regression.ipynb.\n",
      "Converted 06_network_with_thompson_attention.ipynb.\n",
      "Converted 99_helpers.ipynb.\n",
      "Converted CURRENT.ipynb.\n",
      "Converted contextual_bandits.ipynb.\n",
      "Converted index.ipynb.\n",
      "Converted linear_problem_setup.ipynb.\n",
      "Converted noncontextual_bandits.ipynb.\n",
      "Converted nonlinear_bandits.ipynb.\n"
     ]
    }
   ],
   "source": [
    "from nbdev.export import *\n",
    "notebook2script()"
   ]
  },
  {
   "cell_type": "code",
   "execution_count": null,
   "metadata": {},
   "outputs": [],
   "source": []
  },
  {
   "cell_type": "code",
   "execution_count": null,
   "metadata": {},
   "outputs": [],
   "source": []
  },
  {
   "cell_type": "code",
   "execution_count": null,
   "metadata": {},
   "outputs": [],
   "source": []
  },
  {
   "cell_type": "code",
   "execution_count": null,
   "metadata": {},
   "outputs": [],
   "source": []
  },
  {
   "cell_type": "code",
   "execution_count": null,
   "metadata": {},
   "outputs": [],
   "source": [
    "#export\n",
    "from collections import OrderedDict\n",
    "       \n",
    "\n",
    "\n",
    "\n",
    "class GaussianContextualSamplerSingleModel(AbstractContextualSolverSingleModel):\n",
    "\n",
    "    \n",
    "    def update(self,arm_ix,context,reward):\n",
    "        arm = self.arms[arm_ix]\n",
    "        X = np.append(arm,context)\n",
    "        reward = np.atleast_1d(reward)\n",
    "        \n",
    "        #print(X, reward)\n",
    "        self.errors.append(self.model.observe(X, reward))\n",
    "        \n",
    "    def choose_arm(self,context):\n",
    "        reward_dict = {}\n",
    "        \n",
    "        \n",
    "\n",
    "        for arm_ix in self.arms:\n",
    "            arm = self.arms[arm_ix]\n",
    "            \n",
    "            X = np.append(arm,context)\n",
    "            #print(X)\n",
    "            \n",
    "            arm_dist = self.model.predict(X)\n",
    "            \n",
    "\n",
    "            reward_sample = arm_dist.rvs()\n",
    "            \n",
    "            #print(reward_sample)\n",
    "            #print(arm)\n",
    "            reward_dict[arm_ix] = reward_sample\n",
    "\n",
    "            \n",
    "        max_ix = max(reward_dict, key=lambda key: reward_dict[key])   \n",
    "        return  {'arm' :self.arms[max_ix], 'arm_ix':max_ix}\n",
    "    \n",
    "    \n",
    "    \n",
    "    \n",
    "      \n",
    "        \n",
    "    def choose_arm_and_plot(self,context):\n",
    "        colors = iter(cm.rainbow(np.linspace(0, 1, self.num_arms)))\n",
    "        reward_list = []\n",
    "\n",
    "        \n",
    "\n",
    "\n",
    "\n",
    "        for arm in range(self.num_arms):\n",
    "            X = np.atleast_2d(np.append(arm,context))\n",
    "            print(X)\n",
    "\n",
    "\n",
    "            arm_dist = self.model.predict(X)\n",
    "\n",
    "\n",
    "            reward_sample = arm_dist.rvs()\n",
    "\n",
    "            print(reward_sample)\n",
    "            \n",
    "            reward_list += [reward_sample]\n",
    "\n",
    "\n",
    "            \n",
    "            # plot\n",
    "            color = next(colors)\n",
    "\n",
    "            X_pdf = np.linspace(-10, 10, 1000)\n",
    "            pdf = arm_dist.pdf(X_pdf)\n",
    "            \n",
    "            height = arm_dist.pdf(reward_sample)\n",
    "\n",
    "\n",
    "            # plotting distriution of weights\n",
    "            plt.plot(X_pdf, pdf, color=color, linewidth=2, alpha=0.5, label=f'estimated parameter arm {arm}')\n",
    "            plt.fill_between(X_pdf, pdf, 0, color=color, alpha=0.2)\n",
    "\n",
    "            \n",
    "            plt.scatter(reward_sample, height, s = 200,label=f'sample drawn from arm {arm}')\n",
    "\n",
    "            plt.legend()\n",
    "        return np.argmax(reward_list)     \n"
   ]
  },
  {
   "cell_type": "code",
   "execution_count": null,
   "metadata": {},
   "outputs": [],
   "source": [
    "gcssm = GaussianContextualSamplerSingleModel(BatchBayesLinReg,num_arms=5, num_context = 1,model_params={'alpha':1, 'beta':4})"
   ]
  },
  {
   "cell_type": "code",
   "execution_count": null,
   "metadata": {},
   "outputs": [
    {
     "data": {
      "text/plain": [
       "(<thompson_sampling.models.BatchBayesLinReg at 0x7f2c25fce610>,\n",
       " odict_values([array([0., 1., 1., 1., 1.]), array([1., 0., 1., 1., 1.]), array([1., 1., 0., 1., 1.]), array([1., 1., 1., 0., 1.]), array([1., 1., 1., 1., 0.]), array([1., 1., 1., 1., 1.])]))"
      ]
     },
     "execution_count": null,
     "metadata": {},
     "output_type": "execute_result"
    }
   ],
   "source": [
    "gcssm.model, gcssm.arms.values()"
   ]
  },
  {
   "cell_type": "code",
   "execution_count": null,
   "metadata": {},
   "outputs": [
    {
     "data": {
      "text/plain": [
       "{'arm': array([1., 1., 0., 1., 1.]), 'arm_ix': 2}"
      ]
     },
     "execution_count": null,
     "metadata": {},
     "output_type": "execute_result"
    }
   ],
   "source": [
    "gcssm.choose_arm(np.array([9]))"
   ]
  },
  {
   "cell_type": "code",
   "execution_count": null,
   "metadata": {},
   "outputs": [
    {
     "data": {
      "text/plain": [
       "{'arm': array([1., 1., 1., 0., 1.]), 'arm_ix': 3}"
      ]
     },
     "execution_count": null,
     "metadata": {},
     "output_type": "execute_result"
    }
   ],
   "source": [
    "gcssm.choose_arm(np.array([9]))"
   ]
  },
  {
   "cell_type": "code",
   "execution_count": null,
   "metadata": {},
   "outputs": [
    {
     "name": "stdout",
     "output_type": "stream",
     "text": [
      "[0. 1. 1. 1. 1. 9.] [1]\n"
     ]
    }
   ],
   "source": [
    "gcssm.update(arm_ix=0,context=np.array([9]),reward=1)"
   ]
  },
  {
   "cell_type": "code",
   "execution_count": null,
   "metadata": {},
   "outputs": [
    {
     "data": {
      "text/plain": [
       "OrderedDict([(0, array([0., 1., 1., 1., 1.])),\n",
       "             (1, array([1., 0., 1., 1., 1.])),\n",
       "             (2, array([1., 1., 0., 1., 1.])),\n",
       "             (3, array([1., 1., 1., 0., 1.])),\n",
       "             (4, array([1., 1., 1., 1., 0.])),\n",
       "             (6, array([1., 1., 1., 1., 1.]))])"
      ]
     },
     "execution_count": null,
     "metadata": {},
     "output_type": "execute_result"
    }
   ],
   "source": [
    "gcssm.arms"
   ]
  },
  {
   "cell_type": "code",
   "execution_count": null,
   "metadata": {},
   "outputs": [],
   "source": []
  },
  {
   "cell_type": "code",
   "execution_count": null,
   "metadata": {},
   "outputs": [],
   "source": []
  }
 ],
 "metadata": {
  "kernelspec": {
   "display_name": "Python 3",
   "language": "python",
   "name": "python3"
  }
 },
 "nbformat": 4,
 "nbformat_minor": 4
}
