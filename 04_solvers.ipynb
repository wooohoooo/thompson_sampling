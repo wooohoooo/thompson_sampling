{
 "cells": [
  {
   "cell_type": "code",
   "execution_count": 1,
   "metadata": {},
   "outputs": [],
   "source": [
    "# default_exp solvers"
   ]
  },
  {
   "cell_type": "markdown",
   "metadata": {},
   "source": [
    "# solvers\n",
    "> algorithms to solve the MAP problems"
   ]
  },
  {
   "cell_type": "code",
   "execution_count": 9,
   "metadata": {},
   "outputs": [],
   "source": [
    "#export\n",
    "from thompson_sampling_edu.abstractions import AbstractSolver\n",
    "import numpy as np\n",
    "import scipy.stats as stats\n",
    "import matplotlib.cm as cm\n",
    "import matplotlib.pyplot as plt\n"
   ]
  },
  {
   "cell_type": "markdown",
   "metadata": {},
   "source": [
    "## categorical\n",
    "\n",
    "### non-contextual"
   ]
  },
  {
   "cell_type": "markdown",
   "metadata": {},
   "source": [
    "#### AB test"
   ]
  },
  {
   "cell_type": "code",
   "execution_count": 27,
   "metadata": {},
   "outputs": [],
   "source": [
    "#export\n",
    "class AB(AbstractSolver):\n",
    "  def __init__(self, n_experiments=1000, num_options=2):\n",
    "    self.trials = np.zeros(shape=(num_options,))\n",
    "    self.successes = np.zeros(shape=(num_options,))\n",
    "    self.experiments_done = 0\n",
    "    self.n_experiments = n_experiments\n",
    "\n",
    "\n",
    "\n",
    "  def choose_arm(self):\n",
    "    \"\"\"we choose to either randomly sample an arm \n",
    "    or play the previously determined best choice\"\"\"\n",
    "\n",
    "    # if we need more experimentation, we explore\n",
    "    if self.experiments_done < self.n_experiments:\n",
    "      arm = self.explore()\n",
    "    # otherwise, we exploit\n",
    "    else:\n",
    "      arm = self.exploit()\n",
    "    return arm\n",
    "\n",
    "\n",
    "  def update(self, arm, reward):\n",
    "    \"\"\"Updates the arms about being played and about receiving a reward\"\"\"\n",
    "\n",
    "    # simply count the number of trials and successes for each arm\n",
    "    self.trials[arm] += 1\n",
    "    if reward:\n",
    "      self.successes[arm] += 1\n",
    "    self.experiments_done += 1\n",
    "\n",
    "\n",
    "  def explore(self):\n",
    "    \"\"\"returns arm 0 or arm 1 depending on a draw from interval [0,1]\n",
    "    NOTE: this isn't necessarilyhow you'd do it in real life, \n",
    "    please consult the sources for that case\"\"\"\n",
    "\n",
    "    # literally choose by random which arm to return\n",
    "    if np.random.random() <.5:\n",
    "        return 0\n",
    "    else:\n",
    "        return 1\n",
    "\n",
    "  def exploit(self):\n",
    "    \"\"\"returns arm with highest expected payoff\n",
    "    Always the same arm after exploration phase\"\"\"\n",
    "\n",
    "    # return the arm with the highest success rate\n",
    "    return np.argmax(self.successes/self.trials)\n",
    "  \n"
   ]
  },
  {
   "cell_type": "code",
   "execution_count": 28,
   "metadata": {},
   "outputs": [],
   "source": [
    "#export\n",
    "class BetaBandit(AbstractSolver):\n",
    "\n",
    "    def __init__(self, num_options = 2, prior = None):\n",
    "        \"\"\"initialize BetaBandit\"\"\"\n",
    "        self.num_options = num_options\n",
    "\n",
    "        #setting the prior, either uninformative or user generated\n",
    "        if prior == None:\n",
    "            self.prior = np.ones(shape=(num_options,2))\n",
    "        else:\n",
    "            assert prior.shape == (num_options,2), f\"the prior seems to have wrong dimensionality, please conform to (num_options, 2){(num_options,2)}\"\n",
    "            self.prior = prior\n",
    "\n",
    "        self.trials = np.zeros(shape=(num_options,))\n",
    "        self.successes = np.zeros(shape=(num_options,))\n",
    "\n",
    "\n",
    "    def choose_arm(self):\n",
    "        \"\"\"draw from arms.\n",
    "        arm with the highest expected outcome wins. \n",
    "        expected outcome is determined stochastically, so even an arm with bad \n",
    "        outcome until now will have a chance of being drawn\"\"\"\n",
    "\n",
    "        sampled_theta=[]\n",
    "        for i in range(self.num_options):\n",
    "\n",
    "            dist = stats.beta(self.prior[i,0]+self.successes[i], \n",
    "                              self.prior[i,1]+self.trials[i] - self.successes[i])\n",
    "                \n",
    "            sampled_theta += [dist.rvs()]\n",
    "      \n",
    "        return(sampled_theta.index(max(sampled_theta)))    \n",
    "        \n",
    "    def update(self,arm,success):\n",
    "        \"\"\"update beta-parameters of specific arm\"\"\"\n",
    "        #count times arm has been drawn\"\"\"\n",
    "        self.trials[arm] = self.trials[arm] +1\n",
    "        #count number of successes on that arm\"\"\"\n",
    "\n",
    "        # self.successes = self.successes *.99\n",
    "        if success:\n",
    "            self.successes[arm] = self.successes[arm]+ 1\n",
    "            \n",
    "\n",
    "\n",
    "\n",
    "\n",
    "\n",
    "# Helper functions, non essential\n",
    "\n",
    "\n",
    "    def choose_arm_and_plot(self):\n",
    "\n",
    "\n",
    "        sampled_theta = []\n",
    "        dist_heights = []\n",
    "\n",
    "      \n",
    "        for i in range(self.num_options):\n",
    "\n",
    "            dist = stats.beta(self.prior[i,0]+self.successes[i], \n",
    "                              self.prior[i,1]+self.trials[i] - self.successes[i])\n",
    "            sample = dist.rvs()\n",
    "            sampled_theta += [sample]\n",
    "            dist_heights += [dist.pdf(sample)]\n",
    "\n",
    "            \n",
    "        w = 10\n",
    "        z = 5\n",
    "        colors = iter(cm.rainbow(np.linspace(0, 1, self.num_options)))\n",
    "            \n",
    "        for k,i in enumerate(range(self.num_options)):\n",
    "                color = next(colors)\n",
    "\n",
    "                dist = stats.beta(self.prior[i,0] + self.successes[i],\n",
    "                            self.prior[i,1] + self.trials[i] - self.successes[i])\n",
    "                x = np.linspace(0,1,100)\n",
    "                y = dist.pdf(x)\n",
    "                plt.plot(x,y,color=color,label=\"arm #%i\"%(i+1),alpha=0.8)\n",
    "\n",
    "                plt.scatter(sampled_theta[i],dist_heights[i], s = 200,label=f'sample drawn from arm {i}')\n",
    "\n",
    "                plt.fill_between(x,0,y,alpha=1/(self.num_options+1),color=color)\n",
    "                leg = plt.legend()\n",
    "                plt.tight_layout    \n",
    "      \n",
    "        return(sampled_theta.index(max(sampled_theta)))  \n",
    "\n",
    "\n",
    "    def plot_betas(self):\n",
    "        \"\"\"plot the distributions that underly the arms\"\"\"\n",
    "        \n",
    "        w = 10\n",
    "        z = 5\n",
    "        colors = iter(cm.rainbow(np.linspace(0, 1, self.num_options)))\n",
    "            \n",
    "        for k,i in enumerate(range(self.num_options)):\n",
    "                color = next(colors)\n",
    "\n",
    "                dist = stats.beta(self.prior[i,0] + self.successes[i],\n",
    "                            self.prior[i,1] + self.trials[i] - self.successes[i])\n",
    "                x = np.linspace(0,1,100)\n",
    "                y = dist.pdf(x)\n",
    "                plt.plot(x,y,color=color,label=\"arm #%i\"%(i+1))\n",
    "                plt.fill_between(x,0,y,alpha=1/self.num_options,color=color)\n",
    "                leg = plt.legend()\n",
    "                plt.tight_layout\n"
   ]
  },
  {
   "cell_type": "code",
   "execution_count": 29,
   "metadata": {},
   "outputs": [],
   "source": [
    "\n",
    "%matplotlib inline\n",
    "#import seaborn as sns; sns.set_context('notebook')\n"
   ]
  },
  {
   "cell_type": "code",
   "execution_count": 30,
   "metadata": {},
   "outputs": [
    {
     "data": {
      "text/plain": [
       "0.47"
      ]
     },
     "execution_count": 30,
     "metadata": {},
     "output_type": "execute_result"
    }
   ],
   "source": [
    "bb = BetaBandit()\n",
    "np.mean([bb.choose_arm() for x in range(100)])"
   ]
  },
  {
   "cell_type": "code",
   "execution_count": 20,
   "metadata": {},
   "outputs": [
    {
     "data": {
      "text/plain": [
       "1"
      ]
     },
     "execution_count": 20,
     "metadata": {},
     "output_type": "execute_result"
    },
    {
     "data": {
      "image/png": "[encoded data removed]",
      "text/plain": [
       "<Figure size 432x288 with 1 Axes>"
      ]
     },
     "metadata": {
      "needs_background": "light"
     },
     "output_type": "display_data"
    }
   ],
   "source": [
    "bb.choose_arm_and_plot() #uniform binomials, no observations yet"
   ]
  },
  {
   "cell_type": "code",
   "execution_count": 24,
   "metadata": {},
   "outputs": [
    {
     "data": {
      "text/plain": [
       "0"
      ]
     },
     "execution_count": 24,
     "metadata": {},
     "output_type": "execute_result"
    },
    {
     "data": {
      "image/png": "[encoded data removed]",
      "text/plain": [
       "<Figure size 432x288 with 1 Axes>"
      ]
     },
     "metadata": {
      "needs_background": "light"
     },
     "output_type": "display_data"
    }
   ],
   "source": [
    "bb.choose_arm_and_plot() #uniform binomials, no observations yet"
   ]
  },
  {
   "cell_type": "code",
   "execution_count": 21,
   "metadata": {},
   "outputs": [],
   "source": [
    "bb.update(0,0)\n",
    "bb.update(0,1)\n",
    "bb.update(0,1)"
   ]
  },
  {
   "cell_type": "code",
   "execution_count": 22,
   "metadata": {},
   "outputs": [
    {
     "data": {
      "text/plain": [
       "0.39"
      ]
     },
     "execution_count": 22,
     "metadata": {},
     "output_type": "execute_result"
    }
   ],
   "source": [
    "np.mean([bb.choose_arm() for x in range(100)])"
   ]
  },
  {
   "cell_type": "code",
   "execution_count": 23,
   "metadata": {},
   "outputs": [
    {
     "data": {
      "text/plain": [
       "1"
      ]
     },
     "execution_count": 23,
     "metadata": {},
     "output_type": "execute_result"
    },
    {
     "data": {
      "image/png": "[encoded data removed]",
      "text/plain": [
       "<Figure size 432x288 with 1 Axes>"
      ]
     },
     "metadata": {
      "needs_background": "light"
     },
     "output_type": "display_data"
    }
   ],
   "source": [
    "bb.choose_arm_and_plot()"
   ]
  },
  {
   "cell_type": "code",
   "execution_count": 25,
   "metadata": {},
   "outputs": [],
   "source": [
    "bb.update(1,0)\n",
    "bb.update(1,0)\n",
    "bb.update(1,0)"
   ]
  },
  {
   "cell_type": "code",
   "execution_count": 26,
   "metadata": {},
   "outputs": [
    {
     "data": {
      "text/plain": [
       "0"
      ]
     },
     "execution_count": 26,
     "metadata": {},
     "output_type": "execute_result"
    },
    {
     "data": {
      "image/png": "[encoded data removed]",
      "text/plain": [
       "<Figure size 432x288 with 1 Axes>"
      ]
     },
     "metadata": {
      "needs_background": "light"
     },
     "output_type": "display_data"
    }
   ],
   "source": [
    "bb.choose_arm_and_plot()"
   ]
  },
  {
   "cell_type": "code",
   "execution_count": null,
   "metadata": {},
   "outputs": [],
   "source": []
  }
 ],
 "metadata": {
  "kernelspec": {
   "display_name": "Python 3",
   "language": "python",
   "name": "python3"
  },
  "language_info": {
   "codemirror_mode": {
    "name": "ipython",
    "version": 3
   },
   "file_extension": ".py",
   "mimetype": "text/x-python",
   "name": "python",
   "nbconvert_exporter": "python",
   "pygments_lexer": "ipython3",
   "version": "3.7.6"
  }
 },
 "nbformat": 4,
 "nbformat_minor": 4
}
