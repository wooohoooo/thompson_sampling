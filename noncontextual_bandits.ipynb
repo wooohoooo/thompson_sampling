{
 "cells": [
  {
   "cell_type": "code",
   "execution_count": null,
   "metadata": {},
   "outputs": [],
   "source": [
    "# default_exp noncontextual_bandits"
   ]
  },
  {
   "cell_type": "markdown",
   "metadata": {},
   "source": [
    "# Intro\n",
    "\n",
    "\n",
    "\n",
    "The aim of this notebook is to provide a low tech overview over MAB solvers, specifically A/B testing and Thompson Sampler. Others such as Epsilon Greedy and UCB MIGHT follow, but since TS is relatively undisputed when it comes to decision making for a couple of reasons, this might not happen.\n",
    "\n",
    "We will first look at the problem at hand, the Multi Armed Bandit and how we can emulate an environment that houses one. Then we turn towards the classical solution to MABs: A/B testing. Through the evaluation of some of it's weaknesses stemming from the distinction between exploration and exploitation phase, we will arrive at a theoretical construct that already almost resembles Thompson Sampling, from where it is an easy jump to the full thing.\n",
    "\n",
    "![alt](https://miro.medium.com/max/1596/1*EnNqxjvgYcgP3qcvceEeHg.jpeg)\n",
    "\n",
    "\n",
    "This notebook is aimed at people looking to apply TS with a working understanding of what it does but foregoes the mathematical descriptions and proofs necessary to argue for TS in an academic setting. \n",
    "\n",
    "Note that we're focussing on the simplest use case imaginable, which means we can use simple beta-binomial distribution to compute our thompson sampling. This is does little more than elaborate counting AND STILL it is useful for outshining A/B tests in a categorical case. \n",
    "\n",
    "Note also that we stripped anything complex from the notebook to focus on the underlying concepts rather than, say, computing how many people we need in our groups to get statistically significant (a concept we're also ignoring because... Bayes Rule(s)!)."
   ]
  },
  {
   "cell_type": "markdown",
   "metadata": {},
   "source": [
    "# What is a multi armed bandit situation?\n",
    "\n",
    "In the multi armed bandit setting, we are tasked with finding the best performing action out of a selection of possible actions. An example could be the color of a button on a website. We could make it Blue or Yellow. Our theories are that Blue is easier to see but Yellow is a more inviting color. We now have to figure out which of these effects is stronger, i.e. which button color gets clicked more often(1).\n",
    "\n",
    "\n",
    "We do not know which theory is correct, and, unfortunately, we will never KNOW which button is better, since for that we'd need to know what would have happened if the users that saw yellow were presented with blue and vice versa, for all eternity. Maybe the users that saw it so far preferred yellow because it was summer. Or the background of an ad that popped up made it very hard to see the blue button. \n",
    "This is, in essence, what we refer to as the dilemma of 'Exploration vs Exploitation': Do we rely on the information we have available to make a decision or do we want to collect more data so that our future decisions will be a better informed one?\n",
    "\n",
    "![alt](http://www.primarydigit.com/uploads/2/0/1/6/20168087/2155136.png?387)\n",
    "\n",
    "In this Notebook, we want to look at a few possible solutions to this problem.\n",
    "\n",
    "\n",
    "# How do we test these approaches\n",
    "\n",
    "To do so, we need to simulate a situation in which a customer makes a choice we do not know up front, since we don't have actual customers to ask. To do that, we generate an 'average customer'. This average customer is going to react to the color of the button with probabilities proportional to how the real population MIGHT react (this is of course simulated). This value is stored in our variable 'Theta'; it reflects how likely the general population is to click on a blue vs a yellow button. We convert this probability to a reaction by sampling a number between 0 and 1 and comparing it to the theta value for that choice, see customer_reaction().\n",
    "\n",
    "\n",
    "\n",
    "\n",
    " (1) This is not a real life situation, in which we might take into account different additional parameters such as page background - which we'd optimally test, too."
   ]
  },
  {
   "cell_type": "code",
   "execution_count": null,
   "metadata": {},
   "outputs": [],
   "source": [
    "import numpy as np"
   ]
  },
  {
   "cell_type": "code",
   "execution_count": null,
   "metadata": {},
   "outputs": [],
   "source": [
    "from thompson_sampling.helpers import showcase_code"
   ]
  },
  {
   "cell_type": "code",
   "execution_count": null,
   "metadata": {},
   "outputs": [],
   "source": [
    "from thompson_sampling.multi_armed_bandits import non_contextual_categorical_bandit"
   ]
  },
  {
   "cell_type": "code",
   "execution_count": null,
   "metadata": {},
   "outputs": [
    {
     "data": {
      "text/html": [
       "<style type=\"text/css\">.highlight .hll { background-color: #ffffcc }\n",
       ".highlight  { background: #f8f8f8; }\n",
       ".highlight .c { color: #408080; font-style: italic } /* Comment */\n",
       ".highlight .err { border: 1px solid #FF0000 } /* Error */\n",
       ".highlight .k { color: #008000; font-weight: bold } /* Keyword */\n",
       ".highlight .o { color: #666666 } /* Operator */\n",
       ".highlight .ch { color: #408080; font-style: italic } /* Comment.Hashbang */\n",
       ".highlight .cm { color: #408080; font-style: italic } /* Comment.Multiline */\n",
       ".highlight .cp { color: #BC7A00 } /* Comment.Preproc */\n",
       ".highlight .cpf { color: #408080; font-style: italic } /* Comment.PreprocFile */\n",
       ".highlight .c1 { color: #408080; font-style: italic } /* Comment.Single */\n",
       ".highlight .cs { color: #408080; font-style: italic } /* Comment.Special */\n",
       ".highlight .gd { color: #A00000 } /* Generic.Deleted */\n",
       ".highlight .ge { font-style: italic } /* Generic.Emph */\n",
       ".highlight .gr { color: #FF0000 } /* Generic.Error */\n",
       ".highlight .gh { color: #000080; font-weight: bold } /* Generic.Heading */\n",
       ".highlight .gi { color: #00A000 } /* Generic.Inserted */\n",
       ".highlight .go { color: #888888 } /* Generic.Output */\n",
       ".highlight .gp { color: #000080; font-weight: bold } /* Generic.Prompt */\n",
       ".highlight .gs { font-weight: bold } /* Generic.Strong */\n",
       ".highlight .gu { color: #800080; font-weight: bold } /* Generic.Subheading */\n",
       ".highlight .gt { color: #0044DD } /* Generic.Traceback */\n",
       ".highlight .kc { color: #008000; font-weight: bold } /* Keyword.Constant */\n",
       ".highlight .kd { color: #008000; font-weight: bold } /* Keyword.Declaration */\n",
       ".highlight .kn { color: #008000; font-weight: bold } /* Keyword.Namespace */\n",
       ".highlight .kp { color: #008000 } /* Keyword.Pseudo */\n",
       ".highlight .kr { color: #008000; font-weight: bold } /* Keyword.Reserved */\n",
       ".highlight .kt { color: #B00040 } /* Keyword.Type */\n",
       ".highlight .m { color: #666666 } /* Literal.Number */\n",
       ".highlight .s { color: #BA2121 } /* Literal.String */\n",
       ".highlight .na { color: #7D9029 } /* Name.Attribute */\n",
       ".highlight .nb { color: #008000 } /* Name.Builtin */\n",
       ".highlight .nc { color: #0000FF; font-weight: bold } /* Name.Class */\n",
       ".highlight .no { color: #880000 } /* Name.Constant */\n",
       ".highlight .nd { color: #AA22FF } /* Name.Decorator */\n",
       ".highlight .ni { color: #999999; font-weight: bold } /* Name.Entity */\n",
       ".highlight .ne { color: #D2413A; font-weight: bold } /* Name.Exception */\n",
       ".highlight .nf { color: #0000FF } /* Name.Function */\n",
       ".highlight .nl { color: #A0A000 } /* Name.Label */\n",
       ".highlight .nn { color: #0000FF; font-weight: bold } /* Name.Namespace */\n",
       ".highlight .nt { color: #008000; font-weight: bold } /* Name.Tag */\n",
       ".highlight .nv { color: #19177C } /* Name.Variable */\n",
       ".highlight .ow { color: #AA22FF; font-weight: bold } /* Operator.Word */\n",
       ".highlight .w { color: #bbbbbb } /* Text.Whitespace */\n",
       ".highlight .mb { color: #666666 } /* Literal.Number.Bin */\n",
       ".highlight .mf { color: #666666 } /* Literal.Number.Float */\n",
       ".highlight .mh { color: #666666 } /* Literal.Number.Hex */\n",
       ".highlight .mi { color: #666666 } /* Literal.Number.Integer */\n",
       ".highlight .mo { color: #666666 } /* Literal.Number.Oct */\n",
       ".highlight .sa { color: #BA2121 } /* Literal.String.Affix */\n",
       ".highlight .sb { color: #BA2121 } /* Literal.String.Backtick */\n",
       ".highlight .sc { color: #BA2121 } /* Literal.String.Char */\n",
       ".highlight .dl { color: #BA2121 } /* Literal.String.Delimiter */\n",
       ".highlight .sd { color: #BA2121; font-style: italic } /* Literal.String.Doc */\n",
       ".highlight .s2 { color: #BA2121 } /* Literal.String.Double */\n",
       ".highlight .se { color: #BB6622; font-weight: bold } /* Literal.String.Escape */\n",
       ".highlight .sh { color: #BA2121 } /* Literal.String.Heredoc */\n",
       ".highlight .si { color: #BB6688; font-weight: bold } /* Literal.String.Interpol */\n",
       ".highlight .sx { color: #008000 } /* Literal.String.Other */\n",
       ".highlight .sr { color: #BB6688 } /* Literal.String.Regex */\n",
       ".highlight .s1 { color: #BA2121 } /* Literal.String.Single */\n",
       ".highlight .ss { color: #19177C } /* Literal.String.Symbol */\n",
       ".highlight .bp { color: #008000 } /* Name.Builtin.Pseudo */\n",
       ".highlight .fm { color: #0000FF } /* Name.Function.Magic */\n",
       ".highlight .vc { color: #19177C } /* Name.Variable.Class */\n",
       ".highlight .vg { color: #19177C } /* Name.Variable.Global */\n",
       ".highlight .vi { color: #19177C } /* Name.Variable.Instance */\n",
       ".highlight .vm { color: #19177C } /* Name.Variable.Magic */\n",
       ".highlight .il { color: #666666 } /* Literal.Number.Integer.Long */</style><div class=\"highlight\"><pre><span></span><span class=\"k\">def</span> <span class=\"nf\">non_contextual_categorical_bandit</span><span class=\"p\">(</span><span class=\"n\">choice</span><span class=\"p\">:</span><span class=\"nb\">int</span><span class=\"p\">,</span> <span class=\"n\">theta</span><span class=\"p\">:</span><span class=\"n\">np</span><span class=\"o\">.</span><span class=\"n\">array</span><span class=\"p\">)</span><span class=\"o\">-&gt;</span><span class=\"nb\">bool</span><span class=\"p\">:</span>\n",
       "\n",
       "    <span class=\"c1\"># draw a number between 0 and 1, if it&#39;s smaller than the theta, return reward</span>\n",
       "    <span class=\"k\">if</span> <span class=\"n\">np</span><span class=\"o\">.</span><span class=\"n\">random</span><span class=\"o\">.</span><span class=\"n\">random</span><span class=\"p\">()</span> <span class=\"o\">&lt;</span> <span class=\"n\">theta</span><span class=\"p\">[</span><span class=\"n\">choice</span><span class=\"p\">]:</span>\n",
       "        <span class=\"n\">reaction</span> <span class=\"o\">=</span> <span class=\"kc\">True</span>\n",
       "    <span class=\"k\">else</span><span class=\"p\">:</span>\n",
       "        <span class=\"n\">reaction</span> <span class=\"o\">=</span> <span class=\"kc\">False</span>\n",
       "\n",
       "    <span class=\"k\">return</span> <span class=\"n\">reaction</span>\n",
       "</pre></div>\n"
      ],
      "text/plain": [
       "<IPython.core.display.HTML object>"
      ]
     },
     "execution_count": null,
     "metadata": {},
     "output_type": "execute_result"
    }
   ],
   "source": [
    "showcase_code('thompson_sampling/multi_armed_bandits.py',method_name = 'non_contextual_categorical_bandit')"
   ]
  },
  {
   "cell_type": "code",
   "execution_count": null,
   "metadata": {},
   "outputs": [],
   "source": [
    "theta = [0.2,0.8]"
   ]
  },
  {
   "cell_type": "code",
   "execution_count": null,
   "metadata": {},
   "outputs": [
    {
     "name": "stdout",
     "output_type": "stream",
     "text": [
      "empirical mean for choice 0 is 0.3 (real value 0.2), is 0.8 (real value 0.8) for choice 1\n"
     ]
    }
   ],
   "source": [
    "\n",
    "\n",
    "mean_0 = np.mean([non_contextual_categorical_bandit(0, theta) for i in range(10)])\n",
    "mean_1 = np.mean([non_contextual_categorical_bandit(1, theta) for i in range(10)])\n",
    "print(f'empirical mean for choice 0 is {mean_0} (real value {theta[0]}), is {mean_1} (real value {theta[1]}) for choice 1')\n",
    "\n"
   ]
  },
  {
   "cell_type": "markdown",
   "metadata": {},
   "source": [
    "# Now that the problem is defined, let's solve it\n",
    "\n",
    "I will introduce two approaches, A/B testing and Thompson Sampling in detail and mention two others, epsilpon greedy and UCB, in passing.\n",
    "But first, let's quickly introduce our general strategy:\n",
    "\n",
    "## Abstract solution to Bandit Problems\n",
    "\n",
    "In order to solve the problem posed above, we devise a simple black box strategy: \n",
    "We will build a system that chooses an arm (in our example, blue or yellow button) by some policy  and updates that policy based on what it observes (in our example: did the user click). This policy will be chosen to solve our exploration vs exploitation dilemma in some way.\n",
    "\n",
    "Note that this is very general. On the one hand, this approach can house an ideterminate number of policies such as A/B testing, Thompson Sampler, ... ; on the other hand, this can be extended to many other problems solvable with reinforcement learning. \n",
    "\n",
    "Again, all we do in MAB problems is choose an action that seems favorable given an internal policy and update that policy given the reward our action produced.\n",
    "\n",
    "\n"
   ]
  },
  {
   "cell_type": "code",
   "execution_count": null,
   "metadata": {},
   "outputs": [
    {
     "data": {
      "text/html": [
       "<style type=\"text/css\">.highlight .hll { background-color: #ffffcc }\n",
       ".highlight  { background: #f8f8f8; }\n",
       ".highlight .c { color: #408080; font-style: italic } /* Comment */\n",
       ".highlight .err { border: 1px solid #FF0000 } /* Error */\n",
       ".highlight .k { color: #008000; font-weight: bold } /* Keyword */\n",
       ".highlight .o { color: #666666 } /* Operator */\n",
       ".highlight .ch { color: #408080; font-style: italic } /* Comment.Hashbang */\n",
       ".highlight .cm { color: #408080; font-style: italic } /* Comment.Multiline */\n",
       ".highlight .cp { color: #BC7A00 } /* Comment.Preproc */\n",
       ".highlight .cpf { color: #408080; font-style: italic } /* Comment.PreprocFile */\n",
       ".highlight .c1 { color: #408080; font-style: italic } /* Comment.Single */\n",
       ".highlight .cs { color: #408080; font-style: italic } /* Comment.Special */\n",
       ".highlight .gd { color: #A00000 } /* Generic.Deleted */\n",
       ".highlight .ge { font-style: italic } /* Generic.Emph */\n",
       ".highlight .gr { color: #FF0000 } /* Generic.Error */\n",
       ".highlight .gh { color: #000080; font-weight: bold } /* Generic.Heading */\n",
       ".highlight .gi { color: #00A000 } /* Generic.Inserted */\n",
       ".highlight .go { color: #888888 } /* Generic.Output */\n",
       ".highlight .gp { color: #000080; font-weight: bold } /* Generic.Prompt */\n",
       ".highlight .gs { font-weight: bold } /* Generic.Strong */\n",
       ".highlight .gu { color: #800080; font-weight: bold } /* Generic.Subheading */\n",
       ".highlight .gt { color: #0044DD } /* Generic.Traceback */\n",
       ".highlight .kc { color: #008000; font-weight: bold } /* Keyword.Constant */\n",
       ".highlight .kd { color: #008000; font-weight: bold } /* Keyword.Declaration */\n",
       ".highlight .kn { color: #008000; font-weight: bold } /* Keyword.Namespace */\n",
       ".highlight .kp { color: #008000 } /* Keyword.Pseudo */\n",
       ".highlight .kr { color: #008000; font-weight: bold } /* Keyword.Reserved */\n",
       ".highlight .kt { color: #B00040 } /* Keyword.Type */\n",
       ".highlight .m { color: #666666 } /* Literal.Number */\n",
       ".highlight .s { color: #BA2121 } /* Literal.String */\n",
       ".highlight .na { color: #7D9029 } /* Name.Attribute */\n",
       ".highlight .nb { color: #008000 } /* Name.Builtin */\n",
       ".highlight .nc { color: #0000FF; font-weight: bold } /* Name.Class */\n",
       ".highlight .no { color: #880000 } /* Name.Constant */\n",
       ".highlight .nd { color: #AA22FF } /* Name.Decorator */\n",
       ".highlight .ni { color: #999999; font-weight: bold } /* Name.Entity */\n",
       ".highlight .ne { color: #D2413A; font-weight: bold } /* Name.Exception */\n",
       ".highlight .nf { color: #0000FF } /* Name.Function */\n",
       ".highlight .nl { color: #A0A000 } /* Name.Label */\n",
       ".highlight .nn { color: #0000FF; font-weight: bold } /* Name.Namespace */\n",
       ".highlight .nt { color: #008000; font-weight: bold } /* Name.Tag */\n",
       ".highlight .nv { color: #19177C } /* Name.Variable */\n",
       ".highlight .ow { color: #AA22FF; font-weight: bold } /* Operator.Word */\n",
       ".highlight .w { color: #bbbbbb } /* Text.Whitespace */\n",
       ".highlight .mb { color: #666666 } /* Literal.Number.Bin */\n",
       ".highlight .mf { color: #666666 } /* Literal.Number.Float */\n",
       ".highlight .mh { color: #666666 } /* Literal.Number.Hex */\n",
       ".highlight .mi { color: #666666 } /* Literal.Number.Integer */\n",
       ".highlight .mo { color: #666666 } /* Literal.Number.Oct */\n",
       ".highlight .sa { color: #BA2121 } /* Literal.String.Affix */\n",
       ".highlight .sb { color: #BA2121 } /* Literal.String.Backtick */\n",
       ".highlight .sc { color: #BA2121 } /* Literal.String.Char */\n",
       ".highlight .dl { color: #BA2121 } /* Literal.String.Delimiter */\n",
       ".highlight .sd { color: #BA2121; font-style: italic } /* Literal.String.Doc */\n",
       ".highlight .s2 { color: #BA2121 } /* Literal.String.Double */\n",
       ".highlight .se { color: #BB6622; font-weight: bold } /* Literal.String.Escape */\n",
       ".highlight .sh { color: #BA2121 } /* Literal.String.Heredoc */\n",
       ".highlight .si { color: #BB6688; font-weight: bold } /* Literal.String.Interpol */\n",
       ".highlight .sx { color: #008000 } /* Literal.String.Other */\n",
       ".highlight .sr { color: #BB6688 } /* Literal.String.Regex */\n",
       ".highlight .s1 { color: #BA2121 } /* Literal.String.Single */\n",
       ".highlight .ss { color: #19177C } /* Literal.String.Symbol */\n",
       ".highlight .bp { color: #008000 } /* Name.Builtin.Pseudo */\n",
       ".highlight .fm { color: #0000FF } /* Name.Function.Magic */\n",
       ".highlight .vc { color: #19177C } /* Name.Variable.Class */\n",
       ".highlight .vg { color: #19177C } /* Name.Variable.Global */\n",
       ".highlight .vi { color: #19177C } /* Name.Variable.Instance */\n",
       ".highlight .vm { color: #19177C } /* Name.Variable.Magic */\n",
       ".highlight .il { color: #666666 } /* Literal.Number.Integer.Long */</style><div class=\"highlight\"><pre><span></span><span class=\"k\">class</span> <span class=\"nc\">AbstractSolver</span><span class=\"p\">(</span><span class=\"nb\">object</span><span class=\"p\">):</span>\n",
       "    <span class=\"k\">def</span> <span class=\"nf\">choose_arm</span><span class=\"p\">(</span><span class=\"bp\">self</span><span class=\"p\">):</span>\n",
       "        <span class=\"sd\">&quot;&quot;&quot;choose an arm to play according to internal policy&quot;&quot;&quot;</span>\n",
       "        <span class=\"k\">raise</span> <span class=\"ne\">NotImplementedError</span>\n",
       "\n",
       "    <span class=\"k\">def</span> <span class=\"nf\">update</span><span class=\"p\">(</span><span class=\"bp\">self</span><span class=\"p\">,</span> <span class=\"n\">arm</span><span class=\"p\">,</span> <span class=\"n\">reward</span><span class=\"p\">):</span>\n",
       "        <span class=\"sd\">&quot;&quot;&quot; update internal policy to reflect changed knowledge&quot;&quot;&quot;</span>\n",
       "        <span class=\"k\">raise</span> <span class=\"ne\">NotImplementedError</span>\n",
       "</pre></div>\n"
      ],
      "text/plain": [
       "<IPython.core.display.HTML object>"
      ]
     },
     "execution_count": null,
     "metadata": {},
     "output_type": "execute_result"
    }
   ],
   "source": [
    "showcase_code('thompson_sampling/abstractions.py',class_name = 'AbstractSolver')"
   ]
  },
  {
   "cell_type": "markdown",
   "metadata": {},
   "source": [
    "\n",
    "## A/B Test\n",
    "A/B tests are the current standard for solving multi armed bandit dilemmas. They are being used in all kinds of situations and are very closely related to the gold standard of scientific experimentation.\n",
    "The concept is simple and clear:\n",
    "\n",
    "We split our users in two equal groups randomly and show them different options for a pre-determined number of trials - and then we decide to go with one of the options for the rest of the time. \n",
    "Note he explicit split into Exploration phase in which we randomly show different arms to observe the reward and the Exploitation phase in which we always play the arm that performed best during the exploration.\n",
    "\n",
    "In reality, there are a few complex additions to how to condut an A/B test properly, like estimating the expected effect size and deciding beforehand how strong the difference in groups has to be for it to be considered valid, and that in turn is used to compute the sample size and... All these problems arise, because classical A/B tests are 'Frequentist' (named after people who believe that probabilities are closely related to frequencies - but: different topic) and thus we need to be careful not to screw up the decision process. We will ignore those extra points for the sake of clarity(2).\n",
    "\n",
    "Below we implement an A/B test.\n",
    "\n",
    "\n",
    "\n",
    "\n",
    "(2)If you're interested, these seem like two good resources to start: \n",
    "- https://towardsdatascience.com/the-art-of-a-b-testing-5a10c9bb70a4\n",
    "- https://blog.hubspot.com/marketing/how-to-do-a-b-testing"
   ]
  },
  {
   "cell_type": "code",
   "execution_count": null,
   "metadata": {},
   "outputs": [
    {
     "data": {
      "text/html": [
       "<style type=\"text/css\">.highlight .hll { background-color: #ffffcc }\n",
       ".highlight  { background: #f8f8f8; }\n",
       ".highlight .c { color: #408080; font-style: italic } /* Comment */\n",
       ".highlight .err { border: 1px solid #FF0000 } /* Error */\n",
       ".highlight .k { color: #008000; font-weight: bold } /* Keyword */\n",
       ".highlight .o { color: #666666 } /* Operator */\n",
       ".highlight .ch { color: #408080; font-style: italic } /* Comment.Hashbang */\n",
       ".highlight .cm { color: #408080; font-style: italic } /* Comment.Multiline */\n",
       ".highlight .cp { color: #BC7A00 } /* Comment.Preproc */\n",
       ".highlight .cpf { color: #408080; font-style: italic } /* Comment.PreprocFile */\n",
       ".highlight .c1 { color: #408080; font-style: italic } /* Comment.Single */\n",
       ".highlight .cs { color: #408080; font-style: italic } /* Comment.Special */\n",
       ".highlight .gd { color: #A00000 } /* Generic.Deleted */\n",
       ".highlight .ge { font-style: italic } /* Generic.Emph */\n",
       ".highlight .gr { color: #FF0000 } /* Generic.Error */\n",
       ".highlight .gh { color: #000080; font-weight: bold } /* Generic.Heading */\n",
       ".highlight .gi { color: #00A000 } /* Generic.Inserted */\n",
       ".highlight .go { color: #888888 } /* Generic.Output */\n",
       ".highlight .gp { color: #000080; font-weight: bold } /* Generic.Prompt */\n",
       ".highlight .gs { font-weight: bold } /* Generic.Strong */\n",
       ".highlight .gu { color: #800080; font-weight: bold } /* Generic.Subheading */\n",
       ".highlight .gt { color: #0044DD } /* Generic.Traceback */\n",
       ".highlight .kc { color: #008000; font-weight: bold } /* Keyword.Constant */\n",
       ".highlight .kd { color: #008000; font-weight: bold } /* Keyword.Declaration */\n",
       ".highlight .kn { color: #008000; font-weight: bold } /* Keyword.Namespace */\n",
       ".highlight .kp { color: #008000 } /* Keyword.Pseudo */\n",
       ".highlight .kr { color: #008000; font-weight: bold } /* Keyword.Reserved */\n",
       ".highlight .kt { color: #B00040 } /* Keyword.Type */\n",
       ".highlight .m { color: #666666 } /* Literal.Number */\n",
       ".highlight .s { color: #BA2121 } /* Literal.String */\n",
       ".highlight .na { color: #7D9029 } /* Name.Attribute */\n",
       ".highlight .nb { color: #008000 } /* Name.Builtin */\n",
       ".highlight .nc { color: #0000FF; font-weight: bold } /* Name.Class */\n",
       ".highlight .no { color: #880000 } /* Name.Constant */\n",
       ".highlight .nd { color: #AA22FF } /* Name.Decorator */\n",
       ".highlight .ni { color: #999999; font-weight: bold } /* Name.Entity */\n",
       ".highlight .ne { color: #D2413A; font-weight: bold } /* Name.Exception */\n",
       ".highlight .nf { color: #0000FF } /* Name.Function */\n",
       ".highlight .nl { color: #A0A000 } /* Name.Label */\n",
       ".highlight .nn { color: #0000FF; font-weight: bold } /* Name.Namespace */\n",
       ".highlight .nt { color: #008000; font-weight: bold } /* Name.Tag */\n",
       ".highlight .nv { color: #19177C } /* Name.Variable */\n",
       ".highlight .ow { color: #AA22FF; font-weight: bold } /* Operator.Word */\n",
       ".highlight .w { color: #bbbbbb } /* Text.Whitespace */\n",
       ".highlight .mb { color: #666666 } /* Literal.Number.Bin */\n",
       ".highlight .mf { color: #666666 } /* Literal.Number.Float */\n",
       ".highlight .mh { color: #666666 } /* Literal.Number.Hex */\n",
       ".highlight .mi { color: #666666 } /* Literal.Number.Integer */\n",
       ".highlight .mo { color: #666666 } /* Literal.Number.Oct */\n",
       ".highlight .sa { color: #BA2121 } /* Literal.String.Affix */\n",
       ".highlight .sb { color: #BA2121 } /* Literal.String.Backtick */\n",
       ".highlight .sc { color: #BA2121 } /* Literal.String.Char */\n",
       ".highlight .dl { color: #BA2121 } /* Literal.String.Delimiter */\n",
       ".highlight .sd { color: #BA2121; font-style: italic } /* Literal.String.Doc */\n",
       ".highlight .s2 { color: #BA2121 } /* Literal.String.Double */\n",
       ".highlight .se { color: #BB6622; font-weight: bold } /* Literal.String.Escape */\n",
       ".highlight .sh { color: #BA2121 } /* Literal.String.Heredoc */\n",
       ".highlight .si { color: #BB6688; font-weight: bold } /* Literal.String.Interpol */\n",
       ".highlight .sx { color: #008000 } /* Literal.String.Other */\n",
       ".highlight .sr { color: #BB6688 } /* Literal.String.Regex */\n",
       ".highlight .s1 { color: #BA2121 } /* Literal.String.Single */\n",
       ".highlight .ss { color: #19177C } /* Literal.String.Symbol */\n",
       ".highlight .bp { color: #008000 } /* Name.Builtin.Pseudo */\n",
       ".highlight .fm { color: #0000FF } /* Name.Function.Magic */\n",
       ".highlight .vc { color: #19177C } /* Name.Variable.Class */\n",
       ".highlight .vg { color: #19177C } /* Name.Variable.Global */\n",
       ".highlight .vi { color: #19177C } /* Name.Variable.Instance */\n",
       ".highlight .vm { color: #19177C } /* Name.Variable.Magic */\n",
       ".highlight .il { color: #666666 } /* Literal.Number.Integer.Long */</style><div class=\"highlight\"><pre><span></span><span class=\"k\">class</span> <span class=\"nc\">AB</span><span class=\"p\">(</span><span class=\"n\">AbstractSolver</span><span class=\"p\">):</span>\n",
       "  <span class=\"k\">def</span> <span class=\"fm\">__init__</span><span class=\"p\">(</span><span class=\"bp\">self</span><span class=\"p\">,</span> <span class=\"n\">n_experiments</span><span class=\"o\">=</span><span class=\"mi\">1000</span><span class=\"p\">,</span> <span class=\"n\">num_options</span><span class=\"o\">=</span><span class=\"mi\">2</span><span class=\"p\">):</span>\n",
       "    <span class=\"bp\">self</span><span class=\"o\">.</span><span class=\"n\">trials</span> <span class=\"o\">=</span> <span class=\"n\">np</span><span class=\"o\">.</span><span class=\"n\">zeros</span><span class=\"p\">(</span><span class=\"n\">shape</span><span class=\"o\">=</span><span class=\"p\">(</span><span class=\"n\">num_options</span><span class=\"p\">,))</span>\n",
       "    <span class=\"bp\">self</span><span class=\"o\">.</span><span class=\"n\">successes</span> <span class=\"o\">=</span> <span class=\"n\">np</span><span class=\"o\">.</span><span class=\"n\">zeros</span><span class=\"p\">(</span><span class=\"n\">shape</span><span class=\"o\">=</span><span class=\"p\">(</span><span class=\"n\">num_options</span><span class=\"p\">,))</span>\n",
       "    <span class=\"bp\">self</span><span class=\"o\">.</span><span class=\"n\">experiments_done</span> <span class=\"o\">=</span> <span class=\"mi\">0</span>\n",
       "    <span class=\"bp\">self</span><span class=\"o\">.</span><span class=\"n\">n_experiments</span> <span class=\"o\">=</span> <span class=\"n\">n_experiments</span>\n",
       "\n",
       "\n",
       "\n",
       "  <span class=\"k\">def</span> <span class=\"nf\">choose_arm</span><span class=\"p\">(</span><span class=\"bp\">self</span><span class=\"p\">):</span>\n",
       "    <span class=\"sd\">&quot;&quot;&quot;we choose to either randomly sample an arm</span>\n",
       "<span class=\"sd\">    or play the previously determined best choice&quot;&quot;&quot;</span>\n",
       "\n",
       "    <span class=\"c1\"># if we need more experimentation, we explore</span>\n",
       "    <span class=\"k\">if</span> <span class=\"bp\">self</span><span class=\"o\">.</span><span class=\"n\">experiments_done</span> <span class=\"o\">&lt;</span> <span class=\"bp\">self</span><span class=\"o\">.</span><span class=\"n\">n_experiments</span><span class=\"p\">:</span>\n",
       "      <span class=\"n\">arm</span> <span class=\"o\">=</span> <span class=\"bp\">self</span><span class=\"o\">.</span><span class=\"n\">explore</span><span class=\"p\">()</span>\n",
       "    <span class=\"c1\"># otherwise, we exploit</span>\n",
       "    <span class=\"k\">else</span><span class=\"p\">:</span>\n",
       "      <span class=\"n\">arm</span> <span class=\"o\">=</span> <span class=\"bp\">self</span><span class=\"o\">.</span><span class=\"n\">exploit</span><span class=\"p\">()</span>\n",
       "    <span class=\"k\">return</span> <span class=\"n\">arm</span>\n",
       "\n",
       "\n",
       "  <span class=\"k\">def</span> <span class=\"nf\">update</span><span class=\"p\">(</span><span class=\"bp\">self</span><span class=\"p\">,</span> <span class=\"n\">arm</span><span class=\"p\">,</span> <span class=\"n\">reward</span><span class=\"p\">):</span>\n",
       "    <span class=\"sd\">&quot;&quot;&quot;Updates the arms about being played and about receiving a reward&quot;&quot;&quot;</span>\n",
       "\n",
       "    <span class=\"c1\"># simply count the number of trials and successes for each arm</span>\n",
       "    <span class=\"bp\">self</span><span class=\"o\">.</span><span class=\"n\">trials</span><span class=\"p\">[</span><span class=\"n\">arm</span><span class=\"p\">]</span> <span class=\"o\">+=</span> <span class=\"mi\">1</span>\n",
       "    <span class=\"k\">if</span> <span class=\"n\">reward</span><span class=\"p\">:</span>\n",
       "      <span class=\"bp\">self</span><span class=\"o\">.</span><span class=\"n\">successes</span><span class=\"p\">[</span><span class=\"n\">arm</span><span class=\"p\">]</span> <span class=\"o\">+=</span> <span class=\"mi\">1</span>\n",
       "    <span class=\"bp\">self</span><span class=\"o\">.</span><span class=\"n\">experiments_done</span> <span class=\"o\">+=</span> <span class=\"mi\">1</span>\n",
       "\n",
       "\n",
       "  <span class=\"k\">def</span> <span class=\"nf\">explore</span><span class=\"p\">(</span><span class=\"bp\">self</span><span class=\"p\">):</span>\n",
       "    <span class=\"sd\">&quot;&quot;&quot;returns arm 0 or arm 1 depending on a draw from interval [0,1]</span>\n",
       "<span class=\"sd\">    NOTE: this isn&#39;t necessarilyhow you&#39;d do it in real life,</span>\n",
       "<span class=\"sd\">    please consult the sources for that case&quot;&quot;&quot;</span>\n",
       "\n",
       "    <span class=\"c1\"># literally choose by random which arm to return</span>\n",
       "    <span class=\"k\">if</span> <span class=\"n\">np</span><span class=\"o\">.</span><span class=\"n\">random</span><span class=\"o\">.</span><span class=\"n\">random</span><span class=\"p\">()</span> <span class=\"o\">&lt;.</span><span class=\"mi\">5</span><span class=\"p\">:</span>\n",
       "        <span class=\"k\">return</span> <span class=\"mi\">0</span>\n",
       "    <span class=\"k\">else</span><span class=\"p\">:</span>\n",
       "        <span class=\"k\">return</span> <span class=\"mi\">1</span>\n",
       "\n",
       "  <span class=\"k\">def</span> <span class=\"nf\">exploit</span><span class=\"p\">(</span><span class=\"bp\">self</span><span class=\"p\">):</span>\n",
       "    <span class=\"sd\">&quot;&quot;&quot;returns arm with highest expected payoff</span>\n",
       "<span class=\"sd\">    Always the same arm after exploration phase&quot;&quot;&quot;</span>\n",
       "\n",
       "    <span class=\"c1\"># return the arm with the highest success rate</span>\n",
       "    <span class=\"k\">return</span> <span class=\"n\">np</span><span class=\"o\">.</span><span class=\"n\">argmax</span><span class=\"p\">(</span><span class=\"bp\">self</span><span class=\"o\">.</span><span class=\"n\">successes</span><span class=\"o\">/</span><span class=\"bp\">self</span><span class=\"o\">.</span><span class=\"n\">trials</span><span class=\"p\">)</span>\n",
       "</pre></div>\n"
      ],
      "text/plain": [
       "<IPython.core.display.HTML object>"
      ]
     },
     "execution_count": null,
     "metadata": {},
     "output_type": "execute_result"
    }
   ],
   "source": [
    "from thompson_sampling.solvers import AB\n",
    "\n",
    "# uncomment this if you're interested in seein the AB test code\n",
    "showcase_code('thompson_sampling/solvers.py',class_name = 'AB')"
   ]
  },
  {
   "cell_type": "code",
   "execution_count": null,
   "metadata": {},
   "outputs": [
    {
     "name": "stdout",
     "output_type": "stream",
     "text": [
      "0.4955\n",
      "0.4978\n"
     ]
    }
   ],
   "source": [
    "ab = AB(n_experiments=100)\n",
    "\n",
    "print(np.mean([ab.choose_arm() for x in range(10000)]))\n",
    "ab.update(1,1)\n",
    "print(np.mean([ab.choose_arm() for x in range(10000)])\n",
    ")"
   ]
  },
  {
   "cell_type": "markdown",
   "metadata": {},
   "source": [
    "as we can see, an update does not change the outcome of the AB test, as long as we're below the number of experiments that we chose upfront."
   ]
  },
  {
   "cell_type": "code",
   "execution_count": null,
   "metadata": {},
   "outputs": [],
   "source": [
    "for i in range(101):\n",
    "    arm = ab.choose_arm()\n",
    "    reward = non_contextual_categorical_bandit(arm,theta=theta)\n",
    "    ab.update(arm,reward)"
   ]
  },
  {
   "cell_type": "markdown",
   "metadata": {},
   "source": [
    "now, let's see what happens after we observed the required number of outcomes:"
   ]
  },
  {
   "cell_type": "code",
   "execution_count": null,
   "metadata": {},
   "outputs": [
    {
     "name": "stdout",
     "output_type": "stream",
     "text": [
      "1.0\n",
      "1.0\n"
     ]
    }
   ],
   "source": [
    "print(np.mean([ab.choose_arm() for x in range(10000)]))\n",
    "ab.update(1,1)\n",
    "print(np.mean([ab.choose_arm() for x in range(10000)])\n",
    ")"
   ]
  },
  {
   "cell_type": "markdown",
   "metadata": {},
   "source": [
    "As we can see, after the experiment is finished - during exploitation - the AB test will always play the arm it found to be best during the exploration time. This has a few implications, such as being stuck with the decision, independently on whether the customer's behaviour changed or we made a mistake getting it in the first place. If we want to choose differently, we need to set up a new experiment."
   ]
  },
  {
   "cell_type": "markdown",
   "metadata": {},
   "source": [
    "## Thompson Sampler\n",
    "\n",
    "AB testing has a few drawbacks:\n",
    "\n",
    "What do we do if the difference in our sample isn't large enough to confidently say one is better after the experiment was concluded?\n",
    "\n",
    "What if we chose the number of people we're testing wrong and now instead of using the awesome blue button that seems to perform so much better we are now stuck with showing half of the users the ugly yellow one?! we're good scientists so we won't interrupt the experiment; if we're REALLY good scientist we won't even peek so we DON'T KNOW THAT OUR USERS ARE BEING LED ASTRAY BY OUR EVIL AMBER!\n",
    "\n",
    "What if we realize that we performed our experiment during a time in which, for some reason, the users were not reacting as usually, maybe because everyone is acting irrationally and buying too much toilet paper? NOW WE ARE STUCK WITH THAT DASTARDLY DANDELLION BUTTON!\n",
    "\n",
    "...What if we realize that we actually want to test a red button, too? WAAAAAAAAH!!!!!!!!\n",
    "\n",
    "\n",
    "All these problems arise because we decided to have a clear distinction between exploration and exploitation. First we randomly sample user experiences so we can find out which one works better and then we stick to whatever comes out of that.\n",
    "This leads to us being stuck the phase in which we either collect data from a random process we can't influence or the phase in which we use that information to ~~generate moneyz~~ make sure we offer our users an optimal experience, without being able to incorporate new evidence.\n",
    "\n",
    "Wouldn't it be great if we could do both at the same time? Maybe by **updating the sampling scheme** used during the exploration so it doesn't just return either arm half the time but **increases the chance of seing the button that has been performing better in the past** each time we see it perform better? Wouldn't it be great if we could do that until the end of times because we do not need to decide when to stop the experiment because inherently, the best arm gets played most of the time anyways?\n",
    "\n",
    "Yes that would be great. And we're doing it. It's called Thompson Sampling. \n",
    "\n",
    "\n",
    "\n",
    "\n",
    "\n",
    "\n",
    "\n",
    "\n",
    "\n",
    "Thompson Sampling was invented in 1933 and has been rediscovered a bunch of times since then (source: Wikipedia) because it is so fantastic. \n",
    "It is an inherently Bayesian approach (compared to 'Frequentist' from earlier), which for all intents and purposes means it operates on Probability Distributions rather than point estimates and uses something called a 'Prior'. For deeper discussions, feel free to hit me up on Slack :) \n",
    "\n",
    "\n",
    "![alt](https://image.slidesharecdn.com/atackingthemulti-armed-bandit-problem-slides-190517222554/95/claudia-vicol-solving-the-multi-armed-bandit-problem-codemotion-amsterdam-2019-18-638.jpg?cb=1558132137)\n",
    "\n",
    "\n",
    "Our implementation relies on two methods, again:\n",
    "\n",
    "Choose_arm, which \n",
    "*** for each arm draws from the distribution over the expected rewards*** (this will become easier to understand with the visualisations below!) and compares them to see which one is higher. This is where the 'constant exploration' is: even with very different distributions, sampling will *occasionally* allow for all arms to be played. \n",
    "\n",
    "The Update arm, which observes the reward after playing an arm and updates the distribution of that arm to reflect the new knowledge. This means two things: The distribution will get narrower (unless we have very diverging data) and its mean will move closer to what the model thinks the expected reward of an arm is. \n",
    "\n",
    "If we look back at the choose arm now - a narrower distribution translates into a narrower spread of likely values to be drawn from that distribution. This means - as the Thompson Sampler converges, each arms' sample will get more likely to be around a certain value - and thus the one with the higher expectation will be played more than the others.\n",
    "\n",
    "\n",
    "![alt](data:image/png;base64,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)\n",
    "\n",
    "This means, while we managed to get rid of distinct exploration vs exploitation phases, we have a continuous shift from one to the other, meaning we're going to start exploiting more just as we have enough data to do so. \n",
    "\n",
    "Let's see what that looks like."
   ]
  },
  {
   "cell_type": "code",
   "execution_count": null,
   "metadata": {},
   "outputs": [
    {
     "ename": "TypeError",
     "evalue": "must be str, not bool",
     "output_type": "error",
     "traceback": [
      "\u001b[0;31m---------------------------------------------------------------------------\u001b[0m",
      "\u001b[0;31mTypeError\u001b[0m                                 Traceback (most recent call last)",
      "\u001b[0;32m<ipython-input-13-7e4c4122946d>\u001b[0m in \u001b[0;36m<module>\u001b[0;34m\u001b[0m\n\u001b[0;32m----> 1\u001b[0;31m \u001b[0mshowcase_code\u001b[0m\u001b[0;34m(\u001b[0m\u001b[0;34m'thompson_sampling/solvers.py'\u001b[0m\u001b[0;34m,\u001b[0m\u001b[0;34m'BetaBandit'\u001b[0m\u001b[0;34m,\u001b[0m \u001b[0mend_string\u001b[0m\u001b[0;34m=\u001b[0m\u001b[0;32mTrue\u001b[0m\u001b[0;34m)\u001b[0m\u001b[0;34m\u001b[0m\u001b[0;34m\u001b[0m\u001b[0m\n\u001b[0m",
      "\u001b[0;32m~/Documents/GitHub/thompson_sampling/thompson_sampling/helpers.py\u001b[0m in \u001b[0;36mshowcase_code\u001b[0;34m(pyfile, class_name, method_name, end_string)\u001b[0m\n\u001b[1;32m     58\u001b[0m \u001b[0;34m\u001b[0m\u001b[0m\n\u001b[1;32m     59\u001b[0m     \u001b[0;32mif\u001b[0m \u001b[0mend_string\u001b[0m\u001b[0;34m:\u001b[0m\u001b[0;34m\u001b[0m\u001b[0;34m\u001b[0m\u001b[0m\n\u001b[0;32m---> 60\u001b[0;31m         \u001b[0mend_index\u001b[0m \u001b[0;34m=\u001b[0m \u001b[0mcode\u001b[0m\u001b[0;34m[\u001b[0m\u001b[0;36m7\u001b[0m\u001b[0;34m:\u001b[0m\u001b[0;34m]\u001b[0m\u001b[0;34m.\u001b[0m\u001b[0mfind\u001b[0m\u001b[0;34m(\u001b[0m\u001b[0mend_string\u001b[0m\u001b[0;34m)\u001b[0m\u001b[0;34m\u001b[0m\u001b[0;34m\u001b[0m\u001b[0m\n\u001b[0m\u001b[1;32m     61\u001b[0m \u001b[0;34m\u001b[0m\u001b[0m\n\u001b[1;32m     62\u001b[0m     \u001b[0mcode\u001b[0m \u001b[0;34m=\u001b[0m \u001b[0mcode\u001b[0m\u001b[0;34m[\u001b[0m\u001b[0;34m:\u001b[0m\u001b[0mend_index\u001b[0m\u001b[0;34m]\u001b[0m\u001b[0;34m\u001b[0m\u001b[0;34m\u001b[0m\u001b[0m\n",
      "\u001b[0;31mTypeError\u001b[0m: must be str, not bool"
     ]
    }
   ],
   "source": [
    "showcase_code('thompson_sampling/solvers.py','BetaBandit', end_string=True)"
   ]
  },
  {
   "cell_type": "code",
   "execution_count": null,
   "metadata": {},
   "outputs": [],
   "source": []
  }
 ],
 "metadata": {
  "kernelspec": {
   "display_name": "Python 3",
   "language": "python",
   "name": "python3"
  }
 },
 "nbformat": 4,
 "nbformat_minor": 4
}
