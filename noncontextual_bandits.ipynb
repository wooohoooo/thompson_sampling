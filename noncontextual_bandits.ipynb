{
 "cells": [
  {
   "cell_type": "code",
   "execution_count": null,
   "metadata": {},
   "outputs": [],
   "source": [
    "# default_exp noncontextual_bandits"
   ]
  },
  {
   "cell_type": "markdown",
   "metadata": {},
   "source": [
    "# Intro\n",
    "\n",
    "\n",
    "\n",
    "The aim of this notebook is to provide a low tech overview over MAB solvers, specifically A/B testing and Thompson Sampler. Others such as Epsilon Greedy and UCB MIGHT follow, but since TS is relatively undisputed when it comes to decision making for a couple of reasons, this might not happen.\n",
    "\n",
    "We will first look at the problem at hand, the Multi Armed Bandit and how we can emulate an environment that houses one. Then we turn towards the classical solution to MABs: A/B testing. Through the evaluation of some of it's weaknesses stemming from the distinction between exploration and exploitation phase, we will arrive at a theoretical construct that already almost resembles Thompson Sampling, from where it is an easy jump to the full thing.\n",
    "\n",
    "![alt](https://miro.medium.com/max/1596/1*EnNqxjvgYcgP3qcvceEeHg.jpeg)\n",
    "\n",
    "\n",
    "This notebook is aimed at people looking to apply TS with a working understanding of what it does but foregoes the mathematical descriptions and proofs necessary to argue for TS in an academic setting. \n",
    "\n",
    "Note that we're focussing on the simplest use case imaginable, which means we can use simple beta-binomial distribution to compute our thompson sampling. This is does little more than elaborate counting AND STILL it is useful for outshining A/B tests in a categorical case. \n",
    "\n",
    "Note also that we stripped anything complex from the notebook to focus on the underlying concepts rather than, say, computing how many people we need in our groups to get statistically significant (a concept we're also ignoring because... Bayes Rule(s)!)."
   ]
  },
  {
   "cell_type": "markdown",
   "metadata": {},
   "source": [
    "# What is a multi armed bandit situation?\n",
    "\n",
    "In the multi armed bandit setting, we are tasked with finding the best performing action out of a selection of possible actions. An example could be the color of a button on a website. We could make it Blue or Yellow. Our theories are that Blue is easier to see but Yellow is a more inviting color. We now have to figure out which of these effects is stronger, i.e. which button color gets clicked more often(1).\n",
    "\n",
    "\n",
    "We do not know which theory is correct, and, unfortunately, we will never KNOW which button is better, since for that we'd need to know what would have happened if the users that saw yellow were presented with blue and vice versa, for all eternity. Maybe the users that saw it so far preferred yellow because it was summer. Or the background of an ad that popped up made it very hard to see the blue button. \n",
    "This is, in essence, what we refer to as the dilemma of 'Exploration vs Exploitation': Do we rely on the information we have available to make a decision or do we want to collect more data so that our future decisions will be a better informed one?\n",
    "\n",
    "![alt](http://www.primarydigit.com/uploads/2/0/1/6/20168087/2155136.png?387)\n",
    "\n",
    "In this Notebook, we want to look at a few possible solutions to this problem.\n",
    "\n",
    "\n",
    "# How do we test these approaches\n",
    "\n",
    "To do so, we need to simulate a situation in which a customer makes a choice we do not know up front, since we don't have actual customers to ask. To do that, we generate an 'average customer'. This average customer is going to react to the color of the button with probabilities proportional to how the real population MIGHT react (this is of course simulated). This value is stored in our variable 'Theta'; it reflects how likely the general population is to click on a blue vs a yellow button. We convert this probability to a reaction by sampling a number between 0 and 1 and comparing it to the theta value for that choice, see customer_reaction().\n",
    "\n",
    "\n",
    "\n",
    "\n",
    " (1) This is not a real life situation, in which we might take into account different additional parameters such as page background - which we'd optimally test, too."
   ]
  },
  {
   "cell_type": "code",
   "execution_count": null,
   "metadata": {},
   "outputs": [],
   "source": [
    "import numpy as np"
   ]
  },
  {
   "cell_type": "code",
   "execution_count": null,
   "metadata": {},
   "outputs": [],
   "source": [
    "from thompson_sampling.helpers import showcase_code"
   ]
  },
  {
   "cell_type": "code",
   "execution_count": null,
   "metadata": {},
   "outputs": [],
   "source": [
    "from thompson_sampling.multi_armed_bandits import non_contextual_categorical_bandit"
   ]
  },
  {
   "cell_type": "code",
   "execution_count": null,
   "metadata": {},
   "outputs": [
    {
     "data": {
      "text/html": [
       "<style type=\"text/css\">.highlight .hll { background-color: #ffffcc }\n",
       ".highlight  { background: #f8f8f8; }\n",
       ".highlight .c { color: #408080; font-style: italic } /* Comment */\n",
       ".highlight .err { border: 1px solid #FF0000 } /* Error */\n",
       ".highlight .k { color: #008000; font-weight: bold } /* Keyword */\n",
       ".highlight .o { color: #666666 } /* Operator */\n",
       ".highlight .ch { color: #408080; font-style: italic } /* Comment.Hashbang */\n",
       ".highlight .cm { color: #408080; font-style: italic } /* Comment.Multiline */\n",
       ".highlight .cp { color: #BC7A00 } /* Comment.Preproc */\n",
       ".highlight .cpf { color: #408080; font-style: italic } /* Comment.PreprocFile */\n",
       ".highlight .c1 { color: #408080; font-style: italic } /* Comment.Single */\n",
       ".highlight .cs { color: #408080; font-style: italic } /* Comment.Special */\n",
       ".highlight .gd { color: #A00000 } /* Generic.Deleted */\n",
       ".highlight .ge { font-style: italic } /* Generic.Emph */\n",
       ".highlight .gr { color: #FF0000 } /* Generic.Error */\n",
       ".highlight .gh { color: #000080; font-weight: bold } /* Generic.Heading */\n",
       ".highlight .gi { color: #00A000 } /* Generic.Inserted */\n",
       ".highlight .go { color: #888888 } /* Generic.Output */\n",
       ".highlight .gp { color: #000080; font-weight: bold } /* Generic.Prompt */\n",
       ".highlight .gs { font-weight: bold } /* Generic.Strong */\n",
       ".highlight .gu { color: #800080; font-weight: bold } /* Generic.Subheading */\n",
       ".highlight .gt { color: #0044DD } /* Generic.Traceback */\n",
       ".highlight .kc { color: #008000; font-weight: bold } /* Keyword.Constant */\n",
       ".highlight .kd { color: #008000; font-weight: bold } /* Keyword.Declaration */\n",
       ".highlight .kn { color: #008000; font-weight: bold } /* Keyword.Namespace */\n",
       ".highlight .kp { color: #008000 } /* Keyword.Pseudo */\n",
       ".highlight .kr { color: #008000; font-weight: bold } /* Keyword.Reserved */\n",
       ".highlight .kt { color: #B00040 } /* Keyword.Type */\n",
       ".highlight .m { color: #666666 } /* Literal.Number */\n",
       ".highlight .s { color: #BA2121 } /* Literal.String */\n",
       ".highlight .na { color: #7D9029 } /* Name.Attribute */\n",
       ".highlight .nb { color: #008000 } /* Name.Builtin */\n",
       ".highlight .nc { color: #0000FF; font-weight: bold } /* Name.Class */\n",
       ".highlight .no { color: #880000 } /* Name.Constant */\n",
       ".highlight .nd { color: #AA22FF } /* Name.Decorator */\n",
       ".highlight .ni { color: #999999; font-weight: bold } /* Name.Entity */\n",
       ".highlight .ne { color: #D2413A; font-weight: bold } /* Name.Exception */\n",
       ".highlight .nf { color: #0000FF } /* Name.Function */\n",
       ".highlight .nl { color: #A0A000 } /* Name.Label */\n",
       ".highlight .nn { color: #0000FF; font-weight: bold } /* Name.Namespace */\n",
       ".highlight .nt { color: #008000; font-weight: bold } /* Name.Tag */\n",
       ".highlight .nv { color: #19177C } /* Name.Variable */\n",
       ".highlight .ow { color: #AA22FF; font-weight: bold } /* Operator.Word */\n",
       ".highlight .w { color: #bbbbbb } /* Text.Whitespace */\n",
       ".highlight .mb { color: #666666 } /* Literal.Number.Bin */\n",
       ".highlight .mf { color: #666666 } /* Literal.Number.Float */\n",
       ".highlight .mh { color: #666666 } /* Literal.Number.Hex */\n",
       ".highlight .mi { color: #666666 } /* Literal.Number.Integer */\n",
       ".highlight .mo { color: #666666 } /* Literal.Number.Oct */\n",
       ".highlight .sa { color: #BA2121 } /* Literal.String.Affix */\n",
       ".highlight .sb { color: #BA2121 } /* Literal.String.Backtick */\n",
       ".highlight .sc { color: #BA2121 } /* Literal.String.Char */\n",
       ".highlight .dl { color: #BA2121 } /* Literal.String.Delimiter */\n",
       ".highlight .sd { color: #BA2121; font-style: italic } /* Literal.String.Doc */\n",
       ".highlight .s2 { color: #BA2121 } /* Literal.String.Double */\n",
       ".highlight .se { color: #BB6622; font-weight: bold } /* Literal.String.Escape */\n",
       ".highlight .sh { color: #BA2121 } /* Literal.String.Heredoc */\n",
       ".highlight .si { color: #BB6688; font-weight: bold } /* Literal.String.Interpol */\n",
       ".highlight .sx { color: #008000 } /* Literal.String.Other */\n",
       ".highlight .sr { color: #BB6688 } /* Literal.String.Regex */\n",
       ".highlight .s1 { color: #BA2121 } /* Literal.String.Single */\n",
       ".highlight .ss { color: #19177C } /* Literal.String.Symbol */\n",
       ".highlight .bp { color: #008000 } /* Name.Builtin.Pseudo */\n",
       ".highlight .fm { color: #0000FF } /* Name.Function.Magic */\n",
       ".highlight .vc { color: #19177C } /* Name.Variable.Class */\n",
       ".highlight .vg { color: #19177C } /* Name.Variable.Global */\n",
       ".highlight .vi { color: #19177C } /* Name.Variable.Instance */\n",
       ".highlight .vm { color: #19177C } /* Name.Variable.Magic */\n",
       ".highlight .il { color: #666666 } /* Literal.Number.Integer.Long */</style><div class=\"highlight\"><pre><span></span><span class=\"k\">def</span> <span class=\"nf\">non_contextual_categorical_bandit</span><span class=\"p\">(</span><span class=\"n\">choice</span><span class=\"p\">:</span><span class=\"nb\">int</span><span class=\"p\">,</span> <span class=\"n\">theta</span><span class=\"p\">:</span><span class=\"n\">np</span><span class=\"o\">.</span><span class=\"n\">array</span><span class=\"p\">)</span><span class=\"o\">-&gt;</span><span class=\"nb\">bool</span><span class=\"p\">:</span>\n",
       "\n",
       "    <span class=\"c1\"># draw a number between 0 and 1, if it&#39;s smaller than the theta, return reward</span>\n",
       "    <span class=\"k\">if</span> <span class=\"n\">np</span><span class=\"o\">.</span><span class=\"n\">random</span><span class=\"o\">.</span><span class=\"n\">random</span><span class=\"p\">()</span> <span class=\"o\">&lt;</span> <span class=\"n\">theta</span><span class=\"p\">[</span><span class=\"n\">choice</span><span class=\"p\">]:</span>\n",
       "        <span class=\"n\">reaction</span> <span class=\"o\">=</span> <span class=\"kc\">True</span>\n",
       "    <span class=\"k\">else</span><span class=\"p\">:</span>\n",
       "        <span class=\"n\">reaction</span> <span class=\"o\">=</span> <span class=\"kc\">False</span>\n",
       "\n",
       "    <span class=\"k\">return</span> <span class=\"n\">reaction</span>\n",
       "</pre></div>\n"
      ],
      "text/plain": [
       "<IPython.core.display.HTML object>"
      ]
     },
     "execution_count": null,
     "metadata": {},
     "output_type": "execute_result"
    }
   ],
   "source": [
    "showcase_code('thompson_sampling/multi_armed_bandits.py',method_name = 'non_contextual_categorical_bandit')"
   ]
  },
  {
   "cell_type": "code",
   "execution_count": null,
   "metadata": {},
   "outputs": [],
   "source": []
  }
 ],
 "metadata": {
  "kernelspec": {
   "display_name": "Python 3",
   "language": "python",
   "name": "python3"
  }
 },
 "nbformat": 4,
 "nbformat_minor": 4
}
