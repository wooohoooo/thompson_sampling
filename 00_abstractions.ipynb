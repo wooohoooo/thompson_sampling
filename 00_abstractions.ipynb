{
 "cells": [
  {
   "cell_type": "code",
   "execution_count": null,
   "metadata": {},
   "outputs": [],
   "source": [
    "# default_exp abstractions"
   ]
  },
  {
   "cell_type": "markdown",
   "metadata": {},
   "source": [
    "# abstractions\n",
    "> abstract classes for MAB solvers"
   ]
  },
  {
   "cell_type": "markdown",
   "metadata": {},
   "source": [
    "## MAB\n"
   ]
  },
  {
   "cell_type": "code",
   "execution_count": null,
   "metadata": {},
   "outputs": [],
   "source": [
    "#export\n",
    "import numpy as np\n",
    "\n",
    "class AbstractNoncontextualMAB(object):\n",
    "    def get_probaility(self, arm):\n",
    "        pass\n",
    "    \n",
    "    def get_reward(self, arm):\n",
    "        pass\n",
    "    \n",
    "    def get_best_arm(self):\n",
    "        pass\n",
    "    \n",
    "    \n",
    "class AbstractContextualMAB(object):\n",
    "    \n",
    "    def __init__(self, theta, noise, linear=False):\n",
    "        \n",
    "        self.theta = theta\n",
    "        self.noise = noise\n",
    "        self.num_arms = len(theta)\n",
    "        \n",
    "        if linear:\n",
    "            self. activation = lambda x: x\n",
    "        else:\n",
    "            self.activation = lambda x: 1 / (1 + np.exp(-x))\n",
    "        \n",
    "    def get_probaility(self, arm, context):\n",
    "        pass\n",
    "    \n",
    "    def get_reward(self, arm, context):\n",
    "        pass\n",
    "    \n",
    "    def get_best_arm(self, context):\n",
    "        pass"
   ]
  },
  {
   "cell_type": "code",
   "execution_count": null,
   "metadata": {},
   "outputs": [
    {
     "data": {
      "text/plain": [
       "0.9998766054240137"
      ]
     },
     "execution_count": null,
     "metadata": {},
     "output_type": "execute_result"
    }
   ],
   "source": [
    "a = AbstractContextualMAB(theta = [0.1,0.9], noise=0, linear = False)\n",
    "a.activation(9)"
   ]
  },
  {
   "cell_type": "code",
   "execution_count": null,
   "metadata": {},
   "outputs": [
    {
     "data": {
      "text/plain": [
       "9"
      ]
     },
     "execution_count": null,
     "metadata": {},
     "output_type": "execute_result"
    }
   ],
   "source": [
    "b = AbstractContextualMAB(theta= [0.1,0.9], noise=0, linear = True)\n",
    "b.activation(9)"
   ]
  },
  {
   "cell_type": "markdown",
   "metadata": {},
   "source": [
    "## Solvers"
   ]
  },
  {
   "cell_type": "code",
   "execution_count": null,
   "metadata": {},
   "outputs": [],
   "source": [
    "#export\n",
    "class AbstractSolver(object):\n",
    "    def choose_arm(self):\n",
    "        \"\"\"choose an arm to play according to internal policy\"\"\"\n",
    "        raise NotImplementedError\n",
    "        \n",
    "    def update(self, arm, reward):\n",
    "        \"\"\" update internal policy to reflect changed knowledge\"\"\"\n",
    "        raise NotImplementedError\n"
   ]
  },
  {
   "cell_type": "code",
   "execution_count": null,
   "metadata": {},
   "outputs": [],
   "source": []
  },
  {
   "cell_type": "code",
   "execution_count": null,
   "metadata": {},
   "outputs": [],
   "source": [
    "#export\n",
    "class AbstractContextualSolver(object):\n",
    "    def __init__(self, model_type, num_arms, num_context):\n",
    "        self.model_list = [model_type(num_context) for x in range(num_arms)]\n",
    "        self.num_arms = num_arms\n",
    "        self.num_context = num_context\n",
    "\n",
    "\n",
    "    def choose_arm(self,context):\n",
    "        \"\"\"choose an arm to play according to internal policy\"\"\"\n",
    "        raise NotImplementedError\n",
    "        \n",
    "    def update(self, arm, context, reward):\n",
    "        \"\"\" update internal policy to reflect changed knowledge\"\"\"\n",
    "        raise NotImplementedError"
   ]
  },
  {
   "cell_type": "code",
   "execution_count": null,
   "metadata": {},
   "outputs": [
    {
     "name": "stdout",
     "output_type": "stream",
     "text": [
      "Converted 00_abstractions.ipynb.\n",
      "Converted 01_multi_armed_bandits.ipynb.\n",
      "Converted 02_models.ipynb.\n",
      "Converted 03_ensembles.ipynb.\n",
      "Converted 04_solvers.ipynb.\n",
      "Converted 99_helpers.ipynb.\n",
      "Converted contextual_bandits.ipynb.\n",
      "Converted index.ipynb.\n",
      "Converted noncontextual_bandits.ipynb.\n",
      "Converted nonlinear_bandits.ipynb.\n"
     ]
    }
   ],
   "source": [
    "\n",
    "from nbdev.export import *\n",
    "notebook2script()"
   ]
  },
  {
   "cell_type": "code",
   "execution_count": null,
   "metadata": {},
   "outputs": [],
   "source": []
  },
  {
   "cell_type": "code",
   "execution_count": null,
   "metadata": {},
   "outputs": [],
   "source": []
  },
  {
   "cell_type": "code",
   "execution_count": null,
   "metadata": {},
   "outputs": [],
   "source": []
  }
 ],
 "metadata": {
  "kernelspec": {
   "display_name": "Python 3",
   "language": "python",
   "name": "python3"
  }
 },
 "nbformat": 4,
 "nbformat_minor": 4
}
