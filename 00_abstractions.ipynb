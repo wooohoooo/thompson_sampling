{
 "cells": [
  {
   "cell_type": "code",
   "execution_count": null,
   "metadata": {},
   "outputs": [],
   "source": [
    "# default_exp abstractions"
   ]
  },
  {
   "cell_type": "markdown",
   "metadata": {},
   "source": [
    "# abstractions\n",
    "> abstract classes for MAB solvers"
   ]
  },
  {
   "cell_type": "markdown",
   "metadata": {},
   "source": [
    "## MAB\n"
   ]
  },
  {
   "cell_type": "code",
   "execution_count": null,
   "metadata": {},
   "outputs": [],
   "source": [
    "#export\n",
    "import numpy as np\n",
    "\n",
    "class AbstractNoncontextualMAB(object):\n",
    "    def get_probaility(self, arm):\n",
    "        pass\n",
    "    \n",
    "    def get_reward(self, arm):\n",
    "        pass\n",
    "    \n",
    "    def get_best_arm(self):\n",
    "        pass\n",
    "    \n",
    "    \n",
    "class AbstractContextualMAB(object):\n",
    "    \n",
    "    def __init__(self, theta, noise, linear=False):\n",
    "        \n",
    "        self.theta = theta\n",
    "        self.noise = noise\n",
    "        self.num_arms = len(theta)\n",
    "        \n",
    "        if linear:\n",
    "            self. activation = lambda x: x\n",
    "        else:\n",
    "            self.activation = lambda x: 1 / (1 + np.exp(-x))\n",
    "        \n",
    "    def get_probaility(self, arm, context):\n",
    "        pass\n",
    "    \n",
    "    def get_reward(self, arm, context):\n",
    "        pass\n",
    "    \n",
    "    def get_best_arm(self, context):\n",
    "        pass\n",
    "    \n",
    "    \n",
    "    \n"
   ]
  },
  {
   "cell_type": "code",
   "execution_count": null,
   "metadata": {},
   "outputs": [
    {
     "data": {
      "text/plain": [
       "0.9998766054240137"
      ]
     },
     "execution_count": null,
     "metadata": {},
     "output_type": "execute_result"
    }
   ],
   "source": [
    "a = AbstractContextualMAB(theta = [0.1,0.9], noise=0, linear = False)\n",
    "a.activation(9)"
   ]
  },
  {
   "cell_type": "code",
   "execution_count": null,
   "metadata": {},
   "outputs": [
    {
     "data": {
      "text/plain": [
       "9"
      ]
     },
     "execution_count": null,
     "metadata": {},
     "output_type": "execute_result"
    }
   ],
   "source": [
    "b = AbstractContextualMAB(theta= [0.1,0.9], noise=0, linear = True)\n",
    "b.activation(9)"
   ]
  },
  {
   "cell_type": "markdown",
   "metadata": {},
   "source": [
    "## Solvers"
   ]
  },
  {
   "cell_type": "code",
   "execution_count": null,
   "metadata": {},
   "outputs": [],
   "source": [
    "#export\n",
    "class AbstractSolver(object):\n",
    "    def choose_arm(self):\n",
    "        \"\"\"choose an arm to play according to internal policy\"\"\"\n",
    "        raise NotImplementedError\n",
    "        \n",
    "    def update(self, arm, reward):\n",
    "        \"\"\" update internal policy to reflect changed knowledge\"\"\"\n",
    "        raise NotImplementedError\n"
   ]
  },
  {
   "cell_type": "code",
   "execution_count": null,
   "metadata": {},
   "outputs": [],
   "source": []
  },
  {
   "cell_type": "code",
   "execution_count": null,
   "metadata": {},
   "outputs": [],
   "source": [
    "#export\n",
    "from collections import OrderedDict\n",
    "\n",
    "\n",
    "class AbstractContextualSolver(object):\n",
    "    def __init__(self, model_type, num_arms, num_context, model_params={}):\n",
    "        self.model_list = [model_type(num_context, **model_params) for x in range(num_arms)]\n",
    "        self.num_arms = num_arms\n",
    "        self.num_context = num_context\n",
    "\n",
    "\n",
    "    def choose_arm(self,context):\n",
    "        \"\"\"choose an arm to play according to internal policy\"\"\"\n",
    "        raise NotImplementedError\n",
    "        \n",
    "    def update(self, arm, context, reward):\n",
    "        \"\"\" update internal policy to reflect changed knowledge\"\"\"\n",
    "        raise NotImplementedError\n",
    "        \n",
    "        \n",
    "        \n",
    "# class AbstractContextualSolverSingleModel(object):\n",
    "#     def __init__(self, model_type, num_arms, num_context, model_params={}):\n",
    "#         self.model = model_type(num_context+num_arms, **model_params) \n",
    "#         self.num_arms = num_arms\n",
    "        \n",
    "        \n",
    "\n",
    "#         num_arms = 3\n",
    "#         zero_arm = np.ones(num_arms)\n",
    "#         self.arms = OrderedDict({x: np.ones(num_arms) for x in range(num_arms+1)})\n",
    "#         for x in self.arms:\n",
    "#             self.arms[x][x %3] -=1\n",
    "            \n",
    "#         self.arms[num_arms+1] = zero_arm\n",
    "        \n",
    "#         self.num_context = num_context\n",
    "\n",
    "\n",
    "#     def choose_arm(self,context):\n",
    "#         \"\"\"choose an arm to play according to internal policy\"\"\"\n",
    "#         raise NotImplementedError\n",
    "        \n",
    "#     def update(self, arm, context, reward):\n",
    "#         \"\"\" update internal policy to reflect changed knowledge\"\"\"\n",
    "#         raise NotImplementedError\n",
    "        \n",
    "        \n",
    "        \n",
    "class AbstractContextualSolverSingleModel(object):\n",
    "    def __init__(self, model_type, num_arms, num_context, model_params={}):\n",
    "        self.model = model_type(num_context+num_arms, **model_params) \n",
    "        self.num_arms = num_arms\n",
    "        self.errors = []\n",
    "        \n",
    "        \n",
    "\n",
    "        zero_arm = np.ones(num_arms)\n",
    "        self.arms = OrderedDict({x: np.ones(num_arms) for x in range(num_arms)})\n",
    "        arms2 = OrderedDict({x+num_arms: np.zeros(num_arms) for x in range(num_arms)})\n",
    "        for x in self.arms:\n",
    "            self.arms[x][x %num_arms] -=1\n",
    "            arms2[x+num_arms][x%num_arms] +=1\n",
    "            \n",
    "        self.arms.update(arms2)\n",
    "            \n",
    "            \n",
    "            \n",
    "        self.arms[2*num_arms] = zero_arm\n",
    "        \n",
    "        self.num_context = num_context\n",
    "\n",
    "\n",
    "    def choose_arm(self,context):\n",
    "        \"\"\"choose an arm to play according to internal policy\"\"\"\n",
    "        raise NotImplementedError\n",
    "        \n",
    "    def update(self, arm, context, reward):\n",
    "        \"\"\" update internal policy to reflect changed knowledge\"\"\"\n",
    "        raise NotImplementedError\n",
    "     \n"
   ]
  },
  {
   "cell_type": "code",
   "execution_count": null,
   "metadata": {},
   "outputs": [],
   "source": [
    "num_arms = 3\n",
    "arms1 = OrderedDict({x: np.ones(num_arms) for x in range(num_arms)})\n",
    "arms2 = OrderedDict({x+num_arms: np.zeros(num_arms) for x in range(num_arms)})\n",
    "\n",
    "for x in range(num_arms):\n",
    "    arms1[x][x %num_arms] -=1\n",
    "    arms2[x+num_arms][x%num_arms] +=1"
   ]
  },
  {
   "cell_type": "code",
   "execution_count": null,
   "metadata": {},
   "outputs": [
    {
     "data": {
      "text/plain": [
       "OrderedDict([(0, array([0., 1., 1.])),\n",
       "             (1, array([1., 0., 1.])),\n",
       "             (2, array([1., 1., 0.]))])"
      ]
     },
     "execution_count": null,
     "metadata": {},
     "output_type": "execute_result"
    }
   ],
   "source": [
    "arms1"
   ]
  },
  {
   "cell_type": "code",
   "execution_count": null,
   "metadata": {},
   "outputs": [
    {
     "data": {
      "text/plain": [
       "OrderedDict([(3, array([1., 0., 0.])),\n",
       "             (4, array([0., 1., 0.])),\n",
       "             (5, array([0., 0., 1.]))])"
      ]
     },
     "execution_count": null,
     "metadata": {},
     "output_type": "execute_result"
    }
   ],
   "source": [
    "arms2"
   ]
  },
  {
   "cell_type": "code",
   "execution_count": null,
   "metadata": {},
   "outputs": [],
   "source": [
    "# nbdev_build_docs"
   ]
  },
  {
   "cell_type": "code",
   "execution_count": null,
   "metadata": {},
   "outputs": [
    {
     "data": {
      "text/plain": [
       "OrderedDict([(0, array([0., 1., 1.])),\n",
       "             (1, array([1., 0., 1.])),\n",
       "             (2, array([1., 1., 0.])),\n",
       "             (3, array([1., 0., 0.])),\n",
       "             (4, array([0., 1., 0.])),\n",
       "             (5, array([0., 0., 1.]))])"
      ]
     },
     "execution_count": null,
     "metadata": {},
     "output_type": "execute_result"
    }
   ],
   "source": [
    "arms1.update(arms2)\n",
    "arms1"
   ]
  },
  {
   "cell_type": "code",
   "execution_count": null,
   "metadata": {},
   "outputs": [
    {
     "name": "stderr",
     "output_type": "stream",
     "text": [
      "\n",
      "Bad key \"text.kerning_factor\" on line 4 in\n",
      "/home/thomas/anaconda3/envs/pytorch_GPU/lib/python3.7/site-packages/matplotlib/mpl-data/stylelib/_classic_test_patch.mplstyle.\n",
      "You probably need to get an updated matplotlibrc file from\n",
      "https://github.com/matplotlib/matplotlib/blob/v3.1.3/matplotlibrc.template\n",
      "or from the matplotlib source distribution\n"
     ]
    }
   ],
   "source": [
    "from thompson_sampling.models import BayesLinReg"
   ]
  },
  {
   "cell_type": "code",
   "execution_count": null,
   "metadata": {},
   "outputs": [],
   "source": [
    "acssm = AbstractContextualSolverSingleModel(BayesLinReg,3,3,model_params={'alpha':1,'beta':1})"
   ]
  },
  {
   "cell_type": "code",
   "execution_count": null,
   "metadata": {},
   "outputs": [
    {
     "data": {
      "text/plain": [
       "OrderedDict([(0, array([0., 1., 1.])),\n",
       "             (1, array([1., 0., 1.])),\n",
       "             (2, array([1., 1., 0.])),\n",
       "             (3, array([1., 0., 0.])),\n",
       "             (4, array([0., 1., 0.])),\n",
       "             (5, array([0., 0., 1.])),\n",
       "             (6, array([1., 1., 1.]))])"
      ]
     },
     "execution_count": null,
     "metadata": {},
     "output_type": "execute_result"
    }
   ],
   "source": [
    "acssm.arms"
   ]
  },
  {
   "cell_type": "code",
   "execution_count": null,
   "metadata": {},
   "outputs": [
    {
     "name": "stdout",
     "output_type": "stream",
     "text": [
      "Converted 00_abstractions.ipynb.\n",
      "Converted 01_multi_armed_bandits.ipynb.\n",
      "Converted 02_models.ipynb.\n",
      "Converted 03_ensembles.ipynb.\n",
      "Converted 04_solvers.ipynb.\n",
      "Converted 05_bayesian_regression.ipynb.\n",
      "Converted 06_network_with_thompson_attention.ipynb.\n",
      "Converted 99_helpers.ipynb.\n",
      "Converted contextual_bandits.ipynb.\n",
      "Converted index.ipynb.\n",
      "Converted linear_problem_setup.ipynb.\n",
      "Converted noncontextual_bandits.ipynb.\n",
      "Converted nonlinear_bandits.ipynb.\n"
     ]
    }
   ],
   "source": [
    "from nbdev.export import *\n",
    "notebook2script()"
   ]
  },
  {
   "cell_type": "code",
   "execution_count": null,
   "metadata": {},
   "outputs": [],
   "source": [
    "assert(list(acssm.arms.values()) == list(set(list(acssm.arms.values()))))"
   ]
  },
  {
   "cell_type": "code",
   "execution_count": null,
   "metadata": {},
   "outputs": [],
   "source": [
    "list_of_vals = [tuple(x) for x in list(acssm.arms.values())]"
   ]
  },
  {
   "cell_type": "code",
   "execution_count": null,
   "metadata": {},
   "outputs": [],
   "source": [
    "len(set(list_of_vals)) == len(list_of_vals)"
   ]
  },
  {
   "cell_type": "code",
   "execution_count": null,
   "metadata": {},
   "outputs": [],
   "source": [
    "list_of_vals"
   ]
  },
  {
   "cell_type": "code",
   "execution_count": null,
   "metadata": {},
   "outputs": [],
   "source": [
    "set(list_of_vals)"
   ]
  },
  {
   "cell_type": "code",
   "execution_count": null,
   "metadata": {},
   "outputs": [],
   "source": [
    "from collections import OrderedDict\n",
    "\n",
    "num_arms = 3\n",
    "zero_arm = np.ones(num_arms)\n",
    "arms = OrderedDict({x: np.ones(num_arms) for x in range(num_arms+1)})\n",
    "for x in arms:\n",
    "    arms[x][x %3] -=1"
   ]
  },
  {
   "cell_type": "code",
   "execution_count": null,
   "metadata": {},
   "outputs": [],
   "source": [
    "arms"
   ]
  },
  {
   "cell_type": "code",
   "execution_count": null,
   "metadata": {},
   "outputs": [],
   "source": []
  }
 ],
 "metadata": {
  "kernelspec": {
   "display_name": "Python 3",
   "language": "python",
   "name": "python3"
  }
 },
 "nbformat": 4,
 "nbformat_minor": 4
}
