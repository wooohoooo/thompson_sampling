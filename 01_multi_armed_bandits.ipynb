{
 "cells": [
  {
   "cell_type": "code",
   "execution_count": 1,
   "metadata": {},
   "outputs": [],
   "source": [
    "# default_exp multi_armed_bandits"
   ]
  },
  {
   "cell_type": "markdown",
   "metadata": {},
   "source": [
    "# multi_armed_bandits\n",
    "\n",
    "> module for generating bandit responses"
   ]
  },
  {
   "cell_type": "code",
   "execution_count": 2,
   "metadata": {},
   "outputs": [],
   "source": [
    "from nbdev.showdoc import *\n",
    "\n",
    "import matplotlib.pyplot as plt\n",
    "%matplotlib inline\n",
    "from sklearn.utils import shuffle\n",
    "\n",
    "%load_ext autoreload\n",
    "%autoreload 2"
   ]
  },
  {
   "cell_type": "code",
   "execution_count": 3,
   "metadata": {},
   "outputs": [],
   "source": [
    "#export\n",
    "import numpy as np\n",
    "import scipy.stats as stats\n",
    "from thompson_sampling.abstractions import AbstractContextualMAB\n"
   ]
  },
  {
   "cell_type": "code",
   "execution_count": 4,
   "metadata": {},
   "outputs": [],
   "source": [
    "np.random.seed(42)\n"
   ]
  },
  {
   "cell_type": "code",
   "execution_count": 113,
   "metadata": {},
   "outputs": [],
   "source": [
    "theta = [0.1, 0.9]\n",
    "theta_contextual = [1.6, 0.4]\n",
    "nonlinear_theta = [1,0.3,1.5]\n",
    "noise = 0.1\n",
    "num_data = 1000\n",
    "X_orig = np.linspace(-6, 6, num_data)\n",
    "X = shuffle(X_orig)\n"
   ]
  },
  {
   "cell_type": "code",
   "execution_count": 85,
   "metadata": {},
   "outputs": [],
   "source": [
    "\n",
    "def sigmoid(x):\n",
    "    return 1 / (1 + np.exp(-x))"
   ]
  },
  {
   "cell_type": "code",
   "execution_count": null,
   "metadata": {},
   "outputs": [],
   "source": []
  },
  {
   "cell_type": "markdown",
   "metadata": {},
   "source": [
    "## Categorical Features\n",
    "\n",
    "### noncontextual"
   ]
  },
  {
   "cell_type": "code",
   "execution_count": 86,
   "metadata": {},
   "outputs": [],
   "source": [
    "#export\n",
    "def non_contextual_categorical_bandit(choice:int, theta:np.array)->bool:\n",
    "\n",
    "    # draw a number between 0 and 1, if it's smaller than the theta, return reward\n",
    "    if np.random.random() < theta[choice]:\n",
    "        reaction = True\n",
    "    else:\n",
    "        reaction = False\n",
    "\n",
    "    return reaction"
   ]
  },
  {
   "cell_type": "code",
   "execution_count": 87,
   "metadata": {},
   "outputs": [
    {
     "data": {
      "text/plain": [
       "(0.1, 0.86)"
      ]
     },
     "execution_count": 87,
     "metadata": {},
     "output_type": "execute_result"
    }
   ],
   "source": [
    "y0 = [non_contextual_categorical_bandit(0,theta) for i in range(100)]\n",
    "y1 = [non_contextual_categorical_bandit(1,theta) for i in range(100)]\n",
    "\n",
    "\n",
    "np.mean(y0), np.mean(y1)"
   ]
  },
  {
   "cell_type": "code",
   "execution_count": null,
   "metadata": {},
   "outputs": [],
   "source": []
  },
  {
   "cell_type": "code",
   "execution_count": null,
   "metadata": {},
   "outputs": [],
   "source": []
  },
  {
   "cell_type": "code",
   "execution_count": 88,
   "metadata": {},
   "outputs": [],
   "source": [
    "assert non_contextual_categorical_bandit(1,theta) in [True, False]"
   ]
  },
  {
   "cell_type": "markdown",
   "metadata": {},
   "source": [
    "### linear\n"
   ]
  },
  {
   "cell_type": "code",
   "execution_count": 89,
   "metadata": {},
   "outputs": [],
   "source": [
    "#export\n",
    "def contextual_categorical_bandit(context:np.array, choice:int, theta:np.array, noise:float):\n",
    "    y = 0\n",
    "    \n",
    "    for dim in np.atleast_1d(context):\n",
    "        y+= theta[choice] * dim\n",
    "        \n",
    "    p = sigmoid(y)\n",
    "\n",
    "    return np.random.choice([0,1],p=[1-p,p]), max(theta) - p, p\n",
    "\n",
    "def contextual_categorical_get_optimal_arm(context):\n",
    "    if context < 0:\n",
    "        return 1\n",
    "    return 0"
   ]
  },
  {
   "cell_type": "code",
   "execution_count": 90,
   "metadata": {},
   "outputs": [
    {
     "data": {
      "text/plain": [
       "(1, -0.09987660542401366, 0.9998766054240137)"
      ]
     },
     "execution_count": 90,
     "metadata": {},
     "output_type": "execute_result"
    }
   ],
   "source": [
    "contextual_categorical_bandit(context = 10, choice = 1, theta = theta, noise = noise)"
   ]
  },
  {
   "cell_type": "code",
   "execution_count": null,
   "metadata": {},
   "outputs": [],
   "source": []
  },
  {
   "cell_type": "code",
   "execution_count": 91,
   "metadata": {},
   "outputs": [
    {
     "data": {
      "image/png": "[encoded data removed]",
      "text/plain": [
       "<Figure size 432x288 with 1 Axes>"
      ]
     },
     "metadata": {
      "needs_background": "light"
     },
     "output_type": "display_data"
    }
   ],
   "source": [
    "for arm in [0,1]:\n",
    "    y = []\n",
    "    p1s = []\n",
    "    p2s= []\n",
    "    optimal_y = []\n",
    "    for i in range(num_data):\n",
    "        outcome, p1, p2 = contextual_categorical_bandit(X_orig[i],arm,theta_contextual,noise)\n",
    "        p1s.append(p1)\n",
    "        p2s.append(p2)\n",
    "        y.append(outcome)\n",
    "\n",
    "        optimal_y.append(contextual_categorical_bandit(X_orig[i], contextual_categorical_get_optimal_arm(X_orig[i]), theta_contextual, noise)[0])\n",
    "\n",
    "    y = np.array(y).flatten()\n",
    "\n",
    "    plt.scatter(X_orig,y,alpha = 0.3, marker= 'x', label = 'samples',)\n",
    "\n",
    "    plt.legend()\n",
    "    plt.plot(X_orig,p2s)"
   ]
  },
  {
   "cell_type": "code",
   "execution_count": 92,
   "metadata": {},
   "outputs": [
    {
     "data": {
      "text/plain": [
       "<matplotlib.collections.PathCollection at 0x7fc8acb0c950>"
      ]
     },
     "execution_count": 92,
     "metadata": {},
     "output_type": "execute_result"
    },
    {
     "data": {
      "image/png": "[encoded data removed]",
      "text/plain": [
       "<Figure size 432x288 with 1 Axes>"
      ]
     },
     "metadata": {
      "needs_background": "light"
     },
     "output_type": "display_data"
    }
   ],
   "source": [
    "plt.scatter(X_orig, optimal_y)"
   ]
  },
  {
   "cell_type": "code",
   "execution_count": 93,
   "metadata": {},
   "outputs": [
    {
     "data": {
      "text/plain": [
       "(1, -0.09994982783531614, 0.9999498278353162)"
      ]
     },
     "execution_count": 93,
     "metadata": {},
     "output_type": "execute_result"
    }
   ],
   "source": [
    "contextual_categorical_bandit(context = [10,1], choice = 1, theta = theta, noise = noise)"
   ]
  },
  {
   "cell_type": "markdown",
   "metadata": {},
   "source": [
    "###  nonlinear"
   ]
  },
  {
   "cell_type": "code",
   "execution_count": 94,
   "metadata": {},
   "outputs": [],
   "source": [
    "class NonlinearContextualCategoricalBandit(AbstractContextualMAB):\n",
    "    \n",
    "    def get_probability(self, choice, context):\n",
    "        y = 0\n",
    "\n",
    "        for dim in np.atleast_1d(context):\n",
    "            y+= np.sin(self.theta[choice] * dim + np.random.normal(0,self.noise))\n",
    "\n",
    "        return self.activation(y)\n",
    "    \n",
    "    def get_reward(self, choice, context):\n",
    "        p = self.get_probability(choice, context)\n",
    "        return np.random.choice([0,1],p=[1-p,p]), max(theta) - p, p\n",
    "    \n",
    "    def get_optimal_arm(self, context):\n",
    "        arm_ps = []\n",
    "        for i in range(self.num_arms):\n",
    "            arm_ps.append(self.get_probability(i, context))\n",
    "            \n",
    "        return np.argmax(arm_ps)\n",
    "            \n",
    "            \n",
    "    \n",
    "    \n",
    "\n",
    "\n",
    "# def nonlinear_contextual_categorical_bandit(context:np.array, choice:int, theta:np.array, noise:float):\n",
    "#     y = 0\n",
    "    \n",
    "#     for dim in np.atleast_1d(context):\n",
    "#         y+= np.sin(theta[choice] * dim)\n",
    "        \n",
    "#     p = sigmoid(y)\n",
    "\n",
    "#     return np.random.choice([0,1],p=[1-p,p]), max(self.theta) - p, p\n",
    "\n",
    "\n",
    "\n",
    "# def contextual_categorical_get_optimal_arm(context):\n",
    "#     if context < 0:\n",
    "#         return 1\n",
    "#     return 0"
   ]
  },
  {
   "cell_type": "code",
   "execution_count": 116,
   "metadata": {},
   "outputs": [
    {
     "data": {
      "text/plain": [
       "0.9998766054240137"
      ]
     },
     "execution_count": 116,
     "metadata": {},
     "output_type": "execute_result"
    }
   ],
   "source": [
    "nccb = NonlinearContextualCategoricalBandit(theta=nonlinear_theta ,noise=noise, linear=False)\n",
    "nccb.activation(9)"
   ]
  },
  {
   "cell_type": "code",
   "execution_count": 117,
   "metadata": {},
   "outputs": [
    {
     "data": {
      "text/plain": [
       "0.5888536065652729"
      ]
     },
     "execution_count": 117,
     "metadata": {},
     "output_type": "execute_result"
    }
   ],
   "source": [
    "nccb.get_probability(1, np.array([1.0]))"
   ]
  },
  {
   "cell_type": "code",
   "execution_count": 118,
   "metadata": {},
   "outputs": [
    {
     "data": {
      "text/plain": [
       "(1, 0.3313393957126678, 0.5686606042873322)"
      ]
     },
     "execution_count": 118,
     "metadata": {},
     "output_type": "execute_result"
    }
   ],
   "source": [
    "nccb.get_reward(1, np.array([1.0]))"
   ]
  },
  {
   "cell_type": "code",
   "execution_count": 119,
   "metadata": {},
   "outputs": [
    {
     "data": {
      "text/plain": [
       "2"
      ]
     },
     "execution_count": 119,
     "metadata": {},
     "output_type": "execute_result"
    }
   ],
   "source": [
    "nccb.get_optimal_arm(np.array([1.0]))"
   ]
  },
  {
   "cell_type": "code",
   "execution_count": 128,
   "metadata": {},
   "outputs": [
    {
     "data": {
      "image/png": "[encoded data removed]",
      "text/plain": [
       "<Figure size 432x288 with 1 Axes>"
      ]
     },
     "metadata": {
      "needs_background": "light"
     },
     "output_type": "display_data"
    }
   ],
   "source": [
    "for arm in range(len(nonlinear_theta)):\n",
    "    y = []\n",
    "    p1s = []\n",
    "    p2s= []\n",
    "    optimal_y = []\n",
    "    for i in range(num_data):\n",
    "        outcome, p1, p2 = nccb.get_reward(arm, X_orig[i])\n",
    "        p1s.append(p1)\n",
    "        p2s.append(p2)\n",
    "        y.append(outcome)\n",
    "\n",
    "        optimal_y.append(nccb.get_reward(nccb.get_optimal_arm(X_orig[i]), X_orig[i])[0])\n",
    "    y = np.array(y).flatten()\n",
    "\n",
    "    plt.scatter(X_orig,y,alpha = arm/3, marker= 'x',)\n",
    "\n",
    "    plt.plot(X_orig,p2s,label = f'arm {arm}')\n",
    "    plt.legend()\n"
   ]
  },
  {
   "cell_type": "code",
   "execution_count": 122,
   "metadata": {},
   "outputs": [
    {
     "data": {
      "text/plain": [
       "(1, 1, 2)"
      ]
     },
     "execution_count": 122,
     "metadata": {},
     "output_type": "execute_result"
    }
   ],
   "source": [
    "nccb.get_optimal_arm(np.array([4.0])), nccb.get_optimal_arm(np.array([-9.0])), nccb.get_optimal_arm(np.array([-3.0]))"
   ]
  },
  {
   "cell_type": "markdown",
   "metadata": {},
   "source": [
    "### cooperative"
   ]
  },
  {
   "cell_type": "code",
   "execution_count": 80,
   "metadata": {},
   "outputs": [],
   "source": [
    "reward_75_percent = 0.1 * np.max(X)\n",
    "\n",
    "def cooperative_MAB(arm1,arm2,context):\n",
    "    \n",
    "    if arm1 == arm2:\n",
    "        return sigmoid(reward_75_percent)\n",
    "    \n",
    "    return sigmoid(context * arm1 *-.5 + context *arm2*.5)"
   ]
  },
  {
   "cell_type": "code",
   "execution_count": 81,
   "metadata": {},
   "outputs": [
    {
     "data": {
      "text/plain": [
       "<matplotlib.legend.Legend at 0x7f53e7d30750>"
      ]
     },
     "execution_count": 81,
     "metadata": {},
     "output_type": "execute_result"
    },
    {
     "data": {
      "image/png": "[encoded data removed]",
      "text/plain": [
       "<Figure size 432x288 with 1 Axes>"
      ]
     },
     "metadata": {
      "needs_background": "light"
     },
     "output_type": "display_data"
    }
   ],
   "source": [
    "plt.plot(X_orig,[cooperative_MAB(0,1,x) for x in X_orig],label='arm2')\n",
    "plt.plot(X_orig,[cooperative_MAB(1,0,x) for x in X_orig],label='arm1')\n",
    "plt.plot(X_orig,[cooperative_MAB(0,0,x) for x in X_orig],label='both')\n",
    "\n",
    "plt.legend()\n"
   ]
  },
  {
   "cell_type": "code",
   "execution_count": null,
   "metadata": {},
   "outputs": [],
   "source": []
  },
  {
   "cell_type": "markdown",
   "metadata": {},
   "source": [
    "## numerical"
   ]
  },
  {
   "cell_type": "markdown",
   "metadata": {},
   "source": [
    "\n",
    "### contextual"
   ]
  },
  {
   "cell_type": "code",
   "execution_count": 14,
   "metadata": {},
   "outputs": [],
   "source": [
    "#export\n",
    "def contextual_numerical_bandit(context:np.array, choice:int, theta:np.array, noise=float)->float:\n",
    "    features  = np.append(context,choice)\n",
    "\n",
    "    # decide on which slope to use depending on whether a dog is present or not\n",
    "    m = theta[0] if features[1] else theta[1]\n",
    "    intercept = 0 if features[1] else 0\n",
    "\n",
    "    # $y = x \\cdot m + t + \\epsilon $\n",
    "    y = features[0] * m + intercept +  np.random.normal(0,noise)\n",
    "\n",
    "\n",
    "    return y"
   ]
  },
  {
   "cell_type": "code",
   "execution_count": null,
   "metadata": {},
   "outputs": [],
   "source": []
  },
  {
   "cell_type": "code",
   "execution_count": 15,
   "metadata": {},
   "outputs": [
    {
     "data": {
      "text/plain": [
       "0.35546863259021155"
      ]
     },
     "execution_count": 15,
     "metadata": {},
     "output_type": "execute_result"
    }
   ],
   "source": [
    "contextual_numerical_bandit(np.array([1]),1,theta,noise)"
   ]
  },
  {
   "cell_type": "code",
   "execution_count": 16,
   "metadata": {},
   "outputs": [
    {
     "data": {
      "text/plain": [
       "<matplotlib.collections.PathCollection at 0x7f53e8d10e10>"
      ]
     },
     "execution_count": 16,
     "metadata": {},
     "output_type": "execute_result"
    },
    {
     "data": {
      "image/png": "[encoded data removed]",
      "text/plain": [
       "<Figure size 432x288 with 1 Axes>"
      ]
     },
     "metadata": {
      "needs_background": "light"
     },
     "output_type": "display_data"
    }
   ],
   "source": [
    "X = np.linspace(-10,10, num_data)\n",
    "y0 = [contextual_numerical_bandit(x,0,theta,0.1) for x in X]\n",
    "y1 = [contextual_numerical_bandit(x,1,theta,0.1) for x in X]\n",
    "\n",
    "plt.scatter(X,y1)\n",
    "plt.scatter(X,y0)\n"
   ]
  },
  {
   "cell_type": "code",
   "execution_count": 17,
   "metadata": {},
   "outputs": [
    {
     "data": {
      "text/plain": [
       "(0.00016219702266914737, -0.0020843307240270407)"
      ]
     },
     "execution_count": 17,
     "metadata": {},
     "output_type": "execute_result"
    }
   ],
   "source": [
    "np.mean(y1), np.mean(y0)"
   ]
  },
  {
   "cell_type": "code",
   "execution_count": null,
   "metadata": {},
   "outputs": [],
   "source": []
  },
  {
   "cell_type": "code",
   "execution_count": null,
   "metadata": {},
   "outputs": [],
   "source": []
  },
  {
   "cell_type": "code",
   "execution_count": null,
   "metadata": {},
   "outputs": [],
   "source": []
  },
  {
   "cell_type": "code",
   "execution_count": null,
   "metadata": {},
   "outputs": [],
   "source": []
  },
  {
   "cell_type": "code",
   "execution_count": null,
   "metadata": {},
   "outputs": [],
   "source": []
  },
  {
   "cell_type": "code",
   "execution_count": null,
   "metadata": {},
   "outputs": [],
   "source": []
  },
  {
   "cell_type": "code",
   "execution_count": null,
   "metadata": {},
   "outputs": [],
   "source": []
  },
  {
   "cell_type": "code",
   "execution_count": null,
   "metadata": {},
   "outputs": [],
   "source": []
  },
  {
   "cell_type": "code",
   "execution_count": null,
   "metadata": {},
   "outputs": [],
   "source": []
  },
  {
   "cell_type": "code",
   "execution_count": null,
   "metadata": {},
   "outputs": [],
   "source": []
  },
  {
   "cell_type": "code",
   "execution_count": null,
   "metadata": {},
   "outputs": [],
   "source": []
  },
  {
   "cell_type": "code",
   "execution_count": 18,
   "metadata": {},
   "outputs": [
    {
     "name": "stdout",
     "output_type": "stream",
     "text": [
      "Converted 00_abstractions.ipynb.\n",
      "Converted 01_multi_armed_bandits.ipynb.\n",
      "Converted 02_models.ipynb.\n",
      "Converted 03_ensembles.ipynb.\n",
      "Converted 04_solvers.ipynb.\n",
      "Converted 10_adversarial_thompson_sampler.ipynb.\n",
      "Converted 99_helpers.ipynb.\n",
      "Converted contextual_bandits.ipynb.\n",
      "Converted index.ipynb.\n",
      "Converted noncontextual_bandits.ipynb.\n"
     ]
    }
   ],
   "source": [
    "from nbdev.export import *\n",
    "notebook2script()"
   ]
  }
 ],
 "metadata": {
  "kernelspec": {
   "display_name": "Python 3",
   "language": "python",
   "name": "python3"
  },
  "language_info": {
   "codemirror_mode": {
    "name": "ipython",
    "version": 3
   },
   "file_extension": ".py",
   "mimetype": "text/x-python",
   "name": "python",
   "nbconvert_exporter": "python",
   "pygments_lexer": "ipython3",
   "version": "3.7.6"
  }
 },
 "nbformat": 4,
 "nbformat_minor": 4
}
