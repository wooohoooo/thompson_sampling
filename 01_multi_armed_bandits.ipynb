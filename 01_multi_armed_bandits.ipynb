{
 "cells": [
  {
   "cell_type": "code",
   "execution_count": null,
   "metadata": {},
   "outputs": [],
   "source": [
    "# default_exp multi_armed_bandits"
   ]
  },
  {
   "cell_type": "markdown",
   "metadata": {},
   "source": [
    "# multi_armed_bandits\n",
    "\n",
    "> module for generating bandit responses"
   ]
  },
  {
   "cell_type": "code",
   "execution_count": null,
   "metadata": {},
   "outputs": [],
   "source": [
    "from nbdev.showdoc import *\n",
    "\n",
    "import matplotlib.pyplot as plt\n",
    "%matplotlib inline\n",
    "\n",
    "np.random.seed(42)"
   ]
  },
  {
   "cell_type": "code",
   "execution_count": null,
   "metadata": {},
   "outputs": [],
   "source": [
    "#export\n",
    "import numpy as np\n",
    "import scipy.stats as stats\n",
    "\n"
   ]
  },
  {
   "cell_type": "code",
   "execution_count": null,
   "metadata": {},
   "outputs": [],
   "source": [
    "theta = [0.1, 0.9]\n",
    "theta_contextual = [1.6, 0.4]\n",
    "noise = 0.1\n",
    "num_data = 1000\n",
    "X = np.linspace(-6, 6, num_data)\n"
   ]
  },
  {
   "cell_type": "markdown",
   "metadata": {},
   "source": [
    "## Categorical Features\n",
    "\n",
    "### noncontextual"
   ]
  },
  {
   "cell_type": "code",
   "execution_count": null,
   "metadata": {},
   "outputs": [],
   "source": [
    "#export\n",
    "def non_contextual_categorical_bandit(choice:int, theta:np.array)->bool:\n",
    "\n",
    "    # draw a number between 0 and 1, if it's smaller than the theta, return reward\n",
    "    if np.random.random() < theta[choice]:\n",
    "        reaction = True\n",
    "    else:\n",
    "        reaction = False\n",
    "\n",
    "    return reaction"
   ]
  },
  {
   "cell_type": "code",
   "execution_count": null,
   "metadata": {},
   "outputs": [],
   "source": [
    "y0 = [non_contextual_categorical_bandit(0,theta) for i in range(100)]\n",
    "y1 = [non_contextual_categorical_bandit(1,theta) for i in range(100)]\n",
    "\n",
    "\n",
    "np.mean(y0), np.mean(y1)"
   ]
  },
  {
   "cell_type": "code",
   "execution_count": null,
   "metadata": {},
   "outputs": [],
   "source": []
  },
  {
   "cell_type": "code",
   "execution_count": null,
   "metadata": {},
   "outputs": [],
   "source": []
  },
  {
   "cell_type": "code",
   "execution_count": null,
   "metadata": {},
   "outputs": [],
   "source": [
    "assert non_contextual_categorical_bandit(1,theta) in [True, False]"
   ]
  },
  {
   "cell_type": "markdown",
   "metadata": {},
   "source": [
    "### contextual"
   ]
  },
  {
   "cell_type": "code",
   "execution_count": null,
   "metadata": {},
   "outputs": [],
   "source": [
    "#export\n",
    "def contextual_categorical_bandit(context:np.array, choice:int, theta:np.array, noise:float):\n",
    "\n",
    "    y = theta[choice] * context\n",
    "    p = 1/(1+np.exp(-y))\n",
    "\n",
    "    return np.random.choice([0,1],p=[1-p,p]), max(theta) - p, p\n",
    "\n",
    "def contextual_categorical_get_optimal_arm(context):\n",
    "    if context < 0:\n",
    "        return 1\n",
    "    return 0"
   ]
  },
  {
   "cell_type": "code",
   "execution_count": null,
   "metadata": {},
   "outputs": [],
   "source": [
    "contextual_categorical_bandit(context = 10, choice = 1, theta = theta, noise = noise)"
   ]
  },
  {
   "cell_type": "code",
   "execution_count": null,
   "metadata": {},
   "outputs": [],
   "source": []
  },
  {
   "cell_type": "code",
   "execution_count": null,
   "metadata": {},
   "outputs": [],
   "source": [
    "for arm in [0,1]:\n",
    "    y = []\n",
    "    p1s = []\n",
    "    p2s= []\n",
    "    optimal_y = []\n",
    "    for i in range(num_data):\n",
    "        outcome, p1, p2 = contextual_categorical_bandit(X[i],arm,theta_contextual,noise)\n",
    "        p1s.append(p1)\n",
    "        p2s.append(p2)\n",
    "        y.append(outcome)\n",
    "\n",
    "        optimal_y.append(contextual_categorical_bandit(X[i], contextual_categorical_get_optimal_arm(X[i]), theta_contextual, noise)[0])\n",
    "\n",
    "    y = np.array(y).flatten()\n",
    "\n",
    "    plt.scatter(X,y,alpha = 0.3, marker= 'x', label = 'samples',)\n",
    "\n",
    "    plt.legend()\n",
    "    plt.plot(X,p2s)"
   ]
  },
  {
   "cell_type": "code",
   "execution_count": null,
   "metadata": {},
   "outputs": [],
   "source": [
    "plt.scatter(X, optimal_y)"
   ]
  },
  {
   "cell_type": "markdown",
   "metadata": {},
   "source": [
    "## numerical"
   ]
  },
  {
   "cell_type": "markdown",
   "metadata": {},
   "source": [
    "\n",
    "### contextual"
   ]
  },
  {
   "cell_type": "code",
   "execution_count": null,
   "metadata": {},
   "outputs": [],
   "source": [
    "#export\n",
    "def contextual_numerical_bandit(context:np.array, choice:int, theta:np.array, noise=float)->float:\n",
    "    features  = np.append(context,choice)\n",
    "\n",
    "    # decide on which slope to use depending on whether a dog is present or not\n",
    "    m = theta[0] if features[1] else theta[1]\n",
    "    intercept = 0 if features[1] else 0\n",
    "\n",
    "    # $y = x \\cdot m + t + \\epsilon $\n",
    "    y = features[0] * m + intercept +  np.random.normal(0,noise)\n",
    "\n",
    "\n",
    "    return y"
   ]
  },
  {
   "cell_type": "code",
   "execution_count": null,
   "metadata": {},
   "outputs": [],
   "source": [
    "contextual_numerical_customer_reaction(np.array([1]),1,theta,noise)"
   ]
  },
  {
   "cell_type": "code",
   "execution_count": null,
   "metadata": {},
   "outputs": [],
   "source": [
    "X = np.linspace(-10,10, num_data)\n",
    "y0 = [contextual_numerical_customer_reaction(x,0,theta,0.1) for x in X]\n",
    "y1 = [contextual_numerical_customer_reaction(x,1,theta,0.1) for x in X]\n",
    "\n",
    "plt.scatter(X,y1)\n",
    "plt.scatter(X,y0)\n"
   ]
  },
  {
   "cell_type": "code",
   "execution_count": null,
   "metadata": {},
   "outputs": [],
   "source": [
    "np.mean(y1), np.mean(y0)"
   ]
  },
  {
   "cell_type": "code",
   "execution_count": null,
   "metadata": {},
   "outputs": [],
   "source": []
  },
  {
   "cell_type": "code",
   "execution_count": null,
   "metadata": {},
   "outputs": [],
   "source": []
  },
  {
   "cell_type": "code",
   "execution_count": null,
   "metadata": {},
   "outputs": [],
   "source": []
  },
  {
   "cell_type": "code",
   "execution_count": null,
   "metadata": {},
   "outputs": [],
   "source": []
  },
  {
   "cell_type": "code",
   "execution_count": null,
   "metadata": {},
   "outputs": [],
   "source": []
  },
  {
   "cell_type": "code",
   "execution_count": null,
   "metadata": {},
   "outputs": [],
   "source": []
  },
  {
   "cell_type": "code",
   "execution_count": null,
   "metadata": {},
   "outputs": [],
   "source": []
  },
  {
   "cell_type": "code",
   "execution_count": null,
   "metadata": {},
   "outputs": [],
   "source": []
  },
  {
   "cell_type": "code",
   "execution_count": null,
   "metadata": {},
   "outputs": [],
   "source": []
  },
  {
   "cell_type": "code",
   "execution_count": null,
   "metadata": {},
   "outputs": [],
   "source": []
  },
  {
   "cell_type": "code",
   "execution_count": null,
   "metadata": {},
   "outputs": [],
   "source": []
  },
  {
   "cell_type": "code",
   "execution_count": null,
   "metadata": {},
   "outputs": [],
   "source": []
  }
 ],
 "metadata": {
  "kernelspec": {
   "display_name": "Python 3",
   "language": "python",
   "name": "python3"
  }
 },
 "nbformat": 4,
 "nbformat_minor": 4
}
