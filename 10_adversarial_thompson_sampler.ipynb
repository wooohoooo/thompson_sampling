{
 "cells": [
  {
   "cell_type": "code",
   "execution_count": 1,
   "metadata": {},
   "outputs": [],
   "source": [
    "# default_exp adversarial_thompson_sampler"
   ]
  },
  {
   "cell_type": "markdown",
   "metadata": {},
   "source": [
    "# adversarial_thompson_sampler\n",
    "> Trying to Thompson Sample against each other\n",
    "\n",
    "The idea is simple: use Thompson Samplers both as agent for making the decision and also as the adversarial agent that provides the context."
   ]
  },
  {
   "cell_type": "code",
   "execution_count": 2,
   "metadata": {},
   "outputs": [],
   "source": [
    "import matplotlib.pyplot as plt\n",
    "import numpy as np\n",
    "import time\n",
    "\n",
    "np.random.seed(42)\n",
    "%matplotlib inline\n",
    "\n",
    "matplotlib_style = 'fivethirtyeight' #@param ['fivethirtyeight', 'bmh', 'ggplot', 'seaborn', 'default', 'Solarize_Light2', 'classic', 'dark_background', 'seaborn-colorblind', 'seaborn-notebook']\n",
    "plt.style.use(matplotlib_style)\n",
    "\n",
    "from sklearn.utils import shuffle\n",
    "import random\n",
    "from fastprogress.fastprogress import master_bar, progress_bar\n",
    "\n",
    "plt.rcParams['figure.figsize'] = 16,5\n",
    "\n",
    "%load_ext autoreload\n",
    "%autoreload 2"
   ]
  },
  {
   "cell_type": "code",
   "execution_count": 3,
   "metadata": {},
   "outputs": [],
   "source": [
    "from thompson_sampling.helpers import plot_regret, showcase_code\n",
    "from thompson_sampling.multi_armed_bandits import contextual_categorical_bandit, contextual_categorical_get_optimal_arm\n",
    "from thompson_sampling.solvers import BetaBandit, LogisticThompsonSampler\n",
    "from thompson_sampling.models import OnlineLogisticRegression\n"
   ]
  },
  {
   "cell_type": "code",
   "execution_count": 4,
   "metadata": {},
   "outputs": [],
   "source": [
    "noise = 0.1\n",
    "\n",
    "presentation = True"
   ]
  },
  {
   "cell_type": "code",
   "execution_count": 5,
   "metadata": {},
   "outputs": [],
   "source": [
    "X_orig = np.linspace(-3,3,500)\n",
    "X = shuffle(X_orig)\n",
    "\n",
    "idx = np.argsort(X)"
   ]
  },
  {
   "cell_type": "code",
   "execution_count": null,
   "metadata": {},
   "outputs": [],
   "source": []
  },
  {
   "cell_type": "code",
   "execution_count": null,
   "metadata": {},
   "outputs": [],
   "source": []
  },
  {
   "cell_type": "code",
   "execution_count": 6,
   "metadata": {},
   "outputs": [],
   "source": [
    "\n",
    "lts1 = LogisticThompsonSampler(OnlineLogisticRegression, num_arms=2, num_context = 2)\n",
    "lts2 = LogisticThompsonSampler(OnlineLogisticRegression, num_arms=2, num_context = 2)\n",
    "\n",
    "arm2 = lts1.choose_arm(np.append([-10],[1]))\n",
    "arm1 = lts2.choose_arm(np.append([10],[1]))\n",
    "\n",
    "arm1_list = []\n",
    "arm2_list = []\n",
    "for context in X:\n",
    "    \n",
    "\n",
    "    # context: arm2, arm1\n",
    "    # arm: arm1_new, arm2_new\n",
    "    # reward: arm2_new, arm1_new\n",
    "    \n",
    "    context1 = np.append(context, arm2)\n",
    "    context2 = np.append(context, arm1)\n",
    "    \n",
    "    \n",
    "    \n",
    "    arm1_new = lts1.choose_arm(context1)\n",
    "    arm2_new = lts2.choose_arm(context2)\n",
    "    \n",
    "    \n",
    "    lts1.update(arm1_new, context1, arm2_new)\n",
    "    lts2.update(arm2_new, context2, arm1_new)\n",
    "    \n",
    "    arm1 = arm1_new\n",
    "    arm2 = arm2_new \n",
    "    \n",
    "    \n",
    "    arm1_list.append(arm1)\n",
    "    arm2_list.append(arm2)\n",
    "    "
   ]
  },
  {
   "cell_type": "code",
   "execution_count": 7,
   "metadata": {},
   "outputs": [
    {
     "data": {
      "text/plain": [
       "array([1, 0])"
      ]
     },
     "execution_count": 7,
     "metadata": {},
     "output_type": "execute_result"
    }
   ],
   "source": [
    "np.append([1],[0])"
   ]
  },
  {
   "cell_type": "code",
   "execution_count": 8,
   "metadata": {},
   "outputs": [
    {
     "data": {
      "text/plain": [
       "array([-1.77354709,  0.        ])"
      ]
     },
     "execution_count": 8,
     "metadata": {},
     "output_type": "execute_result"
    }
   ],
   "source": [
    "context1"
   ]
  },
  {
   "cell_type": "code",
   "execution_count": 9,
   "metadata": {},
   "outputs": [
    {
     "data": {
      "text/plain": [
       "0.442"
      ]
     },
     "execution_count": 9,
     "metadata": {},
     "output_type": "execute_result"
    }
   ],
   "source": [
    "np.mean(arm1_list)"
   ]
  },
  {
   "cell_type": "code",
   "execution_count": 10,
   "metadata": {},
   "outputs": [
    {
     "data": {
      "text/plain": [
       "0.468"
      ]
     },
     "execution_count": 10,
     "metadata": {},
     "output_type": "execute_result"
    }
   ],
   "source": [
    "np.mean(arm2_list)"
   ]
  },
  {
   "cell_type": "code",
   "execution_count": 11,
   "metadata": {},
   "outputs": [
    {
     "data": {
      "text/plain": [
       "0"
      ]
     },
     "execution_count": 11,
     "metadata": {},
     "output_type": "execute_result"
    }
   ],
   "source": [
    "lts1.choose_arm(context1)"
   ]
  },
  {
   "cell_type": "code",
   "execution_count": 12,
   "metadata": {},
   "outputs": [
    {
     "data": {
      "text/plain": [
       "0"
      ]
     },
     "execution_count": 12,
     "metadata": {},
     "output_type": "execute_result"
    }
   ],
   "source": [
    "lts1.choose_arm(context1)"
   ]
  },
  {
   "cell_type": "code",
   "execution_count": 13,
   "metadata": {},
   "outputs": [
    {
     "data": {
      "text/plain": [
       "0"
      ]
     },
     "execution_count": 13,
     "metadata": {},
     "output_type": "execute_result"
    }
   ],
   "source": [
    "lts1.choose_arm(context1)"
   ]
  },
  {
   "cell_type": "code",
   "execution_count": 14,
   "metadata": {},
   "outputs": [
    {
     "data": {
      "text/plain": [
       "0"
      ]
     },
     "execution_count": 14,
     "metadata": {},
     "output_type": "execute_result"
    }
   ],
   "source": [
    "lts1.choose_arm(context1)"
   ]
  },
  {
   "cell_type": "code",
   "execution_count": 15,
   "metadata": {},
   "outputs": [
    {
     "data": {
      "text/plain": [
       "0"
      ]
     },
     "execution_count": 15,
     "metadata": {},
     "output_type": "execute_result"
    }
   ],
   "source": [
    "lts1.choose_arm(context1)\n"
   ]
  },
  {
   "cell_type": "code",
   "execution_count": null,
   "metadata": {},
   "outputs": [],
   "source": []
  },
  {
   "cell_type": "markdown",
   "metadata": {},
   "source": [
    "# Shared reward"
   ]
  },
  {
   "cell_type": "code",
   "execution_count": 16,
   "metadata": {},
   "outputs": [],
   "source": [
    "theta = -0.5, 0.5\n",
    "theta2= 0.1,0.9"
   ]
  },
  {
   "cell_type": "code",
   "execution_count": 17,
   "metadata": {},
   "outputs": [],
   "source": [
    "def sigmoid(x):\n",
    "    return 1 / (1 + np.exp(-x))"
   ]
  },
  {
   "cell_type": "code",
   "execution_count": 18,
   "metadata": {},
   "outputs": [],
   "source": [
    "reward_75_percent = 0.1 * np.max(X)\n",
    "\n",
    "def cooperative_MAB(arm1,arm2,context):\n",
    "    \n",
    "    if arm1 == arm2:\n",
    "        return sigmoid(reward_75_percent)\n",
    "    \n",
    "    return sigmoid(context * arm1 *-.5 + context *arm2*.5)"
   ]
  },
  {
   "cell_type": "code",
   "execution_count": 19,
   "metadata": {},
   "outputs": [
    {
     "data": {
      "text/plain": [
       "<matplotlib.legend.Legend at 0x7fbfa8fb7f50>"
      ]
     },
     "execution_count": 19,
     "metadata": {},
     "output_type": "execute_result"
    },
    {
     "data": {
      "image/png": "[encoded data removed]",
      "text/plain": [
       "<Figure size 1152x360 with 1 Axes>"
      ]
     },
     "metadata": {},
     "output_type": "display_data"
    }
   ],
   "source": [
    "plt.plot(X_orig,[cooperative_MAB(0,1,x) for x in X_orig],label='arm2')\n",
    "plt.plot(X_orig,[cooperative_MAB(1,0,x) for x in X_orig],label='arm1')\n",
    "plt.plot(X_orig,[cooperative_MAB(0,0,x) for x in X_orig],label='both')\n",
    "\n",
    "plt.legend()\n",
    "\n",
    "\n"
   ]
  },
  {
   "cell_type": "code",
   "execution_count": 33,
   "metadata": {},
   "outputs": [
    {
     "name": "stdout",
     "output_type": "stream",
     "text": [
      "[1.87182543 2.07369732]\n",
      "[-1.4608786   2.16274924]\n",
      "[-1.66922868  2.11218993]\n",
      "[1.6895466  1.92506163]\n"
     ]
    },
    {
     "data": {
      "image/png": "[encoded data removed]",
      "text/plain": [
       "<Figure size 1152x360 with 1 Axes>"
      ]
     },
     "metadata": {},
     "output_type": "display_data"
    }
   ],
   "source": [
    "\n",
    "lts1 = LogisticThompsonSampler(OnlineLogisticRegression, num_arms=2, num_context = 2)\n",
    "lts2 = LogisticThompsonSampler(OnlineLogisticRegression, num_arms=2, num_context = 2)\n",
    "\n",
    "arm2 = lts1.choose_arm(np.append([-10],[1]))\n",
    "arm1 = lts2.choose_arm(np.append([10],[1]))\n",
    "\n",
    "arm1_list = []\n",
    "arm2_list = []\n",
    "for context in X:\n",
    "    \n",
    "\n",
    "    # context: arm2, arm1\n",
    "    # arm: arm1_new, arm2_new\n",
    "    # reward: arm2_new, arm1_new\n",
    "    \n",
    "    context1 = np.append(context, arm2)\n",
    "    context2 = np.append(context, arm1)\n",
    "    \n",
    "    \n",
    "    \n",
    "    arm1_new = lts1.choose_arm(context1)\n",
    "    arm2_new = lts2.choose_arm(context2)\n",
    "    \n",
    "    reward = cooperative_MAB(arm1_new,arm2_new,context)\n",
    "    \n",
    "    lts1.update(arm1_new, context1, reward)\n",
    "    lts2.update(arm2_new, context2, reward)\n",
    "    \n",
    "    arm1 = arm1_new\n",
    "    arm2 = arm2_new \n",
    "    \n",
    "    \n",
    "    arm1_list.append(arm1)\n",
    "    arm2_list.append(arm2)\n",
    "    \n",
    "    \n",
    "plt.scatter(X[idx], np.array(arm1_list)[idx])\n",
    "plt.scatter(X[idx], np.array(arm2_list)[idx])\n",
    "\n",
    "\n",
    "\n",
    "print(lts1.model_list[0].w)\n",
    "print(lts1.model_list[1].w)\n",
    "print(lts2.model_list[0].w)\n",
    "print(lts2.model_list[1].w)"
   ]
  },
  {
   "cell_type": "code",
   "execution_count": 21,
   "metadata": {},
   "outputs": [
    {
     "data": {
      "text/plain": [
       "0"
      ]
     },
     "execution_count": 21,
     "metadata": {},
     "output_type": "execute_result"
    }
   ],
   "source": [
    "\n",
    "arm2"
   ]
  },
  {
   "cell_type": "code",
   "execution_count": null,
   "metadata": {},
   "outputs": [],
   "source": []
  },
  {
   "cell_type": "markdown",
   "metadata": {},
   "source": [
    "# ???"
   ]
  },
  {
   "cell_type": "code",
   "execution_count": 22,
   "metadata": {},
   "outputs": [
    {
     "name": "stdout",
     "output_type": "stream",
     "text": [
      "[-1.42040791  2.34679227]\n",
      "[1.86639571 2.32135308]\n",
      "[-2.06184633  2.04067757]\n",
      "[2.25704799 1.74583894]\n"
     ]
    },
    {
     "data": {
      "image/png": "[encoded data removed]",
      "text/plain": [
       "<Figure size 1152x360 with 1 Axes>"
      ]
     },
     "metadata": {},
     "output_type": "display_data"
    }
   ],
   "source": [
    "\n",
    "lts1 = LogisticThompsonSampler(OnlineLogisticRegression, num_arms=2, num_context = 2)\n",
    "lts2 = LogisticThompsonSampler(OnlineLogisticRegression, num_arms=2, num_context = 2)\n",
    "\n",
    "arm2 = lts1.choose_arm(np.append([-10],[1]))\n",
    "arm1 = lts2.choose_arm(np.append([10],[1]))\n",
    "\n",
    "arm1_list = []\n",
    "arm2_list = []\n",
    "for i in range(len(X)):\n",
    "    \n",
    "    context = X[i]\n",
    "    \n",
    "\n",
    "    # context: arm2, arm1\n",
    "    # arm: arm1_new, arm2_new\n",
    "    # reward: arm2_new, arm1_new\n",
    "    \n",
    "    context1 = np.append(context, arm2)\n",
    "    context2 = np.append(context, arm1)\n",
    "    \n",
    "    \n",
    "    \n",
    "    arm1_new = lts1.choose_arm(context1)\n",
    "    arm2_new = lts2.choose_arm(context2)\n",
    "    \n",
    "    reward = cooperative_MAB(arm1_new,arm2_new,context)\n",
    "    \n",
    "    lts1.update(arm1_new, context1, reward)\n",
    "    lts2.update(arm2_new, context2, reward)\n",
    "    \n",
    "    arm1 = arm1_new\n",
    "    arm2 = arm2_new \n",
    "    \n",
    "    \n",
    "    arm1_list.append(arm1)\n",
    "    arm2_list.append(arm2)\n",
    "    \n",
    "    \n",
    "    \n",
    "\n",
    "plt.scatter(X[idx], np.array(arm1_list)[idx],alpha=0.5)\n",
    "plt.scatter(X[idx], np.array(arm2_list)[idx],alpha=0.5)\n",
    "\n",
    "\n",
    "\n",
    "print(lts1.model_list[0].w)\n",
    "print(lts1.model_list[1].w)\n",
    "print(lts2.model_list[0].w)\n",
    "print(lts2.model_list[1].w)"
   ]
  },
  {
   "cell_type": "code",
   "execution_count": 23,
   "metadata": {},
   "outputs": [
    {
     "data": {
      "text/plain": [
       "499"
      ]
     },
     "execution_count": 23,
     "metadata": {},
     "output_type": "execute_result"
    }
   ],
   "source": [
    "i"
   ]
  },
  {
   "cell_type": "code",
   "execution_count": null,
   "metadata": {},
   "outputs": [],
   "source": []
  },
  {
   "cell_type": "code",
   "execution_count": 24,
   "metadata": {},
   "outputs": [
    {
     "data": {
      "text/plain": [
       "array([-1.42040791,  2.34679227])"
      ]
     },
     "execution_count": 24,
     "metadata": {},
     "output_type": "execute_result"
    }
   ],
   "source": [
    "lts1.model_list[0].w"
   ]
  },
  {
   "cell_type": "code",
   "execution_count": 25,
   "metadata": {},
   "outputs": [
    {
     "data": {
      "text/plain": [
       "array([1.86639571, 2.32135308])"
      ]
     },
     "execution_count": 25,
     "metadata": {},
     "output_type": "execute_result"
    }
   ],
   "source": [
    "lts1.model_list[1].w"
   ]
  },
  {
   "cell_type": "code",
   "execution_count": 26,
   "metadata": {},
   "outputs": [
    {
     "data": {
      "text/plain": [
       "array([-1.77354709,  1.        ])"
      ]
     },
     "execution_count": 26,
     "metadata": {},
     "output_type": "execute_result"
    }
   ],
   "source": [
    "context1"
   ]
  },
  {
   "cell_type": "code",
   "execution_count": 27,
   "metadata": {},
   "outputs": [
    {
     "data": {
      "text/plain": [
       "array([-2.06184633,  2.04067757])"
      ]
     },
     "execution_count": 27,
     "metadata": {},
     "output_type": "execute_result"
    }
   ],
   "source": [
    "lts2.model_list[0].w"
   ]
  },
  {
   "cell_type": "code",
   "execution_count": 28,
   "metadata": {},
   "outputs": [
    {
     "data": {
      "text/plain": [
       "array([2.25704799, 1.74583894])"
      ]
     },
     "execution_count": 28,
     "metadata": {},
     "output_type": "execute_result"
    }
   ],
   "source": [
    "lts2.model_list[1].w"
   ]
  },
  {
   "cell_type": "code",
   "execution_count": null,
   "metadata": {},
   "outputs": [],
   "source": []
  }
 ],
 "metadata": {
  "kernelspec": {
   "display_name": "Python 3",
   "language": "python",
   "name": "python3"
  },
  "language_info": {
   "codemirror_mode": {
    "name": "ipython",
    "version": 3
   },
   "file_extension": ".py",
   "mimetype": "text/x-python",
   "name": "python",
   "nbconvert_exporter": "python",
   "pygments_lexer": "ipython3",
   "version": "3.7.6"
  }
 },
 "nbformat": 4,
 "nbformat_minor": 4
}
